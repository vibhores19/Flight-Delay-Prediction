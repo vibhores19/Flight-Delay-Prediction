{
 "cells": [
  {
   "cell_type": "markdown",
   "id": "26c43b04-00ef-4e5d-97df-83f88a885d97",
   "metadata": {},
   "source": [
    "# Problem: Predicting Airplane Delays\n",
    "\n",
    "The goals of this notebook are:\n",
    "- Process and create a dataset from downloaded ZIP files\n",
    "- Exploratory data analysis (EDA)\n",
    "- Establish a baseline model and improve it\n",
    "\n",
    "## Introduction to business scenario\n",
    "You work for a travel booking website that is working to improve the customer experience for flights that were delayed. The company wants to create a feature to let customers know if the flight will be delayed due to weather when the customers are booking the flight to or from the busiest airports for domestic travel in the US. \n",
    "\n",
    "You are tasked with solving part of this problem by leveraging machine learning to identify whether the flight will be delayed due to weather. You have been given access to the a dataset of on-time performance of domestic flights operated by large air carriers. You can use this data to train a machine learning model to predict if the flight is going to be delayed for the busiest airports.\n",
    "\n",
    "### Dataset\n",
    "The provided dataset contains scheduled and actual departure and arrival times reported by certified US air carriers that account for at least 1 percent of domestic scheduled passenger revenues. The data was collected by the Office of Airline Information, Bureau of Transportation Statistics (BTS). The dataset contains date, time, origin, destination, airline, distance, and delay status of flights for flights between 2014 and 2018.\n",
    "The data are in 60 compressed files, where each file contains a CSV for the flight details in a month for the five years (from 2014 - 2018). The data can be downloaded from this [link](https://ucstaff-my.sharepoint.com/:f:/g/personal/ibrahim_radwan_canberra_edu_au/Er0nVreXmihEmtMz5qC5kVIB81-ugSusExPYdcyQTglfLg?e=bNO312). Please download the data files and place them on a relative path. Dataset(s) used in this assignment were compiled by the Office of Airline Information, Bureau of Transportation Statistics (BTS), Airline On-Time Performance Data, available with the following [link](https://www.transtats.bts.gov/Fields.asp?gnoyr_VQ=FGJ). "
   ]
  },
  {
   "cell_type": "markdown",
   "id": "44464d6b-4841-49f8-9ba3-0c83f793460a",
   "metadata": {},
   "source": [
    "# Step 1: Prepare the environment \n",
    "\n",
    "Use one of the labs which we have practised on with the Amazon Sagemakers where you perform the following steps:\n",
    "1. Start a lab.\n",
    "2. Create a notebook instance and name it \"oncloudproject\".\n",
    "3. Increase the used memory to 25 GB from the additional configurations.\n",
    "4. Open Jupyter Lab and upload this notebook into it.\n",
    "5. Upload the two combined CVS files (combined_csv_v1.csv and combined_csv_v2.csv), which you created in Part A of this project."
   ]
  },
  {
   "cell_type": "code",
   "execution_count": 4,
   "id": "4cf7bbb4",
   "metadata": {
    "tags": []
   },
   "outputs": [
    {
     "name": "stdout",
     "output_type": "stream",
     "text": [
      "sagemaker.config INFO - Not applying SDK defaults from location: /etc/xdg/sagemaker/config.yaml\n",
      "sagemaker.config INFO - Not applying SDK defaults from location: /home/ec2-user/.config/sagemaker/config.yaml\n"
     ]
    }
   ],
   "source": [
    "# Import necessary libraries\n",
    "import os\n",
    "import pandas as pd\n",
    "import boto3\n",
    "import io\n",
    "import re\n",
    "from sklearn.model_selection import train_test_split\n",
    "import sagemaker\n",
    "from sagemaker import get_execution_role\n",
    "from sagemaker import image_uris"
   ]
  },
  {
   "cell_type": "code",
   "execution_count": 5,
   "id": "0b15e6ac-b84e-45f8-ad6b-006c32b50041",
   "metadata": {
    "tags": []
   },
   "outputs": [
    {
     "name": "stderr",
     "output_type": "stream",
     "text": [
      "Matplotlib is building the font cache; this may take a moment.\n"
     ]
    }
   ],
   "source": [
    "# Load custom dataset\n",
    "import pandas as pd\n",
    "from sklearn.model_selection import train_test_split\n",
    "from sklearn.metrics import confusion_matrix\n",
    "from sklearn.metrics import precision_score, recall_score, f1_score, accuracy_score\n",
    "import seaborn as sns\n",
    "import matplotlib.pyplot as plt\n"
   ]
  },
  {
   "cell_type": "code",
   "execution_count": 6,
   "id": "0849fb33",
   "metadata": {
    "tags": []
   },
   "outputs": [],
   "source": [
    "# Initialize SageMaker session and region\n",
    "sess = sagemaker.Session()\n",
    "region = boto3.Session().region_name"
   ]
  },
  {
   "cell_type": "code",
   "execution_count": null,
   "id": "465c8f7e-6006-4ecb-8861-77e1202b1bc6",
   "metadata": {},
   "outputs": [],
   "source": [
    "# List all buckets\n",
    "existing_buckets = s3.list_buckets()\n",
    "print([bucket['Name'] for bucket in existing_buckets['Buckets']])"
   ]
  },
  {
   "cell_type": "code",
   "execution_count": 10,
   "id": "a85de296",
   "metadata": {
    "tags": []
   },
   "outputs": [],
   "source": [
    "# S3 bucket for saving code and model artifacts\n",
    "# Initialize SageMaker session and specify bucket and prefix\n",
    "sess = sagemaker.Session()\n",
    "bucket_name = 'c135321a3429022l8214472t1w590183749102-labbucket-sgu9pygz06aq'\n",
    "prefix = 'linear'"
   ]
  },
  {
   "cell_type": "code",
   "execution_count": 11,
   "id": "9ac22b83",
   "metadata": {
    "tags": []
   },
   "outputs": [],
   "source": [
    "# Define IAM role\n",
    "role = get_execution_role()\n"
   ]
  },
  {
   "cell_type": "code",
   "execution_count": 12,
   "id": "bb34109d",
   "metadata": {
    "tags": []
   },
   "outputs": [
    {
     "data": {
      "text/plain": [
       "{'ResponseMetadata': {'RequestId': 'EBC2BFJX6DDWCQTG',\n",
       "  'HostId': '2+rFAFrom8rTOmTdZ51QZI6CA47o/hGuG/etRQnAqTMqfyj3o9pRgndkxCVZBi+ktVrZWqbcPtk=',\n",
       "  'HTTPStatusCode': 200,\n",
       "  'HTTPHeaders': {'x-amz-id-2': '2+rFAFrom8rTOmTdZ51QZI6CA47o/hGuG/etRQnAqTMqfyj3o9pRgndkxCVZBi+ktVrZWqbcPtk=',\n",
       "   'x-amz-request-id': 'EBC2BFJX6DDWCQTG',\n",
       "   'date': 'Sun, 03 Nov 2024 12:04:59 GMT',\n",
       "   'location': '/c135321a3429022l8214472t1w590183749102-labbucket-sgu9pygz06aq',\n",
       "   'content-length': '0',\n",
       "   'server': 'AmazonS3'},\n",
       "  'RetryAttempts': 0},\n",
       " 'Location': '/c135321a3429022l8214472t1w590183749102-labbucket-sgu9pygz06aq'}"
      ]
     },
     "execution_count": 12,
     "metadata": {},
     "output_type": "execute_result"
    }
   ],
   "source": [
    "s3 = boto3.client('s3')\n",
    "s3.create_bucket(Bucket=bucket_name)"
   ]
  },
  {
   "cell_type": "code",
   "execution_count": null,
   "id": "e2d5135c",
   "metadata": {
    "tags": []
   },
   "outputs": [],
   "source": []
  },
  {
   "cell_type": "code",
   "execution_count": null,
   "id": "4a4c796b-abd8-480f-9342-b7a00088011e",
   "metadata": {},
   "outputs": [],
   "source": []
  },
  {
   "cell_type": "markdown",
   "id": "f8cfe4c4-854d-4d94-9143-15c95ad56811",
   "metadata": {},
   "source": [
    "# Step 2: Build and evaluate simple models\n",
    "\n",
    "Write code to perform the follwoing steps:\n",
    "1. Split data into training, validation and testing sets (70% - 15% - 15%).\n",
    "2. Use linear learner estimator to build a classifcation model.\n",
    "3. Host the model on another instance\n",
    "4. Perform batch transform to evaluate the model on testing data\n",
    "5. Report the performance metrics that you see better test the model performance \n",
    "\n",
    "Note: You are required to perform the above steps on the two combined datasets separatey and to comments on the difference."
   ]
  },
  {
   "cell_type": "code",
   "execution_count": 13,
   "id": "2480f444",
   "metadata": {
    "tags": []
   },
   "outputs": [],
   "source": [
    "# Load your dataset\n",
    "df1 = pd.read_csv('combined_csv_v1.csv')\n",
    "df1 = df1.replace({True: 1, False: 0})"
   ]
  },
  {
   "cell_type": "code",
   "execution_count": 14,
   "id": "59c3322b",
   "metadata": {
    "tags": []
   },
   "outputs": [],
   "source": [
    "# Split data into train, validation, and test sets\n",
    "train_df, test_val_df = train_test_split(df1, test_size=0.3, random_state=42, stratify=df1['target'])\n",
    "val_df, test_df = train_test_split(test_val_df, test_size=0.5, random_state=42, stratify=test_val_df['target'])\n",
    "\n",
    "\n",
    "# Separate features and labels\n",
    "train_features = train_df.drop(columns=['target']).values.astype('float32')\n",
    "train_labels = train_df['target'].values.astype('float32')\n",
    "val_features = val_df.drop(columns=['target']).values.astype('float32')\n",
    "val_labels = val_df['target'].values.astype('float32')\n",
    "test_features = test_df.drop(columns=['target']).values.astype('float32')\n",
    "test_labels = test_df['target'].values.astype('float32')"
   ]
  },
  {
   "cell_type": "code",
   "execution_count": 15,
   "id": "66e3ccc6",
   "metadata": {
    "tags": []
   },
   "outputs": [
    {
     "data": {
      "text/plain": [
       "0"
      ]
     },
     "execution_count": 15,
     "metadata": {},
     "output_type": "execute_result"
    }
   ],
   "source": [
    "import sagemaker.amazon.common as smac\n",
    "\n",
    "# Convert to RecordIO format and write to in-memory buffers\n",
    "train_set_buf = io.BytesIO()\n",
    "validation_set_buf = io.BytesIO()\n",
    "test_set_buf = io.BytesIO()\n",
    "\n",
    "\n",
    "smac.write_numpy_to_dense_tensor(train_set_buf, train_features, train_labels)\n",
    "smac.write_numpy_to_dense_tensor(validation_set_buf, val_features, val_labels)\n",
    "smac.write_numpy_to_dense_tensor(test_set_buf, test_features, test_labels)\n",
    "\n",
    "train_set_buf.seek(0)\n",
    "validation_set_buf.seek(0)\n",
    "test_set_buf.seek(0)\n"
   ]
  },
  {
   "cell_type": "code",
   "execution_count": 16,
   "id": "03d07446",
   "metadata": {
    "tags": []
   },
   "outputs": [],
   "source": [
    "# Upload the RecordIO formatted datasets to S3\n",
    "s3_resource = boto3.resource('s3')\n",
    "\n",
    "train_s3_path = f\"{prefix}/train/train1.recordio\"\n",
    "val_s3_path = f\"{prefix}/validate/validate1.recordio\"\n",
    "test_s3_path = f\"{prefix}/test/test1.recordio\"\n",
    "\n",
    "# Upload datasets to S3\n",
    "s3_resource.Bucket(bucket_name).Object(train_s3_path).upload_fileobj(train_set_buf)\n",
    "s3_resource.Bucket(bucket_name).Object(val_s3_path).upload_fileobj(validation_set_buf)\n",
    "s3_resource.Bucket(bucket_name).Object(test_s3_path).upload_fileobj(test_set_buf)\n",
    "\n",
    "train_s3_uri = f\"s3://{bucket_name}/{train_s3_path}\"\n",
    "val_s3_uri = f\"s3://{bucket_name}/{val_s3_path}\"\n",
    "test_s3_uri = f\"s3://{bucket_name}/{test_s3_path}\"\n",
    "\n",
    "# Define data channels for training and validation\n",
    "data_channels = {\n",
    "    'train': train_s3_uri,'validation': val_s3_uri}\n",
    "\n"
   ]
  },
  {
   "cell_type": "code",
   "execution_count": 17,
   "id": "17c67028",
   "metadata": {
    "tags": []
   },
   "outputs": [
    {
     "name": "stderr",
     "output_type": "stream",
     "text": [
      "INFO:sagemaker:Creating training-job with name: linear-learner-2024-11-03-12-06-40-451\n"
     ]
    },
    {
     "name": "stdout",
     "output_type": "stream",
     "text": [
      "2024-11-03 12:06:41 Starting - Starting the training job...\n",
      "2024-11-03 12:06:56 Starting - Preparing the instances for training...\n",
      "2024-11-03 12:07:20 Downloading - Downloading input data...\n",
      "2024-11-03 12:08:00 Downloading - Downloading the training image.........\n",
      "2024-11-03 12:09:32 Training - Training image download completed. Training in progress..\u001b[34mDocker entrypoint called with argument(s): train\u001b[0m\n",
      "\u001b[34mRunning default environment configuration script\u001b[0m\n",
      "\u001b[34m[11/03/2024 12:09:41 INFO 140606159963968] Reading default configuration from /opt/amazon/lib/python3.8/site-packages/algorithm/resources/default-input.json: {'mini_batch_size': '1000', 'epochs': '15', 'feature_dim': 'auto', 'use_bias': 'true', 'binary_classifier_model_selection_criteria': 'accuracy', 'f_beta': '1.0', 'target_recall': '0.8', 'target_precision': '0.8', 'num_models': 'auto', 'num_calibration_samples': '10000000', 'init_method': 'uniform', 'init_scale': '0.07', 'init_sigma': '0.01', 'init_bias': '0.0', 'optimizer': 'auto', 'loss': 'auto', 'margin': '1.0', 'quantile': '0.5', 'loss_insensitivity': '0.01', 'huber_delta': '1.0', 'num_classes': '1', 'accuracy_top_k': '3', 'wd': 'auto', 'l1': 'auto', 'momentum': 'auto', 'learning_rate': 'auto', 'beta_1': 'auto', 'beta_2': 'auto', 'bias_lr_mult': 'auto', 'bias_wd_mult': 'auto', 'use_lr_scheduler': 'true', 'lr_scheduler_step': 'auto', 'lr_scheduler_factor': 'auto', 'lr_scheduler_minimum_lr': 'auto', 'positive_example_weight_mult': '1.0', 'balance_multiclass_weights': 'false', 'normalize_data': 'true', 'normalize_label': 'auto', 'unbias_data': 'auto', 'unbias_label': 'auto', 'num_point_for_scaler': '10000', '_kvstore': 'auto', '_num_gpus': 'auto', '_num_kv_servers': 'auto', '_log_level': 'info', '_tuning_objective_metric': '', 'early_stopping_patience': '3', 'early_stopping_tolerance': '0.001', '_enable_profiler': 'false'}\u001b[0m\n",
      "\u001b[34m[11/03/2024 12:09:41 INFO 140606159963968] Merging with provided configuration from /opt/ml/input/config/hyperparameters.json: {'epochs': '5', 'feature_dim': '74', 'mini_batch_size': '200', 'predictor_type': 'binary_classifier'}\u001b[0m\n",
      "\u001b[34m[11/03/2024 12:09:41 INFO 140606159963968] Final configuration: {'mini_batch_size': '200', 'epochs': '5', 'feature_dim': '74', 'use_bias': 'true', 'binary_classifier_model_selection_criteria': 'accuracy', 'f_beta': '1.0', 'target_recall': '0.8', 'target_precision': '0.8', 'num_models': 'auto', 'num_calibration_samples': '10000000', 'init_method': 'uniform', 'init_scale': '0.07', 'init_sigma': '0.01', 'init_bias': '0.0', 'optimizer': 'auto', 'loss': 'auto', 'margin': '1.0', 'quantile': '0.5', 'loss_insensitivity': '0.01', 'huber_delta': '1.0', 'num_classes': '1', 'accuracy_top_k': '3', 'wd': 'auto', 'l1': 'auto', 'momentum': 'auto', 'learning_rate': 'auto', 'beta_1': 'auto', 'beta_2': 'auto', 'bias_lr_mult': 'auto', 'bias_wd_mult': 'auto', 'use_lr_scheduler': 'true', 'lr_scheduler_step': 'auto', 'lr_scheduler_factor': 'auto', 'lr_scheduler_minimum_lr': 'auto', 'positive_example_weight_mult': '1.0', 'balance_multiclass_weights': 'false', 'normalize_data': 'true', 'normalize_label': 'auto', 'unbias_data': 'auto', 'unbias_label': 'auto', 'num_point_for_scaler': '10000', '_kvstore': 'auto', '_num_gpus': 'auto', '_num_kv_servers': 'auto', '_log_level': 'info', '_tuning_objective_metric': '', 'early_stopping_patience': '3', 'early_stopping_tolerance': '0.001', '_enable_profiler': 'false', 'predictor_type': 'binary_classifier'}\u001b[0m\n",
      "\u001b[34m/opt/amazon/lib/python3.8/site-packages/mxnet/model.py:97: SyntaxWarning: \"is\" with a literal. Did you mean \"==\"?\n",
      "  if num_device is 1 and 'dist' not in kvstore:\u001b[0m\n",
      "\u001b[34m/opt/amazon/lib/python3.8/site-packages/scipy/optimize/_shgo.py:495: SyntaxWarning: \"is\" with a literal. Did you mean \"==\"?\n",
      "  if cons['type'] is 'ineq':\u001b[0m\n",
      "\u001b[34m/opt/amazon/lib/python3.8/site-packages/scipy/optimize/_shgo.py:743: SyntaxWarning: \"is not\" with a literal. Did you mean \"!=\"?\n",
      "  if len(self.X_min) is not 0:\u001b[0m\n",
      "\u001b[34m[11/03/2024 12:09:44 WARNING 140606159963968] Loggers have already been setup.\u001b[0m\n",
      "\u001b[34m[11/03/2024 12:09:44 INFO 140606159963968] Final configuration: {'mini_batch_size': '200', 'epochs': '5', 'feature_dim': '74', 'use_bias': 'true', 'binary_classifier_model_selection_criteria': 'accuracy', 'f_beta': '1.0', 'target_recall': '0.8', 'target_precision': '0.8', 'num_models': 'auto', 'num_calibration_samples': '10000000', 'init_method': 'uniform', 'init_scale': '0.07', 'init_sigma': '0.01', 'init_bias': '0.0', 'optimizer': 'auto', 'loss': 'auto', 'margin': '1.0', 'quantile': '0.5', 'loss_insensitivity': '0.01', 'huber_delta': '1.0', 'num_classes': '1', 'accuracy_top_k': '3', 'wd': 'auto', 'l1': 'auto', 'momentum': 'auto', 'learning_rate': 'auto', 'beta_1': 'auto', 'beta_2': 'auto', 'bias_lr_mult': 'auto', 'bias_wd_mult': 'auto', 'use_lr_scheduler': 'true', 'lr_scheduler_step': 'auto', 'lr_scheduler_factor': 'auto', 'lr_scheduler_minimum_lr': 'auto', 'positive_example_weight_mult': '1.0', 'balance_multiclass_weights': 'false', 'normalize_data': 'true', 'normalize_label': 'auto', 'unbias_data': 'auto', 'unbias_label': 'auto', 'num_point_for_scaler': '10000', '_kvstore': 'auto', '_num_gpus': 'auto', '_num_kv_servers': 'auto', '_log_level': 'info', '_tuning_objective_metric': '', 'early_stopping_patience': '3', 'early_stopping_tolerance': '0.001', '_enable_profiler': 'false', 'predictor_type': 'binary_classifier'}\u001b[0m\n",
      "\u001b[34m[11/03/2024 12:09:44 WARNING 140606159963968] Loggers have already been setup.\u001b[0m\n",
      "\u001b[34mProcess 7 is a worker.\u001b[0m\n",
      "\u001b[34m[11/03/2024 12:09:44 INFO 140606159963968] Using default worker.\u001b[0m\n",
      "\u001b[34m[11/03/2024 12:09:44 INFO 140606159963968] Checkpoint loading and saving are disabled.\u001b[0m\n",
      "\u001b[34m[2024-11-03 12:09:44.372] [tensorio] [warning] TensorIO is already initialized; ignoring the initialization routine.\u001b[0m\n",
      "\u001b[34m[2024-11-03 12:09:44.397] [tensorio] [info] epoch_stats={\"data_pipeline\": \"/opt/ml/input/data/train\", \"epoch\": 0, \"duration\": 31, \"num_examples\": 1, \"num_bytes\": 68800}\u001b[0m\n",
      "\u001b[34m[11/03/2024 12:09:44 INFO 140606159963968] Create Store: local\u001b[0m\n",
      "\u001b[34m[2024-11-03 12:09:44.547] [tensorio] [info] epoch_stats={\"data_pipeline\": \"/opt/ml/input/data/train\", \"epoch\": 1, \"duration\": 150, \"num_examples\": 51, \"num_bytes\": 3508800}\u001b[0m\n",
      "\u001b[34m[11/03/2024 12:09:44 INFO 140606159963968] Scaler algorithm parameters\n",
      " <algorithm.scaler.ScalerAlgorithmStable object at 0x7fe0dbe9a8e0>\u001b[0m\n",
      "\u001b[34m[11/03/2024 12:09:44 INFO 140606159963968] Scaling model computed with parameters:\n",
      " {'stdev_label': None, 'stdev_weight': \u001b[0m\n",
      "\u001b[34m[5.3513580e+02 4.3233126e-01 4.4395959e-01 4.3558532e-01 2.5382057e-01\n",
      " 2.7355638e-01 2.7265447e-01 2.7430502e-01 2.8033498e-01 2.8813818e-01\n",
      " 2.9280826e-01 2.7727017e-01 2.8004521e-01 2.7712297e-01 2.7873579e-01\n",
      " 1.6950288e-01 1.7848267e-01 1.7667635e-01 1.7822587e-01 1.7641655e-01\n",
      " 1.7950544e-01 1.7326456e-01 1.8427508e-01 1.7615637e-01 1.7458579e-01\n",
      " 1.7976017e-01 1.7771107e-01 1.8550676e-01 1.8402764e-01 1.7719458e-01\n",
      " 1.7950547e-01 1.7899495e-01 1.7976011e-01 1.8697238e-01 1.8203373e-01\n",
      " 1.7589568e-01 1.8501522e-01 1.7432244e-01 1.7615634e-01 1.7432249e-01\n",
      " 1.7432246e-01 1.7352971e-01 1.7219931e-01 1.6564433e-01 1.3932598e-01\n",
      " 3.5649380e-01 3.5239717e-01 3.5416460e-01 3.5288984e-01 3.1914020e-01\n",
      " 3.5200199e-01 3.6486974e-01 2.3511021e-01 4.5687556e-01 3.1831068e-01\n",
      " 2.4513677e-01 3.2265463e-01 3.3182722e-01 2.7205053e-01 3.5239717e-01\n",
      " 3.3237895e-01 3.0143249e-01 3.2735372e-01 2.4054913e-01 3.1580028e-01\n",
      " 3.3446062e-01 2.7310601e-01 3.6021420e-01 3.3727166e-01 3.0259666e-01\n",
      " 3.1890371e-01 1.9801770e-01 4.0448752e-01 4.8536217e-01]\u001b[0m\n",
      "\u001b[34m<NDArray 74 @cpu(0)>, 'mean_label': None, 'mean_weight': \u001b[0m\n",
      "\u001b[34m[1.00826343e+03 2.48823494e-01 2.70000100e-01 2.54509777e-01\n",
      " 6.92156628e-02 8.14705715e-02 8.08823630e-02 8.19607675e-02\n",
      " 8.59803930e-02 9.13725346e-02 9.47058573e-02 8.39215666e-02\n",
      " 8.57843161e-02 8.38235393e-02 8.49019438e-02 2.96078436e-02\n",
      " 3.29411738e-02 3.22549008e-02 3.28431427e-02 3.21568623e-02\n",
      " 3.33333388e-02 3.09803914e-02 3.51960771e-02 3.20588201e-02\n",
      " 3.14705856e-02 3.34313735e-02 3.26470546e-02 3.56862694e-02\n",
      " 3.50980237e-02 3.24509703e-02 3.33333313e-02 3.31372470e-02\n",
      " 3.34313773e-02 3.62745076e-02 3.43137234e-02 3.19607742e-02\n",
      " 3.54901850e-02 3.13725397e-02 3.20588127e-02 3.13725509e-02\n",
      " 3.13725471e-02 3.10784318e-02 3.05882320e-02 2.82352921e-02\n",
      " 1.98039208e-02 1.49411783e-01 1.45294100e-01 1.47058830e-01\n",
      " 1.45784289e-01 1.15098037e-01 1.44901901e-01 1.58137247e-01\n",
      " 5.87254837e-02 2.96862662e-01 1.14411779e-01 6.42156750e-02\n",
      " 1.18039206e-01 1.25980407e-01 8.04901868e-02 1.45294145e-01\n",
      " 1.26470610e-01 1.01078413e-01 1.22058809e-01 6.16666563e-02\n",
      " 1.12352937e-01 1.28333300e-01 8.11764523e-02 1.53235272e-01\n",
      " 1.30882353e-01 1.01960778e-01 1.14901960e-01 4.08823453e-02\n",
      " 2.06078410e-01 3.79902005e-01]\u001b[0m\n",
      "\u001b[34m<NDArray 74 @cpu(0)>}\u001b[0m\n",
      "\u001b[34m/opt/amazon/python3.8/lib/python3.8/subprocess.py:848: RuntimeWarning: line buffering (buffering=1) isn't supported in binary mode, the default buffer size will be used\n",
      "  self.stdout = io.open(c2pread, 'rb', bufsize)\u001b[0m\n",
      "\u001b[34m[11/03/2024 12:09:44 INFO 140606159963968] nvidia-smi: took 0.033 seconds to run.\u001b[0m\n",
      "\u001b[34m[11/03/2024 12:09:44 INFO 140606159963968] nvidia-smi identified 0 GPUs.\u001b[0m\n",
      "\u001b[34m[11/03/2024 12:09:44 INFO 140606159963968] Number of GPUs being used: 0\u001b[0m\n",
      "\u001b[34m#metrics {\"StartTime\": 1730635784.6377077, \"EndTime\": 1730635784.6377397, \"Dimensions\": {\"Algorithm\": \"Linear Learner\", \"Host\": \"algo-1\", \"Operation\": \"training\", \"Meta\": \"init_train_data_iter\"}, \"Metrics\": {\"Total Records Seen\": {\"sum\": 10400.0, \"count\": 1, \"min\": 10400, \"max\": 10400}, \"Total Batches Seen\": {\"sum\": 52.0, \"count\": 1, \"min\": 52, \"max\": 52}, \"Max Records Seen Between Resets\": {\"sum\": 10200.0, \"count\": 1, \"min\": 10200, \"max\": 10200}, \"Max Batches Seen Between Resets\": {\"sum\": 51.0, \"count\": 1, \"min\": 51, \"max\": 51}, \"Reset Count\": {\"sum\": 2.0, \"count\": 1, \"min\": 2, \"max\": 2}, \"Number of Records Since Last Reset\": {\"sum\": 0.0, \"count\": 1, \"min\": 0, \"max\": 0}, \"Number of Batches Since Last Reset\": {\"sum\": 0.0, \"count\": 1, \"min\": 0, \"max\": 0}}}\u001b[0m\n",
      "\u001b[34m[2024-11-03 12:11:25.505] [tensorio] [info] epoch_stats={\"data_pipeline\": \"/opt/ml/input/data/train\", \"epoch\": 3, \"duration\": 100866, \"num_examples\": 5725, \"num_bytes\": 393850072}\u001b[0m\n",
      "\u001b[34m#metrics {\"StartTime\": 1730635885.505116, \"EndTime\": 1730635885.5051785, \"Dimensions\": {\"Algorithm\": \"Linear Learner\", \"Host\": \"algo-1\", \"Operation\": \"training\", \"epoch\": 0, \"model\": 0}, \"Metrics\": {\"train_binary_classification_cross_entropy_objective\": {\"sum\": 0.4962131842593894, \"count\": 1, \"min\": 0.4962131842593894, \"max\": 0.4962131842593894}}}\u001b[0m\n",
      "\u001b[34m#metrics {\"StartTime\": 1730635885.5052655, \"EndTime\": 1730635885.5052798, \"Dimensions\": {\"Algorithm\": \"Linear Learner\", \"Host\": \"algo-1\", \"Operation\": \"training\", \"epoch\": 0, \"model\": 1}, \"Metrics\": {\"train_binary_classification_cross_entropy_objective\": {\"sum\": 0.49791881599266324, \"count\": 1, \"min\": 0.49791881599266324, \"max\": 0.49791881599266324}}}\u001b[0m\n",
      "\u001b[34m#metrics {\"StartTime\": 1730635885.505322, \"EndTime\": 1730635885.5053322, \"Dimensions\": {\"Algorithm\": \"Linear Learner\", \"Host\": \"algo-1\", \"Operation\": \"training\", \"epoch\": 0, \"model\": 2}, \"Metrics\": {\"train_binary_classification_cross_entropy_objective\": {\"sum\": 0.4962305682426895, \"count\": 1, \"min\": 0.4962305682426895, \"max\": 0.4962305682426895}}}\u001b[0m\n",
      "\u001b[34m#metrics {\"StartTime\": 1730635885.5053592, \"EndTime\": 1730635885.505367, \"Dimensions\": {\"Algorithm\": \"Linear Learner\", \"Host\": \"algo-1\", \"Operation\": \"training\", \"epoch\": 0, \"model\": 3}, \"Metrics\": {\"train_binary_classification_cross_entropy_objective\": {\"sum\": 0.4979155555394544, \"count\": 1, \"min\": 0.4979155555394544, \"max\": 0.4979155555394544}}}\u001b[0m\n",
      "\u001b[34m#metrics {\"StartTime\": 1730635885.5054002, \"EndTime\": 1730635885.505409, \"Dimensions\": {\"Algorithm\": \"Linear Learner\", \"Host\": \"algo-1\", \"Operation\": \"training\", \"epoch\": 0, \"model\": 4}, \"Metrics\": {\"train_binary_classification_cross_entropy_objective\": {\"sum\": 0.5054586425983848, \"count\": 1, \"min\": 0.5054586425983848, \"max\": 0.5054586425983848}}}\u001b[0m\n",
      "\u001b[34m#metrics {\"StartTime\": 1730635885.50544, \"EndTime\": 1730635885.505449, \"Dimensions\": {\"Algorithm\": \"Linear Learner\", \"Host\": \"algo-1\", \"Operation\": \"training\", \"epoch\": 0, \"model\": 5}, \"Metrics\": {\"train_binary_classification_cross_entropy_objective\": {\"sum\": 0.5390155943851218, \"count\": 1, \"min\": 0.5390155943851218, \"max\": 0.5390155943851218}}}\u001b[0m\n",
      "\u001b[34m#metrics {\"StartTime\": 1730635885.5054812, \"EndTime\": 1730635885.5054896, \"Dimensions\": {\"Algorithm\": \"Linear Learner\", \"Host\": \"algo-1\", \"Operation\": \"training\", \"epoch\": 0, \"model\": 6}, \"Metrics\": {\"train_binary_classification_cross_entropy_objective\": {\"sum\": 0.5054488555873549, \"count\": 1, \"min\": 0.5054488555873549, \"max\": 0.5054488555873549}}}\u001b[0m\n",
      "\u001b[34m#metrics {\"StartTime\": 1730635885.5055203, \"EndTime\": 1730635885.5055282, \"Dimensions\": {\"Algorithm\": \"Linear Learner\", \"Host\": \"algo-1\", \"Operation\": \"training\", \"epoch\": 0, \"model\": 7}, \"Metrics\": {\"train_binary_classification_cross_entropy_objective\": {\"sum\": 0.5389859909881336, \"count\": 1, \"min\": 0.5389859909881336, \"max\": 0.5389859909881336}}}\u001b[0m\n",
      "\u001b[34m#metrics {\"StartTime\": 1730635885.505551, \"EndTime\": 1730635885.5055575, \"Dimensions\": {\"Algorithm\": \"Linear Learner\", \"Host\": \"algo-1\", \"Operation\": \"training\", \"epoch\": 0, \"model\": 8}, \"Metrics\": {\"train_binary_classification_cross_entropy_objective\": {\"sum\": 0.4963481677286613, \"count\": 1, \"min\": 0.4963481677286613, \"max\": 0.4963481677286613}}}\u001b[0m\n",
      "\u001b[34m#metrics {\"StartTime\": 1730635885.5055857, \"EndTime\": 1730635885.505593, \"Dimensions\": {\"Algorithm\": \"Linear Learner\", \"Host\": \"algo-1\", \"Operation\": \"training\", \"epoch\": 0, \"model\": 9}, \"Metrics\": {\"train_binary_classification_cross_entropy_objective\": {\"sum\": 0.49791888031069836, \"count\": 1, \"min\": 0.49791888031069836, \"max\": 0.49791888031069836}}}\u001b[0m\n",
      "\u001b[34m#metrics {\"StartTime\": 1730635885.505644, \"EndTime\": 1730635885.5056522, \"Dimensions\": {\"Algorithm\": \"Linear Learner\", \"Host\": \"algo-1\", \"Operation\": \"training\", \"epoch\": 0, \"model\": 10}, \"Metrics\": {\"train_binary_classification_cross_entropy_objective\": {\"sum\": 0.4963671235218488, \"count\": 1, \"min\": 0.4963671235218488, \"max\": 0.4963671235218488}}}\u001b[0m\n",
      "\u001b[34m#metrics {\"StartTime\": 1730635885.5056756, \"EndTime\": 1730635885.5056806, \"Dimensions\": {\"Algorithm\": \"Linear Learner\", \"Host\": \"algo-1\", \"Operation\": \"training\", \"epoch\": 0, \"model\": 11}, \"Metrics\": {\"train_binary_classification_cross_entropy_objective\": {\"sum\": 0.4979141676467586, \"count\": 1, \"min\": 0.4979141676467586, \"max\": 0.4979141676467586}}}\u001b[0m\n",
      "\u001b[34m#metrics {\"StartTime\": 1730635885.5057023, \"EndTime\": 1730635885.5057085, \"Dimensions\": {\"Algorithm\": \"Linear Learner\", \"Host\": \"algo-1\", \"Operation\": \"training\", \"epoch\": 0, \"model\": 12}, \"Metrics\": {\"train_binary_classification_cross_entropy_objective\": {\"sum\": 0.5049178465224079, \"count\": 1, \"min\": 0.5049178465224079, \"max\": 0.5049178465224079}}}\u001b[0m\n",
      "\u001b[34m#metrics {\"StartTime\": 1730635885.505729, \"EndTime\": 1730635885.5057354, \"Dimensions\": {\"Algorithm\": \"Linear Learner\", \"Host\": \"algo-1\", \"Operation\": \"training\", \"epoch\": 0, \"model\": 13}, \"Metrics\": {\"train_binary_classification_cross_entropy_objective\": {\"sum\": 0.5360710187694728, \"count\": 1, \"min\": 0.5360710187694728, \"max\": 0.5360710187694728}}}\u001b[0m\n",
      "\u001b[34m#metrics {\"StartTime\": 1730635885.5057635, \"EndTime\": 1730635885.505771, \"Dimensions\": {\"Algorithm\": \"Linear Learner\", \"Host\": \"algo-1\", \"Operation\": \"training\", \"epoch\": 0, \"model\": 14}, \"Metrics\": {\"train_binary_classification_cross_entropy_objective\": {\"sum\": 0.5049314248120343, \"count\": 1, \"min\": 0.5049314248120343, \"max\": 0.5049314248120343}}}\u001b[0m\n",
      "\u001b[34m#metrics {\"StartTime\": 1730635885.5057998, \"EndTime\": 1730635885.5058072, \"Dimensions\": {\"Algorithm\": \"Linear Learner\", \"Host\": \"algo-1\", \"Operation\": \"training\", \"epoch\": 0, \"model\": 15}, \"Metrics\": {\"train_binary_classification_cross_entropy_objective\": {\"sum\": 0.5360868776869224, \"count\": 1, \"min\": 0.5360868776869224, \"max\": 0.5360868776869224}}}\u001b[0m\n",
      "\u001b[34m#metrics {\"StartTime\": 1730635885.5058239, \"EndTime\": 1730635885.5058289, \"Dimensions\": {\"Algorithm\": \"Linear Learner\", \"Host\": \"algo-1\", \"Operation\": \"training\", \"epoch\": 0, \"model\": 16}, \"Metrics\": {\"train_binary_classification_cross_entropy_objective\": {\"sum\": 0.5087011957401832, \"count\": 1, \"min\": 0.5087011957401832, \"max\": 0.5087011957401832}}}\u001b[0m\n",
      "\u001b[34m#metrics {\"StartTime\": 1730635885.505856, \"EndTime\": 1730635885.5058615, \"Dimensions\": {\"Algorithm\": \"Linear Learner\", \"Host\": \"algo-1\", \"Operation\": \"training\", \"epoch\": 0, \"model\": 17}, \"Metrics\": {\"train_binary_classification_cross_entropy_objective\": {\"sum\": 0.5091288900208757, \"count\": 1, \"min\": 0.5091288900208757, \"max\": 0.5091288900208757}}}\u001b[0m\n",
      "\u001b[34m#metrics {\"StartTime\": 1730635885.5058775, \"EndTime\": 1730635885.505882, \"Dimensions\": {\"Algorithm\": \"Linear Learner\", \"Host\": \"algo-1\", \"Operation\": \"training\", \"epoch\": 0, \"model\": 18}, \"Metrics\": {\"train_binary_classification_cross_entropy_objective\": {\"sum\": 0.5086968750557143, \"count\": 1, \"min\": 0.5086968750557143, \"max\": 0.5086968750557143}}}\u001b[0m\n",
      "\u001b[34m#metrics {\"StartTime\": 1730635885.5059063, \"EndTime\": 1730635885.50593, \"Dimensions\": {\"Algorithm\": \"Linear Learner\", \"Host\": \"algo-1\", \"Operation\": \"training\", \"epoch\": 0, \"model\": 19}, \"Metrics\": {\"train_binary_classification_cross_entropy_objective\": {\"sum\": 0.5091378976247429, \"count\": 1, \"min\": 0.5091378976247429, \"max\": 0.5091378976247429}}}\u001b[0m\n",
      "\u001b[34m#metrics {\"StartTime\": 1730635885.505958, \"EndTime\": 1730635885.505964, \"Dimensions\": {\"Algorithm\": \"Linear Learner\", \"Host\": \"algo-1\", \"Operation\": \"training\", \"epoch\": 0, \"model\": 20}, \"Metrics\": {\"train_binary_classification_cross_entropy_objective\": {\"sum\": 0.5104801811562144, \"count\": 1, \"min\": 0.5104801811562144, \"max\": 0.5104801811562144}}}\u001b[0m\n",
      "\u001b[34m#metrics {\"StartTime\": 1730635885.5059886, \"EndTime\": 1730635885.5059958, \"Dimensions\": {\"Algorithm\": \"Linear Learner\", \"Host\": \"algo-1\", \"Operation\": \"training\", \"epoch\": 0, \"model\": 21}, \"Metrics\": {\"train_binary_classification_cross_entropy_objective\": {\"sum\": 0.5168256399766454, \"count\": 1, \"min\": 0.5168256399766454, \"max\": 0.5168256399766454}}}\u001b[0m\n",
      "\u001b[34m#metrics {\"StartTime\": 1730635885.5060256, \"EndTime\": 1730635885.506032, \"Dimensions\": {\"Algorithm\": \"Linear Learner\", \"Host\": \"algo-1\", \"Operation\": \"training\", \"epoch\": 0, \"model\": 22}, \"Metrics\": {\"train_binary_classification_cross_entropy_objective\": {\"sum\": 0.5104930179190752, \"count\": 1, \"min\": 0.5104930179190752, \"max\": 0.5104930179190752}}}\u001b[0m\n",
      "\u001b[34m#metrics {\"StartTime\": 1730635885.5060549, \"EndTime\": 1730635885.5060632, \"Dimensions\": {\"Algorithm\": \"Linear Learner\", \"Host\": \"algo-1\", \"Operation\": \"training\", \"epoch\": 0, \"model\": 23}, \"Metrics\": {\"train_binary_classification_cross_entropy_objective\": {\"sum\": 0.5168000738809027, \"count\": 1, \"min\": 0.5168000738809027, \"max\": 0.5168000738809027}}}\u001b[0m\n",
      "\u001b[34m#metrics {\"StartTime\": 1730635885.5060906, \"EndTime\": 1730635885.506096, \"Dimensions\": {\"Algorithm\": \"Linear Learner\", \"Host\": \"algo-1\", \"Operation\": \"training\", \"epoch\": 0, \"model\": 24}, \"Metrics\": {\"train_binary_classification_cross_entropy_objective\": {\"sum\": 0.5141441813388294, \"count\": 1, \"min\": 0.5141441813388294, \"max\": 0.5141441813388294}}}\u001b[0m\n",
      "\u001b[34m#metrics {\"StartTime\": 1730635885.50612, \"EndTime\": 1730635885.5061276, \"Dimensions\": {\"Algorithm\": \"Linear Learner\", \"Host\": \"algo-1\", \"Operation\": \"training\", \"epoch\": 0, \"model\": 25}, \"Metrics\": {\"train_binary_classification_cross_entropy_objective\": {\"sum\": 0.514330803240037, \"count\": 1, \"min\": 0.514330803240037, \"max\": 0.514330803240037}}}\u001b[0m\n",
      "\u001b[34m#metrics {\"StartTime\": 1730635885.5061502, \"EndTime\": 1730635885.5061553, \"Dimensions\": {\"Algorithm\": \"Linear Learner\", \"Host\": \"algo-1\", \"Operation\": \"training\", \"epoch\": 0, \"model\": 26}, \"Metrics\": {\"train_binary_classification_cross_entropy_objective\": {\"sum\": 0.5141396262477446, \"count\": 1, \"min\": 0.5141396262477446, \"max\": 0.5141396262477446}}}\u001b[0m\n",
      "\u001b[34m#metrics {\"StartTime\": 1730635885.506185, \"EndTime\": 1730635885.5061934, \"Dimensions\": {\"Algorithm\": \"Linear Learner\", \"Host\": \"algo-1\", \"Operation\": \"training\", \"epoch\": 0, \"model\": 27}, \"Metrics\": {\"train_binary_classification_cross_entropy_objective\": {\"sum\": 0.5143410636294063, \"count\": 1, \"min\": 0.5143410636294063, \"max\": 0.5143410636294063}}}\u001b[0m\n",
      "\u001b[34m#metrics {\"StartTime\": 1730635885.5062234, \"EndTime\": 1730635885.5062306, \"Dimensions\": {\"Algorithm\": \"Linear Learner\", \"Host\": \"algo-1\", \"Operation\": \"training\", \"epoch\": 0, \"model\": 28}, \"Metrics\": {\"train_binary_classification_cross_entropy_objective\": {\"sum\": 0.5148453891668846, \"count\": 1, \"min\": 0.5148453891668846, \"max\": 0.5148453891668846}}}\u001b[0m\n",
      "\u001b[34m#metrics {\"StartTime\": 1730635885.5062554, \"EndTime\": 1730635885.5062623, \"Dimensions\": {\"Algorithm\": \"Linear Learner\", \"Host\": \"algo-1\", \"Operation\": \"training\", \"epoch\": 0, \"model\": 29}, \"Metrics\": {\"train_binary_classification_cross_entropy_objective\": {\"sum\": 0.5176316380317523, \"count\": 1, \"min\": 0.5176316380317523, \"max\": 0.5176316380317523}}}\u001b[0m\n",
      "\u001b[34m#metrics {\"StartTime\": 1730635885.5062914, \"EndTime\": 1730635885.5063, \"Dimensions\": {\"Algorithm\": \"Linear Learner\", \"Host\": \"algo-1\", \"Operation\": \"training\", \"epoch\": 0, \"model\": 30}, \"Metrics\": {\"train_binary_classification_cross_entropy_objective\": {\"sum\": 0.514830040921705, \"count\": 1, \"min\": 0.514830040921705, \"max\": 0.514830040921705}}}\u001b[0m\n",
      "\u001b[34m#metrics {\"StartTime\": 1730635885.5063326, \"EndTime\": 1730635885.5063417, \"Dimensions\": {\"Algorithm\": \"Linear Learner\", \"Host\": \"algo-1\", \"Operation\": \"training\", \"epoch\": 0, \"model\": 31}, \"Metrics\": {\"train_binary_classification_cross_entropy_objective\": {\"sum\": 0.5176182398939366, \"count\": 1, \"min\": 0.5176182398939366, \"max\": 0.5176182398939366}}}\u001b[0m\n",
      "\u001b[34m[11/03/2024 12:11:25 INFO 140606159963968] #quality_metric: host=algo-1, epoch=0, train binary_classification_cross_entropy_objective <loss>=0.4962131842593894\u001b[0m\n",
      "\u001b[34m[2024-11-03 12:11:25.521] [tensorio] [info] epoch_stats={\"data_pipeline\": \"/opt/ml/input/data/validation\", \"epoch\": 0, \"duration\": 101148, \"num_examples\": 1, \"num_bytes\": 68800}\u001b[0m\n",
      "\u001b[34m[2024-11-03 12:11:41.029] [tensorio] [info] epoch_stats={\"data_pipeline\": \"/opt/ml/input/data/validation\", \"epoch\": 2, \"duration\": 15507, \"num_examples\": 1227, \"num_bytes\": 84396272}\u001b[0m\n",
      "\u001b[34m#metrics {\"StartTime\": 1730635903.1286058, \"EndTime\": 1730635903.1286573, \"Dimensions\": {\"Algorithm\": \"Linear Learner\", \"Host\": \"algo-1\", \"Operation\": \"training\", \"epoch\": 0, \"model\": 0}, \"Metrics\": {\"validation_binary_classification_cross_entropy_objective\": {\"sum\": 0.4948044724758249, \"count\": 1, \"min\": 0.4948044724758249, \"max\": 0.4948044724758249}}}\u001b[0m\n",
      "\u001b[34m#metrics {\"StartTime\": 1730635903.1287317, \"EndTime\": 1730635903.1287417, \"Dimensions\": {\"Algorithm\": \"Linear Learner\", \"Host\": \"algo-1\", \"Operation\": \"training\", \"epoch\": 0, \"model\": 1}, \"Metrics\": {\"validation_binary_classification_cross_entropy_objective\": {\"sum\": 0.4964388706549441, \"count\": 1, \"min\": 0.4964388706549441, \"max\": 0.4964388706549441}}}\u001b[0m\n",
      "\u001b[34m#metrics {\"StartTime\": 1730635903.1287634, \"EndTime\": 1730635903.1287706, \"Dimensions\": {\"Algorithm\": \"Linear Learner\", \"Host\": \"algo-1\", \"Operation\": \"training\", \"epoch\": 0, \"model\": 2}, \"Metrics\": {\"validation_binary_classification_cross_entropy_objective\": {\"sum\": 0.4948091032021683, \"count\": 1, \"min\": 0.4948091032021683, \"max\": 0.4948091032021683}}}\u001b[0m\n",
      "\u001b[34m#metrics {\"StartTime\": 1730635903.1288023, \"EndTime\": 1730635903.12881, \"Dimensions\": {\"Algorithm\": \"Linear Learner\", \"Host\": \"algo-1\", \"Operation\": \"training\", \"epoch\": 0, \"model\": 3}, \"Metrics\": {\"validation_binary_classification_cross_entropy_objective\": {\"sum\": 0.49643886197874604, \"count\": 1, \"min\": 0.49643886197874604, \"max\": 0.49643886197874604}}}\u001b[0m\n",
      "\u001b[34m#metrics {\"StartTime\": 1730635903.1288412, \"EndTime\": 1730635903.1288483, \"Dimensions\": {\"Algorithm\": \"Linear Learner\", \"Host\": \"algo-1\", \"Operation\": \"training\", \"epoch\": 0, \"model\": 4}, \"Metrics\": {\"validation_binary_classification_cross_entropy_objective\": {\"sum\": 0.494925763889643, \"count\": 1, \"min\": 0.494925763889643, \"max\": 0.494925763889643}}}\u001b[0m\n",
      "\u001b[34m#metrics {\"StartTime\": 1730635903.1288745, \"EndTime\": 1730635903.128881, \"Dimensions\": {\"Algorithm\": \"Linear Learner\", \"Host\": \"algo-1\", \"Operation\": \"training\", \"epoch\": 0, \"model\": 5}, \"Metrics\": {\"validation_binary_classification_cross_entropy_objective\": {\"sum\": 0.5184975093335938, \"count\": 1, \"min\": 0.5184975093335938, \"max\": 0.5184975093335938}}}\u001b[0m\n",
      "\u001b[34m#metrics {\"StartTime\": 1730635903.1289065, \"EndTime\": 1730635903.128914, \"Dimensions\": {\"Algorithm\": \"Linear Learner\", \"Host\": \"algo-1\", \"Operation\": \"training\", \"epoch\": 0, \"model\": 6}, \"Metrics\": {\"validation_binary_classification_cross_entropy_objective\": {\"sum\": 0.49492576065550464, \"count\": 1, \"min\": 0.49492576065550464, \"max\": 0.49492576065550464}}}\u001b[0m\n",
      "\u001b[34m#metrics {\"StartTime\": 1730635903.1289415, \"EndTime\": 1730635903.1289506, \"Dimensions\": {\"Algorithm\": \"Linear Learner\", \"Host\": \"algo-1\", \"Operation\": \"training\", \"epoch\": 0, \"model\": 7}, \"Metrics\": {\"validation_binary_classification_cross_entropy_objective\": {\"sum\": 0.5184974926342449, \"count\": 1, \"min\": 0.5184974926342449, \"max\": 0.5184974926342449}}}\u001b[0m\n",
      "\u001b[34m#metrics {\"StartTime\": 1730635903.1289806, \"EndTime\": 1730635903.1289885, \"Dimensions\": {\"Algorithm\": \"Linear Learner\", \"Host\": \"algo-1\", \"Operation\": \"training\", \"epoch\": 0, \"model\": 8}, \"Metrics\": {\"validation_binary_classification_cross_entropy_objective\": {\"sum\": 0.49495333998785324, \"count\": 1, \"min\": 0.49495333998785324, \"max\": 0.49495333998785324}}}\u001b[0m\n",
      "\u001b[34m#metrics {\"StartTime\": 1730635903.1290162, \"EndTime\": 1730635903.1290247, \"Dimensions\": {\"Algorithm\": \"Linear Learner\", \"Host\": \"algo-1\", \"Operation\": \"training\", \"epoch\": 0, \"model\": 9}, \"Metrics\": {\"validation_binary_classification_cross_entropy_objective\": {\"sum\": 0.49647764007484024, \"count\": 1, \"min\": 0.49647764007484024, \"max\": 0.49647764007484024}}}\u001b[0m\n",
      "\u001b[34m#metrics {\"StartTime\": 1730635903.1290534, \"EndTime\": 1730635903.1290615, \"Dimensions\": {\"Algorithm\": \"Linear Learner\", \"Host\": \"algo-1\", \"Operation\": \"training\", \"epoch\": 0, \"model\": 10}, \"Metrics\": {\"validation_binary_classification_cross_entropy_objective\": {\"sum\": 0.49495397599359614, \"count\": 1, \"min\": 0.49495397599359614, \"max\": 0.49495397599359614}}}\u001b[0m\n",
      "\u001b[34m#metrics {\"StartTime\": 1730635903.1290927, \"EndTime\": 1730635903.1291015, \"Dimensions\": {\"Algorithm\": \"Linear Learner\", \"Host\": \"algo-1\", \"Operation\": \"training\", \"epoch\": 0, \"model\": 11}, \"Metrics\": {\"validation_binary_classification_cross_entropy_objective\": {\"sum\": 0.49647764038581504, \"count\": 1, \"min\": 0.49647764038581504, \"max\": 0.49647764038581504}}}\u001b[0m\n",
      "\u001b[34m#metrics {\"StartTime\": 1730635903.1291342, \"EndTime\": 1730635903.12914, \"Dimensions\": {\"Algorithm\": \"Linear Learner\", \"Host\": \"algo-1\", \"Operation\": \"training\", \"epoch\": 0, \"model\": 12}, \"Metrics\": {\"validation_binary_classification_cross_entropy_objective\": {\"sum\": 0.49506853004421175, \"count\": 1, \"min\": 0.49506853004421175, \"max\": 0.49506853004421175}}}\u001b[0m\n",
      "\u001b[34m#metrics {\"StartTime\": 1730635903.1291604, \"EndTime\": 1730635903.1291676, \"Dimensions\": {\"Algorithm\": \"Linear Learner\", \"Host\": \"algo-1\", \"Operation\": \"training\", \"epoch\": 0, \"model\": 13}, \"Metrics\": {\"validation_binary_classification_cross_entropy_objective\": {\"sum\": 0.5170855248070312, \"count\": 1, \"min\": 0.5170855248070312, \"max\": 0.5170855248070312}}}\u001b[0m\n",
      "\u001b[34m#metrics {\"StartTime\": 1730635903.129199, \"EndTime\": 1730635903.1292071, \"Dimensions\": {\"Algorithm\": \"Linear Learner\", \"Host\": \"algo-1\", \"Operation\": \"training\", \"epoch\": 0, \"model\": 14}, \"Metrics\": {\"validation_binary_classification_cross_entropy_objective\": {\"sum\": 0.4950685302307966, \"count\": 1, \"min\": 0.4950685302307966, \"max\": 0.4950685302307966}}}\u001b[0m\n",
      "\u001b[34m#metrics {\"StartTime\": 1730635903.1292374, \"EndTime\": 1730635903.1292436, \"Dimensions\": {\"Algorithm\": \"Linear Learner\", \"Host\": \"algo-1\", \"Operation\": \"training\", \"epoch\": 0, \"model\": 15}, \"Metrics\": {\"validation_binary_classification_cross_entropy_objective\": {\"sum\": 0.5170854903510189, \"count\": 1, \"min\": 0.5170854903510189, \"max\": 0.5170854903510189}}}\u001b[0m\n",
      "\u001b[34m#metrics {\"StartTime\": 1730635903.1292667, \"EndTime\": 1730635903.129274, \"Dimensions\": {\"Algorithm\": \"Linear Learner\", \"Host\": \"algo-1\", \"Operation\": \"training\", \"epoch\": 0, \"model\": 16}, \"Metrics\": {\"validation_binary_classification_cross_entropy_objective\": {\"sum\": 0.508065271856076, \"count\": 1, \"min\": 0.508065271856076, \"max\": 0.508065271856076}}}\u001b[0m\n",
      "\u001b[34m#metrics {\"StartTime\": 1730635903.1292996, \"EndTime\": 1730635903.1293075, \"Dimensions\": {\"Algorithm\": \"Linear Learner\", \"Host\": \"algo-1\", \"Operation\": \"training\", \"epoch\": 0, \"model\": 17}, \"Metrics\": {\"validation_binary_classification_cross_entropy_objective\": {\"sum\": 0.5076460077401309, \"count\": 1, \"min\": 0.5076460077401309, \"max\": 0.5076460077401309}}}\u001b[0m\n",
      "\u001b[34m#metrics {\"StartTime\": 1730635903.1293337, \"EndTime\": 1730635903.1293416, \"Dimensions\": {\"Algorithm\": \"Linear Learner\", \"Host\": \"algo-1\", \"Operation\": \"training\", \"epoch\": 0, \"model\": 18}, \"Metrics\": {\"validation_binary_classification_cross_entropy_objective\": {\"sum\": 0.5080859128732804, \"count\": 1, \"min\": 0.5080859128732804, \"max\": 0.5080859128732804}}}\u001b[0m\n",
      "\u001b[34m#metrics {\"StartTime\": 1730635903.1293728, \"EndTime\": 1730635903.129381, \"Dimensions\": {\"Algorithm\": \"Linear Learner\", \"Host\": \"algo-1\", \"Operation\": \"training\", \"epoch\": 0, \"model\": 19}, \"Metrics\": {\"validation_binary_classification_cross_entropy_objective\": {\"sum\": 0.5076460288864201, \"count\": 1, \"min\": 0.5076460288864201, \"max\": 0.5076460288864201}}}\u001b[0m\n",
      "\u001b[34m#metrics {\"StartTime\": 1730635903.1294074, \"EndTime\": 1730635903.1294148, \"Dimensions\": {\"Algorithm\": \"Linear Learner\", \"Host\": \"algo-1\", \"Operation\": \"training\", \"epoch\": 0, \"model\": 20}, \"Metrics\": {\"validation_binary_classification_cross_entropy_objective\": {\"sum\": 0.5080949870880161, \"count\": 1, \"min\": 0.5080949870880161, \"max\": 0.5080949870880161}}}\u001b[0m\n",
      "\u001b[34m#metrics {\"StartTime\": 1730635903.1294413, \"EndTime\": 1730635903.1294491, \"Dimensions\": {\"Algorithm\": \"Linear Learner\", \"Host\": \"algo-1\", \"Operation\": \"training\", \"epoch\": 0, \"model\": 21}, \"Metrics\": {\"validation_binary_classification_cross_entropy_objective\": {\"sum\": 0.5142552274781055, \"count\": 1, \"min\": 0.5142552274781055, \"max\": 0.5142552274781055}}}\u001b[0m\n",
      "\u001b[34m#metrics {\"StartTime\": 1730635903.1294777, \"EndTime\": 1730635903.1294856, \"Dimensions\": {\"Algorithm\": \"Linear Learner\", \"Host\": \"algo-1\", \"Operation\": \"training\", \"epoch\": 0, \"model\": 22}, \"Metrics\": {\"validation_binary_classification_cross_entropy_objective\": {\"sum\": 0.508094987461186, \"count\": 1, \"min\": 0.508094987461186, \"max\": 0.508094987461186}}}\u001b[0m\n",
      "\u001b[34m#metrics {\"StartTime\": 1730635903.129514, \"EndTime\": 1730635903.1295218, \"Dimensions\": {\"Algorithm\": \"Linear Learner\", \"Host\": \"algo-1\", \"Operation\": \"training\", \"epoch\": 0, \"model\": 23}, \"Metrics\": {\"validation_binary_classification_cross_entropy_objective\": {\"sum\": 0.5142552375847877, \"count\": 1, \"min\": 0.5142552375847877, \"max\": 0.5142552375847877}}}\u001b[0m\n",
      "\u001b[34m#metrics {\"StartTime\": 1730635903.1295485, \"EndTime\": 1730635903.129557, \"Dimensions\": {\"Algorithm\": \"Linear Learner\", \"Host\": \"algo-1\", \"Operation\": \"training\", \"epoch\": 0, \"model\": 24}, \"Metrics\": {\"validation_binary_classification_cross_entropy_objective\": {\"sum\": 0.5137622977140012, \"count\": 1, \"min\": 0.5137622977140012, \"max\": 0.5137622977140012}}}\u001b[0m\n",
      "\u001b[34m#metrics {\"StartTime\": 1730635903.1295912, \"EndTime\": 1730635903.1295998, \"Dimensions\": {\"Algorithm\": \"Linear Learner\", \"Host\": \"algo-1\", \"Operation\": \"training\", \"epoch\": 0, \"model\": 25}, \"Metrics\": {\"validation_binary_classification_cross_entropy_objective\": {\"sum\": 0.5138407900648481, \"count\": 1, \"min\": 0.5138407900648481, \"max\": 0.5138407900648481}}}\u001b[0m\n",
      "\u001b[34m#metrics {\"StartTime\": 1730635903.1296318, \"EndTime\": 1730635903.1296399, \"Dimensions\": {\"Algorithm\": \"Linear Learner\", \"Host\": \"algo-1\", \"Operation\": \"training\", \"epoch\": 0, \"model\": 26}, \"Metrics\": {\"validation_binary_classification_cross_entropy_objective\": {\"sum\": 0.5137475146231515, \"count\": 1, \"min\": 0.5137475146231515, \"max\": 0.5137475146231515}}}\u001b[0m\n",
      "\u001b[34m#metrics {\"StartTime\": 1730635903.1296728, \"EndTime\": 1730635903.129681, \"Dimensions\": {\"Algorithm\": \"Linear Learner\", \"Host\": \"algo-1\", \"Operation\": \"training\", \"epoch\": 0, \"model\": 27}, \"Metrics\": {\"validation_binary_classification_cross_entropy_objective\": {\"sum\": 0.5138463849064882, \"count\": 1, \"min\": 0.5138463849064882, \"max\": 0.5138463849064882}}}\u001b[0m\n",
      "\u001b[34m#metrics {\"StartTime\": 1730635903.129712, \"EndTime\": 1730635903.1297195, \"Dimensions\": {\"Algorithm\": \"Linear Learner\", \"Host\": \"algo-1\", \"Operation\": \"training\", \"epoch\": 0, \"model\": 28}, \"Metrics\": {\"validation_binary_classification_cross_entropy_objective\": {\"sum\": 0.5137371186098582, \"count\": 1, \"min\": 0.5137371186098582, \"max\": 0.5137371186098582}}}\u001b[0m\n",
      "\u001b[34m#metrics {\"StartTime\": 1730635903.1297367, \"EndTime\": 1730635903.129744, \"Dimensions\": {\"Algorithm\": \"Linear Learner\", \"Host\": \"algo-1\", \"Operation\": \"training\", \"epoch\": 0, \"model\": 29}, \"Metrics\": {\"validation_binary_classification_cross_entropy_objective\": {\"sum\": 0.5158894785972228, \"count\": 1, \"min\": 0.5158894785972228, \"max\": 0.5158894785972228}}}\u001b[0m\n",
      "\u001b[34m#metrics {\"StartTime\": 1730635903.129772, \"EndTime\": 1730635903.1297798, \"Dimensions\": {\"Algorithm\": \"Linear Learner\", \"Host\": \"algo-1\", \"Operation\": \"training\", \"epoch\": 0, \"model\": 30}, \"Metrics\": {\"validation_binary_classification_cross_entropy_objective\": {\"sum\": 0.5137362815277836, \"count\": 1, \"min\": 0.5137362815277836, \"max\": 0.5137362815277836}}}\u001b[0m\n",
      "\u001b[34m#metrics {\"StartTime\": 1730635903.1298084, \"EndTime\": 1730635903.129816, \"Dimensions\": {\"Algorithm\": \"Linear Learner\", \"Host\": \"algo-1\", \"Operation\": \"training\", \"epoch\": 0, \"model\": 31}, \"Metrics\": {\"validation_binary_classification_cross_entropy_objective\": {\"sum\": 0.5158894851276945, \"count\": 1, \"min\": 0.5158894851276945, \"max\": 0.5158894851276945}}}\u001b[0m\n",
      "\u001b[34m[11/03/2024 12:11:43 INFO 140606159963968] #quality_metric: host=algo-1, epoch=0, validation binary_classification_cross_entropy_objective <loss>=0.4948044724758249\u001b[0m\n",
      "\u001b[34m[11/03/2024 12:11:43 INFO 140606159963968] #early_stopping_criteria_metric: host=algo-1, epoch=0, criteria=sampled_accuracy, value=0.7903545312996765\u001b[0m\n",
      "\u001b[34m[11/03/2024 12:11:43 INFO 140606159963968] Epoch 0: Loss improved. Updating best model\u001b[0m\n",
      "\u001b[34m[11/03/2024 12:11:43 INFO 140606159963968] Saving model for epoch: 0\u001b[0m\n",
      "\u001b[34m[11/03/2024 12:11:43 INFO 140606159963968] Saved checkpoint to \"/tmp/tmpdvxihu77/mx-mod-0000.params\"\u001b[0m\n",
      "\u001b[34m[11/03/2024 12:11:43 INFO 140606159963968] #progress_metric: host=algo-1, completed 20.0 % of epochs\u001b[0m\n",
      "\u001b[34m#metrics {\"StartTime\": 1730635784.6379788, \"EndTime\": 1730635903.135201, \"Dimensions\": {\"Algorithm\": \"Linear Learner\", \"Host\": \"algo-1\", \"Operation\": \"training\", \"epoch\": 0, \"Meta\": \"training_data_iter\"}, \"Metrics\": {\"Total Records Seen\": {\"sum\": 1155313.0, \"count\": 1, \"min\": 1155313, \"max\": 1155313}, \"Total Batches Seen\": {\"sum\": 5777.0, \"count\": 1, \"min\": 5777, \"max\": 5777}, \"Max Records Seen Between Resets\": {\"sum\": 1144913.0, \"count\": 1, \"min\": 1144913, \"max\": 1144913}, \"Max Batches Seen Between Resets\": {\"sum\": 5725.0, \"count\": 1, \"min\": 5725, \"max\": 5725}, \"Reset Count\": {\"sum\": 3.0, \"count\": 1, \"min\": 3, \"max\": 3}, \"Number of Records Since Last Reset\": {\"sum\": 1144913.0, \"count\": 1, \"min\": 1144913, \"max\": 1144913}, \"Number of Batches Since Last Reset\": {\"sum\": 5725.0, \"count\": 1, \"min\": 5725, \"max\": 5725}}}\u001b[0m\n",
      "\u001b[34m[11/03/2024 12:11:43 INFO 140606159963968] #throughput_metric: host=algo-1, train throughput=9661.930686218531 records/second\u001b[0m\n",
      "\u001b[34m[2024-11-03 12:13:24.604] [tensorio] [info] epoch_stats={\"data_pipeline\": \"/opt/ml/input/data/train\", \"epoch\": 5, \"duration\": 101466, \"num_examples\": 5725, \"num_bytes\": 393850072}\u001b[0m\n",
      "\u001b[34m#metrics {\"StartTime\": 1730636004.6041567, \"EndTime\": 1730636004.6042142, \"Dimensions\": {\"Algorithm\": \"Linear Learner\", \"Host\": \"algo-1\", \"Operation\": \"training\", \"epoch\": 1, \"model\": 0}, \"Metrics\": {\"train_binary_classification_cross_entropy_objective\": {\"sum\": 0.4952645114482824, \"count\": 1, \"min\": 0.4952645114482824, \"max\": 0.4952645114482824}}}\u001b[0m\n",
      "\u001b[34m#metrics {\"StartTime\": 1730636004.6042829, \"EndTime\": 1730636004.6042967, \"Dimensions\": {\"Algorithm\": \"Linear Learner\", \"Host\": \"algo-1\", \"Operation\": \"training\", \"epoch\": 1, \"model\": 1}, \"Metrics\": {\"train_binary_classification_cross_entropy_objective\": {\"sum\": 0.496551674623576, \"count\": 1, \"min\": 0.496551674623576, \"max\": 0.496551674623576}}}\u001b[0m\n",
      "\u001b[34m#metrics {\"StartTime\": 1730636004.604331, \"EndTime\": 1730636004.6043406, \"Dimensions\": {\"Algorithm\": \"Linear Learner\", \"Host\": \"algo-1\", \"Operation\": \"training\", \"epoch\": 1, \"model\": 2}, \"Metrics\": {\"train_binary_classification_cross_entropy_objective\": {\"sum\": 0.49531969015120125, \"count\": 1, \"min\": 0.49531969015120125, \"max\": 0.49531969015120125}}}\u001b[0m\n",
      "\u001b[34m#metrics {\"StartTime\": 1730636004.6043718, \"EndTime\": 1730636004.6043794, \"Dimensions\": {\"Algorithm\": \"Linear Learner\", \"Host\": \"algo-1\", \"Operation\": \"training\", \"epoch\": 1, \"model\": 3}, \"Metrics\": {\"train_binary_classification_cross_entropy_objective\": {\"sum\": 0.49655165746276986, \"count\": 1, \"min\": 0.49655165746276986, \"max\": 0.49655165746276986}}}\u001b[0m\n",
      "\u001b[34m#metrics {\"StartTime\": 1730636004.6044142, \"EndTime\": 1730636004.604422, \"Dimensions\": {\"Algorithm\": \"Linear Learner\", \"Host\": \"algo-1\", \"Operation\": \"training\", \"epoch\": 1, \"model\": 4}, \"Metrics\": {\"train_binary_classification_cross_entropy_objective\": {\"sum\": 0.49532358192214593, \"count\": 1, \"min\": 0.49532358192214593, \"max\": 0.49532358192214593}}}\u001b[0m\n",
      "\u001b[34m#metrics {\"StartTime\": 1730636004.6044538, \"EndTime\": 1730636004.6044621, \"Dimensions\": {\"Algorithm\": \"Linear Learner\", \"Host\": \"algo-1\", \"Operation\": \"training\", \"epoch\": 1, \"model\": 5}, \"Metrics\": {\"train_binary_classification_cross_entropy_objective\": {\"sum\": 0.5199871043239249, \"count\": 1, \"min\": 0.5199871043239249, \"max\": 0.5199871043239249}}}\u001b[0m\n",
      "\u001b[34m#metrics {\"StartTime\": 1730636004.6044908, \"EndTime\": 1730636004.6044989, \"Dimensions\": {\"Algorithm\": \"Linear Learner\", \"Host\": \"algo-1\", \"Operation\": \"training\", \"epoch\": 1, \"model\": 6}, \"Metrics\": {\"train_binary_classification_cross_entropy_objective\": {\"sum\": 0.49533413239911583, \"count\": 1, \"min\": 0.49533413239911583, \"max\": 0.49533413239911583}}}\u001b[0m\n",
      "\u001b[34m#metrics {\"StartTime\": 1730636004.6045363, \"EndTime\": 1730636004.6045454, \"Dimensions\": {\"Algorithm\": \"Linear Learner\", \"Host\": \"algo-1\", \"Operation\": \"training\", \"epoch\": 1, \"model\": 7}, \"Metrics\": {\"train_binary_classification_cross_entropy_objective\": {\"sum\": 0.5199871045038635, \"count\": 1, \"min\": 0.5199871045038635, \"max\": 0.5199871045038635}}}\u001b[0m\n",
      "\u001b[34m#metrics {\"StartTime\": 1730636004.60458, \"EndTime\": 1730636004.6045876, \"Dimensions\": {\"Algorithm\": \"Linear Learner\", \"Host\": \"algo-1\", \"Operation\": \"training\", \"epoch\": 1, \"model\": 8}, \"Metrics\": {\"train_binary_classification_cross_entropy_objective\": {\"sum\": 0.49539376053586864, \"count\": 1, \"min\": 0.49539376053586864, \"max\": 0.49539376053586864}}}\u001b[0m\n",
      "\u001b[34m#metrics {\"StartTime\": 1730636004.6046307, \"EndTime\": 1730636004.604638, \"Dimensions\": {\"Algorithm\": \"Linear Learner\", \"Host\": \"algo-1\", \"Operation\": \"training\", \"epoch\": 1, \"model\": 9}, \"Metrics\": {\"train_binary_classification_cross_entropy_objective\": {\"sum\": 0.4966320755530037, \"count\": 1, \"min\": 0.4966320755530037, \"max\": 0.4966320755530037}}}\u001b[0m\n",
      "\u001b[34m#metrics {\"StartTime\": 1730636004.6046822, \"EndTime\": 1730636004.6046903, \"Dimensions\": {\"Algorithm\": \"Linear Learner\", \"Host\": \"algo-1\", \"Operation\": \"training\", \"epoch\": 1, \"model\": 10}, \"Metrics\": {\"train_binary_classification_cross_entropy_objective\": {\"sum\": 0.49545703468082836, \"count\": 1, \"min\": 0.49545703468082836, \"max\": 0.49545703468082836}}}\u001b[0m\n",
      "\u001b[34m#metrics {\"StartTime\": 1730636004.6047294, \"EndTime\": 1730636004.6047366, \"Dimensions\": {\"Algorithm\": \"Linear Learner\", \"Host\": \"algo-1\", \"Operation\": \"training\", \"epoch\": 1, \"model\": 11}, \"Metrics\": {\"train_binary_classification_cross_entropy_objective\": {\"sum\": 0.4966320758129149, \"count\": 1, \"min\": 0.4966320758129149, \"max\": 0.4966320758129149}}}\u001b[0m\n",
      "\u001b[34m#metrics {\"StartTime\": 1730636004.6047688, \"EndTime\": 1730636004.6047766, \"Dimensions\": {\"Algorithm\": \"Linear Learner\", \"Host\": \"algo-1\", \"Operation\": \"training\", \"epoch\": 1, \"model\": 12}, \"Metrics\": {\"train_binary_classification_cross_entropy_objective\": {\"sum\": 0.4954778016621545, \"count\": 1, \"min\": 0.4954778016621545, \"max\": 0.4954778016621545}}}\u001b[0m\n",
      "\u001b[34m#metrics {\"StartTime\": 1730636004.6048079, \"EndTime\": 1730636004.6048167, \"Dimensions\": {\"Algorithm\": \"Linear Learner\", \"Host\": \"algo-1\", \"Operation\": \"training\", \"epoch\": 1, \"model\": 13}, \"Metrics\": {\"train_binary_classification_cross_entropy_objective\": {\"sum\": 0.5185851398537328, \"count\": 1, \"min\": 0.5185851398537328, \"max\": 0.5185851398537328}}}\u001b[0m\n",
      "\u001b[34m#metrics {\"StartTime\": 1730636004.604842, \"EndTime\": 1730636004.6048496, \"Dimensions\": {\"Algorithm\": \"Linear Learner\", \"Host\": \"algo-1\", \"Operation\": \"training\", \"epoch\": 1, \"model\": 14}, \"Metrics\": {\"train_binary_classification_cross_entropy_objective\": {\"sum\": 0.4954805755815166, \"count\": 1, \"min\": 0.4954805755815166, \"max\": 0.4954805755815166}}}\u001b[0m\n",
      "\u001b[34m#metrics {\"StartTime\": 1730636004.6048794, \"EndTime\": 1730636004.6048865, \"Dimensions\": {\"Algorithm\": \"Linear Learner\", \"Host\": \"algo-1\", \"Operation\": \"training\", \"epoch\": 1, \"model\": 15}, \"Metrics\": {\"train_binary_classification_cross_entropy_objective\": {\"sum\": 0.5185851406467952, \"count\": 1, \"min\": 0.5185851406467952, \"max\": 0.5185851406467952}}}\u001b[0m\n",
      "\u001b[34m#metrics {\"StartTime\": 1730636004.604913, \"EndTime\": 1730636004.604921, \"Dimensions\": {\"Algorithm\": \"Linear Learner\", \"Host\": \"algo-1\", \"Operation\": \"training\", \"epoch\": 1, \"model\": 16}, \"Metrics\": {\"train_binary_classification_cross_entropy_objective\": {\"sum\": 0.5082371851083367, \"count\": 1, \"min\": 0.5082371851083367, \"max\": 0.5082371851083367}}}\u001b[0m\n",
      "\u001b[34m#metrics {\"StartTime\": 1730636004.6049457, \"EndTime\": 1730636004.6049535, \"Dimensions\": {\"Algorithm\": \"Linear Learner\", \"Host\": \"algo-1\", \"Operation\": \"training\", \"epoch\": 1, \"model\": 17}, \"Metrics\": {\"train_binary_classification_cross_entropy_objective\": {\"sum\": 0.508593452314994, \"count\": 1, \"min\": 0.508593452314994, \"max\": 0.508593452314994}}}\u001b[0m\n",
      "\u001b[34m#metrics {\"StartTime\": 1730636004.6049788, \"EndTime\": 1730636004.6049862, \"Dimensions\": {\"Algorithm\": \"Linear Learner\", \"Host\": \"algo-1\", \"Operation\": \"training\", \"epoch\": 1, \"model\": 18}, \"Metrics\": {\"train_binary_classification_cross_entropy_objective\": {\"sum\": 0.5082610336306377, \"count\": 1, \"min\": 0.5082610336306377, \"max\": 0.5082610336306377}}}\u001b[0m\n",
      "\u001b[34m#metrics {\"StartTime\": 1730636004.6050103, \"EndTime\": 1730636004.6050155, \"Dimensions\": {\"Algorithm\": \"Linear Learner\", \"Host\": \"algo-1\", \"Operation\": \"training\", \"epoch\": 1, \"model\": 19}, \"Metrics\": {\"train_binary_classification_cross_entropy_objective\": {\"sum\": 0.5085934537011872, \"count\": 1, \"min\": 0.5085934537011872, \"max\": 0.5085934537011872}}}\u001b[0m\n",
      "\u001b[34m#metrics {\"StartTime\": 1730636004.6050391, \"EndTime\": 1730636004.6050463, \"Dimensions\": {\"Algorithm\": \"Linear Learner\", \"Host\": \"algo-1\", \"Operation\": \"training\", \"epoch\": 1, \"model\": 20}, \"Metrics\": {\"train_binary_classification_cross_entropy_objective\": {\"sum\": 0.5082765295320587, \"count\": 1, \"min\": 0.5082765295320587, \"max\": 0.5082765295320587}}}\u001b[0m\n",
      "\u001b[34m#metrics {\"StartTime\": 1730636004.605067, \"EndTime\": 1730636004.605074, \"Dimensions\": {\"Algorithm\": \"Linear Learner\", \"Host\": \"algo-1\", \"Operation\": \"training\", \"epoch\": 1, \"model\": 21}, \"Metrics\": {\"train_binary_classification_cross_entropy_objective\": {\"sum\": 0.5133778649389452, \"count\": 1, \"min\": 0.5133778649389452, \"max\": 0.5133778649389452}}}\u001b[0m\n",
      "\u001b[34m#metrics {\"StartTime\": 1730636004.6051016, \"EndTime\": 1730636004.6051092, \"Dimensions\": {\"Algorithm\": \"Linear Learner\", \"Host\": \"algo-1\", \"Operation\": \"training\", \"epoch\": 1, \"model\": 22}, \"Metrics\": {\"train_binary_classification_cross_entropy_objective\": {\"sum\": 0.5082669288440653, \"count\": 1, \"min\": 0.5082669288440653, \"max\": 0.5082669288440653}}}\u001b[0m\n",
      "\u001b[34m#metrics {\"StartTime\": 1730636004.6051376, \"EndTime\": 1730636004.605145, \"Dimensions\": {\"Algorithm\": \"Linear Learner\", \"Host\": \"algo-1\", \"Operation\": \"training\", \"epoch\": 1, \"model\": 23}, \"Metrics\": {\"train_binary_classification_cross_entropy_objective\": {\"sum\": 0.5133778653054867, \"count\": 1, \"min\": 0.5133778653054867, \"max\": 0.5133778653054867}}}\u001b[0m\n",
      "\u001b[34m#metrics {\"StartTime\": 1730636004.6051738, \"EndTime\": 1730636004.605181, \"Dimensions\": {\"Algorithm\": \"Linear Learner\", \"Host\": \"algo-1\", \"Operation\": \"training\", \"epoch\": 1, \"model\": 24}, \"Metrics\": {\"train_binary_classification_cross_entropy_objective\": {\"sum\": 0.5137667332055433, \"count\": 1, \"min\": 0.5137667332055433, \"max\": 0.5137667332055433}}}\u001b[0m\n",
      "\u001b[34m#metrics {\"StartTime\": 1730636004.6052022, \"EndTime\": 1730636004.6052094, \"Dimensions\": {\"Algorithm\": \"Linear Learner\", \"Host\": \"algo-1\", \"Operation\": \"training\", \"epoch\": 1, \"model\": 25}, \"Metrics\": {\"train_binary_classification_cross_entropy_objective\": {\"sum\": 0.5139406731376941, \"count\": 1, \"min\": 0.5139406731376941, \"max\": 0.5139406731376941}}}\u001b[0m\n",
      "\u001b[34m#metrics {\"StartTime\": 1730636004.6052358, \"EndTime\": 1730636004.6052444, \"Dimensions\": {\"Algorithm\": \"Linear Learner\", \"Host\": \"algo-1\", \"Operation\": \"training\", \"epoch\": 1, \"model\": 26}, \"Metrics\": {\"train_binary_classification_cross_entropy_objective\": {\"sum\": 0.5137760334628017, \"count\": 1, \"min\": 0.5137760334628017, \"max\": 0.5137760334628017}}}\u001b[0m\n",
      "\u001b[34m#metrics {\"StartTime\": 1730636004.6052709, \"EndTime\": 1730636004.6052759, \"Dimensions\": {\"Algorithm\": \"Linear Learner\", \"Host\": \"algo-1\", \"Operation\": \"training\", \"epoch\": 1, \"model\": 27}, \"Metrics\": {\"train_binary_classification_cross_entropy_objective\": {\"sum\": 0.5139406381096563, \"count\": 1, \"min\": 0.5139406381096563, \"max\": 0.5139406381096563}}}\u001b[0m\n",
      "\u001b[34m#metrics {\"StartTime\": 1730636004.6052969, \"EndTime\": 1730636004.6053042, \"Dimensions\": {\"Algorithm\": \"Linear Learner\", \"Host\": \"algo-1\", \"Operation\": \"training\", \"epoch\": 1, \"model\": 28}, \"Metrics\": {\"train_binary_classification_cross_entropy_objective\": {\"sum\": 0.5137715691273901, \"count\": 1, \"min\": 0.5137715691273901, \"max\": 0.5137715691273901}}}\u001b[0m\n",
      "\u001b[34m#metrics {\"StartTime\": 1730636004.6053295, \"EndTime\": 1730636004.6053355, \"Dimensions\": {\"Algorithm\": \"Linear Learner\", \"Host\": \"algo-1\", \"Operation\": \"training\", \"epoch\": 1, \"model\": 29}, \"Metrics\": {\"train_binary_classification_cross_entropy_objective\": {\"sum\": 0.5161001056561847, \"count\": 1, \"min\": 0.5161001056561847, \"max\": 0.5161001056561847}}}\u001b[0m\n",
      "\u001b[34m#metrics {\"StartTime\": 1730636004.60536, \"EndTime\": 1730636004.605366, \"Dimensions\": {\"Algorithm\": \"Linear Learner\", \"Host\": \"algo-1\", \"Operation\": \"training\", \"epoch\": 1, \"model\": 30}, \"Metrics\": {\"train_binary_classification_cross_entropy_objective\": {\"sum\": 0.5137778701622281, \"count\": 1, \"min\": 0.5137778701622281, \"max\": 0.5137778701622281}}}\u001b[0m\n",
      "\u001b[34m#metrics {\"StartTime\": 1730636004.6053936, \"EndTime\": 1730636004.605401, \"Dimensions\": {\"Algorithm\": \"Linear Learner\", \"Host\": \"algo-1\", \"Operation\": \"training\", \"epoch\": 1, \"model\": 31}, \"Metrics\": {\"train_binary_classification_cross_entropy_objective\": {\"sum\": 0.5161001059894041, \"count\": 1, \"min\": 0.5161001059894041, \"max\": 0.5161001059894041}}}\u001b[0m\n",
      "\u001b[34m[11/03/2024 12:13:24 INFO 140606159963968] #quality_metric: host=algo-1, epoch=1, train binary_classification_cross_entropy_objective <loss>=0.4952645114482824\u001b[0m\n",
      "\u001b[34m[2024-11-03 12:13:39.866] [tensorio] [info] epoch_stats={\"data_pipeline\": \"/opt/ml/input/data/validation\", \"epoch\": 5, \"duration\": 15249, \"num_examples\": 1227, \"num_bytes\": 84396272}\u001b[0m\n",
      "\u001b[34m#metrics {\"StartTime\": 1730636022.0487952, \"EndTime\": 1730636022.0488553, \"Dimensions\": {\"Algorithm\": \"Linear Learner\", \"Host\": \"algo-1\", \"Operation\": \"training\", \"epoch\": 1, \"model\": 0}, \"Metrics\": {\"validation_binary_classification_cross_entropy_objective\": {\"sum\": 0.4947902680158601, \"count\": 1, \"min\": 0.4947902680158601, \"max\": 0.4947902680158601}}}\u001b[0m\n",
      "\u001b[34m#metrics {\"StartTime\": 1730636022.0489259, \"EndTime\": 1730636022.0489364, \"Dimensions\": {\"Algorithm\": \"Linear Learner\", \"Host\": \"algo-1\", \"Operation\": \"training\", \"epoch\": 1, \"model\": 1}, \"Metrics\": {\"validation_binary_classification_cross_entropy_objective\": {\"sum\": 0.49568863060575286, \"count\": 1, \"min\": 0.49568863060575286, \"max\": 0.49568863060575286}}}\u001b[0m\n",
      "\u001b[34m#metrics {\"StartTime\": 1730636022.048962, \"EndTime\": 1730636022.0489702, \"Dimensions\": {\"Algorithm\": \"Linear Learner\", \"Host\": \"algo-1\", \"Operation\": \"training\", \"epoch\": 1, \"model\": 2}, \"Metrics\": {\"validation_binary_classification_cross_entropy_objective\": {\"sum\": 0.4948023845285537, \"count\": 1, \"min\": 0.4948023845285537, \"max\": 0.4948023845285537}}}\u001b[0m\n",
      "\u001b[34m#metrics {\"StartTime\": 1730636022.0489972, \"EndTime\": 1730636022.0490048, \"Dimensions\": {\"Algorithm\": \"Linear Learner\", \"Host\": \"algo-1\", \"Operation\": \"training\", \"epoch\": 1, \"model\": 3}, \"Metrics\": {\"validation_binary_classification_cross_entropy_objective\": {\"sum\": 0.49568862500820576, \"count\": 1, \"min\": 0.49568862500820576, \"max\": 0.49568862500820576}}}\u001b[0m\n",
      "\u001b[34m#metrics {\"StartTime\": 1730636022.0490348, \"EndTime\": 1730636022.0490427, \"Dimensions\": {\"Algorithm\": \"Linear Learner\", \"Host\": \"algo-1\", \"Operation\": \"training\", \"epoch\": 1, \"model\": 4}, \"Metrics\": {\"validation_binary_classification_cross_entropy_objective\": {\"sum\": 0.4947756361520752, \"count\": 1, \"min\": 0.4947756361520752, \"max\": 0.4947756361520752}}}\u001b[0m\n",
      "\u001b[34m#metrics {\"StartTime\": 1730636022.04907, \"EndTime\": 1730636022.0491078, \"Dimensions\": {\"Algorithm\": \"Linear Learner\", \"Host\": \"algo-1\", \"Operation\": \"training\", \"epoch\": 1, \"model\": 5}, \"Metrics\": {\"validation_binary_classification_cross_entropy_objective\": {\"sum\": 0.5099957577322317, \"count\": 1, \"min\": 0.5099957577322317, \"max\": 0.5099957577322317}}}\u001b[0m\n",
      "\u001b[34m#metrics {\"StartTime\": 1730636022.0491433, \"EndTime\": 1730636022.0491517, \"Dimensions\": {\"Algorithm\": \"Linear Learner\", \"Host\": \"algo-1\", \"Operation\": \"training\", \"epoch\": 1, \"model\": 6}, \"Metrics\": {\"validation_binary_classification_cross_entropy_objective\": {\"sum\": 0.49478824524891546, \"count\": 1, \"min\": 0.49478824524891546, \"max\": 0.49478824524891546}}}\u001b[0m\n",
      "\u001b[34m#metrics {\"StartTime\": 1730636022.0491822, \"EndTime\": 1730636022.0491903, \"Dimensions\": {\"Algorithm\": \"Linear Learner\", \"Host\": \"algo-1\", \"Operation\": \"training\", \"epoch\": 1, \"model\": 7}, \"Metrics\": {\"validation_binary_classification_cross_entropy_objective\": {\"sum\": 0.5099957569858921, \"count\": 1, \"min\": 0.5099957569858921, \"max\": 0.5099957569858921}}}\u001b[0m\n",
      "\u001b[34m#metrics {\"StartTime\": 1730636022.049215, \"EndTime\": 1730636022.0492234, \"Dimensions\": {\"Algorithm\": \"Linear Learner\", \"Host\": \"algo-1\", \"Operation\": \"training\", \"epoch\": 1, \"model\": 8}, \"Metrics\": {\"validation_binary_classification_cross_entropy_objective\": {\"sum\": 0.4949439913378212, \"count\": 1, \"min\": 0.4949439913378212, \"max\": 0.4949439913378212}}}\u001b[0m\n",
      "\u001b[34m#metrics {\"StartTime\": 1730636022.0492513, \"EndTime\": 1730636022.0492606, \"Dimensions\": {\"Algorithm\": \"Linear Learner\", \"Host\": \"algo-1\", \"Operation\": \"training\", \"epoch\": 1, \"model\": 9}, \"Metrics\": {\"validation_binary_classification_cross_entropy_objective\": {\"sum\": 0.495798450872963, \"count\": 1, \"min\": 0.495798450872963, \"max\": 0.495798450872963}}}\u001b[0m\n",
      "\u001b[34m#metrics {\"StartTime\": 1730636022.0492854, \"EndTime\": 1730636022.049294, \"Dimensions\": {\"Algorithm\": \"Linear Learner\", \"Host\": \"algo-1\", \"Operation\": \"training\", \"epoch\": 1, \"model\": 10}, \"Metrics\": {\"validation_binary_classification_cross_entropy_objective\": {\"sum\": 0.49494981263133986, \"count\": 1, \"min\": 0.49494981263133986, \"max\": 0.49494981263133986}}}\u001b[0m\n",
      "\u001b[34m#metrics {\"StartTime\": 1730636022.0493202, \"EndTime\": 1730636022.0493283, \"Dimensions\": {\"Algorithm\": \"Linear Learner\", \"Host\": \"algo-1\", \"Operation\": \"training\", \"epoch\": 1, \"model\": 11}, \"Metrics\": {\"validation_binary_classification_cross_entropy_objective\": {\"sum\": 0.4957984495046737, \"count\": 1, \"min\": 0.4957984495046737, \"max\": 0.4957984495046737}}}\u001b[0m\n",
      "\u001b[34m#metrics {\"StartTime\": 1730636022.0493555, \"EndTime\": 1730636022.0493636, \"Dimensions\": {\"Algorithm\": \"Linear Learner\", \"Host\": \"algo-1\", \"Operation\": \"training\", \"epoch\": 1, \"model\": 12}, \"Metrics\": {\"validation_binary_classification_cross_entropy_objective\": {\"sum\": 0.49496032672178003, \"count\": 1, \"min\": 0.49496032672178003, \"max\": 0.49496032672178003}}}\u001b[0m\n",
      "\u001b[34m#metrics {\"StartTime\": 1730636022.0493984, \"EndTime\": 1730636022.0494065, \"Dimensions\": {\"Algorithm\": \"Linear Learner\", \"Host\": \"algo-1\", \"Operation\": \"training\", \"epoch\": 1, \"model\": 13}, \"Metrics\": {\"validation_binary_classification_cross_entropy_objective\": {\"sum\": 0.5085346219840297, \"count\": 1, \"min\": 0.5085346219840297, \"max\": 0.5085346219840297}}}\u001b[0m\n",
      "\u001b[34m#metrics {\"StartTime\": 1730636022.049442, \"EndTime\": 1730636022.0494494, \"Dimensions\": {\"Algorithm\": \"Linear Learner\", \"Host\": \"algo-1\", \"Operation\": \"training\", \"epoch\": 1, \"model\": 14}, \"Metrics\": {\"validation_binary_classification_cross_entropy_objective\": {\"sum\": 0.49494916493294294, \"count\": 1, \"min\": 0.49494916493294294, \"max\": 0.49494916493294294}}}\u001b[0m\n",
      "\u001b[34m#metrics {\"StartTime\": 1730636022.0494783, \"EndTime\": 1730636022.0494866, \"Dimensions\": {\"Algorithm\": \"Linear Learner\", \"Host\": \"algo-1\", \"Operation\": \"training\", \"epoch\": 1, \"model\": 15}, \"Metrics\": {\"validation_binary_classification_cross_entropy_objective\": {\"sum\": 0.5085346197139133, \"count\": 1, \"min\": 0.5085346197139133, \"max\": 0.5085346197139133}}}\u001b[0m\n",
      "\u001b[34m#metrics {\"StartTime\": 1730636022.0495162, \"EndTime\": 1730636022.0495248, \"Dimensions\": {\"Algorithm\": \"Linear Learner\", \"Host\": \"algo-1\", \"Operation\": \"training\", \"epoch\": 1, \"model\": 16}, \"Metrics\": {\"validation_binary_classification_cross_entropy_objective\": {\"sum\": 0.5081002177781185, \"count\": 1, \"min\": 0.5081002177781185, \"max\": 0.5081002177781185}}}\u001b[0m\n",
      "\u001b[34m#metrics {\"StartTime\": 1730636022.0495539, \"EndTime\": 1730636022.0495608, \"Dimensions\": {\"Algorithm\": \"Linear Learner\", \"Host\": \"algo-1\", \"Operation\": \"training\", \"epoch\": 1, \"model\": 17}, \"Metrics\": {\"validation_binary_classification_cross_entropy_objective\": {\"sum\": 0.5080564831162435, \"count\": 1, \"min\": 0.5080564831162435, \"max\": 0.5080564831162435}}}\u001b[0m\n",
      "\u001b[34m#metrics {\"StartTime\": 1730636022.049583, \"EndTime\": 1730636022.0495903, \"Dimensions\": {\"Algorithm\": \"Linear Learner\", \"Host\": \"algo-1\", \"Operation\": \"training\", \"epoch\": 1, \"model\": 18}, \"Metrics\": {\"validation_binary_classification_cross_entropy_objective\": {\"sum\": 0.5080859160763214, \"count\": 1, \"min\": 0.5080859160763214, \"max\": 0.5080859160763214}}}\u001b[0m\n",
      "\u001b[34m#metrics {\"StartTime\": 1730636022.0496185, \"EndTime\": 1730636022.049627, \"Dimensions\": {\"Algorithm\": \"Linear Learner\", \"Host\": \"algo-1\", \"Operation\": \"training\", \"epoch\": 1, \"model\": 19}, \"Metrics\": {\"validation_binary_classification_cross_entropy_objective\": {\"sum\": 0.5080564836759982, \"count\": 1, \"min\": 0.5080564836759982, \"max\": 0.5080564836759982}}}\u001b[0m\n",
      "\u001b[34m#metrics {\"StartTime\": 1730636022.0496569, \"EndTime\": 1730636022.0496652, \"Dimensions\": {\"Algorithm\": \"Linear Learner\", \"Host\": \"algo-1\", \"Operation\": \"training\", \"epoch\": 1, \"model\": 20}, \"Metrics\": {\"validation_binary_classification_cross_entropy_objective\": {\"sum\": 0.5080976159138266, \"count\": 1, \"min\": 0.5080976159138266, \"max\": 0.5080976159138266}}}\u001b[0m\n",
      "\u001b[34m#metrics {\"StartTime\": 1730636022.049699, \"EndTime\": 1730636022.0497067, \"Dimensions\": {\"Algorithm\": \"Linear Learner\", \"Host\": \"algo-1\", \"Operation\": \"training\", \"epoch\": 1, \"model\": 21}, \"Metrics\": {\"validation_binary_classification_cross_entropy_objective\": {\"sum\": 0.5092070476386229, \"count\": 1, \"min\": 0.5092070476386229, \"max\": 0.5092070476386229}}}\u001b[0m\n",
      "\u001b[34m#metrics {\"StartTime\": 1730636022.049736, \"EndTime\": 1730636022.049744, \"Dimensions\": {\"Algorithm\": \"Linear Learner\", \"Host\": \"algo-1\", \"Operation\": \"training\", \"epoch\": 1, \"model\": 22}, \"Metrics\": {\"validation_binary_classification_cross_entropy_objective\": {\"sum\": 0.5080859149568119, \"count\": 1, \"min\": 0.5080859149568119, \"max\": 0.5080859149568119}}}\u001b[0m\n",
      "\u001b[34m#metrics {\"StartTime\": 1730636022.049771, \"EndTime\": 1730636022.0497787, \"Dimensions\": {\"Algorithm\": \"Linear Learner\", \"Host\": \"algo-1\", \"Operation\": \"training\", \"epoch\": 1, \"model\": 23}, \"Metrics\": {\"validation_binary_classification_cross_entropy_objective\": {\"sum\": 0.5092070485715474, \"count\": 1, \"min\": 0.5092070485715474, \"max\": 0.5092070485715474}}}\u001b[0m\n",
      "\u001b[34m#metrics {\"StartTime\": 1730636022.0498044, \"EndTime\": 1730636022.0498126, \"Dimensions\": {\"Algorithm\": \"Linear Learner\", \"Host\": \"algo-1\", \"Operation\": \"training\", \"epoch\": 1, \"model\": 24}, \"Metrics\": {\"validation_binary_classification_cross_entropy_objective\": {\"sum\": 0.5137638774972861, \"count\": 1, \"min\": 0.5137638774972861, \"max\": 0.5137638774972861}}}\u001b[0m\n",
      "\u001b[34m#metrics {\"StartTime\": 1730636022.04984, \"EndTime\": 1730636022.0498483, \"Dimensions\": {\"Algorithm\": \"Linear Learner\", \"Host\": \"algo-1\", \"Operation\": \"training\", \"epoch\": 1, \"model\": 25}, \"Metrics\": {\"validation_binary_classification_cross_entropy_objective\": {\"sum\": 0.5139129676983976, \"count\": 1, \"min\": 0.5139129676983976, \"max\": 0.5139129676983976}}}\u001b[0m\n",
      "\u001b[34m#metrics {\"StartTime\": 1730636022.049876, \"EndTime\": 1730636022.0498843, \"Dimensions\": {\"Algorithm\": \"Linear Learner\", \"Host\": \"algo-1\", \"Operation\": \"training\", \"epoch\": 1, \"model\": 26}, \"Metrics\": {\"validation_binary_classification_cross_entropy_objective\": {\"sum\": 0.5137478406491739, \"count\": 1, \"min\": 0.5137478406491739, \"max\": 0.5137478406491739}}}\u001b[0m\n",
      "\u001b[34m#metrics {\"StartTime\": 1730636022.0499098, \"EndTime\": 1730636022.0499313, \"Dimensions\": {\"Algorithm\": \"Linear Learner\", \"Host\": \"algo-1\", \"Operation\": \"training\", \"epoch\": 1, \"model\": 27}, \"Metrics\": {\"validation_binary_classification_cross_entropy_objective\": {\"sum\": 0.5139129661124259, \"count\": 1, \"min\": 0.5139129661124259, \"max\": 0.5139129661124259}}}\u001b[0m\n",
      "\u001b[34m#metrics {\"StartTime\": 1730636022.0499535, \"EndTime\": 1730636022.0499613, \"Dimensions\": {\"Algorithm\": \"Linear Learner\", \"Host\": \"algo-1\", \"Operation\": \"training\", \"epoch\": 1, \"model\": 28}, \"Metrics\": {\"validation_binary_classification_cross_entropy_objective\": {\"sum\": 0.5137639404696913, \"count\": 1, \"min\": 0.5137639404696913, \"max\": 0.5137639404696913}}}\u001b[0m\n",
      "\u001b[34m#metrics {\"StartTime\": 1730636022.0499883, \"EndTime\": 1730636022.0499966, \"Dimensions\": {\"Algorithm\": \"Linear Learner\", \"Host\": \"algo-1\", \"Operation\": \"training\", \"epoch\": 1, \"model\": 29}, \"Metrics\": {\"validation_binary_classification_cross_entropy_objective\": {\"sum\": 0.5151023050613962, \"count\": 1, \"min\": 0.5151023050613962, \"max\": 0.5151023050613962}}}\u001b[0m\n",
      "\u001b[34m#metrics {\"StartTime\": 1730636022.0500264, \"EndTime\": 1730636022.0500338, \"Dimensions\": {\"Algorithm\": \"Linear Learner\", \"Host\": \"algo-1\", \"Operation\": \"training\", \"epoch\": 1, \"model\": 30}, \"Metrics\": {\"validation_binary_classification_cross_entropy_objective\": {\"sum\": 0.5137478235766552, \"count\": 1, \"min\": 0.5137478235766552, \"max\": 0.5137478235766552}}}\u001b[0m\n",
      "\u001b[34m#metrics {\"StartTime\": 1730636022.050062, \"EndTime\": 1730636022.050069, \"Dimensions\": {\"Algorithm\": \"Linear Learner\", \"Host\": \"algo-1\", \"Operation\": \"training\", \"epoch\": 1, \"model\": 31}, \"Metrics\": {\"validation_binary_classification_cross_entropy_objective\": {\"sum\": 0.5151023093839465, \"count\": 1, \"min\": 0.5151023093839465, \"max\": 0.5151023093839465}}}\u001b[0m\n",
      "\u001b[34m[11/03/2024 12:13:42 INFO 140606159963968] #quality_metric: host=algo-1, epoch=1, validation binary_classification_cross_entropy_objective <loss>=0.4947902680158601\u001b[0m\n",
      "\u001b[34m[11/03/2024 12:13:42 INFO 140606159963968] #early_stopping_criteria_metric: host=algo-1, epoch=1, criteria=sampled_accuracy, value=0.7904238234598799\u001b[0m\n",
      "\u001b[34m[11/03/2024 12:13:42 INFO 140606159963968] Epoch 1: Loss improved. Updating best model\u001b[0m\n",
      "\u001b[34m[11/03/2024 12:13:42 INFO 140606159963968] Saving model for epoch: 1\u001b[0m\n",
      "\u001b[34m[11/03/2024 12:13:42 INFO 140606159963968] Saved checkpoint to \"/tmp/tmp8jsfb1ag/mx-mod-0000.params\"\u001b[0m\n",
      "\u001b[34m[11/03/2024 12:13:42 INFO 140606159963968] #progress_metric: host=algo-1, completed 40.0 % of epochs\u001b[0m\n",
      "\u001b[34m#metrics {\"StartTime\": 1730635903.1377313, \"EndTime\": 1730636022.0556216, \"Dimensions\": {\"Algorithm\": \"Linear Learner\", \"Host\": \"algo-1\", \"Operation\": \"training\", \"epoch\": 1, \"Meta\": \"training_data_iter\"}, \"Metrics\": {\"Total Records Seen\": {\"sum\": 2300226.0, \"count\": 1, \"min\": 2300226, \"max\": 2300226}, \"Total Batches Seen\": {\"sum\": 11502.0, \"count\": 1, \"min\": 11502, \"max\": 11502}, \"Max Records Seen Between Resets\": {\"sum\": 1144913.0, \"count\": 1, \"min\": 1144913, \"max\": 1144913}, \"Max Batches Seen Between Resets\": {\"sum\": 5725.0, \"count\": 1, \"min\": 5725, \"max\": 5725}, \"Reset Count\": {\"sum\": 4.0, \"count\": 1, \"min\": 4, \"max\": 4}, \"Number of Records Since Last Reset\": {\"sum\": 1144913.0, \"count\": 1, \"min\": 1144913, \"max\": 1144913}, \"Number of Batches Since Last Reset\": {\"sum\": 5725.0, \"count\": 1, \"min\": 5725, \"max\": 5725}}}\u001b[0m\n",
      "\u001b[34m[11/03/2024 12:13:42 INFO 140606159963968] #throughput_metric: host=algo-1, train throughput=9627.751743233086 records/second\u001b[0m\n",
      "\u001b[34m[2024-11-03 12:15:25.565] [tensorio] [info] epoch_stats={\"data_pipeline\": \"/opt/ml/input/data/train\", \"epoch\": 7, \"duration\": 103495, \"num_examples\": 5725, \"num_bytes\": 393850072}\u001b[0m\n",
      "\u001b[34m#metrics {\"StartTime\": 1730636125.565846, \"EndTime\": 1730636125.5658948, \"Dimensions\": {\"Algorithm\": \"Linear Learner\", \"Host\": \"algo-1\", \"Operation\": \"training\", \"epoch\": 2, \"model\": 0}, \"Metrics\": {\"train_binary_classification_cross_entropy_objective\": {\"sum\": 0.49525540173262006, \"count\": 1, \"min\": 0.49525540173262006, \"max\": 0.49525540173262006}}}\u001b[0m\n",
      "\u001b[34m#metrics {\"StartTime\": 1730636125.5659804, \"EndTime\": 1730636125.565994, \"Dimensions\": {\"Algorithm\": \"Linear Learner\", \"Host\": \"algo-1\", \"Operation\": \"training\", \"epoch\": 2, \"model\": 1}, \"Metrics\": {\"train_binary_classification_cross_entropy_objective\": {\"sum\": 0.4959896219201558, \"count\": 1, \"min\": 0.4959896219201558, \"max\": 0.4959896219201558}}}\u001b[0m\n",
      "\u001b[34m#metrics {\"StartTime\": 1730636125.5660336, \"EndTime\": 1730636125.566044, \"Dimensions\": {\"Algorithm\": \"Linear Learner\", \"Host\": \"algo-1\", \"Operation\": \"training\", \"epoch\": 2, \"model\": 2}, \"Metrics\": {\"train_binary_classification_cross_entropy_objective\": {\"sum\": 0.49531539675741243, \"count\": 1, \"min\": 0.49531539675741243, \"max\": 0.49531539675741243}}}\u001b[0m\n",
      "\u001b[34m#metrics {\"StartTime\": 1730636125.5660748, \"EndTime\": 1730636125.5660834, \"Dimensions\": {\"Algorithm\": \"Linear Learner\", \"Host\": \"algo-1\", \"Operation\": \"training\", \"epoch\": 2, \"model\": 3}, \"Metrics\": {\"train_binary_classification_cross_entropy_objective\": {\"sum\": 0.49598962020740733, \"count\": 1, \"min\": 0.49598962020740733, \"max\": 0.49598962020740733}}}\u001b[0m\n",
      "\u001b[34m#metrics {\"StartTime\": 1730636125.5661073, \"EndTime\": 1730636125.5661147, \"Dimensions\": {\"Algorithm\": \"Linear Learner\", \"Host\": \"algo-1\", \"Operation\": \"training\", \"epoch\": 2, \"model\": 4}, \"Metrics\": {\"train_binary_classification_cross_entropy_objective\": {\"sum\": 0.4952431566143769, \"count\": 1, \"min\": 0.4952431566143769, \"max\": 0.4952431566143769}}}\u001b[0m\n",
      "\u001b[34m#metrics {\"StartTime\": 1730636125.5661397, \"EndTime\": 1730636125.5661469, \"Dimensions\": {\"Algorithm\": \"Linear Learner\", \"Host\": \"algo-1\", \"Operation\": \"training\", \"epoch\": 2, \"model\": 5}, \"Metrics\": {\"train_binary_classification_cross_entropy_objective\": {\"sum\": 0.5093131349938137, \"count\": 1, \"min\": 0.5093131349938137, \"max\": 0.5093131349938137}}}\u001b[0m\n",
      "\u001b[34m#metrics {\"StartTime\": 1730636125.5661736, \"EndTime\": 1730636125.5661814, \"Dimensions\": {\"Algorithm\": \"Linear Learner\", \"Host\": \"algo-1\", \"Operation\": \"training\", \"epoch\": 2, \"model\": 6}, \"Metrics\": {\"train_binary_classification_cross_entropy_objective\": {\"sum\": 0.4953067592604855, \"count\": 1, \"min\": 0.4953067592604855, \"max\": 0.4953067592604855}}}\u001b[0m\n",
      "\u001b[34m#metrics {\"StartTime\": 1730636125.5662084, \"EndTime\": 1730636125.5662167, \"Dimensions\": {\"Algorithm\": \"Linear Learner\", \"Host\": \"algo-1\", \"Operation\": \"training\", \"epoch\": 2, \"model\": 7}, \"Metrics\": {\"train_binary_classification_cross_entropy_objective\": {\"sum\": 0.5093131348605259, \"count\": 1, \"min\": 0.5093131348605259, \"max\": 0.5093131348605259}}}\u001b[0m\n",
      "\u001b[34m#metrics {\"StartTime\": 1730636125.56624, \"EndTime\": 1730636125.5662484, \"Dimensions\": {\"Algorithm\": \"Linear Learner\", \"Host\": \"algo-1\", \"Operation\": \"training\", \"epoch\": 2, \"model\": 8}, \"Metrics\": {\"train_binary_classification_cross_entropy_objective\": {\"sum\": 0.4953878857154766, \"count\": 1, \"min\": 0.4953878857154766, \"max\": 0.4953878857154766}}}\u001b[0m\n",
      "\u001b[34m#metrics {\"StartTime\": 1730636125.5662723, \"EndTime\": 1730636125.5662806, \"Dimensions\": {\"Algorithm\": \"Linear Learner\", \"Host\": \"algo-1\", \"Operation\": \"training\", \"epoch\": 2, \"model\": 9}, \"Metrics\": {\"train_binary_classification_cross_entropy_objective\": {\"sum\": 0.4961004823208855, \"count\": 1, \"min\": 0.4961004823208855, \"max\": 0.4961004823208855}}}\u001b[0m\n",
      "\u001b[34m#metrics {\"StartTime\": 1730636125.566309, \"EndTime\": 1730636125.5663154, \"Dimensions\": {\"Algorithm\": \"Linear Learner\", \"Host\": \"algo-1\", \"Operation\": \"training\", \"epoch\": 2, \"model\": 10}, \"Metrics\": {\"train_binary_classification_cross_entropy_objective\": {\"sum\": 0.49545447134954956, \"count\": 1, \"min\": 0.49545447134954956, \"max\": 0.49545447134954956}}}\u001b[0m\n",
      "\u001b[34m#metrics {\"StartTime\": 1730636125.5663357, \"EndTime\": 1730636125.5663428, \"Dimensions\": {\"Algorithm\": \"Linear Learner\", \"Host\": \"algo-1\", \"Operation\": \"training\", \"epoch\": 2, \"model\": 11}, \"Metrics\": {\"train_binary_classification_cross_entropy_objective\": {\"sum\": 0.496100482260906, \"count\": 1, \"min\": 0.496100482260906, \"max\": 0.496100482260906}}}\u001b[0m\n",
      "\u001b[34m#metrics {\"StartTime\": 1730636125.566373, \"EndTime\": 1730636125.5663812, \"Dimensions\": {\"Algorithm\": \"Linear Learner\", \"Host\": \"algo-1\", \"Operation\": \"training\", \"epoch\": 2, \"model\": 12}, \"Metrics\": {\"train_binary_classification_cross_entropy_objective\": {\"sum\": 0.4953979459865205, \"count\": 1, \"min\": 0.4953979459865205, \"max\": 0.4953979459865205}}}\u001b[0m\n",
      "\u001b[34m#metrics {\"StartTime\": 1730636125.5664086, \"EndTime\": 1730636125.5664167, \"Dimensions\": {\"Algorithm\": \"Linear Learner\", \"Host\": \"algo-1\", \"Operation\": \"training\", \"epoch\": 2, \"model\": 13}, \"Metrics\": {\"train_binary_classification_cross_entropy_objective\": {\"sum\": 0.5086541276474585, \"count\": 1, \"min\": 0.5086541276474585, \"max\": 0.5086541276474585}}}\u001b[0m\n",
      "\u001b[34m#metrics {\"StartTime\": 1730636125.5664463, \"EndTime\": 1730636125.5664537, \"Dimensions\": {\"Algorithm\": \"Linear Learner\", \"Host\": \"algo-1\", \"Operation\": \"training\", \"epoch\": 2, \"model\": 14}, \"Metrics\": {\"train_binary_classification_cross_entropy_objective\": {\"sum\": 0.49545334613381525, \"count\": 1, \"min\": 0.49545334613381525, \"max\": 0.49545334613381525}}}\u001b[0m\n",
      "\u001b[34m#metrics {\"StartTime\": 1730636125.5664756, \"EndTime\": 1730636125.5664804, \"Dimensions\": {\"Algorithm\": \"Linear Learner\", \"Host\": \"algo-1\", \"Operation\": \"training\", \"epoch\": 2, \"model\": 15}, \"Metrics\": {\"train_binary_classification_cross_entropy_objective\": {\"sum\": 0.5086541282739113, \"count\": 1, \"min\": 0.5086541282739113, \"max\": 0.5086541282739113}}}\u001b[0m\n",
      "\u001b[34m#metrics {\"StartTime\": 1730636125.5665, \"EndTime\": 1730636125.5665045, \"Dimensions\": {\"Algorithm\": \"Linear Learner\", \"Host\": \"algo-1\", \"Operation\": \"training\", \"epoch\": 2, \"model\": 16}, \"Metrics\": {\"train_binary_classification_cross_entropy_objective\": {\"sum\": 0.5082435761790939, \"count\": 1, \"min\": 0.5082435761790939, \"max\": 0.5082435761790939}}}\u001b[0m\n",
      "\u001b[34m#metrics {\"StartTime\": 1730636125.5665207, \"EndTime\": 1730636125.566525, \"Dimensions\": {\"Algorithm\": \"Linear Learner\", \"Host\": \"algo-1\", \"Operation\": \"training\", \"epoch\": 2, \"model\": 17}, \"Metrics\": {\"train_binary_classification_cross_entropy_objective\": {\"sum\": 0.5084464458382938, \"count\": 1, \"min\": 0.5084464458382938, \"max\": 0.5084464458382938}}}\u001b[0m\n",
      "\u001b[34m#metrics {\"StartTime\": 1730636125.5665421, \"EndTime\": 1730636125.5665464, \"Dimensions\": {\"Algorithm\": \"Linear Learner\", \"Host\": \"algo-1\", \"Operation\": \"training\", \"epoch\": 2, \"model\": 18}, \"Metrics\": {\"train_binary_classification_cross_entropy_objective\": {\"sum\": 0.5082610414812899, \"count\": 1, \"min\": 0.5082610414812899, \"max\": 0.5082610414812899}}}\u001b[0m\n",
      "\u001b[34m#metrics {\"StartTime\": 1730636125.5665703, \"EndTime\": 1730636125.566575, \"Dimensions\": {\"Algorithm\": \"Linear Learner\", \"Host\": \"algo-1\", \"Operation\": \"training\", \"epoch\": 2, \"model\": 19}, \"Metrics\": {\"train_binary_classification_cross_entropy_objective\": {\"sum\": 0.5084464454717523, \"count\": 1, \"min\": 0.5084464454717523, \"max\": 0.5084464454717523}}}\u001b[0m\n",
      "\u001b[34m#metrics {\"StartTime\": 1730636125.5665905, \"EndTime\": 1730636125.5665948, \"Dimensions\": {\"Algorithm\": \"Linear Learner\", \"Host\": \"algo-1\", \"Operation\": \"training\", \"epoch\": 2, \"model\": 20}, \"Metrics\": {\"train_binary_classification_cross_entropy_objective\": {\"sum\": 0.5082428854016637, \"count\": 1, \"min\": 0.5082428854016637, \"max\": 0.5082428854016637}}}\u001b[0m\n",
      "\u001b[34m#metrics {\"StartTime\": 1730636125.5666096, \"EndTime\": 1730636125.5666137, \"Dimensions\": {\"Algorithm\": \"Linear Learner\", \"Host\": \"algo-1\", \"Operation\": \"training\", \"epoch\": 2, \"model\": 21}, \"Metrics\": {\"train_binary_classification_cross_entropy_objective\": {\"sum\": 0.5114942620102131, \"count\": 1, \"min\": 0.5114942620102131, \"max\": 0.5114942620102131}}}\u001b[0m\n",
      "\u001b[34m#metrics {\"StartTime\": 1730636125.5666366, \"EndTime\": 1730636125.5666413, \"Dimensions\": {\"Algorithm\": \"Linear Learner\", \"Host\": \"algo-1\", \"Operation\": \"training\", \"epoch\": 2, \"model\": 22}, \"Metrics\": {\"train_binary_classification_cross_entropy_objective\": {\"sum\": 0.5082610406682343, \"count\": 1, \"min\": 0.5082610406682343, \"max\": 0.5082610406682343}}}\u001b[0m\n",
      "\u001b[34m#metrics {\"StartTime\": 1730636125.5666654, \"EndTime\": 1730636125.5666726, \"Dimensions\": {\"Algorithm\": \"Linear Learner\", \"Host\": \"algo-1\", \"Operation\": \"training\", \"epoch\": 2, \"model\": 23}, \"Metrics\": {\"train_binary_classification_cross_entropy_objective\": {\"sum\": 0.5114942618835897, \"count\": 1, \"min\": 0.5114942618835897, \"max\": 0.5114942618835897}}}\u001b[0m\n",
      "\u001b[34m#metrics {\"StartTime\": 1730636125.5666952, \"EndTime\": 1730636125.566702, \"Dimensions\": {\"Algorithm\": \"Linear Learner\", \"Host\": \"algo-1\", \"Operation\": \"training\", \"epoch\": 2, \"model\": 24}, \"Metrics\": {\"train_binary_classification_cross_entropy_objective\": {\"sum\": 0.513766720269961, \"count\": 1, \"min\": 0.513766720269961, \"max\": 0.513766720269961}}}\u001b[0m\n",
      "\u001b[34m#metrics {\"StartTime\": 1730636125.566727, \"EndTime\": 1730636125.5667348, \"Dimensions\": {\"Algorithm\": \"Linear Learner\", \"Host\": \"algo-1\", \"Operation\": \"training\", \"epoch\": 2, \"model\": 25}, \"Metrics\": {\"train_binary_classification_cross_entropy_objective\": {\"sum\": 0.5138714414072737, \"count\": 1, \"min\": 0.5138714414072737, \"max\": 0.5138714414072737}}}\u001b[0m\n",
      "\u001b[34m#metrics {\"StartTime\": 1730636125.5667613, \"EndTime\": 1730636125.566769, \"Dimensions\": {\"Algorithm\": \"Linear Learner\", \"Host\": \"algo-1\", \"Operation\": \"training\", \"epoch\": 2, \"model\": 26}, \"Metrics\": {\"train_binary_classification_cross_entropy_objective\": {\"sum\": 0.5137760239327229, \"count\": 1, \"min\": 0.5137760239327229, \"max\": 0.5137760239327229}}}\u001b[0m\n",
      "\u001b[34m#metrics {\"StartTime\": 1730636125.566791, \"EndTime\": 1730636125.566799, \"Dimensions\": {\"Algorithm\": \"Linear Learner\", \"Host\": \"algo-1\", \"Operation\": \"training\", \"epoch\": 2, \"model\": 27}, \"Metrics\": {\"train_binary_classification_cross_entropy_objective\": {\"sum\": 0.5138714412606571, \"count\": 1, \"min\": 0.5138714412606571, \"max\": 0.5138714412606571}}}\u001b[0m\n",
      "\u001b[34m#metrics {\"StartTime\": 1730636125.5668223, \"EndTime\": 1730636125.5668275, \"Dimensions\": {\"Algorithm\": \"Linear Learner\", \"Host\": \"algo-1\", \"Operation\": \"training\", \"epoch\": 2, \"model\": 28}, \"Metrics\": {\"train_binary_classification_cross_entropy_objective\": {\"sum\": 0.5137667410095449, \"count\": 1, \"min\": 0.5137667410095449, \"max\": 0.5137667410095449}}}\u001b[0m\n",
      "\u001b[34m#metrics {\"StartTime\": 1730636125.5668478, \"EndTime\": 1730636125.5668523, \"Dimensions\": {\"Algorithm\": \"Linear Learner\", \"Host\": \"algo-1\", \"Operation\": \"training\", \"epoch\": 2, \"model\": 29}, \"Metrics\": {\"train_binary_classification_cross_entropy_objective\": {\"sum\": 0.5152807774400477, \"count\": 1, \"min\": 0.5152807774400477, \"max\": 0.5152807774400477}}}\u001b[0m\n",
      "\u001b[34m#metrics {\"StartTime\": 1730636125.56687, \"EndTime\": 1730636125.5668766, \"Dimensions\": {\"Algorithm\": \"Linear Learner\", \"Host\": \"algo-1\", \"Operation\": \"training\", \"epoch\": 2, \"model\": 30}, \"Metrics\": {\"train_binary_classification_cross_entropy_objective\": {\"sum\": 0.5137760234728799, \"count\": 1, \"min\": 0.5137760234728799, \"max\": 0.5137760234728799}}}\u001b[0m\n",
      "\u001b[34m#metrics {\"StartTime\": 1730636125.5669012, \"EndTime\": 1730636125.5669086, \"Dimensions\": {\"Algorithm\": \"Linear Learner\", \"Host\": \"algo-1\", \"Operation\": \"training\", \"epoch\": 2, \"model\": 31}, \"Metrics\": {\"train_binary_classification_cross_entropy_objective\": {\"sum\": 0.5152807772134584, \"count\": 1, \"min\": 0.5152807772134584, \"max\": 0.5152807772134584}}}\u001b[0m\n",
      "\u001b[34m[11/03/2024 12:15:25 INFO 140606159963968] #quality_metric: host=algo-1, epoch=2, train binary_classification_cross_entropy_objective <loss>=0.49525540173262006\u001b[0m\n",
      "\u001b[34m[2024-11-03 12:15:40.749] [tensorio] [info] epoch_stats={\"data_pipeline\": \"/opt/ml/input/data/validation\", \"epoch\": 8, \"duration\": 15169, \"num_examples\": 1227, \"num_bytes\": 84396272}\u001b[0m\n",
      "\u001b[34m#metrics {\"StartTime\": 1730636142.9126816, \"EndTime\": 1730636142.912733, \"Dimensions\": {\"Algorithm\": \"Linear Learner\", \"Host\": \"algo-1\", \"Operation\": \"training\", \"epoch\": 2, \"model\": 0}, \"Metrics\": {\"validation_binary_classification_cross_entropy_objective\": {\"sum\": 0.4947834494260294, \"count\": 1, \"min\": 0.4947834494260294, \"max\": 0.4947834494260294}}}\u001b[0m\n",
      "\u001b[34m#metrics {\"StartTime\": 1730636142.912799, \"EndTime\": 1730636142.9128115, \"Dimensions\": {\"Algorithm\": \"Linear Learner\", \"Host\": \"algo-1\", \"Operation\": \"training\", \"epoch\": 2, \"model\": 1}, \"Metrics\": {\"validation_binary_classification_cross_entropy_objective\": {\"sum\": 0.495189093963489, \"count\": 1, \"min\": 0.495189093963489, \"max\": 0.495189093963489}}}\u001b[0m\n",
      "\u001b[34m#metrics {\"StartTime\": 1730636142.9128423, \"EndTime\": 1730636142.9128509, \"Dimensions\": {\"Algorithm\": \"Linear Learner\", \"Host\": \"algo-1\", \"Operation\": \"training\", \"epoch\": 2, \"model\": 2}, \"Metrics\": {\"validation_binary_classification_cross_entropy_objective\": {\"sum\": 0.49479922219430755, \"count\": 1, \"min\": 0.49479922219430755, \"max\": 0.49479922219430755}}}\u001b[0m\n",
      "\u001b[34m#metrics {\"StartTime\": 1730636142.9128776, \"EndTime\": 1730636142.9128864, \"Dimensions\": {\"Algorithm\": \"Linear Learner\", \"Host\": \"algo-1\", \"Operation\": \"training\", \"epoch\": 2, \"model\": 3}, \"Metrics\": {\"validation_binary_classification_cross_entropy_objective\": {\"sum\": 0.49518908870801415, \"count\": 1, \"min\": 0.49518908870801415, \"max\": 0.49518908870801415}}}\u001b[0m\n",
      "\u001b[34m#metrics {\"StartTime\": 1730636142.9129117, \"EndTime\": 1730636142.9129202, \"Dimensions\": {\"Algorithm\": \"Linear Learner\", \"Host\": \"algo-1\", \"Operation\": \"training\", \"epoch\": 2, \"model\": 4}, \"Metrics\": {\"validation_binary_classification_cross_entropy_objective\": {\"sum\": 0.49476764839013826, \"count\": 1, \"min\": 0.49476764839013826, \"max\": 0.49476764839013826}}}\u001b[0m\n",
      "\u001b[34m#metrics {\"StartTime\": 1730636142.912946, \"EndTime\": 1730636142.9129546, \"Dimensions\": {\"Algorithm\": \"Linear Learner\", \"Host\": \"algo-1\", \"Operation\": \"training\", \"epoch\": 2, \"model\": 5}, \"Metrics\": {\"validation_binary_classification_cross_entropy_objective\": {\"sum\": 0.5112128726118446, \"count\": 1, \"min\": 0.5112128726118446, \"max\": 0.5112128726118446}}}\u001b[0m\n",
      "\u001b[34m#metrics {\"StartTime\": 1730636142.912983, \"EndTime\": 1730636142.9129906, \"Dimensions\": {\"Algorithm\": \"Linear Learner\", \"Host\": \"algo-1\", \"Operation\": \"training\", \"epoch\": 2, \"model\": 6}, \"Metrics\": {\"validation_binary_classification_cross_entropy_objective\": {\"sum\": 0.49478759577796194, \"count\": 1, \"min\": 0.49478759577796194, \"max\": 0.49478759577796194}}}\u001b[0m\n",
      "\u001b[34m#metrics {\"StartTime\": 1730636142.9130182, \"EndTime\": 1730636142.9130247, \"Dimensions\": {\"Algorithm\": \"Linear Learner\", \"Host\": \"algo-1\", \"Operation\": \"training\", \"epoch\": 2, \"model\": 7}, \"Metrics\": {\"validation_binary_classification_cross_entropy_objective\": {\"sum\": 0.5112128732959892, \"count\": 1, \"min\": 0.5112128732959892, \"max\": 0.5112128732959892}}}\u001b[0m\n",
      "\u001b[34m#metrics {\"StartTime\": 1730636142.9130456, \"EndTime\": 1730636142.9130518, \"Dimensions\": {\"Algorithm\": \"Linear Learner\", \"Host\": \"algo-1\", \"Operation\": \"training\", \"epoch\": 2, \"model\": 8}, \"Metrics\": {\"validation_binary_classification_cross_entropy_objective\": {\"sum\": 0.494939864794986, \"count\": 1, \"min\": 0.494939864794986, \"max\": 0.494939864794986}}}\u001b[0m\n",
      "\u001b[34m#metrics {\"StartTime\": 1730636142.9130752, \"EndTime\": 1730636142.9130826, \"Dimensions\": {\"Algorithm\": \"Linear Learner\", \"Host\": \"algo-1\", \"Operation\": \"training\", \"epoch\": 2, \"model\": 9}, \"Metrics\": {\"validation_binary_classification_cross_entropy_objective\": {\"sum\": 0.49531684360949313, \"count\": 1, \"min\": 0.49531684360949313, \"max\": 0.49531684360949313}}}\u001b[0m\n",
      "\u001b[34m#metrics {\"StartTime\": 1730636142.9131114, \"EndTime\": 1730636142.9131198, \"Dimensions\": {\"Algorithm\": \"Linear Learner\", \"Host\": \"algo-1\", \"Operation\": \"training\", \"epoch\": 2, \"model\": 10}, \"Metrics\": {\"validation_binary_classification_cross_entropy_objective\": {\"sum\": 0.4949483857232862, \"count\": 1, \"min\": 0.4949483857232862, \"max\": 0.4949483857232862}}}\u001b[0m\n",
      "\u001b[34m#metrics {\"StartTime\": 1730636142.913142, \"EndTime\": 1730636142.9131508, \"Dimensions\": {\"Algorithm\": \"Linear Learner\", \"Host\": \"algo-1\", \"Operation\": \"training\", \"epoch\": 2, \"model\": 11}, \"Metrics\": {\"validation_binary_classification_cross_entropy_objective\": {\"sum\": 0.49531684301864093, \"count\": 1, \"min\": 0.49531684301864093, \"max\": 0.49531684301864093}}}\u001b[0m\n",
      "\u001b[34m#metrics {\"StartTime\": 1730636142.9131734, \"EndTime\": 1730636142.913181, \"Dimensions\": {\"Algorithm\": \"Linear Learner\", \"Host\": \"algo-1\", \"Operation\": \"training\", \"epoch\": 2, \"model\": 12}, \"Metrics\": {\"validation_binary_classification_cross_entropy_objective\": {\"sum\": 0.49495038317687895, \"count\": 1, \"min\": 0.49495038317687895, \"max\": 0.49495038317687895}}}\u001b[0m\n",
      "\u001b[34m#metrics {\"StartTime\": 1730636142.9132073, \"EndTime\": 1730636142.913215, \"Dimensions\": {\"Algorithm\": \"Linear Learner\", \"Host\": \"algo-1\", \"Operation\": \"training\", \"epoch\": 2, \"model\": 13}, \"Metrics\": {\"validation_binary_classification_cross_entropy_objective\": {\"sum\": 0.5102894933710652, \"count\": 1, \"min\": 0.5102894933710652, \"max\": 0.5102894933710652}}}\u001b[0m\n",
      "\u001b[34m#metrics {\"StartTime\": 1730636142.913246, \"EndTime\": 1730636142.913255, \"Dimensions\": {\"Algorithm\": \"Linear Learner\", \"Host\": \"algo-1\", \"Operation\": \"training\", \"epoch\": 2, \"model\": 14}, \"Metrics\": {\"validation_binary_classification_cross_entropy_objective\": {\"sum\": 0.4949481412970619, \"count\": 1, \"min\": 0.4949481412970619, \"max\": 0.4949481412970619}}}\u001b[0m\n",
      "\u001b[34m#metrics {\"StartTime\": 1730636142.9132776, \"EndTime\": 1730636142.913285, \"Dimensions\": {\"Algorithm\": \"Linear Learner\", \"Host\": \"algo-1\", \"Operation\": \"training\", \"epoch\": 2, \"model\": 15}, \"Metrics\": {\"validation_binary_classification_cross_entropy_objective\": {\"sum\": 0.5102894921582634, \"count\": 1, \"min\": 0.5102894921582634, \"max\": 0.5102894921582634}}}\u001b[0m\n",
      "\u001b[34m#metrics {\"StartTime\": 1730636142.913312, \"EndTime\": 1730636142.9133203, \"Dimensions\": {\"Algorithm\": \"Linear Learner\", \"Host\": \"algo-1\", \"Operation\": \"training\", \"epoch\": 2, \"model\": 16}, \"Metrics\": {\"validation_binary_classification_cross_entropy_objective\": {\"sum\": 0.5081017583785737, \"count\": 1, \"min\": 0.5081017583785737, \"max\": 0.5081017583785737}}}\u001b[0m\n",
      "\u001b[34m#metrics {\"StartTime\": 1730636142.9133494, \"EndTime\": 1730636142.9133568, \"Dimensions\": {\"Algorithm\": \"Linear Learner\", \"Host\": \"algo-1\", \"Operation\": \"training\", \"epoch\": 2, \"model\": 17}, \"Metrics\": {\"validation_binary_classification_cross_entropy_objective\": {\"sum\": 0.5080639080137199, \"count\": 1, \"min\": 0.5080639080137199, \"max\": 0.5080639080137199}}}\u001b[0m\n",
      "\u001b[34m#metrics {\"StartTime\": 1730636142.913384, \"EndTime\": 1730636142.9133923, \"Dimensions\": {\"Algorithm\": \"Linear Learner\", \"Host\": \"algo-1\", \"Operation\": \"training\", \"epoch\": 2, \"model\": 18}, \"Metrics\": {\"validation_binary_classification_cross_entropy_objective\": {\"sum\": 0.5080859158897364, \"count\": 1, \"min\": 0.5080859158897364, \"max\": 0.5080859158897364}}}\u001b[0m\n",
      "\u001b[34m#metrics {\"StartTime\": 1730636142.913421, \"EndTime\": 1730636142.9134293, \"Dimensions\": {\"Algorithm\": \"Linear Learner\", \"Host\": \"algo-1\", \"Operation\": \"training\", \"epoch\": 2, \"model\": 19}, \"Metrics\": {\"validation_binary_classification_cross_entropy_objective\": {\"sum\": 0.5080639083557923, \"count\": 1, \"min\": 0.5080639083557923, \"max\": 0.5080639083557923}}}\u001b[0m\n",
      "\u001b[34m#metrics {\"StartTime\": 1730636142.9134605, \"EndTime\": 1730636142.9134688, \"Dimensions\": {\"Algorithm\": \"Linear Learner\", \"Host\": \"algo-1\", \"Operation\": \"training\", \"epoch\": 2, \"model\": 20}, \"Metrics\": {\"validation_binary_classification_cross_entropy_objective\": {\"sum\": 0.5081013755374482, \"count\": 1, \"min\": 0.5081013755374482, \"max\": 0.5081013755374482}}}\u001b[0m\n",
      "\u001b[34m#metrics {\"StartTime\": 1730636142.9134896, \"EndTime\": 1730636142.9134963, \"Dimensions\": {\"Algorithm\": \"Linear Learner\", \"Host\": \"algo-1\", \"Operation\": \"training\", \"epoch\": 2, \"model\": 21}, \"Metrics\": {\"validation_binary_classification_cross_entropy_objective\": {\"sum\": 0.5149847300145993, \"count\": 1, \"min\": 0.5149847300145993, \"max\": 0.5149847300145993}}}\u001b[0m\n",
      "\u001b[34m#metrics {\"StartTime\": 1730636142.9135208, \"EndTime\": 1730636142.913529, \"Dimensions\": {\"Algorithm\": \"Linear Learner\", \"Host\": \"algo-1\", \"Operation\": \"training\", \"epoch\": 2, \"model\": 22}, \"Metrics\": {\"validation_binary_classification_cross_entropy_objective\": {\"sum\": 0.5080859155787616, \"count\": 1, \"min\": 0.5080859155787616, \"max\": 0.5080859155787616}}}\u001b[0m\n",
      "\u001b[34m#metrics {\"StartTime\": 1730636142.9135501, \"EndTime\": 1730636142.9135573, \"Dimensions\": {\"Algorithm\": \"Linear Learner\", \"Host\": \"algo-1\", \"Operation\": \"training\", \"epoch\": 2, \"model\": 23}, \"Metrics\": {\"validation_binary_classification_cross_entropy_objective\": {\"sum\": 0.5149847307298415, \"count\": 1, \"min\": 0.5149847307298415, \"max\": 0.5149847307298415}}}\u001b[0m\n",
      "\u001b[34m#metrics {\"StartTime\": 1730636142.9135802, \"EndTime\": 1730636142.9135869, \"Dimensions\": {\"Algorithm\": \"Linear Learner\", \"Host\": \"algo-1\", \"Operation\": \"training\", \"epoch\": 2, \"model\": 24}, \"Metrics\": {\"validation_binary_classification_cross_entropy_objective\": {\"sum\": 0.5137638805448396, \"count\": 1, \"min\": 0.5137638805448396, \"max\": 0.5137638805448396}}}\u001b[0m\n",
      "\u001b[34m#metrics {\"StartTime\": 1730636142.9136126, \"EndTime\": 1730636142.9136193, \"Dimensions\": {\"Algorithm\": \"Linear Learner\", \"Host\": \"algo-1\", \"Operation\": \"training\", \"epoch\": 2, \"model\": 25}, \"Metrics\": {\"validation_binary_classification_cross_entropy_objective\": {\"sum\": 0.5138092911123228, \"count\": 1, \"min\": 0.5138092911123228, \"max\": 0.5138092911123228}}}\u001b[0m\n",
      "\u001b[34m#metrics {\"StartTime\": 1730636142.913644, \"EndTime\": 1730636142.9136515, \"Dimensions\": {\"Algorithm\": \"Linear Learner\", \"Host\": \"algo-1\", \"Operation\": \"training\", \"epoch\": 2, \"model\": 26}, \"Metrics\": {\"validation_binary_classification_cross_entropy_objective\": {\"sum\": 0.5137478435101424, \"count\": 1, \"min\": 0.5137478435101424, \"max\": 0.5137478435101424}}}\u001b[0m\n",
      "\u001b[34m#metrics {\"StartTime\": 1730636142.913682, \"EndTime\": 1730636142.91369, \"Dimensions\": {\"Algorithm\": \"Linear Learner\", \"Host\": \"algo-1\", \"Operation\": \"training\", \"epoch\": 2, \"model\": 27}, \"Metrics\": {\"validation_binary_classification_cross_entropy_objective\": {\"sum\": 0.5138092912056152, \"count\": 1, \"min\": 0.5138092912056152, \"max\": 0.5138092912056152}}}\u001b[0m\n",
      "\u001b[34m#metrics {\"StartTime\": 1730636142.9137208, \"EndTime\": 1730636142.913729, \"Dimensions\": {\"Algorithm\": \"Linear Learner\", \"Host\": \"algo-1\", \"Operation\": \"training\", \"epoch\": 2, \"model\": 28}, \"Metrics\": {\"validation_binary_classification_cross_entropy_objective\": {\"sum\": 0.5137638811978867, \"count\": 1, \"min\": 0.5137638811978867, \"max\": 0.5137638811978867}}}\u001b[0m\n",
      "\u001b[34m#metrics {\"StartTime\": 1730636142.9137528, \"EndTime\": 1730636142.9137611, \"Dimensions\": {\"Algorithm\": \"Linear Learner\", \"Host\": \"algo-1\", \"Operation\": \"training\", \"epoch\": 2, \"model\": 29}, \"Metrics\": {\"validation_binary_classification_cross_entropy_objective\": {\"sum\": 0.5215158653385222, \"count\": 1, \"min\": 0.5215158653385222, \"max\": 0.5215158653385222}}}\u001b[0m\n",
      "\u001b[34m#metrics {\"StartTime\": 1730636142.913788, \"EndTime\": 1730636142.9137964, \"Dimensions\": {\"Algorithm\": \"Linear Learner\", \"Host\": \"algo-1\", \"Operation\": \"training\", \"epoch\": 2, \"model\": 30}, \"Metrics\": {\"validation_binary_classification_cross_entropy_objective\": {\"sum\": 0.5137478434479474, \"count\": 1, \"min\": 0.5137478434479474, \"max\": 0.5137478434479474}}}\u001b[0m\n",
      "\u001b[34m#metrics {\"StartTime\": 1730636142.9138236, \"EndTime\": 1730636142.9138308, \"Dimensions\": {\"Algorithm\": \"Linear Learner\", \"Host\": \"algo-1\", \"Operation\": \"training\", \"epoch\": 2, \"model\": 31}, \"Metrics\": {\"validation_binary_classification_cross_entropy_objective\": {\"sum\": 0.5215158717446039, \"count\": 1, \"min\": 0.5215158717446039, \"max\": 0.5215158717446039}}}\u001b[0m\n",
      "\u001b[34m[11/03/2024 12:15:42 INFO 140606159963968] #quality_metric: host=algo-1, epoch=2, validation binary_classification_cross_entropy_objective <loss>=0.4947834494260294\u001b[0m\n",
      "\u001b[34m[11/03/2024 12:15:42 INFO 140606159963968] #early_stopping_criteria_metric: host=algo-1, epoch=2, criteria=sampled_accuracy, value=0.7904156714410324\u001b[0m\n",
      "\u001b[34m[11/03/2024 12:15:42 INFO 140606159963968] Epoch 2: Loss improved. Updating best model\u001b[0m\n",
      "\u001b[34m[11/03/2024 12:15:42 INFO 140606159963968] Saving model for epoch: 2\u001b[0m\n",
      "\u001b[34m[11/03/2024 12:15:42 INFO 140606159963968] Saved checkpoint to \"/tmp/tmpw4z6dspy/mx-mod-0000.params\"\u001b[0m\n",
      "\u001b[34m[11/03/2024 12:15:42 INFO 140606159963968] #progress_metric: host=algo-1, completed 60.0 % of epochs\u001b[0m\n",
      "\u001b[34m#metrics {\"StartTime\": 1730636022.069691, \"EndTime\": 1730636142.9193404, \"Dimensions\": {\"Algorithm\": \"Linear Learner\", \"Host\": \"algo-1\", \"Operation\": \"training\", \"epoch\": 2, \"Meta\": \"training_data_iter\"}, \"Metrics\": {\"Total Records Seen\": {\"sum\": 3445139.0, \"count\": 1, \"min\": 3445139, \"max\": 3445139}, \"Total Batches Seen\": {\"sum\": 17227.0, \"count\": 1, \"min\": 17227, \"max\": 17227}, \"Max Records Seen Between Resets\": {\"sum\": 1144913.0, \"count\": 1, \"min\": 1144913, \"max\": 1144913}, \"Max Batches Seen Between Resets\": {\"sum\": 5725.0, \"count\": 1, \"min\": 5725, \"max\": 5725}, \"Reset Count\": {\"sum\": 5.0, \"count\": 1, \"min\": 5, \"max\": 5}, \"Number of Records Since Last Reset\": {\"sum\": 1144913.0, \"count\": 1, \"min\": 1144913, \"max\": 1144913}, \"Number of Batches Since Last Reset\": {\"sum\": 5725.0, \"count\": 1, \"min\": 5725, \"max\": 5725}}}\u001b[0m\n",
      "\u001b[34m[11/03/2024 12:15:42 INFO 140606159963968] #throughput_metric: host=algo-1, train throughput=9473.85307778415 records/second\u001b[0m\n",
      "\u001b[34m[2024-11-03 12:17:24.264] [tensorio] [info] epoch_stats={\"data_pipeline\": \"/opt/ml/input/data/train\", \"epoch\": 9, \"duration\": 101342, \"num_examples\": 5725, \"num_bytes\": 393850072}\u001b[0m\n",
      "\u001b[34m#metrics {\"StartTime\": 1730636244.2642546, \"EndTime\": 1730636244.2643158, \"Dimensions\": {\"Algorithm\": \"Linear Learner\", \"Host\": \"algo-1\", \"Operation\": \"training\", \"epoch\": 3, \"model\": 0}, \"Metrics\": {\"train_binary_classification_cross_entropy_objective\": {\"sum\": 0.49525084868083874, \"count\": 1, \"min\": 0.49525084868083874, \"max\": 0.49525084868083874}}}\u001b[0m\n",
      "\u001b[34m#metrics {\"StartTime\": 1730636244.264377, \"EndTime\": 1730636244.2643895, \"Dimensions\": {\"Algorithm\": \"Linear Learner\", \"Host\": \"algo-1\", \"Operation\": \"training\", \"epoch\": 3, \"model\": 1}, \"Metrics\": {\"train_binary_classification_cross_entropy_objective\": {\"sum\": 0.4956660133870976, \"count\": 1, \"min\": 0.4956660133870976, \"max\": 0.4956660133870976}}}\u001b[0m\n",
      "\u001b[34m#metrics {\"StartTime\": 1730636244.2644227, \"EndTime\": 1730636244.264431, \"Dimensions\": {\"Algorithm\": \"Linear Learner\", \"Host\": \"algo-1\", \"Operation\": \"training\", \"epoch\": 3, \"model\": 2}, \"Metrics\": {\"train_binary_classification_cross_entropy_objective\": {\"sum\": 0.4953131472522941, \"count\": 1, \"min\": 0.4953131472522941, \"max\": 0.4953131472522941}}}\u001b[0m\n",
      "\u001b[34m#metrics {\"StartTime\": 1730636244.2644575, \"EndTime\": 1730636244.2644658, \"Dimensions\": {\"Algorithm\": \"Linear Learner\", \"Host\": \"algo-1\", \"Operation\": \"training\", \"epoch\": 3, \"model\": 3}, \"Metrics\": {\"train_binary_classification_cross_entropy_objective\": {\"sum\": 0.49566601269400096, \"count\": 1, \"min\": 0.49566601269400096, \"max\": 0.49566601269400096}}}\u001b[0m\n",
      "\u001b[34m#metrics {\"StartTime\": 1730636244.2644958, \"EndTime\": 1730636244.2645047, \"Dimensions\": {\"Algorithm\": \"Linear Learner\", \"Host\": \"algo-1\", \"Operation\": \"training\", \"epoch\": 3, \"model\": 4}, \"Metrics\": {\"train_binary_classification_cross_entropy_objective\": {\"sum\": 0.49523833905292675, \"count\": 1, \"min\": 0.49523833905292675, \"max\": 0.49523833905292675}}}\u001b[0m\n",
      "\u001b[34m#metrics {\"StartTime\": 1730636244.2645361, \"EndTime\": 1730636244.264542, \"Dimensions\": {\"Algorithm\": \"Linear Learner\", \"Host\": \"algo-1\", \"Operation\": \"training\", \"epoch\": 3, \"model\": 5}, \"Metrics\": {\"train_binary_classification_cross_entropy_objective\": {\"sum\": 0.5031668222175454, \"count\": 1, \"min\": 0.5031668222175454, \"max\": 0.5031668222175454}}}\u001b[0m\n",
      "\u001b[34m#metrics {\"StartTime\": 1730636244.2645686, \"EndTime\": 1730636244.2645738, \"Dimensions\": {\"Algorithm\": \"Linear Learner\", \"Host\": \"algo-1\", \"Operation\": \"training\", \"epoch\": 3, \"model\": 6}, \"Metrics\": {\"train_binary_classification_cross_entropy_objective\": {\"sum\": 0.4953068286367932, \"count\": 1, \"min\": 0.4953068286367932, \"max\": 0.4953068286367932}}}\u001b[0m\n",
      "\u001b[34m#metrics {\"StartTime\": 1730636244.2646008, \"EndTime\": 1730636244.264606, \"Dimensions\": {\"Algorithm\": \"Linear Learner\", \"Host\": \"algo-1\", \"Operation\": \"training\", \"epoch\": 3, \"model\": 7}, \"Metrics\": {\"train_binary_classification_cross_entropy_objective\": {\"sum\": 0.5031668221908878, \"count\": 1, \"min\": 0.5031668221908878, \"max\": 0.5031668221908878}}}\u001b[0m\n",
      "\u001b[34m#metrics {\"StartTime\": 1730636244.2646215, \"EndTime\": 1730636244.264626, \"Dimensions\": {\"Algorithm\": \"Linear Learner\", \"Host\": \"algo-1\", \"Operation\": \"training\", \"epoch\": 3, \"model\": 8}, \"Metrics\": {\"train_binary_classification_cross_entropy_objective\": {\"sum\": 0.4953855187571357, \"count\": 1, \"min\": 0.4953855187571357, \"max\": 0.4953855187571357}}}\u001b[0m\n",
      "\u001b[34m#metrics {\"StartTime\": 1730636244.2646408, \"EndTime\": 1730636244.264645, \"Dimensions\": {\"Algorithm\": \"Linear Learner\", \"Host\": \"algo-1\", \"Operation\": \"training\", \"epoch\": 3, \"model\": 9}, \"Metrics\": {\"train_binary_classification_cross_entropy_objective\": {\"sum\": 0.4957943313926521, \"count\": 1, \"min\": 0.4957943313926521, \"max\": 0.4957943313926521}}}\u001b[0m\n",
      "\u001b[34m#metrics {\"StartTime\": 1730636244.2646685, \"EndTime\": 1730636244.2646763, \"Dimensions\": {\"Algorithm\": \"Linear Learner\", \"Host\": \"algo-1\", \"Operation\": \"training\", \"epoch\": 3, \"model\": 10}, \"Metrics\": {\"train_binary_classification_cross_entropy_objective\": {\"sum\": 0.49545357102368115, \"count\": 1, \"min\": 0.49545357102368115, \"max\": 0.49545357102368115}}}\u001b[0m\n",
      "\u001b[34m#metrics {\"StartTime\": 1730636244.2647042, \"EndTime\": 1730636244.2647102, \"Dimensions\": {\"Algorithm\": \"Linear Learner\", \"Host\": \"algo-1\", \"Operation\": \"training\", \"epoch\": 3, \"model\": 11}, \"Metrics\": {\"train_binary_classification_cross_entropy_objective\": {\"sum\": 0.495794331152734, \"count\": 1, \"min\": 0.495794331152734, \"max\": 0.495794331152734}}}\u001b[0m\n",
      "\u001b[34m#metrics {\"StartTime\": 1730636244.2647297, \"EndTime\": 1730636244.2647364, \"Dimensions\": {\"Algorithm\": \"Linear Learner\", \"Host\": \"algo-1\", \"Operation\": \"training\", \"epoch\": 3, \"model\": 12}, \"Metrics\": {\"train_binary_classification_cross_entropy_objective\": {\"sum\": 0.4953914274193039, \"count\": 1, \"min\": 0.4953914274193039, \"max\": 0.4953914274193039}}}\u001b[0m\n",
      "\u001b[34m#metrics {\"StartTime\": 1730636244.2647634, \"EndTime\": 1730636244.2647693, \"Dimensions\": {\"Algorithm\": \"Linear Learner\", \"Host\": \"algo-1\", \"Operation\": \"training\", \"epoch\": 3, \"model\": 13}, \"Metrics\": {\"train_binary_classification_cross_entropy_objective\": {\"sum\": 0.5028768504307372, \"count\": 1, \"min\": 0.5028768504307372, \"max\": 0.5028768504307372}}}\u001b[0m\n",
      "\u001b[34m#metrics {\"StartTime\": 1730636244.2647939, \"EndTime\": 1730636244.264801, \"Dimensions\": {\"Algorithm\": \"Linear Learner\", \"Host\": \"algo-1\", \"Operation\": \"training\", \"epoch\": 3, \"model\": 14}, \"Metrics\": {\"train_binary_classification_cross_entropy_objective\": {\"sum\": 0.4954534268062653, \"count\": 1, \"min\": 0.4954534268062653, \"max\": 0.4954534268062653}}}\u001b[0m\n",
      "\u001b[34m#metrics {\"StartTime\": 1730636244.2648332, \"EndTime\": 1730636244.2648406, \"Dimensions\": {\"Algorithm\": \"Linear Learner\", \"Host\": \"algo-1\", \"Operation\": \"training\", \"epoch\": 3, \"model\": 15}, \"Metrics\": {\"train_binary_classification_cross_entropy_objective\": {\"sum\": 0.5028768505773538, \"count\": 1, \"min\": 0.5028768505773538, \"max\": 0.5028768505773538}}}\u001b[0m\n",
      "\u001b[34m#metrics {\"StartTime\": 1730636244.2648697, \"EndTime\": 1730636244.2648776, \"Dimensions\": {\"Algorithm\": \"Linear Learner\", \"Host\": \"algo-1\", \"Operation\": \"training\", \"epoch\": 3, \"model\": 16}, \"Metrics\": {\"train_binary_classification_cross_entropy_objective\": {\"sum\": 0.5082441066979195, \"count\": 1, \"min\": 0.5082441066979195, \"max\": 0.5082441066979195}}}\u001b[0m\n",
      "\u001b[34m#metrics {\"StartTime\": 1730636244.264903, \"EndTime\": 1730636244.2649114, \"Dimensions\": {\"Algorithm\": \"Linear Learner\", \"Host\": \"algo-1\", \"Operation\": \"training\", \"epoch\": 3, \"model\": 17}, \"Metrics\": {\"train_binary_classification_cross_entropy_objective\": {\"sum\": 0.5083622763691709, \"count\": 1, \"min\": 0.5083622763691709, \"max\": 0.5083622763691709}}}\u001b[0m\n",
      "\u001b[34m#metrics {\"StartTime\": 1730636244.2649379, \"EndTime\": 1730636244.2649455, \"Dimensions\": {\"Algorithm\": \"Linear Learner\", \"Host\": \"algo-1\", \"Operation\": \"training\", \"epoch\": 3, \"model\": 18}, \"Metrics\": {\"train_binary_classification_cross_entropy_objective\": {\"sum\": 0.5082610412147144, \"count\": 1, \"min\": 0.5082610412147144, \"max\": 0.5082610412147144}}}\u001b[0m\n",
      "\u001b[34m#metrics {\"StartTime\": 1730636244.2649724, \"EndTime\": 1730636244.2649796, \"Dimensions\": {\"Algorithm\": \"Linear Learner\", \"Host\": \"algo-1\", \"Operation\": \"training\", \"epoch\": 3, \"model\": 19}, \"Metrics\": {\"train_binary_classification_cross_entropy_objective\": {\"sum\": 0.5083622763824996, \"count\": 1, \"min\": 0.5083622763824996, \"max\": 0.5083622763824996}}}\u001b[0m\n",
      "\u001b[34m#metrics {\"StartTime\": 1730636244.2650068, \"EndTime\": 1730636244.2650135, \"Dimensions\": {\"Algorithm\": \"Linear Learner\", \"Host\": \"algo-1\", \"Operation\": \"training\", \"epoch\": 3, \"model\": 20}, \"Metrics\": {\"train_binary_classification_cross_entropy_objective\": {\"sum\": 0.5082439837599034, \"count\": 1, \"min\": 0.5082439837599034, \"max\": 0.5082439837599034}}}\u001b[0m\n",
      "\u001b[34m#metrics {\"StartTime\": 1730636244.2650373, \"EndTime\": 1730636244.2650445, \"Dimensions\": {\"Algorithm\": \"Linear Learner\", \"Host\": \"algo-1\", \"Operation\": \"training\", \"epoch\": 3, \"model\": 21}, \"Metrics\": {\"train_binary_classification_cross_entropy_objective\": {\"sum\": 0.5101337380012709, \"count\": 1, \"min\": 0.5101337380012709, \"max\": 0.5101337380012709}}}\u001b[0m\n",
      "\u001b[34m#metrics {\"StartTime\": 1730636244.26507, \"EndTime\": 1730636244.2650778, \"Dimensions\": {\"Algorithm\": \"Linear Learner\", \"Host\": \"algo-1\", \"Operation\": \"training\", \"epoch\": 3, \"model\": 22}, \"Metrics\": {\"train_binary_classification_cross_entropy_objective\": {\"sum\": 0.5082610411280772, \"count\": 1, \"min\": 0.5082610411280772, \"max\": 0.5082610411280772}}}\u001b[0m\n",
      "\u001b[34m#metrics {\"StartTime\": 1730636244.265103, \"EndTime\": 1730636244.2651103, \"Dimensions\": {\"Algorithm\": \"Linear Learner\", \"Host\": \"algo-1\", \"Operation\": \"training\", \"epoch\": 3, \"model\": 23}, \"Metrics\": {\"train_binary_classification_cross_entropy_objective\": {\"sum\": 0.5101337377147022, \"count\": 1, \"min\": 0.5101337377147022, \"max\": 0.5101337377147022}}}\u001b[0m\n",
      "\u001b[34m#metrics {\"StartTime\": 1730636244.2651422, \"EndTime\": 1730636244.2651494, \"Dimensions\": {\"Algorithm\": \"Linear Learner\", \"Host\": \"algo-1\", \"Operation\": \"training\", \"epoch\": 3, \"model\": 24}, \"Metrics\": {\"train_binary_classification_cross_entropy_objective\": {\"sum\": 0.5137667213295991, \"count\": 1, \"min\": 0.5137667213295991, \"max\": 0.5137667213295991}}}\u001b[0m\n",
      "\u001b[34m#metrics {\"StartTime\": 1730636244.2651799, \"EndTime\": 1730636244.2651877, \"Dimensions\": {\"Algorithm\": \"Linear Learner\", \"Host\": \"algo-1\", \"Operation\": \"training\", \"epoch\": 3, \"model\": 25}, \"Metrics\": {\"train_binary_classification_cross_entropy_objective\": {\"sum\": 0.5138279187237775, \"count\": 1, \"min\": 0.5138279187237775, \"max\": 0.5138279187237775}}}\u001b[0m\n",
      "\u001b[34m#metrics {\"StartTime\": 1730636244.2652204, \"EndTime\": 1730636244.265229, \"Dimensions\": {\"Algorithm\": \"Linear Learner\", \"Host\": \"algo-1\", \"Operation\": \"training\", \"epoch\": 3, \"model\": 26}, \"Metrics\": {\"train_binary_classification_cross_entropy_objective\": {\"sum\": 0.5137760239393873, \"count\": 1, \"min\": 0.5137760239393873, \"max\": 0.5137760239393873}}}\u001b[0m\n",
      "\u001b[34m#metrics {\"StartTime\": 1730636244.265265, \"EndTime\": 1730636244.2652733, \"Dimensions\": {\"Algorithm\": \"Linear Learner\", \"Host\": \"algo-1\", \"Operation\": \"training\", \"epoch\": 3, \"model\": 27}, \"Metrics\": {\"train_binary_classification_cross_entropy_objective\": {\"sum\": 0.5138279187171131, \"count\": 1, \"min\": 0.5138279187171131, \"max\": 0.5138279187171131}}}\u001b[0m\n",
      "\u001b[34m#metrics {\"StartTime\": 1730636244.2653072, \"EndTime\": 1730636244.2653153, \"Dimensions\": {\"Algorithm\": \"Linear Learner\", \"Host\": \"algo-1\", \"Operation\": \"training\", \"epoch\": 3, \"model\": 28}, \"Metrics\": {\"train_binary_classification_cross_entropy_objective\": {\"sum\": 0.513766721789442, \"count\": 1, \"min\": 0.513766721789442, \"max\": 0.513766721789442}}}\u001b[0m\n",
      "\u001b[34m#metrics {\"StartTime\": 1730636244.2653491, \"EndTime\": 1730636244.2653577, \"Dimensions\": {\"Algorithm\": \"Linear Learner\", \"Host\": \"algo-1\", \"Operation\": \"training\", \"epoch\": 3, \"model\": 29}, \"Metrics\": {\"train_binary_classification_cross_entropy_objective\": {\"sum\": 0.514646787770056, \"count\": 1, \"min\": 0.514646787770056, \"max\": 0.514646787770056}}}\u001b[0m\n",
      "\u001b[34m#metrics {\"StartTime\": 1730636244.2653909, \"EndTime\": 1730636244.2653985, \"Dimensions\": {\"Algorithm\": \"Linear Learner\", \"Host\": \"algo-1\", \"Operation\": \"training\", \"epoch\": 3, \"model\": 30}, \"Metrics\": {\"train_binary_classification_cross_entropy_objective\": {\"sum\": 0.5137760239193941, \"count\": 1, \"min\": 0.5137760239193941, \"max\": 0.5137760239193941}}}\u001b[0m\n",
      "\u001b[34m#metrics {\"StartTime\": 1730636244.265425, \"EndTime\": 1730636244.2654333, \"Dimensions\": {\"Algorithm\": \"Linear Learner\", \"Host\": \"algo-1\", \"Operation\": \"training\", \"epoch\": 3, \"model\": 31}, \"Metrics\": {\"train_binary_classification_cross_entropy_objective\": {\"sum\": 0.5146467877833848, \"count\": 1, \"min\": 0.5146467877833848, \"max\": 0.5146467877833848}}}\u001b[0m\n",
      "\u001b[34m[11/03/2024 12:17:24 INFO 140606159963968] #quality_metric: host=algo-1, epoch=3, train binary_classification_cross_entropy_objective <loss>=0.49525084868083874\u001b[0m\n",
      "\u001b[34m[2024-11-03 12:17:39.386] [tensorio] [info] epoch_stats={\"data_pipeline\": \"/opt/ml/input/data/validation\", \"epoch\": 11, \"duration\": 15109, \"num_examples\": 1227, \"num_bytes\": 84396272}\u001b[0m\n",
      "\u001b[34m#metrics {\"StartTime\": 1730636261.4741251, \"EndTime\": 1730636261.4741874, \"Dimensions\": {\"Algorithm\": \"Linear Learner\", \"Host\": \"algo-1\", \"Operation\": \"training\", \"epoch\": 3, \"model\": 0}, \"Metrics\": {\"validation_binary_classification_cross_entropy_objective\": {\"sum\": 0.49477971996696746, \"count\": 1, \"min\": 0.49477971996696746, \"max\": 0.49477971996696746}}}\u001b[0m\n",
      "\u001b[34m#metrics {\"StartTime\": 1730636261.4742522, \"EndTime\": 1730636261.474264, \"Dimensions\": {\"Algorithm\": \"Linear Learner\", \"Host\": \"algo-1\", \"Operation\": \"training\", \"epoch\": 3, \"model\": 1}, \"Metrics\": {\"validation_binary_classification_cross_entropy_objective\": {\"sum\": 0.49497610241322165, \"count\": 1, \"min\": 0.49497610241322165, \"max\": 0.49497610241322165}}}\u001b[0m\n",
      "\u001b[34m#metrics {\"StartTime\": 1730636261.4742942, \"EndTime\": 1730636261.474303, \"Dimensions\": {\"Algorithm\": \"Linear Learner\", \"Host\": \"algo-1\", \"Operation\": \"training\", \"epoch\": 3, \"model\": 2}, \"Metrics\": {\"validation_binary_classification_cross_entropy_objective\": {\"sum\": 0.4947968412154446, \"count\": 1, \"min\": 0.4947968412154446, \"max\": 0.4947968412154446}}}\u001b[0m\n",
      "\u001b[34m#metrics {\"StartTime\": 1730636261.474329, \"EndTime\": 1730636261.4743543, \"Dimensions\": {\"Algorithm\": \"Linear Learner\", \"Host\": \"algo-1\", \"Operation\": \"training\", \"epoch\": 3, \"model\": 3}, \"Metrics\": {\"validation_binary_classification_cross_entropy_objective\": {\"sum\": 0.49497609697116196, \"count\": 1, \"min\": 0.49497609697116196, \"max\": 0.49497609697116196}}}\u001b[0m\n",
      "\u001b[34m#metrics {\"StartTime\": 1730636261.4743788, \"EndTime\": 1730636261.4743865, \"Dimensions\": {\"Algorithm\": \"Linear Learner\", \"Host\": \"algo-1\", \"Operation\": \"training\", \"epoch\": 3, \"model\": 4}, \"Metrics\": {\"validation_binary_classification_cross_entropy_objective\": {\"sum\": 0.4947637868600617, \"count\": 1, \"min\": 0.4947637868600617, \"max\": 0.4947637868600617}}}\u001b[0m\n",
      "\u001b[34m#metrics {\"StartTime\": 1730636261.4744155, \"EndTime\": 1730636261.474424, \"Dimensions\": {\"Algorithm\": \"Linear Learner\", \"Host\": \"algo-1\", \"Operation\": \"training\", \"epoch\": 3, \"model\": 5}, \"Metrics\": {\"validation_binary_classification_cross_entropy_objective\": {\"sum\": 0.5021327969644434, \"count\": 1, \"min\": 0.5021327969644434, \"max\": 0.5021327969644434}}}\u001b[0m\n",
      "\u001b[34m#metrics {\"StartTime\": 1730636261.474452, \"EndTime\": 1730636261.4744592, \"Dimensions\": {\"Algorithm\": \"Linear Learner\", \"Host\": \"algo-1\", \"Operation\": \"training\", \"epoch\": 3, \"model\": 6}, \"Metrics\": {\"validation_binary_classification_cross_entropy_objective\": {\"sum\": 0.49478762578703406, \"count\": 1, \"min\": 0.49478762578703406, \"max\": 0.49478762578703406}}}\u001b[0m\n",
      "\u001b[34m#metrics {\"StartTime\": 1730636261.47449, \"EndTime\": 1730636261.4744978, \"Dimensions\": {\"Algorithm\": \"Linear Learner\", \"Host\": \"algo-1\", \"Operation\": \"training\", \"epoch\": 3, \"model\": 7}, \"Metrics\": {\"validation_binary_classification_cross_entropy_objective\": {\"sum\": 0.502132794632132, \"count\": 1, \"min\": 0.502132794632132, \"max\": 0.502132794632132}}}\u001b[0m\n",
      "\u001b[34m#metrics {\"StartTime\": 1730636261.4745293, \"EndTime\": 1730636261.4745376, \"Dimensions\": {\"Algorithm\": \"Linear Learner\", \"Host\": \"algo-1\", \"Operation\": \"training\", \"epoch\": 3, \"model\": 8}, \"Metrics\": {\"validation_binary_classification_cross_entropy_objective\": {\"sum\": 0.49493798865267835, \"count\": 1, \"min\": 0.49493798865267835, \"max\": 0.49493798865267835}}}\u001b[0m\n",
      "\u001b[34m#metrics {\"StartTime\": 1730636261.474568, \"EndTime\": 1730636261.4745755, \"Dimensions\": {\"Algorithm\": \"Linear Learner\", \"Host\": \"algo-1\", \"Operation\": \"training\", \"epoch\": 3, \"model\": 9}, \"Metrics\": {\"validation_binary_classification_cross_entropy_objective\": {\"sum\": 0.49511346945371465, \"count\": 1, \"min\": 0.49511346945371465, \"max\": 0.49511346945371465}}}\u001b[0m\n",
      "\u001b[34m#metrics {\"StartTime\": 1730636261.4745996, \"EndTime\": 1730636261.4746068, \"Dimensions\": {\"Algorithm\": \"Linear Learner\", \"Host\": \"algo-1\", \"Operation\": \"training\", \"epoch\": 3, \"model\": 10}, \"Metrics\": {\"validation_binary_classification_cross_entropy_objective\": {\"sum\": 0.4949476072288716, \"count\": 1, \"min\": 0.4949476072288716, \"max\": 0.4949476072288716}}}\u001b[0m\n",
      "\u001b[34m#metrics {\"StartTime\": 1730636261.4746313, \"EndTime\": 1730636261.4746394, \"Dimensions\": {\"Algorithm\": \"Linear Learner\", \"Host\": \"algo-1\", \"Operation\": \"training\", \"epoch\": 3, \"model\": 11}, \"Metrics\": {\"validation_binary_classification_cross_entropy_objective\": {\"sum\": 0.4951134693915197, \"count\": 1, \"min\": 0.4951134693915197, \"max\": 0.4951134693915197}}}\u001b[0m\n",
      "\u001b[34m#metrics {\"StartTime\": 1730636261.4746652, \"EndTime\": 1730636261.4746735, \"Dimensions\": {\"Algorithm\": \"Linear Learner\", \"Host\": \"algo-1\", \"Operation\": \"training\", \"epoch\": 3, \"model\": 12}, \"Metrics\": {\"validation_binary_classification_cross_entropy_objective\": {\"sum\": 0.49494528642364016, \"count\": 1, \"min\": 0.49494528642364016, \"max\": 0.49494528642364016}}}\u001b[0m\n",
      "\u001b[34m#metrics {\"StartTime\": 1730636261.474698, \"EndTime\": 1730636261.4747066, \"Dimensions\": {\"Algorithm\": \"Linear Learner\", \"Host\": \"algo-1\", \"Operation\": \"training\", \"epoch\": 3, \"model\": 13}, \"Metrics\": {\"validation_binary_classification_cross_entropy_objective\": {\"sum\": 0.5017378694907021, \"count\": 1, \"min\": 0.5017378694907021, \"max\": 0.5017378694907021}}}\u001b[0m\n",
      "\u001b[34m#metrics {\"StartTime\": 1730636261.4747381, \"EndTime\": 1730636261.4747438, \"Dimensions\": {\"Algorithm\": \"Linear Learner\", \"Host\": \"algo-1\", \"Operation\": \"training\", \"epoch\": 3, \"model\": 14}, \"Metrics\": {\"validation_binary_classification_cross_entropy_objective\": {\"sum\": 0.49494770754935496, \"count\": 1, \"min\": 0.49494770754935496, \"max\": 0.49494770754935496}}}\u001b[0m\n",
      "\u001b[34m#metrics {\"StartTime\": 1730636261.4747648, \"EndTime\": 1730636261.4747715, \"Dimensions\": {\"Algorithm\": \"Linear Learner\", \"Host\": \"algo-1\", \"Operation\": \"training\", \"epoch\": 3, \"model\": 15}, \"Metrics\": {\"validation_binary_classification_cross_entropy_objective\": {\"sum\": 0.5017378694285071, \"count\": 1, \"min\": 0.5017378694285071, \"max\": 0.5017378694285071}}}\u001b[0m\n",
      "\u001b[34m#metrics {\"StartTime\": 1730636261.4747965, \"EndTime\": 1730636261.4748044, \"Dimensions\": {\"Algorithm\": \"Linear Learner\", \"Host\": \"algo-1\", \"Operation\": \"training\", \"epoch\": 3, \"model\": 16}, \"Metrics\": {\"validation_binary_classification_cross_entropy_objective\": {\"sum\": 0.5081018786636419, \"count\": 1, \"min\": 0.5081018786636419, \"max\": 0.5081018786636419}}}\u001b[0m\n",
      "\u001b[34m#metrics {\"StartTime\": 1730636261.4748297, \"EndTime\": 1730636261.4748368, \"Dimensions\": {\"Algorithm\": \"Linear Learner\", \"Host\": \"algo-1\", \"Operation\": \"training\", \"epoch\": 3, \"model\": 17}, \"Metrics\": {\"validation_binary_classification_cross_entropy_objective\": {\"sum\": 0.5080843094870051, \"count\": 1, \"min\": 0.5080843094870051, \"max\": 0.5080843094870051}}}\u001b[0m\n",
      "\u001b[34m#metrics {\"StartTime\": 1730636261.47487, \"EndTime\": 1730636261.474877, \"Dimensions\": {\"Algorithm\": \"Linear Learner\", \"Host\": \"algo-1\", \"Operation\": \"training\", \"epoch\": 3, \"model\": 18}, \"Metrics\": {\"validation_binary_classification_cross_entropy_objective\": {\"sum\": 0.5080859158586389, \"count\": 1, \"min\": 0.5080859158586389, \"max\": 0.5080859158586389}}}\u001b[0m\n",
      "\u001b[34m#metrics {\"StartTime\": 1730636261.4749084, \"EndTime\": 1730636261.4749165, \"Dimensions\": {\"Algorithm\": \"Linear Learner\", \"Host\": \"algo-1\", \"Operation\": \"training\", \"epoch\": 3, \"model\": 19}, \"Metrics\": {\"validation_binary_classification_cross_entropy_objective\": {\"sum\": 0.5080843095492, \"count\": 1, \"min\": 0.5080843095492, \"max\": 0.5080843095492}}}\u001b[0m\n",
      "\u001b[34m#metrics {\"StartTime\": 1730636261.4749494, \"EndTime\": 1730636261.474958, \"Dimensions\": {\"Algorithm\": \"Linear Learner\", \"Host\": \"algo-1\", \"Operation\": \"training\", \"epoch\": 3, \"model\": 20}, \"Metrics\": {\"validation_binary_classification_cross_entropy_objective\": {\"sum\": 0.5081018273838908, \"count\": 1, \"min\": 0.5081018273838908, \"max\": 0.5081018273838908}}}\u001b[0m\n",
      "\u001b[34m#metrics {\"StartTime\": 1730636261.4749904, \"EndTime\": 1730636261.4749982, \"Dimensions\": {\"Algorithm\": \"Linear Learner\", \"Host\": \"algo-1\", \"Operation\": \"training\", \"epoch\": 3, \"model\": 21}, \"Metrics\": {\"validation_binary_classification_cross_entropy_objective\": {\"sum\": 0.509153928875584, \"count\": 1, \"min\": 0.509153928875584, \"max\": 0.509153928875584}}}\u001b[0m\n",
      "\u001b[34m#metrics {\"StartTime\": 1730636261.475031, \"EndTime\": 1730636261.475039, \"Dimensions\": {\"Algorithm\": \"Linear Learner\", \"Host\": \"algo-1\", \"Operation\": \"training\", \"epoch\": 3, \"model\": 22}, \"Metrics\": {\"validation_binary_classification_cross_entropy_objective\": {\"sum\": 0.5080859158586389, \"count\": 1, \"min\": 0.5080859158586389, \"max\": 0.5080859158586389}}}\u001b[0m\n",
      "\u001b[34m#metrics {\"StartTime\": 1730636261.475072, \"EndTime\": 1730636261.4750805, \"Dimensions\": {\"Algorithm\": \"Linear Learner\", \"Host\": \"algo-1\", \"Operation\": \"training\", \"epoch\": 3, \"model\": 23}, \"Metrics\": {\"validation_binary_classification_cross_entropy_objective\": {\"sum\": 0.5091539284091218, \"count\": 1, \"min\": 0.5091539284091218, \"max\": 0.5091539284091218}}}\u001b[0m\n",
      "\u001b[34m#metrics {\"StartTime\": 1730636261.4751143, \"EndTime\": 1730636261.4751227, \"Dimensions\": {\"Algorithm\": \"Linear Learner\", \"Host\": \"algo-1\", \"Operation\": \"training\", \"epoch\": 3, \"model\": 24}, \"Metrics\": {\"validation_binary_classification_cross_entropy_objective\": {\"sum\": 0.5137638795497201, \"count\": 1, \"min\": 0.5137638795497201, \"max\": 0.5137638795497201}}}\u001b[0m\n",
      "\u001b[34m#metrics {\"StartTime\": 1730636261.4751565, \"EndTime\": 1730636261.4751651, \"Dimensions\": {\"Algorithm\": \"Linear Learner\", \"Host\": \"algo-1\", \"Operation\": \"training\", \"epoch\": 3, \"model\": 25}, \"Metrics\": {\"validation_binary_classification_cross_entropy_objective\": {\"sum\": 0.5137227423984893, \"count\": 1, \"min\": 0.5137227423984893, \"max\": 0.5137227423984893}}}\u001b[0m\n",
      "\u001b[34m#metrics {\"StartTime\": 1730636261.4752, \"EndTime\": 1730636261.4752085, \"Dimensions\": {\"Algorithm\": \"Linear Learner\", \"Host\": \"algo-1\", \"Operation\": \"training\", \"epoch\": 3, \"model\": 26}, \"Metrics\": {\"validation_binary_classification_cross_entropy_objective\": {\"sum\": 0.5137478436656298, \"count\": 1, \"min\": 0.5137478436656298, \"max\": 0.5137478436656298}}}\u001b[0m\n",
      "\u001b[34m#metrics {\"StartTime\": 1730636261.4752426, \"EndTime\": 1730636261.4752507, \"Dimensions\": {\"Algorithm\": \"Linear Learner\", \"Host\": \"algo-1\", \"Operation\": \"training\", \"epoch\": 3, \"model\": 27}, \"Metrics\": {\"validation_binary_classification_cross_entropy_objective\": {\"sum\": 0.5137227423984893, \"count\": 1, \"min\": 0.5137227423984893, \"max\": 0.5137227423984893}}}\u001b[0m\n",
      "\u001b[34m#metrics {\"StartTime\": 1730636261.475281, \"EndTime\": 1730636261.4752893, \"Dimensions\": {\"Algorithm\": \"Linear Learner\", \"Host\": \"algo-1\", \"Operation\": \"training\", \"epoch\": 3, \"model\": 28}, \"Metrics\": {\"validation_binary_classification_cross_entropy_objective\": {\"sum\": 0.5137638801716699, \"count\": 1, \"min\": 0.5137638801716699, \"max\": 0.5137638801716699}}}\u001b[0m\n",
      "\u001b[34m#metrics {\"StartTime\": 1730636261.4753227, \"EndTime\": 1730636261.4753313, \"Dimensions\": {\"Algorithm\": \"Linear Learner\", \"Host\": \"algo-1\", \"Operation\": \"training\", \"epoch\": 3, \"model\": 29}, \"Metrics\": {\"validation_binary_classification_cross_entropy_objective\": {\"sum\": 0.5151893159771346, \"count\": 1, \"min\": 0.5151893159771346, \"max\": 0.5151893159771346}}}\u001b[0m\n",
      "\u001b[34m#metrics {\"StartTime\": 1730636261.4753642, \"EndTime\": 1730636261.475373, \"Dimensions\": {\"Algorithm\": \"Linear Learner\", \"Host\": \"algo-1\", \"Operation\": \"training\", \"epoch\": 3, \"model\": 30}, \"Metrics\": {\"validation_binary_classification_cross_entropy_objective\": {\"sum\": 0.5137478436656298, \"count\": 1, \"min\": 0.5137478436656298, \"max\": 0.5137478436656298}}}\u001b[0m\n",
      "\u001b[34m#metrics {\"StartTime\": 1730636261.4753993, \"EndTime\": 1730636261.4754071, \"Dimensions\": {\"Algorithm\": \"Linear Learner\", \"Host\": \"algo-1\", \"Operation\": \"training\", \"epoch\": 3, \"model\": 31}, \"Metrics\": {\"validation_binary_classification_cross_entropy_objective\": {\"sum\": 0.5151893157594521, \"count\": 1, \"min\": 0.5151893157594521, \"max\": 0.5151893157594521}}}\u001b[0m\n",
      "\u001b[34m[11/03/2024 12:17:41 INFO 140606159963968] #quality_metric: host=algo-1, epoch=3, validation binary_classification_cross_entropy_objective <loss>=0.49477971996696746\u001b[0m\n",
      "\u001b[34m[11/03/2024 12:17:41 INFO 140606159963968] #early_stopping_criteria_metric: host=algo-1, epoch=3, criteria=sampled_accuracy, value=0.7903871393750663\u001b[0m\n",
      "\u001b[34m[11/03/2024 12:17:41 INFO 140606159963968] Epoch 3: Loss improved. Updating best model\u001b[0m\n",
      "\u001b[34m[11/03/2024 12:17:41 INFO 140606159963968] Saving model for epoch: 3\u001b[0m\n",
      "\u001b[34m[11/03/2024 12:17:41 INFO 140606159963968] Saved checkpoint to \"/tmp/tmp3bq9n4ni/mx-mod-0000.params\"\u001b[0m\n",
      "\u001b[34m[11/03/2024 12:17:41 INFO 140606159963968] #progress_metric: host=algo-1, completed 80.0 % of epochs\u001b[0m\n",
      "\u001b[34m#metrics {\"StartTime\": 1730636142.9220014, \"EndTime\": 1730636261.481052, \"Dimensions\": {\"Algorithm\": \"Linear Learner\", \"Host\": \"algo-1\", \"Operation\": \"training\", \"epoch\": 3, \"Meta\": \"training_data_iter\"}, \"Metrics\": {\"Total Records Seen\": {\"sum\": 4590052.0, \"count\": 1, \"min\": 4590052, \"max\": 4590052}, \"Total Batches Seen\": {\"sum\": 22952.0, \"count\": 1, \"min\": 22952, \"max\": 22952}, \"Max Records Seen Between Resets\": {\"sum\": 1144913.0, \"count\": 1, \"min\": 1144913, \"max\": 1144913}, \"Max Batches Seen Between Resets\": {\"sum\": 5725.0, \"count\": 1, \"min\": 5725, \"max\": 5725}, \"Reset Count\": {\"sum\": 6.0, \"count\": 1, \"min\": 6, \"max\": 6}, \"Number of Records Since Last Reset\": {\"sum\": 1144913.0, \"count\": 1, \"min\": 1144913, \"max\": 1144913}, \"Number of Batches Since Last Reset\": {\"sum\": 5725.0, \"count\": 1, \"min\": 5725, \"max\": 5725}}}\u001b[0m\n",
      "\u001b[34m[11/03/2024 12:17:41 INFO 140606159963968] #throughput_metric: host=algo-1, train throughput=9656.892376824908 records/second\u001b[0m\n",
      "\u001b[34m[2024-11-03 12:19:22.803] [tensorio] [info] epoch_stats={\"data_pipeline\": \"/opt/ml/input/data/train\", \"epoch\": 11, \"duration\": 101315, \"num_examples\": 5725, \"num_bytes\": 393850072}\u001b[0m\n",
      "\u001b[34m#metrics {\"StartTime\": 1730636362.8036628, \"EndTime\": 1730636362.8037257, \"Dimensions\": {\"Algorithm\": \"Linear Learner\", \"Host\": \"algo-1\", \"Operation\": \"training\", \"epoch\": 4, \"model\": 0}, \"Metrics\": {\"train_binary_classification_cross_entropy_objective\": {\"sum\": 0.4952482940532543, \"count\": 1, \"min\": 0.4952482940532543, \"max\": 0.4952482940532543}}}\u001b[0m\n",
      "\u001b[34m#metrics {\"StartTime\": 1730636362.803788, \"EndTime\": 1730636362.8038113, \"Dimensions\": {\"Algorithm\": \"Linear Learner\", \"Host\": \"algo-1\", \"Operation\": \"training\", \"epoch\": 4, \"model\": 1}, \"Metrics\": {\"train_binary_classification_cross_entropy_objective\": {\"sum\": 0.4954821685974953, \"count\": 1, \"min\": 0.4954821685974953, \"max\": 0.4954821685974953}}}\u001b[0m\n",
      "\u001b[34m#metrics {\"StartTime\": 1730636362.8038452, \"EndTime\": 1730636362.8038542, \"Dimensions\": {\"Algorithm\": \"Linear Learner\", \"Host\": \"algo-1\", \"Operation\": \"training\", \"epoch\": 4, \"model\": 2}, \"Metrics\": {\"train_binary_classification_cross_entropy_objective\": {\"sum\": 0.495311508145389, \"count\": 1, \"min\": 0.495311508145389, \"max\": 0.495311508145389}}}\u001b[0m\n",
      "\u001b[34m#metrics {\"StartTime\": 1730636362.8038836, \"EndTime\": 1730636362.8038914, \"Dimensions\": {\"Algorithm\": \"Linear Learner\", \"Host\": \"algo-1\", \"Operation\": \"training\", \"epoch\": 4, \"model\": 3}, \"Metrics\": {\"train_binary_classification_cross_entropy_objective\": {\"sum\": 0.49548216869079675, \"count\": 1, \"min\": 0.49548216869079675, \"max\": 0.49548216869079675}}}\u001b[0m\n",
      "\u001b[34m#metrics {\"StartTime\": 1730636362.8039196, \"EndTime\": 1730636362.8039284, \"Dimensions\": {\"Algorithm\": \"Linear Learner\", \"Host\": \"algo-1\", \"Operation\": \"training\", \"epoch\": 4, \"model\": 4}, \"Metrics\": {\"train_binary_classification_cross_entropy_objective\": {\"sum\": 0.49523613016060564, \"count\": 1, \"min\": 0.49523613016060564, \"max\": 0.49523613016060564}}}\u001b[0m\n",
      "\u001b[34m#metrics {\"StartTime\": 1730636362.803953, \"EndTime\": 1730636362.8039603, \"Dimensions\": {\"Algorithm\": \"Linear Learner\", \"Host\": \"algo-1\", \"Operation\": \"training\", \"epoch\": 4, \"model\": 5}, \"Metrics\": {\"train_binary_classification_cross_entropy_objective\": {\"sum\": 0.4997191335303562, \"count\": 1, \"min\": 0.4997191335303562, \"max\": 0.4997191335303562}}}\u001b[0m\n",
      "\u001b[34m#metrics {\"StartTime\": 1730636362.8039887, \"EndTime\": 1730636362.8039978, \"Dimensions\": {\"Algorithm\": \"Linear Learner\", \"Host\": \"algo-1\", \"Operation\": \"training\", \"epoch\": 4, \"model\": 6}, \"Metrics\": {\"train_binary_classification_cross_entropy_objective\": {\"sum\": 0.49530671346279226, \"count\": 1, \"min\": 0.49530671346279226, \"max\": 0.49530671346279226}}}\u001b[0m\n",
      "\u001b[34m#metrics {\"StartTime\": 1730636362.8040273, \"EndTime\": 1730636362.8040357, \"Dimensions\": {\"Algorithm\": \"Linear Learner\", \"Host\": \"algo-1\", \"Operation\": \"training\", \"epoch\": 4, \"model\": 7}, \"Metrics\": {\"train_binary_classification_cross_entropy_objective\": {\"sum\": 0.4997191340968294, \"count\": 1, \"min\": 0.4997191340968294, \"max\": 0.4997191340968294}}}\u001b[0m\n",
      "\u001b[34m#metrics {\"StartTime\": 1730636362.8040597, \"EndTime\": 1730636362.804067, \"Dimensions\": {\"Algorithm\": \"Linear Learner\", \"Host\": \"algo-1\", \"Operation\": \"training\", \"epoch\": 4, \"model\": 8}, \"Metrics\": {\"train_binary_classification_cross_entropy_objective\": {\"sum\": 0.49538446088506993, \"count\": 1, \"min\": 0.49538446088506993, \"max\": 0.49538446088506993}}}\u001b[0m\n",
      "\u001b[34m#metrics {\"StartTime\": 1730636362.8040955, \"EndTime\": 1730636362.8041031, \"Dimensions\": {\"Algorithm\": \"Linear Learner\", \"Host\": \"algo-1\", \"Operation\": \"training\", \"epoch\": 4, \"model\": 9}, \"Metrics\": {\"train_binary_classification_cross_entropy_objective\": {\"sum\": 0.49562002872437716, \"count\": 1, \"min\": 0.49562002872437716, \"max\": 0.49562002872437716}}}\u001b[0m\n",
      "\u001b[34m#metrics {\"StartTime\": 1730636362.8041327, \"EndTime\": 1730636362.8041463, \"Dimensions\": {\"Algorithm\": \"Linear Learner\", \"Host\": \"algo-1\", \"Operation\": \"training\", \"epoch\": 4, \"model\": 10}, \"Metrics\": {\"train_binary_classification_cross_entropy_objective\": {\"sum\": 0.4954530742400014, \"count\": 1, \"min\": 0.4954530742400014, \"max\": 0.4954530742400014}}}\u001b[0m\n",
      "\u001b[34m#metrics {\"StartTime\": 1730636362.8041725, \"EndTime\": 1730636362.8041794, \"Dimensions\": {\"Algorithm\": \"Linear Learner\", \"Host\": \"algo-1\", \"Operation\": \"training\", \"epoch\": 4, \"model\": 11}, \"Metrics\": {\"train_binary_classification_cross_entropy_objective\": {\"sum\": 0.49562002879102107, \"count\": 1, \"min\": 0.49562002879102107, \"max\": 0.49562002879102107}}}\u001b[0m\n",
      "\u001b[34m#metrics {\"StartTime\": 1730636362.8042023, \"EndTime\": 1730636362.8042092, \"Dimensions\": {\"Algorithm\": \"Linear Learner\", \"Host\": \"algo-1\", \"Operation\": \"training\", \"epoch\": 4, \"model\": 12}, \"Metrics\": {\"train_binary_classification_cross_entropy_objective\": {\"sum\": 0.4953881408683409, \"count\": 1, \"min\": 0.4953881408683409, \"max\": 0.4953881408683409}}}\u001b[0m\n",
      "\u001b[34m#metrics {\"StartTime\": 1730636362.804233, \"EndTime\": 1730636362.80424, \"Dimensions\": {\"Algorithm\": \"Linear Learner\", \"Host\": \"algo-1\", \"Operation\": \"training\", \"epoch\": 4, \"model\": 13}, \"Metrics\": {\"train_binary_classification_cross_entropy_objective\": {\"sum\": 0.49962172705505714, \"count\": 1, \"min\": 0.49962172705505714, \"max\": 0.49962172705505714}}}\u001b[0m\n",
      "\u001b[34m#metrics {\"StartTime\": 1730636362.8042662, \"EndTime\": 1730636362.804274, \"Dimensions\": {\"Algorithm\": \"Linear Learner\", \"Host\": \"algo-1\", \"Operation\": \"training\", \"epoch\": 4, \"model\": 14}, \"Metrics\": {\"train_binary_classification_cross_entropy_objective\": {\"sum\": 0.4954531810968427, \"count\": 1, \"min\": 0.4954531810968427, \"max\": 0.4954531810968427}}}\u001b[0m\n",
      "\u001b[34m#metrics {\"StartTime\": 1730636362.8043008, \"EndTime\": 1730636362.8043087, \"Dimensions\": {\"Algorithm\": \"Linear Learner\", \"Host\": \"algo-1\", \"Operation\": \"training\", \"epoch\": 4, \"model\": 15}, \"Metrics\": {\"train_binary_classification_cross_entropy_objective\": {\"sum\": 0.49962172723499565, \"count\": 1, \"min\": 0.49962172723499565, \"max\": 0.49962172723499565}}}\u001b[0m\n",
      "\u001b[34m#metrics {\"StartTime\": 1730636362.804336, \"EndTime\": 1730636362.8043432, \"Dimensions\": {\"Algorithm\": \"Linear Learner\", \"Host\": \"algo-1\", \"Operation\": \"training\", \"epoch\": 4, \"model\": 16}, \"Metrics\": {\"train_binary_classification_cross_entropy_objective\": {\"sum\": 0.5082441459245235, \"count\": 1, \"min\": 0.5082441459245235, \"max\": 0.5082441459245235}}}\u001b[0m\n",
      "\u001b[34m#metrics {\"StartTime\": 1730636362.804369, \"EndTime\": 1730636362.804377, \"Dimensions\": {\"Algorithm\": \"Linear Learner\", \"Host\": \"algo-1\", \"Operation\": \"training\", \"epoch\": 4, \"model\": 17}, \"Metrics\": {\"train_binary_classification_cross_entropy_objective\": {\"sum\": 0.5083128508881702, \"count\": 1, \"min\": 0.5083128508881702, \"max\": 0.5083128508881702}}}\u001b[0m\n",
      "\u001b[34m#metrics {\"StartTime\": 1730636362.8044043, \"EndTime\": 1730636362.804412, \"Dimensions\": {\"Algorithm\": \"Linear Learner\", \"Host\": \"algo-1\", \"Operation\": \"training\", \"epoch\": 4, \"model\": 18}, \"Metrics\": {\"train_binary_classification_cross_entropy_objective\": {\"sum\": 0.5082610412547007, \"count\": 1, \"min\": 0.5082610412547007, \"max\": 0.5082610412547007}}}\u001b[0m\n",
      "\u001b[34m#metrics {\"StartTime\": 1730636362.8044379, \"EndTime\": 1730636362.8044462, \"Dimensions\": {\"Algorithm\": \"Linear Learner\", \"Host\": \"algo-1\", \"Operation\": \"training\", \"epoch\": 4, \"model\": 19}, \"Metrics\": {\"train_binary_classification_cross_entropy_objective\": {\"sum\": 0.508312850814862, \"count\": 1, \"min\": 0.508312850814862, \"max\": 0.508312850814862}}}\u001b[0m\n",
      "\u001b[34m#metrics {\"StartTime\": 1730636362.80447, \"EndTime\": 1730636362.8044767, \"Dimensions\": {\"Algorithm\": \"Linear Learner\", \"Host\": \"algo-1\", \"Operation\": \"training\", \"epoch\": 4, \"model\": 20}, \"Metrics\": {\"train_binary_classification_cross_entropy_objective\": {\"sum\": 0.5082441285304636, \"count\": 1, \"min\": 0.5082441285304636, \"max\": 0.5082441285304636}}}\u001b[0m\n",
      "\u001b[34m#metrics {\"StartTime\": 1730636362.8044994, \"EndTime\": 1730636362.804506, \"Dimensions\": {\"Algorithm\": \"Linear Learner\", \"Host\": \"algo-1\", \"Operation\": \"training\", \"epoch\": 4, \"model\": 21}, \"Metrics\": {\"train_binary_classification_cross_entropy_objective\": {\"sum\": 0.5093525367579537, \"count\": 1, \"min\": 0.5093525367579537, \"max\": 0.5093525367579537}}}\u001b[0m\n",
      "\u001b[34m#metrics {\"StartTime\": 1730636362.8045337, \"EndTime\": 1730636362.804542, \"Dimensions\": {\"Algorithm\": \"Linear Learner\", \"Host\": \"algo-1\", \"Operation\": \"training\", \"epoch\": 4, \"model\": 22}, \"Metrics\": {\"train_binary_classification_cross_entropy_objective\": {\"sum\": 0.5082610412280432, \"count\": 1, \"min\": 0.5082610412280432, \"max\": 0.5082610412280432}}}\u001b[0m\n",
      "\u001b[34m#metrics {\"StartTime\": 1730636362.804582, \"EndTime\": 1730636362.8045897, \"Dimensions\": {\"Algorithm\": \"Linear Learner\", \"Host\": \"algo-1\", \"Operation\": \"training\", \"epoch\": 4, \"model\": 23}, \"Metrics\": {\"train_binary_classification_cross_entropy_objective\": {\"sum\": 0.5093525369112347, \"count\": 1, \"min\": 0.5093525369112347, \"max\": 0.5093525369112347}}}\u001b[0m\n",
      "\u001b[34m#metrics {\"StartTime\": 1730636362.8046172, \"EndTime\": 1730636362.8046246, \"Dimensions\": {\"Algorithm\": \"Linear Learner\", \"Host\": \"algo-1\", \"Operation\": \"training\", \"epoch\": 4, \"model\": 24}, \"Metrics\": {\"train_binary_classification_cross_entropy_objective\": {\"sum\": 0.5137667215095376, \"count\": 1, \"min\": 0.5137667215095376, \"max\": 0.5137667215095376}}}\u001b[0m\n",
      "\u001b[34m#metrics {\"StartTime\": 1730636362.804656, \"EndTime\": 1730636362.804672, \"Dimensions\": {\"Algorithm\": \"Linear Learner\", \"Host\": \"algo-1\", \"Operation\": \"training\", \"epoch\": 4, \"model\": 25}, \"Metrics\": {\"train_binary_classification_cross_entropy_objective\": {\"sum\": 0.51380192694674, \"count\": 1, \"min\": 0.51380192694674, \"max\": 0.51380192694674}}}\u001b[0m\n",
      "\u001b[34m#metrics {\"StartTime\": 1730636362.8046951, \"EndTime\": 1730636362.8047037, \"Dimensions\": {\"Algorithm\": \"Linear Learner\", \"Host\": \"algo-1\", \"Operation\": \"training\", \"epoch\": 4, \"model\": 26}, \"Metrics\": {\"train_binary_classification_cross_entropy_objective\": {\"sum\": 0.5137760239660448, \"count\": 1, \"min\": 0.5137760239660448, \"max\": 0.5137760239660448}}}\u001b[0m\n",
      "\u001b[34m#metrics {\"StartTime\": 1730636362.8047285, \"EndTime\": 1730636362.8047354, \"Dimensions\": {\"Algorithm\": \"Linear Learner\", \"Host\": \"algo-1\", \"Operation\": \"training\", \"epoch\": 4, \"model\": 27}, \"Metrics\": {\"train_binary_classification_cross_entropy_objective\": {\"sum\": 0.51380192694674, \"count\": 1, \"min\": 0.51380192694674, \"max\": 0.51380192694674}}}\u001b[0m\n",
      "\u001b[34m#metrics {\"StartTime\": 1730636362.80476, \"EndTime\": 1730636362.8047671, \"Dimensions\": {\"Algorithm\": \"Linear Learner\", \"Host\": \"algo-1\", \"Operation\": \"training\", \"epoch\": 4, \"model\": 28}, \"Metrics\": {\"train_binary_classification_cross_entropy_objective\": {\"sum\": 0.5137667212496264, \"count\": 1, \"min\": 0.5137667212496264, \"max\": 0.5137667212496264}}}\u001b[0m\n",
      "\u001b[34m#metrics {\"StartTime\": 1730636362.8047938, \"EndTime\": 1730636362.8048024, \"Dimensions\": {\"Algorithm\": \"Linear Learner\", \"Host\": \"algo-1\", \"Operation\": \"training\", \"epoch\": 4, \"model\": 29}, \"Metrics\": {\"train_binary_classification_cross_entropy_objective\": {\"sum\": 0.5142686505854172, \"count\": 1, \"min\": 0.5142686505854172, \"max\": 0.5142686505854172}}}\u001b[0m\n",
      "\u001b[34m#metrics {\"StartTime\": 1730636362.804828, \"EndTime\": 1730636362.8048356, \"Dimensions\": {\"Algorithm\": \"Linear Learner\", \"Host\": \"algo-1\", \"Operation\": \"training\", \"epoch\": 4, \"model\": 30}, \"Metrics\": {\"train_binary_classification_cross_entropy_objective\": {\"sum\": 0.5137760239593805, \"count\": 1, \"min\": 0.5137760239593805, \"max\": 0.5137760239593805}}}\u001b[0m\n",
      "\u001b[34m#metrics {\"StartTime\": 1730636362.8048618, \"EndTime\": 1730636362.8048706, \"Dimensions\": {\"Algorithm\": \"Linear Learner\", \"Host\": \"algo-1\", \"Operation\": \"training\", \"epoch\": 4, \"model\": 31}, \"Metrics\": {\"train_binary_classification_cross_entropy_objective\": {\"sum\": 0.5142686505854172, \"count\": 1, \"min\": 0.5142686505854172, \"max\": 0.5142686505854172}}}\u001b[0m\n",
      "\u001b[34m[11/03/2024 12:19:22 INFO 140606159963968] #quality_metric: host=algo-1, epoch=4, train binary_classification_cross_entropy_objective <loss>=0.4952482940532543\u001b[0m\n",
      "\u001b[34m[2024-11-03 12:19:37.857] [tensorio] [info] epoch_stats={\"data_pipeline\": \"/opt/ml/input/data/validation\", \"epoch\": 14, \"duration\": 15040, \"num_examples\": 1227, \"num_bytes\": 84396272}\u001b[0m\n",
      "\u001b[34m#metrics {\"StartTime\": 1730636380.0275736, \"EndTime\": 1730636380.0276315, \"Dimensions\": {\"Algorithm\": \"Linear Learner\", \"Host\": \"algo-1\", \"Operation\": \"training\", \"epoch\": 4, \"model\": 0}, \"Metrics\": {\"validation_binary_classification_cross_entropy_objective\": {\"sum\": 0.49477756596864025, \"count\": 1, \"min\": 0.49477756596864025, \"max\": 0.49477756596864025}}}\u001b[0m\n",
      "\u001b[34m#metrics {\"StartTime\": 1730636380.0276997, \"EndTime\": 1730636380.0277135, \"Dimensions\": {\"Algorithm\": \"Linear Learner\", \"Host\": \"algo-1\", \"Operation\": \"training\", \"epoch\": 4, \"model\": 1}, \"Metrics\": {\"validation_binary_classification_cross_entropy_objective\": {\"sum\": 0.49486814783956456, \"count\": 1, \"min\": 0.49486814783956456, \"max\": 0.49486814783956456}}}\u001b[0m\n",
      "\u001b[34m#metrics {\"StartTime\": 1730636380.0277433, \"EndTime\": 1730636380.0277522, \"Dimensions\": {\"Algorithm\": \"Linear Learner\", \"Host\": \"algo-1\", \"Operation\": \"training\", \"epoch\": 4, \"model\": 2}, \"Metrics\": {\"validation_binary_classification_cross_entropy_objective\": {\"sum\": 0.49479499788098263, \"count\": 1, \"min\": 0.49479499788098263, \"max\": 0.49479499788098263}}}\u001b[0m\n",
      "\u001b[34m#metrics {\"StartTime\": 1730636380.0277784, \"EndTime\": 1730636380.027787, \"Dimensions\": {\"Algorithm\": \"Linear Learner\", \"Host\": \"algo-1\", \"Operation\": \"training\", \"epoch\": 4, \"model\": 3}, \"Metrics\": {\"validation_binary_classification_cross_entropy_objective\": {\"sum\": 0.494868144076769, \"count\": 1, \"min\": 0.494868144076769, \"max\": 0.494868144076769}}}\u001b[0m\n",
      "\u001b[34m#metrics {\"StartTime\": 1730636380.0278156, \"EndTime\": 1730636380.0278237, \"Dimensions\": {\"Algorithm\": \"Linear Learner\", \"Host\": \"algo-1\", \"Operation\": \"training\", \"epoch\": 4, \"model\": 4}, \"Metrics\": {\"validation_binary_classification_cross_entropy_objective\": {\"sum\": 0.4947618071320349, \"count\": 1, \"min\": 0.4947618071320349, \"max\": 0.4947618071320349}}}\u001b[0m\n",
      "\u001b[34m#metrics {\"StartTime\": 1730636380.027849, \"EndTime\": 1730636380.027857, \"Dimensions\": {\"Algorithm\": \"Linear Learner\", \"Host\": \"algo-1\", \"Operation\": \"training\", \"epoch\": 4, \"model\": 5}, \"Metrics\": {\"validation_binary_classification_cross_entropy_objective\": {\"sum\": 0.4983845444178987, \"count\": 1, \"min\": 0.4983845444178987, \"max\": 0.4983845444178987}}}\u001b[0m\n",
      "\u001b[34m#metrics {\"StartTime\": 1730636380.027882, \"EndTime\": 1730636380.02789, \"Dimensions\": {\"Algorithm\": \"Linear Learner\", \"Host\": \"algo-1\", \"Operation\": \"training\", \"epoch\": 4, \"model\": 6}, \"Metrics\": {\"validation_binary_classification_cross_entropy_objective\": {\"sum\": 0.4947876555784237, \"count\": 1, \"min\": 0.4947876555784237, \"max\": 0.4947876555784237}}}\u001b[0m\n",
      "\u001b[34m#metrics {\"StartTime\": 1730636380.027921, \"EndTime\": 1730636380.0279303, \"Dimensions\": {\"Algorithm\": \"Linear Learner\", \"Host\": \"algo-1\", \"Operation\": \"training\", \"epoch\": 4, \"model\": 7}, \"Metrics\": {\"validation_binary_classification_cross_entropy_objective\": {\"sum\": 0.49838454513314084, \"count\": 1, \"min\": 0.49838454513314084, \"max\": 0.49838454513314084}}}\u001b[0m\n",
      "\u001b[34m#metrics {\"StartTime\": 1730636380.0279539, \"EndTime\": 1730636380.0279624, \"Dimensions\": {\"Algorithm\": \"Linear Learner\", \"Host\": \"algo-1\", \"Operation\": \"training\", \"epoch\": 4, \"model\": 8}, \"Metrics\": {\"validation_binary_classification_cross_entropy_objective\": {\"sum\": 0.4949371325700411, \"count\": 1, \"min\": 0.4949371325700411, \"max\": 0.4949371325700411}}}\u001b[0m\n",
      "\u001b[34m#metrics {\"StartTime\": 1730636380.02799, \"EndTime\": 1730636380.0279984, \"Dimensions\": {\"Algorithm\": \"Linear Learner\", \"Host\": \"algo-1\", \"Operation\": \"training\", \"epoch\": 4, \"model\": 9}, \"Metrics\": {\"validation_binary_classification_cross_entropy_objective\": {\"sum\": 0.49501385264417697, \"count\": 1, \"min\": 0.49501385264417697, \"max\": 0.49501385264417697}}}\u001b[0m\n",
      "\u001b[34m#metrics {\"StartTime\": 1730636380.0280297, \"EndTime\": 1730636380.0280366, \"Dimensions\": {\"Algorithm\": \"Linear Learner\", \"Host\": \"algo-1\", \"Operation\": \"training\", \"epoch\": 4, \"model\": 10}, \"Metrics\": {\"validation_binary_classification_cross_entropy_objective\": {\"sum\": 0.49494715208609563, \"count\": 1, \"min\": 0.49494715208609563, \"max\": 0.49494715208609563}}}\u001b[0m\n",
      "\u001b[34m#metrics {\"StartTime\": 1730636380.0280616, \"EndTime\": 1730636380.0280697, \"Dimensions\": {\"Algorithm\": \"Linear Learner\", \"Host\": \"algo-1\", \"Operation\": \"training\", \"epoch\": 4, \"model\": 11}, \"Metrics\": {\"validation_binary_classification_cross_entropy_objective\": {\"sum\": 0.49501385230210465, \"count\": 1, \"min\": 0.49501385230210465, \"max\": 0.49501385230210465}}}\u001b[0m\n",
      "\u001b[34m#metrics {\"StartTime\": 1730636380.028099, \"EndTime\": 1730636380.028107, \"Dimensions\": {\"Algorithm\": \"Linear Learner\", \"Host\": \"algo-1\", \"Operation\": \"training\", \"epoch\": 4, \"model\": 12}, \"Metrics\": {\"validation_binary_classification_cross_entropy_objective\": {\"sum\": 0.49494249035556065, \"count\": 1, \"min\": 0.49494249035556065, \"max\": 0.49494249035556065}}}\u001b[0m\n",
      "\u001b[34m#metrics {\"StartTime\": 1730636380.0281348, \"EndTime\": 1730636380.0281427, \"Dimensions\": {\"Algorithm\": \"Linear Learner\", \"Host\": \"algo-1\", \"Operation\": \"training\", \"epoch\": 4, \"model\": 13}, \"Metrics\": {\"validation_binary_classification_cross_entropy_objective\": {\"sum\": 0.49827106195548454, \"count\": 1, \"min\": 0.49827106195548454, \"max\": 0.49827106195548454}}}\u001b[0m\n",
      "\u001b[34m#metrics {\"StartTime\": 1730636380.0281682, \"EndTime\": 1730636380.0281746, \"Dimensions\": {\"Algorithm\": \"Linear Learner\", \"Host\": \"algo-1\", \"Operation\": \"training\", \"epoch\": 4, \"model\": 14}, \"Metrics\": {\"validation_binary_classification_cross_entropy_objective\": {\"sum\": 0.49494734781366, \"count\": 1, \"min\": 0.49494734781366, \"max\": 0.49494734781366}}}\u001b[0m\n",
      "\u001b[34m#metrics {\"StartTime\": 1730636380.028197, \"EndTime\": 1730636380.028204, \"Dimensions\": {\"Algorithm\": \"Linear Learner\", \"Host\": \"algo-1\", \"Operation\": \"training\", \"epoch\": 4, \"model\": 15}, \"Metrics\": {\"validation_binary_classification_cross_entropy_objective\": {\"sum\": 0.4982710631682864, \"count\": 1, \"min\": 0.4982710631682864, \"max\": 0.4982710631682864}}}\u001b[0m\n",
      "\u001b[34m#metrics {\"StartTime\": 1730636380.0282378, \"EndTime\": 1730636380.0282454, \"Dimensions\": {\"Algorithm\": \"Linear Learner\", \"Host\": \"algo-1\", \"Operation\": \"training\", \"epoch\": 4, \"model\": 16}, \"Metrics\": {\"validation_binary_classification_cross_entropy_objective\": {\"sum\": 0.5081018888014216, \"count\": 1, \"min\": 0.5081018888014216, \"max\": 0.5081018888014216}}}\u001b[0m\n",
      "\u001b[34m#metrics {\"StartTime\": 1730636380.0282733, \"EndTime\": 1730636380.0282805, \"Dimensions\": {\"Algorithm\": \"Linear Learner\", \"Host\": \"algo-1\", \"Operation\": \"training\", \"epoch\": 4, \"model\": 17}, \"Metrics\": {\"validation_binary_classification_cross_entropy_objective\": {\"sum\": 0.5080919388193413, \"count\": 1, \"min\": 0.5080919388193413, \"max\": 0.5080919388193413}}}\u001b[0m\n",
      "\u001b[34m#metrics {\"StartTime\": 1730636380.0283065, \"EndTime\": 1730636380.0283146, \"Dimensions\": {\"Algorithm\": \"Linear Learner\", \"Host\": \"algo-1\", \"Operation\": \"training\", \"epoch\": 4, \"model\": 18}, \"Metrics\": {\"validation_binary_classification_cross_entropy_objective\": {\"sum\": 0.5080859157964439, \"count\": 1, \"min\": 0.5080859157964439, \"max\": 0.5080859157964439}}}\u001b[0m\n",
      "\u001b[34m#metrics {\"StartTime\": 1730636380.028342, \"EndTime\": 1730636380.0283499, \"Dimensions\": {\"Algorithm\": \"Linear Learner\", \"Host\": \"algo-1\", \"Operation\": \"training\", \"epoch\": 4, \"model\": 19}, \"Metrics\": {\"validation_binary_classification_cross_entropy_objective\": {\"sum\": 0.5080919386949514, \"count\": 1, \"min\": 0.5080919386949514, \"max\": 0.5080919386949514}}}\u001b[0m\n",
      "\u001b[34m#metrics {\"StartTime\": 1730636380.0283742, \"EndTime\": 1730636380.0283828, \"Dimensions\": {\"Algorithm\": \"Linear Learner\", \"Host\": \"algo-1\", \"Operation\": \"training\", \"epoch\": 4, \"model\": 20}, \"Metrics\": {\"validation_binary_classification_cross_entropy_objective\": {\"sum\": 0.5081018813380255, \"count\": 1, \"min\": 0.5081018813380255, \"max\": 0.5081018813380255}}}\u001b[0m\n",
      "\u001b[34m#metrics {\"StartTime\": 1730636380.0284047, \"EndTime\": 1730636380.0284133, \"Dimensions\": {\"Algorithm\": \"Linear Learner\", \"Host\": \"algo-1\", \"Operation\": \"training\", \"epoch\": 4, \"model\": 21}, \"Metrics\": {\"validation_binary_classification_cross_entropy_objective\": {\"sum\": 0.5074965097577118, \"count\": 1, \"min\": 0.5074965097577118, \"max\": 0.5074965097577118}}}\u001b[0m\n",
      "\u001b[34m#metrics {\"StartTime\": 1730636380.0284424, \"EndTime\": 1730636380.02845, \"Dimensions\": {\"Algorithm\": \"Linear Learner\", \"Host\": \"algo-1\", \"Operation\": \"training\", \"epoch\": 4, \"model\": 22}, \"Metrics\": {\"validation_binary_classification_cross_entropy_objective\": {\"sum\": 0.5080859157964439, \"count\": 1, \"min\": 0.5080859157964439, \"max\": 0.5080859157964439}}}\u001b[0m\n",
      "\u001b[34m#metrics {\"StartTime\": 1730636380.0284762, \"EndTime\": 1730636380.0284848, \"Dimensions\": {\"Algorithm\": \"Linear Learner\", \"Host\": \"algo-1\", \"Operation\": \"training\", \"epoch\": 4, \"model\": 23}, \"Metrics\": {\"validation_binary_classification_cross_entropy_objective\": {\"sum\": 0.5074965093534445, \"count\": 1, \"min\": 0.5074965093534445, \"max\": 0.5074965093534445}}}\u001b[0m\n",
      "\u001b[34m#metrics {\"StartTime\": 1730636380.0285065, \"EndTime\": 1730636380.028515, \"Dimensions\": {\"Algorithm\": \"Linear Learner\", \"Host\": \"algo-1\", \"Operation\": \"training\", \"epoch\": 4, \"model\": 24}, \"Metrics\": {\"validation_binary_classification_cross_entropy_objective\": {\"sum\": 0.5137638795497201, \"count\": 1, \"min\": 0.5137638795497201, \"max\": 0.5137638795497201}}}\u001b[0m\n",
      "\u001b[34m#metrics {\"StartTime\": 1730636380.0285373, \"EndTime\": 1730636380.0285447, \"Dimensions\": {\"Algorithm\": \"Linear Learner\", \"Host\": \"algo-1\", \"Operation\": \"training\", \"epoch\": 4, \"model\": 25}, \"Metrics\": {\"validation_binary_classification_cross_entropy_objective\": {\"sum\": 0.5137249315058758, \"count\": 1, \"min\": 0.5137249315058758, \"max\": 0.5137249315058758}}}\u001b[0m\n",
      "\u001b[34m#metrics {\"StartTime\": 1730636380.028569, \"EndTime\": 1730636380.0285769, \"Dimensions\": {\"Algorithm\": \"Linear Learner\", \"Host\": \"algo-1\", \"Operation\": \"training\", \"epoch\": 4, \"model\": 26}, \"Metrics\": {\"validation_binary_classification_cross_entropy_objective\": {\"sum\": 0.5137478436656298, \"count\": 1, \"min\": 0.5137478436656298, \"max\": 0.5137478436656298}}}\u001b[0m\n",
      "\u001b[34m#metrics {\"StartTime\": 1730636380.0286026, \"EndTime\": 1730636380.0286105, \"Dimensions\": {\"Algorithm\": \"Linear Learner\", \"Host\": \"algo-1\", \"Operation\": \"training\", \"epoch\": 4, \"model\": 27}, \"Metrics\": {\"validation_binary_classification_cross_entropy_objective\": {\"sum\": 0.5137249315058758, \"count\": 1, \"min\": 0.5137249315058758, \"max\": 0.5137249315058758}}}\u001b[0m\n",
      "\u001b[34m#metrics {\"StartTime\": 1730636380.028639, \"EndTime\": 1730636380.0286474, \"Dimensions\": {\"Algorithm\": \"Linear Learner\", \"Host\": \"algo-1\", \"Operation\": \"training\", \"epoch\": 4, \"model\": 28}, \"Metrics\": {\"validation_binary_classification_cross_entropy_objective\": {\"sum\": 0.5137638795497201, \"count\": 1, \"min\": 0.5137638795497201, \"max\": 0.5137638795497201}}}\u001b[0m\n",
      "\u001b[34m#metrics {\"StartTime\": 1730636380.0286763, \"EndTime\": 1730636380.0286849, \"Dimensions\": {\"Algorithm\": \"Linear Learner\", \"Host\": \"algo-1\", \"Operation\": \"training\", \"epoch\": 4, \"model\": 29}, \"Metrics\": {\"validation_binary_classification_cross_entropy_objective\": {\"sum\": 0.5139371803549326, \"count\": 1, \"min\": 0.5139371803549326, \"max\": 0.5139371803549326}}}\u001b[0m\n",
      "\u001b[34m#metrics {\"StartTime\": 1730636380.0287085, \"EndTime\": 1730636380.028716, \"Dimensions\": {\"Algorithm\": \"Linear Learner\", \"Host\": \"algo-1\", \"Operation\": \"training\", \"epoch\": 4, \"model\": 30}, \"Metrics\": {\"validation_binary_classification_cross_entropy_objective\": {\"sum\": 0.5137478436656298, \"count\": 1, \"min\": 0.5137478436656298, \"max\": 0.5137478436656298}}}\u001b[0m\n",
      "\u001b[34m#metrics {\"StartTime\": 1730636380.028744, \"EndTime\": 1730636380.0287516, \"Dimensions\": {\"Algorithm\": \"Linear Learner\", \"Host\": \"algo-1\", \"Operation\": \"training\", \"epoch\": 4, \"model\": 31}, \"Metrics\": {\"validation_binary_classification_cross_entropy_objective\": {\"sum\": 0.5139371802616401, \"count\": 1, \"min\": 0.5139371802616401, \"max\": 0.5139371802616401}}}\u001b[0m\n",
      "\u001b[34m[11/03/2024 12:19:40 INFO 140606159963968] #quality_metric: host=algo-1, epoch=4, validation binary_classification_cross_entropy_objective <loss>=0.49477756596864025\u001b[0m\n",
      "\u001b[34m[11/03/2024 12:19:40 INFO 140606159963968] #early_stopping_criteria_metric: host=algo-1, epoch=4, criteria=sampled_accuracy, value=0.7903586073091001\u001b[0m\n",
      "\u001b[34m[11/03/2024 12:19:40 INFO 140606159963968] Epoch 4: Loss improved. Updating best model\u001b[0m\n",
      "\u001b[34m[11/03/2024 12:19:40 INFO 140606159963968] Saving model for epoch: 4\u001b[0m\n",
      "\u001b[34m[11/03/2024 12:19:40 INFO 140606159963968] Saved checkpoint to \"/tmp/tmp25sy382x/mx-mod-0000.params\"\u001b[0m\n",
      "\u001b[34m[11/03/2024 12:19:40 INFO 140606159963968] #progress_metric: host=algo-1, completed 100.0 % of epochs\u001b[0m\n",
      "\u001b[34m#metrics {\"StartTime\": 1730636261.4884882, \"EndTime\": 1730636380.0336113, \"Dimensions\": {\"Algorithm\": \"Linear Learner\", \"Host\": \"algo-1\", \"Operation\": \"training\", \"epoch\": 4, \"Meta\": \"training_data_iter\"}, \"Metrics\": {\"Total Records Seen\": {\"sum\": 5734965.0, \"count\": 1, \"min\": 5734965, \"max\": 5734965}, \"Total Batches Seen\": {\"sum\": 28677.0, \"count\": 1, \"min\": 28677, \"max\": 28677}, \"Max Records Seen Between Resets\": {\"sum\": 1144913.0, \"count\": 1, \"min\": 1144913, \"max\": 1144913}, \"Max Batches Seen Between Resets\": {\"sum\": 5725.0, \"count\": 1, \"min\": 5725, \"max\": 5725}, \"Reset Count\": {\"sum\": 7.0, \"count\": 1, \"min\": 7, \"max\": 7}, \"Number of Records Since Last Reset\": {\"sum\": 1144913.0, \"count\": 1, \"min\": 1144913, \"max\": 1144913}, \"Number of Batches Since Last Reset\": {\"sum\": 5725.0, \"count\": 1, \"min\": 5725, \"max\": 5725}}}\u001b[0m\n",
      "\u001b[34m[11/03/2024 12:19:40 INFO 140606159963968] #throughput_metric: host=algo-1, train throughput=9658.026348244792 records/second\u001b[0m\n",
      "\u001b[34m[11/03/2024 12:19:40 WARNING 140606159963968] wait_for_all_workers will not sync workers since the kv store is not running distributed\u001b[0m\n",
      "\u001b[34m[11/03/2024 12:19:40 WARNING 140606159963968] wait_for_all_workers will not sync workers since the kv store is not running distributed\u001b[0m\n",
      "\u001b[34m[2024-11-03 12:19:55.171] [tensorio] [info] epoch_stats={\"data_pipeline\": \"/opt/ml/input/data/validation\", \"epoch\": 17, \"duration\": 15126, \"num_examples\": 1227, \"num_bytes\": 84396272}\u001b[0m\n",
      "\u001b[34m[11/03/2024 12:19:57 INFO 140606159963968] #early_stopping_criteria_metric: host=algo-1, epoch=4, criteria=sampled_accuracy, value=0.7903586073091001\u001b[0m\n",
      "\u001b[34m[11/03/2024 12:19:57 INFO 140606159963968] Epoch 4: Loss improved. Updating best model\u001b[0m\n",
      "\u001b[34m[2024-11-03 12:20:00.155] [tensorio] [info] epoch_stats={\"data_pipeline\": \"/opt/ml/input/data/validation\", \"epoch\": 19, \"duration\": 2806, \"num_examples\": 1227, \"num_bytes\": 84396272}\u001b[0m\n",
      "\u001b[34m[11/03/2024 12:20:00 INFO 140606159963968] #validation_score (algo-1) : ('binary_classification_cross_entropy_objective', 0.49501385264417697)\u001b[0m\n",
      "\u001b[34m[11/03/2024 12:20:00 INFO 140606159963968] #validation_score (algo-1) : ('binary_classification_accuracy', 0.7903545312996764)\u001b[0m\n",
      "\u001b[34m[11/03/2024 12:20:00 INFO 140606159963968] #validation_score (algo-1) : ('binary_f_1.000', 0.032759139461411166)\u001b[0m\n",
      "\u001b[34m[11/03/2024 12:20:00 INFO 140606159963968] #validation_score (algo-1) : ('precision', 0.5196897374701671)\u001b[0m\n",
      "\u001b[34m[11/03/2024 12:20:00 INFO 140606159963968] #validation_score (algo-1) : ('recall', 0.0169126213592233)\u001b[0m\n",
      "\u001b[34m[11/03/2024 12:20:00 INFO 140606159963968] #validation_score (algo-1) : ('roc_auc_score', 0.6342030276107853)\u001b[0m\n",
      "\u001b[34m[11/03/2024 12:20:00 INFO 140606159963968] #validation_score (algo-1) : ('binary_balanced_accuracy', 0.5)\u001b[0m\n",
      "\u001b[34m[11/03/2024 12:20:00 INFO 140606159963968] #validation_score (algo-1) : ('binary_log_loss', 0.7542964721382052)\u001b[0m\n",
      "\u001b[34m[11/03/2024 12:20:00 INFO 140606159963968] #quality_metric: host=algo-1, validation binary_classification_cross_entropy_objective <loss>=0.49501385264417697\u001b[0m\n",
      "\u001b[34m[11/03/2024 12:20:00 INFO 140606159963968] #quality_metric: host=algo-1, validation binary_classification_accuracy <score>=0.7903545312996764\u001b[0m\n",
      "\u001b[34m[11/03/2024 12:20:00 INFO 140606159963968] #quality_metric: host=algo-1, validation binary_f_1.000 <score>=0.032759139461411166\u001b[0m\n",
      "\u001b[34m[11/03/2024 12:20:00 INFO 140606159963968] #quality_metric: host=algo-1, validation precision <score>=0.5196897374701671\u001b[0m\n",
      "\u001b[34m[11/03/2024 12:20:00 INFO 140606159963968] #quality_metric: host=algo-1, validation recall <score>=0.0169126213592233\u001b[0m\n",
      "\u001b[34m[11/03/2024 12:20:00 INFO 140606159963968] #quality_metric: host=algo-1, validation roc_auc_score <score>=0.6342030276107853\u001b[0m\n",
      "\u001b[34m[11/03/2024 12:20:00 INFO 140606159963968] #quality_metric: host=algo-1, validation binary_balanced_accuracy <score>=0.5\u001b[0m\n",
      "\u001b[34m[11/03/2024 12:20:00 INFO 140606159963968] #quality_metric: host=algo-1, validation binary_log_loss <score>=0.7542964721382052\u001b[0m\n",
      "\u001b[34m[11/03/2024 12:20:00 INFO 140606159963968] Best model found for hyperparameters: {\"optimizer\": \"adam\", \"learning_rate\": 0.005, \"wd\": 0.01, \"l1\": 0.0, \"lr_scheduler_step\": 100, \"lr_scheduler_factor\": 0.99, \"lr_scheduler_minimum_lr\": 1e-05}\u001b[0m\n",
      "\u001b[34m[11/03/2024 12:20:00 INFO 140606159963968] Saved checkpoint to \"/tmp/tmp0bmz4seq/mx-mod-0000.params\"\u001b[0m\n",
      "\u001b[34m[11/03/2024 12:20:00 INFO 140606159963968] Test data is not provided.\u001b[0m\n",
      "\u001b[34m#metrics {\"StartTime\": 1730635784.3657079, \"EndTime\": 1730636400.4498796, \"Dimensions\": {\"Algorithm\": \"Linear Learner\", \"Host\": \"algo-1\", \"Operation\": \"training\"}, \"Metrics\": {\"initialize.time\": {\"sum\": 257.65299797058105, \"count\": 1, \"min\": 257.65299797058105, \"max\": 257.65299797058105}, \"epochs\": {\"sum\": 5.0, \"count\": 1, \"min\": 5, \"max\": 5}, \"check_early_stopping.time\": {\"sum\": 4.326820373535156, \"count\": 6, \"min\": 0.5850791931152344, \"max\": 0.7975101470947266}, \"update.time\": {\"sum\": 595357.7959537506, \"count\": 5, \"min\": 118494.6928024292, \"max\": 120847.64671325684}, \"finalize.time\": {\"sum\": 20411.52834892273, \"count\": 1, \"min\": 20411.52834892273, \"max\": 20411.52834892273}, \"setuptime\": {\"sum\": 1.714944839477539, \"count\": 1, \"min\": 1.714944839477539, \"max\": 1.714944839477539}, \"totaltime\": {\"sum\": 616173.6550331116, \"count\": 1, \"min\": 616173.6550331116, \"max\": 616173.6550331116}}}\u001b[0m\n",
      "\n",
      "2024-11-03 12:20:17 Uploading - Uploading generated training model\n",
      "2024-11-03 12:20:17 Completed - Training job completed\n",
      "Training seconds: 777\n",
      "Billable seconds: 777\n"
     ]
    }
   ],
   "source": [
    "# Define data channels for training and validation\n",
    "\n",
    "# Set up the Linear Learner estimator\n",
    "from sagemaker import image_uris\n",
    "\n",
    "container = image_uris.retrieve(region=sess.boto_region_name, framework=\"linear-learner\")\n",
    "linear = sagemaker.estimator.Estimator(\n",
    "    container,\n",
    "    role,\n",
    "    instance_count=1,\n",
    "    instance_type=\"ml.c4.xlarge\",\n",
    "    output_path=f\"s3://{bucket_name}/{prefix}/output\",\n",
    "    sagemaker_session=sess,\n",
    ")\n",
    "linear.set_hyperparameters(feature_dim=train_features.shape[1], predictor_type=\"binary_classifier\", mini_batch_size=200, epochs =5)\n",
    "\n",
    "# Fit the model\n",
    "linear.fit(data_channels)"
   ]
  },
  {
   "cell_type": "markdown",
   "id": "515c5712-c7a5-4861-a012-ac705e5ad915",
   "metadata": {},
   "source": [
    "### Host"
   ]
  },
  {
   "cell_type": "code",
   "execution_count": 18,
   "id": "a78dae14",
   "metadata": {
    "tags": []
   },
   "outputs": [
    {
     "name": "stderr",
     "output_type": "stream",
     "text": [
      "INFO:sagemaker:Creating model with name: linear-learner-2024-11-03-12-20-37-764\n",
      "INFO:sagemaker:Creating endpoint-config with name linear-learner-2024-11-03-12-20-37-764\n",
      "INFO:sagemaker:Creating endpoint with name linear-learner-2024-11-03-12-20-37-764\n"
     ]
    },
    {
     "name": "stdout",
     "output_type": "stream",
     "text": [
      "--------!"
     ]
    }
   ],
   "source": [
    "linear_predictor = linear.deploy(\n",
    "    initial_instance_count=1,\n",
    "    instance_type=\"ml.m4.xlarge\"\n",
    ")"
   ]
  },
  {
   "cell_type": "code",
   "execution_count": 19,
   "id": "f49bd3ac",
   "metadata": {
    "tags": []
   },
   "outputs": [
    {
     "name": "stdout",
     "output_type": "stream",
     "text": [
      "{'predictions': [{'score': 0.13119086623191833, 'predicted_label': 0}]}\n"
     ]
    }
   ],
   "source": [
    "from sagemaker.serializers import CSVSerializer\n",
    "from sagemaker.deserializers import JSONDeserializer\n",
    "\n",
    "# Set the serializer and deserializer\n",
    "linear_predictor.serializer = CSVSerializer()\n",
    "linear_predictor.deserializer = JSONDeserializer()\n",
    "\n",
    "# Select a single row for prediction (e.g., 30th row)\n",
    "single_sample = train_features[30:31]\n",
    "\n",
    "# Make a prediction for this single record\n",
    "result = linear_predictor.predict(single_sample, initial_args={\"ContentType\": \"text/csv\"})\n",
    "print(result)"
   ]
  },
  {
   "cell_type": "code",
   "execution_count": 20,
   "id": "ee9a7887",
   "metadata": {
    "tags": []
   },
   "outputs": [],
   "source": [
    "import numpy as np\n",
    "\n",
    "# Batch prediction for a subset of the training data (e.g., first 100 rows)\n",
    "batch_samples = train_features[:100]\n",
    "\n",
    "# Run batch prediction\n",
    "predictions = []\n",
    "for array in np.array_split(batch_samples, 10):  # Splitting into smaller batches\n",
    "    result = linear_predictor.predict(array, initial_args={\"ContentType\": \"text/csv\"})\n",
    "    predictions.extend([r[\"predicted_label\"] for r in result[\"predictions\"]])\n",
    "\n"
   ]
  },
  {
   "cell_type": "code",
   "execution_count": 21,
   "id": "48b07352",
   "metadata": {
    "tags": []
   },
   "outputs": [
    {
     "name": "stdout",
     "output_type": "stream",
     "text": [
      "Batch predictions: [0 0 0 0 0 0 0 0 0 0 0 0 0 0 0 0 0 0 0 0 0 0 0 0 0 0 0 0 0 0 0 0 0 0 0 0 0\n",
      " 0 0 0 0 0 0 0 0 0 0 0 0 0 0 0 0 0 0 0 0 0 0 0 0 0 0 0 0 0 0 0 0 0 0 0 0 0\n",
      " 0 0 0 0 0 0 0 0 0 0 0 0 0 0 0 0 0 0 0 0 0 0 0 0 0 0]\n"
     ]
    }
   ],
   "source": [
    "# Convert predictions to a numpy array for analysis\n",
    "predictions = np.array(predictions)\n",
    "\n",
    "# Print the predictions\n",
    "print(\"Batch predictions:\", predictions)"
   ]
  },
  {
   "cell_type": "markdown",
   "id": "dfb6c184-7dbd-46d1-b81b-cc2874416df1",
   "metadata": {},
   "source": []
  },
  {
   "cell_type": "markdown",
   "id": "2432bcfd-0336-46fa-807f-d8da214f6e64",
   "metadata": {},
   "source": [
    "#### Batch Transformation"
   ]
  },
  {
   "cell_type": "code",
   "execution_count": 22,
   "id": "f3d4607b",
   "metadata": {
    "tags": []
   },
   "outputs": [],
   "source": [
    "batch_X = test_df.drop(columns=['target'])"
   ]
  },
  {
   "cell_type": "code",
   "execution_count": 23,
   "id": "a6925675",
   "metadata": {
    "tags": []
   },
   "outputs": [],
   "source": [
    "# Save the test features as CSV\n",
    "batch_X_file = 'batch-in.csv'\n",
    "batch_X.to_csv(batch_X_file, index=False, header=False)"
   ]
  },
  {
   "cell_type": "code",
   "execution_count": 24,
   "id": "fe68c54a",
   "metadata": {
    "tags": []
   },
   "outputs": [],
   "source": [
    "# Define S3 paths for input and output\n",
    "batch_input = f\"s3://{bucket_name}/{prefix}/batch-in/{batch_X_file}\"\n",
    "batch_output = f\"s3://{bucket_name}/{prefix}/batch-out/\""
   ]
  },
  {
   "cell_type": "code",
   "execution_count": 25,
   "id": "8967f530",
   "metadata": {
    "tags": []
   },
   "outputs": [],
   "source": [
    "# Upload test data to S3\n",
    "s3_resource = boto3.resource('s3')\n",
    "s3_resource.Bucket(bucket_name).Object(f\"{prefix}/batch-in/{batch_X_file}\").upload_file(batch_X_file)\n"
   ]
  },
  {
   "cell_type": "code",
   "execution_count": 26,
   "id": "78b54fc1",
   "metadata": {
    "tags": []
   },
   "outputs": [],
   "source": [
    "from sagemaker.transformer import Transformer\n",
    "\n",
    "transformer = Transformer(\n",
    "    model_name=linear_predictor.endpoint_name,  # The deployed model's endpoint name\n",
    "    instance_count=1,\n",
    "    instance_type=\"ml.m4.xlarge\",\n",
    "    strategy=\"MultiRecord\",  # Use MultiRecord for batch processing\n",
    "    assemble_with=\"Line\",\n",
    "    output_path=batch_output\n",
    ")"
   ]
  },
  {
   "cell_type": "code",
   "execution_count": 27,
   "id": "b3d6942d",
   "metadata": {
    "tags": []
   },
   "outputs": [
    {
     "name": "stderr",
     "output_type": "stream",
     "text": [
      "INFO:sagemaker:Creating transform job with name: linear-learner-2024-11-03-12-25-13-479\n"
     ]
    },
    {
     "name": "stdout",
     "output_type": "stream",
     "text": [
      "............................................\u001b[34mDocker entrypoint called with argument(s): serve\u001b[0m\n",
      "\u001b[34mRunning default environment configuration script\u001b[0m\n",
      "\u001b[34m[11/03/2024 12:32:32 INFO 139790925600576] Memory profiler is not enabled by the environment variable ENABLE_PROFILER.\u001b[0m\n",
      "\u001b[34m/opt/amazon/lib/python3.8/site-packages/mxnet/model.py:97: SyntaxWarning: \"is\" with a literal. Did you mean \"==\"?\n",
      "  if num_device is 1 and 'dist' not in kvstore:\u001b[0m\n",
      "\u001b[34m/opt/amazon/lib/python3.8/site-packages/scipy/optimize/_shgo.py:495: SyntaxWarning: \"is\" with a literal. Did you mean \"==\"?\n",
      "  if cons['type'] is 'ineq':\u001b[0m\n",
      "\u001b[35mDocker entrypoint called with argument(s): serve\u001b[0m\n",
      "\u001b[35mRunning default environment configuration script\u001b[0m\n",
      "\u001b[35m[11/03/2024 12:32:32 INFO 139790925600576] Memory profiler is not enabled by the environment variable ENABLE_PROFILER.\u001b[0m\n",
      "\u001b[35m/opt/amazon/lib/python3.8/site-packages/mxnet/model.py:97: SyntaxWarning: \"is\" with a literal. Did you mean \"==\"?\n",
      "  if num_device is 1 and 'dist' not in kvstore:\u001b[0m\n",
      "\u001b[35m/opt/amazon/lib/python3.8/site-packages/scipy/optimize/_shgo.py:495: SyntaxWarning: \"is\" with a literal. Did you mean \"==\"?\n",
      "  if cons['type'] is 'ineq':\u001b[0m\n",
      "\u001b[34m/opt/amazon/lib/python3.8/site-packages/scipy/optimize/_shgo.py:743: SyntaxWarning: \"is not\" with a literal. Did you mean \"!=\"?\n",
      "  if len(self.X_min) is not 0:\u001b[0m\n",
      "\u001b[35m/opt/amazon/lib/python3.8/site-packages/scipy/optimize/_shgo.py:743: SyntaxWarning: \"is not\" with a literal. Did you mean \"!=\"?\n",
      "  if len(self.X_min) is not 0:\u001b[0m\n",
      "\u001b[34m[11/03/2024 12:32:36 WARNING 139790925600576] Loggers have already been setup.\u001b[0m\n",
      "\u001b[34m[11/03/2024 12:32:36 INFO 139790925600576] loaded entry point class algorithm.serve.server_config:config_api\u001b[0m\n",
      "\u001b[34m[11/03/2024 12:32:36 INFO 139790925600576] loading entry points\u001b[0m\n",
      "\u001b[34m[11/03/2024 12:32:36 INFO 139790925600576] loaded request iterator application/json\u001b[0m\n",
      "\u001b[34m[11/03/2024 12:32:36 INFO 139790925600576] loaded request iterator application/jsonlines\u001b[0m\n",
      "\u001b[34m[11/03/2024 12:32:36 INFO 139790925600576] loaded request iterator application/x-recordio-protobuf\u001b[0m\n",
      "\u001b[34m[11/03/2024 12:32:36 INFO 139790925600576] loaded request iterator text/csv\u001b[0m\n",
      "\u001b[34m[11/03/2024 12:32:36 INFO 139790925600576] loaded response encoder application/json\u001b[0m\n",
      "\u001b[34m[11/03/2024 12:32:36 INFO 139790925600576] loaded response encoder application/jsonlines\u001b[0m\n",
      "\u001b[34m[11/03/2024 12:32:36 INFO 139790925600576] loaded response encoder application/x-recordio-protobuf\u001b[0m\n",
      "\u001b[34m[11/03/2024 12:32:36 INFO 139790925600576] loaded response encoder text/csv\u001b[0m\n",
      "\u001b[34m[11/03/2024 12:32:36 INFO 139790925600576] loaded entry point class algorithm:model\u001b[0m\n",
      "\u001b[34m[11/03/2024 12:32:36 INFO 139790925600576] Number of server workers: 4\u001b[0m\n",
      "\u001b[34m[11/03/2024 12:32:36 INFO 139790925600576] loading model...\u001b[0m\n",
      "\u001b[34m[11/03/2024 12:32:36 INFO 139790925600576] ...model loaded.\u001b[0m\n",
      "\u001b[34m[2024-11-03 12:32:36 +0000] [1] [INFO] Starting gunicorn 20.1.0\u001b[0m\n",
      "\u001b[34m[2024-11-03 12:32:36 +0000] [1] [INFO] Listening at: http://0.0.0.0:8080 (1)\u001b[0m\n",
      "\u001b[35m[11/03/2024 12:32:36 WARNING 139790925600576] Loggers have already been setup.\u001b[0m\n",
      "\u001b[35m[11/03/2024 12:32:36 INFO 139790925600576] loaded entry point class algorithm.serve.server_config:config_api\u001b[0m\n",
      "\u001b[35m[11/03/2024 12:32:36 INFO 139790925600576] loading entry points\u001b[0m\n",
      "\u001b[35m[11/03/2024 12:32:36 INFO 139790925600576] loaded request iterator application/json\u001b[0m\n",
      "\u001b[35m[11/03/2024 12:32:36 INFO 139790925600576] loaded request iterator application/jsonlines\u001b[0m\n",
      "\u001b[35m[11/03/2024 12:32:36 INFO 139790925600576] loaded request iterator application/x-recordio-protobuf\u001b[0m\n",
      "\u001b[35m[11/03/2024 12:32:36 INFO 139790925600576] loaded request iterator text/csv\u001b[0m\n",
      "\u001b[35m[11/03/2024 12:32:36 INFO 139790925600576] loaded response encoder application/json\u001b[0m\n",
      "\u001b[35m[11/03/2024 12:32:36 INFO 139790925600576] loaded response encoder application/jsonlines\u001b[0m\n",
      "\u001b[35m[11/03/2024 12:32:36 INFO 139790925600576] loaded response encoder application/x-recordio-protobuf\u001b[0m\n",
      "\u001b[35m[11/03/2024 12:32:36 INFO 139790925600576] loaded response encoder text/csv\u001b[0m\n",
      "\u001b[35m[11/03/2024 12:32:36 INFO 139790925600576] loaded entry point class algorithm:model\u001b[0m\n",
      "\u001b[35m[11/03/2024 12:32:36 INFO 139790925600576] Number of server workers: 4\u001b[0m\n",
      "\u001b[35m[11/03/2024 12:32:36 INFO 139790925600576] loading model...\u001b[0m\n",
      "\u001b[35m[11/03/2024 12:32:36 INFO 139790925600576] ...model loaded.\u001b[0m\n",
      "\u001b[35m[2024-11-03 12:32:36 +0000] [1] [INFO] Starting gunicorn 20.1.0\u001b[0m\n",
      "\u001b[35m[2024-11-03 12:32:36 +0000] [1] [INFO] Listening at: http://0.0.0.0:8080 (1)\u001b[0m\n",
      "\u001b[34m[2024-11-03 12:32:36 +0000] [1] [INFO] Using worker: sync\u001b[0m\n",
      "\u001b[34m[2024-11-03 12:32:36 +0000] [43] [INFO] Booting worker with pid: 43\u001b[0m\n",
      "\u001b[34m[2024-11-03 12:32:36 +0000] [52] [INFO] Booting worker with pid: 52\u001b[0m\n",
      "\u001b[35m[2024-11-03 12:32:36 +0000] [1] [INFO] Using worker: sync\u001b[0m\n",
      "\u001b[35m[2024-11-03 12:32:36 +0000] [43] [INFO] Booting worker with pid: 43\u001b[0m\n",
      "\u001b[35m[2024-11-03 12:32:36 +0000] [52] [INFO] Booting worker with pid: 52\u001b[0m\n",
      "\u001b[34m[2024-11-03 12:32:36 +0000] [61] [INFO] Booting worker with pid: 61\u001b[0m\n",
      "\u001b[34m[2024-11-03 12:32:36 +0000] [70] [INFO] Booting worker with pid: 70\u001b[0m\n",
      "\u001b[34m#metrics {\"StartTime\": 1730637156.6219392, \"EndTime\": 1730637157.449652, \"Dimensions\": {\"Algorithm\": \"LinearLearnerModel\", \"Host\": \"UNKNOWN\", \"Operation\": \"scoring\"}, \"Metrics\": {\"execution_parameters.count\": {\"sum\": 1.0, \"count\": 1, \"min\": 1, \"max\": 1}}}\u001b[0m\n",
      "\u001b[35m[2024-11-03 12:32:36 +0000] [61] [INFO] Booting worker with pid: 61\u001b[0m\n",
      "\u001b[35m[2024-11-03 12:32:36 +0000] [70] [INFO] Booting worker with pid: 70\u001b[0m\n",
      "\u001b[35m#metrics {\"StartTime\": 1730637156.6219392, \"EndTime\": 1730637157.449652, \"Dimensions\": {\"Algorithm\": \"LinearLearnerModel\", \"Host\": \"UNKNOWN\", \"Operation\": \"scoring\"}, \"Metrics\": {\"execution_parameters.count\": {\"sum\": 1.0, \"count\": 1, \"min\": 1, \"max\": 1}}}\u001b[0m\n",
      "\u001b[32m2024-11-03T12:32:37.457:[sagemaker logs]: MaxConcurrentTransforms=4, MaxPayloadInMB=6, BatchStrategy=MULTI_RECORD\u001b[0m\n",
      "\u001b[34m#metrics {\"StartTime\": 1730637157.4497926, \"EndTime\": 1730637160.2045105, \"Dimensions\": {\"Algorithm\": \"LinearLearnerModel\", \"Host\": \"UNKNOWN\", \"Operation\": \"scoring\"}, \"Metrics\": {\"json.encoder.time\": {\"sum\": 107.56945610046387, \"count\": 1, \"min\": 107.56945610046387, \"max\": 107.56945610046387}, \"invocations.count\": {\"sum\": 1.0, \"count\": 1, \"min\": 1, \"max\": 1}}}\u001b[0m\n",
      "\u001b[34m#metrics {\"StartTime\": 1730637156.6219392, \"EndTime\": 1730637160.3612206, \"Dimensions\": {\"Algorithm\": \"LinearLearnerModel\", \"Host\": \"UNKNOWN\", \"Operation\": \"scoring\"}, \"Metrics\": {\"json.encoder.time\": {\"sum\": 150.2845287322998, \"count\": 1, \"min\": 150.2845287322998, \"max\": 150.2845287322998}, \"invocations.count\": {\"sum\": 1.0, \"count\": 1, \"min\": 1, \"max\": 1}}}\u001b[0m\n",
      "\u001b[34m#metrics {\"StartTime\": 1730637156.6219392, \"EndTime\": 1730637160.5652726, \"Dimensions\": {\"Algorithm\": \"LinearLearnerModel\", \"Host\": \"UNKNOWN\", \"Operation\": \"scoring\"}, \"Metrics\": {\"json.encoder.time\": {\"sum\": 147.536039352417, \"count\": 1, \"min\": 147.536039352417, \"max\": 147.536039352417}, \"invocations.count\": {\"sum\": 1.0, \"count\": 1, \"min\": 1, \"max\": 1}}}\u001b[0m\n",
      "\u001b[34m#metrics {\"StartTime\": 1730637156.6219392, \"EndTime\": 1730637160.719778, \"Dimensions\": {\"Algorithm\": \"LinearLearnerModel\", \"Host\": \"UNKNOWN\", \"Operation\": \"scoring\"}, \"Metrics\": {\"json.encoder.time\": {\"sum\": 138.48018646240234, \"count\": 1, \"min\": 138.48018646240234, \"max\": 138.48018646240234}, \"invocations.count\": {\"sum\": 1.0, \"count\": 1, \"min\": 1, \"max\": 1}}}\u001b[0m\n",
      "\u001b[35m#metrics {\"StartTime\": 1730637157.4497926, \"EndTime\": 1730637160.2045105, \"Dimensions\": {\"Algorithm\": \"LinearLearnerModel\", \"Host\": \"UNKNOWN\", \"Operation\": \"scoring\"}, \"Metrics\": {\"json.encoder.time\": {\"sum\": 107.56945610046387, \"count\": 1, \"min\": 107.56945610046387, \"max\": 107.56945610046387}, \"invocations.count\": {\"sum\": 1.0, \"count\": 1, \"min\": 1, \"max\": 1}}}\u001b[0m\n",
      "\u001b[35m#metrics {\"StartTime\": 1730637156.6219392, \"EndTime\": 1730637160.3612206, \"Dimensions\": {\"Algorithm\": \"LinearLearnerModel\", \"Host\": \"UNKNOWN\", \"Operation\": \"scoring\"}, \"Metrics\": {\"json.encoder.time\": {\"sum\": 150.2845287322998, \"count\": 1, \"min\": 150.2845287322998, \"max\": 150.2845287322998}, \"invocations.count\": {\"sum\": 1.0, \"count\": 1, \"min\": 1, \"max\": 1}}}\u001b[0m\n",
      "\u001b[35m#metrics {\"StartTime\": 1730637156.6219392, \"EndTime\": 1730637160.5652726, \"Dimensions\": {\"Algorithm\": \"LinearLearnerModel\", \"Host\": \"UNKNOWN\", \"Operation\": \"scoring\"}, \"Metrics\": {\"json.encoder.time\": {\"sum\": 147.536039352417, \"count\": 1, \"min\": 147.536039352417, \"max\": 147.536039352417}, \"invocations.count\": {\"sum\": 1.0, \"count\": 1, \"min\": 1, \"max\": 1}}}\u001b[0m\n",
      "\u001b[35m#metrics {\"StartTime\": 1730637156.6219392, \"EndTime\": 1730637160.719778, \"Dimensions\": {\"Algorithm\": \"LinearLearnerModel\", \"Host\": \"UNKNOWN\", \"Operation\": \"scoring\"}, \"Metrics\": {\"json.encoder.time\": {\"sum\": 138.48018646240234, \"count\": 1, \"min\": 138.48018646240234, \"max\": 138.48018646240234}, \"invocations.count\": {\"sum\": 1.0, \"count\": 1, \"min\": 1, \"max\": 1}}}\u001b[0m\n",
      "\u001b[34m#metrics {\"StartTime\": 1730637160.361352, \"EndTime\": 1730637161.3518384, \"Dimensions\": {\"Algorithm\": \"LinearLearnerModel\", \"Host\": \"UNKNOWN\", \"Operation\": \"scoring\"}, \"Metrics\": {\"json.encoder.time\": {\"sum\": 83.4798812866211, \"count\": 1, \"min\": 83.4798812866211, \"max\": 83.4798812866211}, \"invocations.count\": {\"sum\": 1.0, \"count\": 1, \"min\": 1, \"max\": 1}}}\u001b[0m\n",
      "\u001b[34m#metrics {\"StartTime\": 1730637160.205114, \"EndTime\": 1730637161.4693508, \"Dimensions\": {\"Algorithm\": \"LinearLearnerModel\", \"Host\": \"UNKNOWN\", \"Operation\": \"scoring\"}, \"Metrics\": {\"json.encoder.time\": {\"sum\": 77.70824432373047, \"count\": 1, \"min\": 77.70824432373047, \"max\": 77.70824432373047}, \"invocations.count\": {\"sum\": 1.0, \"count\": 1, \"min\": 1, \"max\": 1}}}\u001b[0m\n",
      "\u001b[35m#metrics {\"StartTime\": 1730637160.361352, \"EndTime\": 1730637161.3518384, \"Dimensions\": {\"Algorithm\": \"LinearLearnerModel\", \"Host\": \"UNKNOWN\", \"Operation\": \"scoring\"}, \"Metrics\": {\"json.encoder.time\": {\"sum\": 83.4798812866211, \"count\": 1, \"min\": 83.4798812866211, \"max\": 83.4798812866211}, \"invocations.count\": {\"sum\": 1.0, \"count\": 1, \"min\": 1, \"max\": 1}}}\u001b[0m\n",
      "\u001b[35m#metrics {\"StartTime\": 1730637160.205114, \"EndTime\": 1730637161.4693508, \"Dimensions\": {\"Algorithm\": \"LinearLearnerModel\", \"Host\": \"UNKNOWN\", \"Operation\": \"scoring\"}, \"Metrics\": {\"json.encoder.time\": {\"sum\": 77.70824432373047, \"count\": 1, \"min\": 77.70824432373047, \"max\": 77.70824432373047}, \"invocations.count\": {\"sum\": 1.0, \"count\": 1, \"min\": 1, \"max\": 1}}}\u001b[0m\n",
      "\n"
     ]
    }
   ],
   "source": [
    "transformer.transform(\n",
    "    data=batch_input,\n",
    "    data_type=\"S3Prefix\",\n",
    "    content_type=\"text/csv\",\n",
    "    split_type=\"Line\"\n",
    ")\n"
   ]
  },
  {
   "cell_type": "code",
   "execution_count": 28,
   "id": "8319e7cb",
   "metadata": {
    "tags": []
   },
   "outputs": [],
   "source": [
    "s3 = boto3.client('s3')\n",
    "obj = s3.get_object(Bucket=bucket_name, Key=f\"{prefix}/batch-out/{batch_X_file}.out\")\n",
    "target_predicted = pd.read_csv(io.BytesIO(obj['Body'].read()), names=['predicted_label'])"
   ]
  },
  {
   "cell_type": "code",
   "execution_count": 29,
   "id": "df85050a",
   "metadata": {
    "tags": []
   },
   "outputs": [
    {
     "name": "stdout",
     "output_type": "stream",
     "text": [
      "{\"predicted_label\":0    0.117096\n",
      "{\"predicted_label\":0    0.206897\n",
      "{\"predicted_label\":0    0.304052\n",
      "{\"predicted_label\":0    0.210426\n",
      "{\"predicted_label\":0    0.262762\n",
      "Name: score, dtype: float64\n"
     ]
    }
   ],
   "source": [
    "def extract_score(row):\n",
    "    # Look for the pattern 'score:<value>' and extract the value\n",
    "    match = re.search(r\"score:([0-9.]+)\", row)\n",
    "    if match:\n",
    "        return float(match.group(1))\n",
    "    else:\n",
    "        return None\n",
    "\n",
    "# Apply the function to extract scores\n",
    "target_predicted['score'] = target_predicted['predicted_label'].apply(extract_score)\n",
    "\n",
    "# Check if the score extraction worked\n",
    "print(target_predicted['score'].head())\n",
    "\n",
    "# Define the binary conversion function\n",
    "def binary_convert(x):\n",
    "    threshold = 0.3\n",
    "    return 1 if x > threshold else 0\n",
    "\n",
    "# Convert scores to binary predictions\n",
    "target_predicted_binary = target_predicted['score'].apply(binary_convert)\n",
    "\n"
   ]
  },
  {
   "cell_type": "code",
   "execution_count": 30,
   "id": "bf724e0a",
   "metadata": {
    "tags": []
   },
   "outputs": [
    {
     "name": "stdout",
     "output_type": "stream",
     "text": [
      "Binary predictions:\n",
      " {\"predicted_label\":0    0\n",
      "{\"predicted_label\":0    0\n",
      "{\"predicted_label\":0    1\n",
      "{\"predicted_label\":0    0\n",
      "{\"predicted_label\":0    0\n",
      "Name: score, dtype: int64\n"
     ]
    }
   ],
   "source": [
    "print(\"Binary predictions:\\n\", target_predicted_binary.head())"
   ]
  },
  {
   "cell_type": "code",
   "execution_count": 31,
   "id": "d57598c6",
   "metadata": {
    "tags": []
   },
   "outputs": [
    {
     "data": {
      "text/html": [
       "<div>\n",
       "<style scoped>\n",
       "    .dataframe tbody tr th:only-of-type {\n",
       "        vertical-align: middle;\n",
       "    }\n",
       "\n",
       "    .dataframe tbody tr th {\n",
       "        vertical-align: top;\n",
       "    }\n",
       "\n",
       "    .dataframe thead th {\n",
       "        text-align: right;\n",
       "    }\n",
       "</style>\n",
       "<table border=\"1\" class=\"dataframe\">\n",
       "  <thead>\n",
       "    <tr style=\"text-align: right;\">\n",
       "      <th></th>\n",
       "      <th>No Delay</th>\n",
       "      <th>Delay</th>\n",
       "    </tr>\n",
       "  </thead>\n",
       "  <tbody>\n",
       "    <tr>\n",
       "      <th>No Delay</th>\n",
       "      <td>174005</td>\n",
       "      <td>19834</td>\n",
       "    </tr>\n",
       "    <tr>\n",
       "      <th>Delay</th>\n",
       "      <td>40441</td>\n",
       "      <td>11059</td>\n",
       "    </tr>\n",
       "  </tbody>\n",
       "</table>\n",
       "</div>"
      ],
      "text/plain": [
       "          No Delay  Delay\n",
       "No Delay    174005  19834\n",
       "Delay        40441  11059"
      ]
     },
     "execution_count": 31,
     "metadata": {},
     "output_type": "execute_result"
    }
   ],
   "source": [
    "from sklearn.metrics import confusion_matrix\n",
    "import seaborn as sns\n",
    "import matplotlib.pyplot as plt\n",
    "\n",
    "matrix = confusion_matrix(test_labels, target_predicted_binary)\n",
    "\n",
    "# Create a DataFrame for better readability\n",
    "df_confusion = pd.DataFrame(matrix, index=['No Delay', 'Delay'], columns=['No Delay', 'Delay'])\n",
    "\n",
    "df_confusion"
   ]
  },
  {
   "cell_type": "code",
   "execution_count": 32,
   "id": "3c71668e",
   "metadata": {
    "tags": []
   },
   "outputs": [
    {
     "data": {
      "image/png": "[encoded data removed]",
      "text/plain": [
       "<Figure size 640x480 with 1 Axes>"
      ]
     },
     "metadata": {},
     "output_type": "display_data"
    }
   ],
   "source": [
    "colormap = sns.color_palette(\"BrBG\", 10)\n",
    "sns.heatmap(df_confusion, annot=True, cbar=None, cmap=colormap)\n",
    "plt.title(\"Confusion Matrix\")\n",
    "plt.tight_layout()\n",
    "plt.ylabel(\"True Class\")\n",
    "plt.xlabel(\"Predicted Class\")\n",
    "plt.show()"
   ]
  },
  {
   "cell_type": "markdown",
   "id": "a6c87fc5",
   "metadata": {},
   "source": [
    "### Calculating performance metrics"
   ]
  },
  {
   "cell_type": "code",
   "execution_count": 33,
   "id": "ff6b6905",
   "metadata": {
    "tags": []
   },
   "outputs": [
    {
     "name": "stdout",
     "output_type": "stream",
     "text": [
      "True Negative (TN) : 174005\n",
      "False Positive (FP): 19834\n",
      "False Negative (FN): 40441\n",
      "True Positive (TP) : 11059\n"
     ]
    }
   ],
   "source": [
    "from sklearn.metrics import roc_auc_score, roc_curve, auc\n",
    "\n",
    "TN, FP, FN, TP = confusion_matrix(test_labels, target_predicted_binary).ravel()\n",
    "\n",
    "print(f\"True Negative (TN) : {TN}\")\n",
    "print(f\"False Positive (FP): {FP}\")\n",
    "print(f\"False Negative (FN): {FN}\")\n",
    "print(f\"True Positive (TP) : {TP}\")"
   ]
  },
  {
   "cell_type": "code",
   "execution_count": 34,
   "id": "bab74d59",
   "metadata": {
    "tags": []
   },
   "outputs": [
    {
     "name": "stdout",
     "output_type": "stream",
     "text": [
      "Sensitivity (Recall): There is a 21.47% chance of detecting a delay when it actually occurs.\n"
     ]
    }
   ],
   "source": [
    "# Sensitivity, also known as Recall or True Positive Rate (TPR)\n",
    "sensitivity = TP / (TP + FN)\n",
    "print(f\"Sensitivity (Recall): There is a {sensitivity:.2%} chance of detecting a delay when it actually occurs.\")\n",
    "\n"
   ]
  },
  {
   "cell_type": "code",
   "execution_count": 35,
   "id": "c1d71bab",
   "metadata": {
    "tags": []
   },
   "outputs": [
    {
     "name": "stdout",
     "output_type": "stream",
     "text": [
      "Specificity (TNR): There is a 89.77% chance of correctly identifying a non-delay.\n"
     ]
    }
   ],
   "source": [
    "# Specificity, also known as True Negative Rate (TNR)\n",
    "specificity = TN / (TN + FP)\n",
    "print(f\"Specificity (TNR): There is a {specificity:.2%} chance of correctly identifying a non-delay.\")"
   ]
  },
  {
   "cell_type": "code",
   "execution_count": 36,
   "id": "b1e3a829",
   "metadata": {
    "tags": []
   },
   "outputs": [
    {
     "name": "stdout",
     "output_type": "stream",
     "text": [
      "Precision: There is a 35.80% chance that a predicted delay is actually a delay.\n"
     ]
    }
   ],
   "source": [
    "# Precision calculation\n",
    "precision = TP / (TP + FP)\n",
    "print(f\"Precision: There is a {precision:.2%} chance that a predicted delay is actually a delay.\")\n"
   ]
  },
  {
   "cell_type": "code",
   "execution_count": 37,
   "id": "6a90f656",
   "metadata": {
    "tags": []
   },
   "outputs": [
    {
     "name": "stdout",
     "output_type": "stream",
     "text": [
      "F1 Score: The balance between precision and sensitivity is 26.84%.\n"
     ]
    }
   ],
   "source": [
    "\n",
    "\n",
    "# F1 Score calculation\n",
    "f1_score = 2 * (precision * sensitivity) / (precision + sensitivity)\n",
    "print(f\"F1 Score: The balance between precision and sensitivity is {f1_score:.2%}.\")"
   ]
  },
  {
   "cell_type": "code",
   "execution_count": 38,
   "id": "cc950caa",
   "metadata": {
    "tags": []
   },
   "outputs": [
    {
     "name": "stdout",
     "output_type": "stream",
     "text": [
      "False Positive Rate (FPR): There is a 10.23% chance of predicting a delay when there isn't one.\n"
     ]
    }
   ],
   "source": [
    "# False Positive Rate (FPR)\n",
    "fpr = FP / (FP + TN)\n",
    "print(f\"False Positive Rate (FPR): There is a {fpr:.2%} chance of predicting a delay when there isn't one.\")"
   ]
  },
  {
   "cell_type": "code",
   "execution_count": 39,
   "id": "ef9e9aa5",
   "metadata": {
    "tags": []
   },
   "outputs": [
    {
     "name": "stdout",
     "output_type": "stream",
     "text": [
      "False Negative Rate (FNR): There is a 78.53% chance of failing to predict a delay when there is one.\n"
     ]
    }
   ],
   "source": [
    "# False Negative Rate (FNR)\n",
    "fnr = FN / (FN + TP)\n",
    "print(f\"False Negative Rate (FNR): There is a {fnr:.2%} chance of failing to predict a delay when there is one.\")"
   ]
  },
  {
   "cell_type": "code",
   "execution_count": 40,
   "id": "2732698a",
   "metadata": {
    "tags": []
   },
   "outputs": [],
   "source": [
    "npv = TN / (TN + FN) * 100"
   ]
  },
  {
   "cell_type": "code",
   "execution_count": 41,
   "id": "898c70d5",
   "metadata": {
    "tags": []
   },
   "outputs": [
    {
     "name": "stdout",
     "output_type": "stream",
     "text": [
      "False Discovery Rate (FDR): There is a 64.20% chance of predicting a delay incorrectly.\n"
     ]
    }
   ],
   "source": [
    "\n",
    "# False Discovery Rate (FDR)\n",
    "fdr = FP / (FP + TP)\n",
    "print(f\"False Discovery Rate (FDR): There is a {fdr:.2%} chance of predicting a delay incorrectly.\")\n"
   ]
  },
  {
   "cell_type": "code",
   "execution_count": 42,
   "id": "7981f3b7",
   "metadata": {
    "tags": []
   },
   "outputs": [
    {
     "name": "stdout",
     "output_type": "stream",
     "text": [
      "Overall Accuracy: The model correctly predicts delays and non-delays with an accuracy of 75.43%.\n"
     ]
    }
   ],
   "source": [
    "\n",
    "# Overall Accuracy\n",
    "accuracy = accuracy_score(test_labels, target_predicted_binary)\n",
    "print(f\"Overall Accuracy: The model correctly predicts delays and non-delays with an accuracy of {accuracy:.2%}.\")"
   ]
  },
  {
   "cell_type": "code",
   "execution_count": 43,
   "id": "ddec14b0",
   "metadata": {
    "tags": []
   },
   "outputs": [
    {
     "name": "stdout",
     "output_type": "stream",
     "text": [
      "Sensitivity or Recall: 0.21%\n",
      "Specificity or TNR: 0.90%\n",
      "Precision: 0.36%\n",
      "Negative Predictive Value: 81.14%\n",
      "F-1 score: 0.27%\n",
      "False Positive Rate: 0.10%\n",
      "False Negative Rate: 0.79%\n",
      "False Discovery Rate: 0.64%\n",
      "Accuracy: 0.75%\n"
     ]
    }
   ],
   "source": [
    "\n",
    "print(f\"Sensitivity or Recall: {sensitivity:.2f}%\")\n",
    "print(f\"Specificity or TNR: {specificity:.2f}%\")\n",
    "print(f\"Precision: {precision:.2f}%\")\n",
    "print(f\"Negative Predictive Value: {npv:.2f}%\")\n",
    "print(f\"F-1 score: {f1_score:.2f}%\")\n",
    "print(f\"False Positive Rate: {fpr:.2f}%\")\n",
    "print(f\"False Negative Rate: {fnr:.2f}%\")\n",
    "print(f\"False Discovery Rate: {fdr:.2f}%\")\n",
    "print(f\"Accuracy: {accuracy:.2f}%\")"
   ]
  },
  {
   "cell_type": "code",
   "execution_count": null,
   "id": "6bb87dbd",
   "metadata": {},
   "outputs": [],
   "source": []
  },
  {
   "cell_type": "markdown",
   "id": "d1a90e07",
   "metadata": {},
   "source": [
    "## Dataset 2 - Linear Lerner"
   ]
  },
  {
   "cell_type": "code",
   "execution_count": 44,
   "id": "1e33ffc4",
   "metadata": {
    "tags": []
   },
   "outputs": [],
   "source": [
    "df2 = pd.read_csv('combined_csv_v2.csv')\n",
    "df2 = df2.replace({True: 1, False: 0})"
   ]
  },
  {
   "cell_type": "code",
   "execution_count": 45,
   "id": "9c361f6e",
   "metadata": {
    "tags": []
   },
   "outputs": [],
   "source": [
    "# Split data into train, validation, and test sets\n",
    "train_df2, test_val_df2 = train_test_split(df2, test_size=0.3, random_state=42, stratify=df2['target'])\n",
    "val_df2, test_df2 = train_test_split(test_val_df2, test_size=0.5, random_state=42, stratify=test_val_df2['target'])\n",
    "\n",
    "# Separate features and labels\n",
    "train_features2 = train_df2.drop(columns=['target']).values.astype('float32')\n",
    "train_labels2 = train_df2['target'].values.astype('float32')\n",
    "val_features2 = val_df2.drop(columns=['target']).values.astype('float32')\n",
    "val_labels2 = val_df2['target'].values.astype('float32')\n",
    "test_features2 = test_df2.drop(columns=['target']).values.astype('float32')\n",
    "test_labels2 = test_df2['target'].values.astype('float32')"
   ]
  },
  {
   "cell_type": "code",
   "execution_count": 46,
   "id": "0d51fe57",
   "metadata": {
    "tags": []
   },
   "outputs": [
    {
     "data": {
      "text/plain": [
       "0"
      ]
     },
     "execution_count": 46,
     "metadata": {},
     "output_type": "execute_result"
    }
   ],
   "source": [
    "# Convert to RecordIO format and write to in-memory buffers\n",
    "train_set_buf2 = io.BytesIO()\n",
    "validation_set_buf2 = io.BytesIO()\n",
    "test_set_buf2 = io.BytesIO()\n",
    "\n",
    "smac.write_numpy_to_dense_tensor(train_set_buf2, train_features2, train_labels2)\n",
    "smac.write_numpy_to_dense_tensor(validation_set_buf2, val_features2, val_labels2)\n",
    "smac.write_numpy_to_dense_tensor(test_set_buf2, test_features2, test_labels2)\n",
    "\n",
    "train_set_buf2.seek(0)\n",
    "validation_set_buf2.seek(0)\n",
    "test_set_buf2.seek(0)"
   ]
  },
  {
   "cell_type": "code",
   "execution_count": 47,
   "id": "38374513",
   "metadata": {
    "tags": []
   },
   "outputs": [
    {
     "data": {
      "text/plain": [
       "0"
      ]
     },
     "execution_count": 47,
     "metadata": {},
     "output_type": "execute_result"
    }
   ],
   "source": [
    "# Convert to RecordIO format and write to in-memory buffers\n",
    "train_set_buf2 = io.BytesIO()\n",
    "validation_set_buf2 = io.BytesIO()\n",
    "test_set_buf2 = io.BytesIO()\n",
    "\n",
    "smac.write_numpy_to_dense_tensor(train_set_buf2, train_features2, train_labels2)\n",
    "smac.write_numpy_to_dense_tensor(validation_set_buf2, val_features2, val_labels2)\n",
    "smac.write_numpy_to_dense_tensor(test_set_buf2, test_features2, test_labels2)\n",
    "\n",
    "train_set_buf2.seek(0)\n",
    "validation_set_buf2.seek(0)\n",
    "test_set_buf2.seek(0)"
   ]
  },
  {
   "cell_type": "code",
   "execution_count": 48,
   "id": "d32e6035",
   "metadata": {
    "tags": []
   },
   "outputs": [],
   "source": [
    "# Define new S3 paths for the second dataset\n",
    "train_s3_path2 = f\"{prefix}/train/train2.recordio\"\n",
    "val_s3_path2 = f\"{prefix}/validate/validate2.recordio\"\n",
    "test_s3_path2 = f\"{prefix}/test/test2.recordio\"\n",
    "\n",
    "# Upload datasets to S3\n",
    "s3_resource.Bucket(bucket_name).Object(train_s3_path2).upload_fileobj(train_set_buf2)\n",
    "s3_resource.Bucket(bucket_name).Object(val_s3_path2).upload_fileobj(validation_set_buf2)\n",
    "s3_resource.Bucket(bucket_name).Object(test_s3_path2).upload_fileobj(test_set_buf2)\n",
    "\n",
    "train_s3_uri2 = f\"s3://{bucket_name}/{train_s3_path2}\"\n",
    "val_s3_uri2 = f\"s3://{bucket_name}/{val_s3_path2}\"\n",
    "test_s3_uri2 = f\"s3://{bucket_name}/{test_s3_path2}\"\n",
    "\n",
    "# Define data channels\n",
    "data_channels2 = {'train': train_s3_uri2, 'validation': val_s3_uri2}"
   ]
  },
  {
   "cell_type": "code",
   "execution_count": null,
   "id": "de94ec31",
   "metadata": {
    "tags": []
   },
   "outputs": [
    {
     "name": "stderr",
     "output_type": "stream",
     "text": [
      "INFO:sagemaker:Creating training-job with name: linear-learner-2024-11-03-12-35-37-954\n"
     ]
    },
    {
     "name": "stdout",
     "output_type": "stream",
     "text": [
      "2024-11-03 12:35:39 Starting - Starting the training job...\n",
      "2024-11-03 12:35:53 Starting - Preparing the instances for training...\n",
      "2024-11-03 12:36:26 Downloading - Downloading input data......\n",
      "2024-11-03 12:37:22 Downloading - Downloading the training image......\n",
      "2024-11-03 12:38:43 Training - Training image download completed. Training in progress...\u001b[34mDocker entrypoint called with argument(s): train\u001b[0m\n",
      "\u001b[34mRunning default environment configuration script\u001b[0m\n",
      "\u001b[34m[11/03/2024 12:38:53 INFO 139752866015040] Reading default configuration from /opt/amazon/lib/python3.8/site-packages/algorithm/resources/default-input.json: {'mini_batch_size': '1000', 'epochs': '15', 'feature_dim': 'auto', 'use_bias': 'true', 'binary_classifier_model_selection_criteria': 'accuracy', 'f_beta': '1.0', 'target_recall': '0.8', 'target_precision': '0.8', 'num_models': 'auto', 'num_calibration_samples': '10000000', 'init_method': 'uniform', 'init_scale': '0.07', 'init_sigma': '0.01', 'init_bias': '0.0', 'optimizer': 'auto', 'loss': 'auto', 'margin': '1.0', 'quantile': '0.5', 'loss_insensitivity': '0.01', 'huber_delta': '1.0', 'num_classes': '1', 'accuracy_top_k': '3', 'wd': 'auto', 'l1': 'auto', 'momentum': 'auto', 'learning_rate': 'auto', 'beta_1': 'auto', 'beta_2': 'auto', 'bias_lr_mult': 'auto', 'bias_wd_mult': 'auto', 'use_lr_scheduler': 'true', 'lr_scheduler_step': 'auto', 'lr_scheduler_factor': 'auto', 'lr_scheduler_minimum_lr': 'auto', 'positive_example_weight_mult': '1.0', 'balance_multiclass_weights': 'false', 'normalize_data': 'true', 'normalize_label': 'auto', 'unbias_data': 'auto', 'unbias_label': 'auto', 'num_point_for_scaler': '10000', '_kvstore': 'auto', '_num_gpus': 'auto', '_num_kv_servers': 'auto', '_log_level': 'info', '_tuning_objective_metric': '', 'early_stopping_patience': '3', 'early_stopping_tolerance': '0.001', '_enable_profiler': 'false'}\u001b[0m\n",
      "\u001b[34m[11/03/2024 12:38:53 INFO 139752866015040] Merging with provided configuration from /opt/ml/input/config/hyperparameters.json: {'epochs': '5', 'feature_dim': '85', 'mini_batch_size': '200', 'predictor_type': 'binary_classifier'}\u001b[0m\n",
      "\u001b[34m[11/03/2024 12:38:53 INFO 139752866015040] Final configuration: {'mini_batch_size': '200', 'epochs': '5', 'feature_dim': '85', 'use_bias': 'true', 'binary_classifier_model_selection_criteria': 'accuracy', 'f_beta': '1.0', 'target_recall': '0.8', 'target_precision': '0.8', 'num_models': 'auto', 'num_calibration_samples': '10000000', 'init_method': 'uniform', 'init_scale': '0.07', 'init_sigma': '0.01', 'init_bias': '0.0', 'optimizer': 'auto', 'loss': 'auto', 'margin': '1.0', 'quantile': '0.5', 'loss_insensitivity': '0.01', 'huber_delta': '1.0', 'num_classes': '1', 'accuracy_top_k': '3', 'wd': 'auto', 'l1': 'auto', 'momentum': 'auto', 'learning_rate': 'auto', 'beta_1': 'auto', 'beta_2': 'auto', 'bias_lr_mult': 'auto', 'bias_wd_mult': 'auto', 'use_lr_scheduler': 'true', 'lr_scheduler_step': 'auto', 'lr_scheduler_factor': 'auto', 'lr_scheduler_minimum_lr': 'auto', 'positive_example_weight_mult': '1.0', 'balance_multiclass_weights': 'false', 'normalize_data': 'true', 'normalize_label': 'auto', 'unbias_data': 'auto', 'unbias_label': 'auto', 'num_point_for_scaler': '10000', '_kvstore': 'auto', '_num_gpus': 'auto', '_num_kv_servers': 'auto', '_log_level': 'info', '_tuning_objective_metric': '', 'early_stopping_patience': '3', 'early_stopping_tolerance': '0.001', '_enable_profiler': 'false', 'predictor_type': 'binary_classifier'}\u001b[0m\n",
      "\u001b[34m/opt/amazon/lib/python3.8/site-packages/mxnet/model.py:97: SyntaxWarning: \"is\" with a literal. Did you mean \"==\"?\n",
      "  if num_device is 1 and 'dist' not in kvstore:\u001b[0m\n",
      "\u001b[34m/opt/amazon/lib/python3.8/site-packages/scipy/optimize/_shgo.py:495: SyntaxWarning: \"is\" with a literal. Did you mean \"==\"?\n",
      "  if cons['type'] is 'ineq':\u001b[0m\n",
      "\u001b[34m/opt/amazon/lib/python3.8/site-packages/scipy/optimize/_shgo.py:743: SyntaxWarning: \"is not\" with a literal. Did you mean \"!=\"?\n",
      "  if len(self.X_min) is not 0:\u001b[0m\n",
      "\u001b[34m[11/03/2024 12:38:55 WARNING 139752866015040] Loggers have already been setup.\u001b[0m\n",
      "\u001b[34m[11/03/2024 12:38:55 INFO 139752866015040] Final configuration: {'mini_batch_size': '200', 'epochs': '5', 'feature_dim': '85', 'use_bias': 'true', 'binary_classifier_model_selection_criteria': 'accuracy', 'f_beta': '1.0', 'target_recall': '0.8', 'target_precision': '0.8', 'num_models': 'auto', 'num_calibration_samples': '10000000', 'init_method': 'uniform', 'init_scale': '0.07', 'init_sigma': '0.01', 'init_bias': '0.0', 'optimizer': 'auto', 'loss': 'auto', 'margin': '1.0', 'quantile': '0.5', 'loss_insensitivity': '0.01', 'huber_delta': '1.0', 'num_classes': '1', 'accuracy_top_k': '3', 'wd': 'auto', 'l1': 'auto', 'momentum': 'auto', 'learning_rate': 'auto', 'beta_1': 'auto', 'beta_2': 'auto', 'bias_lr_mult': 'auto', 'bias_wd_mult': 'auto', 'use_lr_scheduler': 'true', 'lr_scheduler_step': 'auto', 'lr_scheduler_factor': 'auto', 'lr_scheduler_minimum_lr': 'auto', 'positive_example_weight_mult': '1.0', 'balance_multiclass_weights': 'false', 'normalize_data': 'true', 'normalize_label': 'auto', 'unbias_data': 'auto', 'unbias_label': 'auto', 'num_point_for_scaler': '10000', '_kvstore': 'auto', '_num_gpus': 'auto', '_num_kv_servers': 'auto', '_log_level': 'info', '_tuning_objective_metric': '', 'early_stopping_patience': '3', 'early_stopping_tolerance': '0.001', '_enable_profiler': 'false', 'predictor_type': 'binary_classifier'}\u001b[0m\n",
      "\u001b[34m[11/03/2024 12:38:55 WARNING 139752866015040] Loggers have already been setup.\u001b[0m\n",
      "\u001b[34mProcess 7 is a worker.\u001b[0m\n",
      "\u001b[34m[11/03/2024 12:38:55 INFO 139752866015040] Using default worker.\u001b[0m\n",
      "\u001b[34m[11/03/2024 12:38:55 INFO 139752866015040] Checkpoint loading and saving are disabled.\u001b[0m\n",
      "\u001b[34m[2024-11-03 12:38:55.797] [tensorio] [warning] TensorIO is already initialized; ignoring the initialization routine.\u001b[0m\n",
      "\u001b[34m[2024-11-03 12:38:55.821] [tensorio] [info] epoch_stats={\"data_pipeline\": \"/opt/ml/input/data/train\", \"epoch\": 0, \"duration\": 41, \"num_examples\": 1, \"num_bytes\": 77600}\u001b[0m\n",
      "\u001b[34m[11/03/2024 12:38:55 INFO 139752866015040] Create Store: local\u001b[0m\n",
      "\u001b[34m[2024-11-03 12:38:55.957] [tensorio] [info] epoch_stats={\"data_pipeline\": \"/opt/ml/input/data/train\", \"epoch\": 1, \"duration\": 135, \"num_examples\": 51, \"num_bytes\": 3957600}\u001b[0m\n",
      "\u001b[34m[11/03/2024 12:38:55 INFO 139752866015040] Scaler algorithm parameters\n",
      " <algorithm.scaler.ScalerAlgorithmStable object at 0x7f1a2f1da9d0>\u001b[0m\n",
      "\u001b[34m[11/03/2024 12:38:55 INFO 139752866015040] Scaling model computed with parameters:\n",
      " {'stdev_label': None, 'stdev_weight': \u001b[0m\n",
      "\u001b[34m[5.3513580e+02 4.9549832e+00 1.6315596e+01 7.1807686e+01 8.8564209e+01\n",
      " 1.6188812e+01 7.7121857e+01 8.9105835e+01 7.8299570e+00 6.8294258e+00\n",
      " 3.9970559e-01 4.1324848e-01 4.0800458e-01 4.0240610e-01 4.3233126e-01\n",
      " 4.4395959e-01 4.3558532e-01 2.5382057e-01 2.7355638e-01 2.7265447e-01\n",
      " 2.7430502e-01 2.8033498e-01 2.8813818e-01 2.9280826e-01 2.7727017e-01\n",
      " 2.8004521e-01 2.7712297e-01 2.7873579e-01 1.6950288e-01 1.7848267e-01\n",
      " 1.7667635e-01 1.7822587e-01 1.7641655e-01 1.7950544e-01 1.7326456e-01\n",
      " 1.8427508e-01 1.7615637e-01 1.7458579e-01 1.7976017e-01 1.7771107e-01\n",
      " 1.8550676e-01 1.8402764e-01 1.7719458e-01 1.7950547e-01 1.7899495e-01\n",
      " 1.7976011e-01 1.8697238e-01 1.8203373e-01 1.7589568e-01 1.8501522e-01\n",
      " 1.7432244e-01 1.7615634e-01 1.7432249e-01 1.7432246e-01 1.7352971e-01\n",
      " 1.7219931e-01 1.6564433e-01 1.3932598e-01 3.5649380e-01 3.5239717e-01\n",
      " 3.5416460e-01 3.5288984e-01 3.1914020e-01 3.5200199e-01 3.6486974e-01\n",
      " 2.3511021e-01 4.5687556e-01 3.1831068e-01 2.4513677e-01 3.2265463e-01\n",
      " 3.3182722e-01 2.7205053e-01 3.5239717e-01 3.3237895e-01 3.0143249e-01\n",
      " 3.2735372e-01 2.4054913e-01 3.1580028e-01 3.3446062e-01 2.7310601e-01\n",
      " 3.6021420e-01 3.3727166e-01 3.0259666e-01 3.1890371e-01 1.6786145e-01]\u001b[0m\n",
      "\u001b[34m<NDArray 85 @cpu(0)>, 'mean_label': None, 'mean_weight': \u001b[0m\n",
      "\u001b[34m[1.00826343e+03 1.28766670e+01 3.85038109e+01 1.95246086e+01\n",
      " 1.73558731e+02 3.81576385e+01 2.06435280e+01 1.73531860e+02\n",
      " 7.54803777e-01 6.02549016e-01 1.99607775e-01 2.18529403e-01\n",
      " 2.10980341e-01 2.03235298e-01 2.48823494e-01 2.70000100e-01\n",
      " 2.54509777e-01 6.92156628e-02 8.14705715e-02 8.08823630e-02\n",
      " 8.19607675e-02 8.59803930e-02 9.13725346e-02 9.47058573e-02\n",
      " 8.39215666e-02 8.57843161e-02 8.38235393e-02 8.49019438e-02\n",
      " 2.96078436e-02 3.29411738e-02 3.22549008e-02 3.28431427e-02\n",
      " 3.21568623e-02 3.33333388e-02 3.09803914e-02 3.51960771e-02\n",
      " 3.20588201e-02 3.14705856e-02 3.34313735e-02 3.26470546e-02\n",
      " 3.56862694e-02 3.50980237e-02 3.24509703e-02 3.33333313e-02\n",
      " 3.31372470e-02 3.34313773e-02 3.62745076e-02 3.43137234e-02\n",
      " 3.19607742e-02 3.54901850e-02 3.13725397e-02 3.20588127e-02\n",
      " 3.13725509e-02 3.13725471e-02 3.10784318e-02 3.05882320e-02\n",
      " 2.82352921e-02 1.98039208e-02 1.49411783e-01 1.45294100e-01\n",
      " 1.47058830e-01 1.45784289e-01 1.15098037e-01 1.44901901e-01\n",
      " 1.58137247e-01 5.87254837e-02 2.96862662e-01 1.14411779e-01\n",
      " 6.42156750e-02 1.18039206e-01 1.25980407e-01 8.04901868e-02\n",
      " 1.45294145e-01 1.26470610e-01 1.01078413e-01 1.22058809e-01\n",
      " 6.16666563e-02 1.12352937e-01 1.28333300e-01 8.11764523e-02\n",
      " 1.53235272e-01 1.30882353e-01 1.01960778e-01 1.14901960e-01\n",
      " 2.90196072e-02]\u001b[0m\n",
      "\u001b[34m<NDArray 85 @cpu(0)>}\u001b[0m\n",
      "\u001b[34m/opt/amazon/python3.8/lib/python3.8/subprocess.py:848: RuntimeWarning: line buffering (buffering=1) isn't supported in binary mode, the default buffer size will be used\n",
      "  self.stdout = io.open(c2pread, 'rb', bufsize)\u001b[0m\n",
      "\u001b[34m[11/03/2024 12:38:55 INFO 139752866015040] nvidia-smi: took 0.033 seconds to run.\u001b[0m\n",
      "\u001b[34m[11/03/2024 12:38:55 INFO 139752866015040] nvidia-smi identified 0 GPUs.\u001b[0m\n",
      "\u001b[34m[11/03/2024 12:38:55 INFO 139752866015040] Number of GPUs being used: 0\u001b[0m\n",
      "\u001b[34m#metrics {\"StartTime\": 1730637536.0441475, \"EndTime\": 1730637536.04418, \"Dimensions\": {\"Algorithm\": \"Linear Learner\", \"Host\": \"algo-1\", \"Operation\": \"training\", \"Meta\": \"init_train_data_iter\"}, \"Metrics\": {\"Total Records Seen\": {\"sum\": 10400.0, \"count\": 1, \"min\": 10400, \"max\": 10400}, \"Total Batches Seen\": {\"sum\": 52.0, \"count\": 1, \"min\": 52, \"max\": 52}, \"Max Records Seen Between Resets\": {\"sum\": 10200.0, \"count\": 1, \"min\": 10200, \"max\": 10200}, \"Max Batches Seen Between Resets\": {\"sum\": 51.0, \"count\": 1, \"min\": 51, \"max\": 51}, \"Reset Count\": {\"sum\": 2.0, \"count\": 1, \"min\": 2, \"max\": 2}, \"Number of Records Since Last Reset\": {\"sum\": 0.0, \"count\": 1, \"min\": 0, \"max\": 0}, \"Number of Batches Since Last Reset\": {\"sum\": 0.0, \"count\": 1, \"min\": 0, \"max\": 0}}}\u001b[0m\n",
      "\u001b[34m[2024-11-03 12:40:35.461] [tensorio] [info] epoch_stats={\"data_pipeline\": \"/opt/ml/input/data/train\", \"epoch\": 3, \"duration\": 99416, \"num_examples\": 5725, \"num_bytes\": 444226244}\u001b[0m\n",
      "\u001b[34m#metrics {\"StartTime\": 1730637635.4612224, \"EndTime\": 1730637635.4612885, \"Dimensions\": {\"Algorithm\": \"Linear Learner\", \"Host\": \"algo-1\", \"Operation\": \"training\", \"epoch\": 0, \"model\": 0}, \"Metrics\": {\"train_binary_classification_cross_entropy_objective\": {\"sum\": 0.4816762813298874, \"count\": 1, \"min\": 0.4816762813298874, \"max\": 0.4816762813298874}}}\u001b[0m\n",
      "\u001b[34m#metrics {\"StartTime\": 1730637635.4613557, \"EndTime\": 1730637635.4613678, \"Dimensions\": {\"Algorithm\": \"Linear Learner\", \"Host\": \"algo-1\", \"Operation\": \"training\", \"epoch\": 0, \"model\": 1}, \"Metrics\": {\"train_binary_classification_cross_entropy_objective\": {\"sum\": 0.4835445565131059, \"count\": 1, \"min\": 0.4835445565131059, \"max\": 0.4835445565131059}}}\u001b[0m\n",
      "\u001b[34m#metrics {\"StartTime\": 1730637635.4614027, \"EndTime\": 1730637635.4614127, \"Dimensions\": {\"Algorithm\": \"Linear Learner\", \"Host\": \"algo-1\", \"Operation\": \"training\", \"epoch\": 0, \"model\": 2}, \"Metrics\": {\"train_binary_classification_cross_entropy_objective\": {\"sum\": 0.48169712589805064, \"count\": 1, \"min\": 0.48169712589805064, \"max\": 0.48169712589805064}}}\u001b[0m\n",
      "\u001b[34m#metrics {\"StartTime\": 1730637635.4614413, \"EndTime\": 1730637635.4614496, \"Dimensions\": {\"Algorithm\": \"Linear Learner\", \"Host\": \"algo-1\", \"Operation\": \"training\", \"epoch\": 0, \"model\": 3}, \"Metrics\": {\"train_binary_classification_cross_entropy_objective\": {\"sum\": 0.48355600496341433, \"count\": 1, \"min\": 0.48355600496341433, \"max\": 0.48355600496341433}}}\u001b[0m\n",
      "\u001b[34m#metrics {\"StartTime\": 1730637635.4614747, \"EndTime\": 1730637635.4614813, \"Dimensions\": {\"Algorithm\": \"Linear Learner\", \"Host\": \"algo-1\", \"Operation\": \"training\", \"epoch\": 0, \"model\": 4}, \"Metrics\": {\"train_binary_classification_cross_entropy_objective\": {\"sum\": 0.4922752132189182, \"count\": 1, \"min\": 0.4922752132189182, \"max\": 0.4922752132189182}}}\u001b[0m\n",
      "\u001b[34m#metrics {\"StartTime\": 1730637635.4615052, \"EndTime\": 1730637635.4615126, \"Dimensions\": {\"Algorithm\": \"Linear Learner\", \"Host\": \"algo-1\", \"Operation\": \"training\", \"epoch\": 0, \"model\": 5}, \"Metrics\": {\"train_binary_classification_cross_entropy_objective\": {\"sum\": 0.5309336510477659, \"count\": 1, \"min\": 0.5309336510477659, \"max\": 0.5309336510477659}}}\u001b[0m\n",
      "\u001b[34m#metrics {\"StartTime\": 1730637635.461544, \"EndTime\": 1730637635.461552, \"Dimensions\": {\"Algorithm\": \"Linear Learner\", \"Host\": \"algo-1\", \"Operation\": \"training\", \"epoch\": 0, \"model\": 6}, \"Metrics\": {\"train_binary_classification_cross_entropy_objective\": {\"sum\": 0.4922779351227105, \"count\": 1, \"min\": 0.4922779351227105, \"max\": 0.4922779351227105}}}\u001b[0m\n",
      "\u001b[34m#metrics {\"StartTime\": 1730637635.4615774, \"EndTime\": 1730637635.461586, \"Dimensions\": {\"Algorithm\": \"Linear Learner\", \"Host\": \"algo-1\", \"Operation\": \"training\", \"epoch\": 0, \"model\": 7}, \"Metrics\": {\"train_binary_classification_cross_entropy_objective\": {\"sum\": 0.5309239597973667, \"count\": 1, \"min\": 0.5309239597973667, \"max\": 0.5309239597973667}}}\u001b[0m\n",
      "\u001b[34m#metrics {\"StartTime\": 1730637635.461612, \"EndTime\": 1730637635.4616203, \"Dimensions\": {\"Algorithm\": \"Linear Learner\", \"Host\": \"algo-1\", \"Operation\": \"training\", \"epoch\": 0, \"model\": 8}, \"Metrics\": {\"train_binary_classification_cross_entropy_objective\": {\"sum\": 0.48191930101102753, \"count\": 1, \"min\": 0.48191930101102753, \"max\": 0.48191930101102753}}}\u001b[0m\n",
      "\u001b[34m#metrics {\"StartTime\": 1730637635.461648, \"EndTime\": 1730637635.4616568, \"Dimensions\": {\"Algorithm\": \"Linear Learner\", \"Host\": \"algo-1\", \"Operation\": \"training\", \"epoch\": 0, \"model\": 9}, \"Metrics\": {\"train_binary_classification_cross_entropy_objective\": {\"sum\": 0.4836522569862968, \"count\": 1, \"min\": 0.4836522569862968, \"max\": 0.4836522569862968}}}\u001b[0m\n",
      "\u001b[34m#metrics {\"StartTime\": 1730637635.4616828, \"EndTime\": 1730637635.4616907, \"Dimensions\": {\"Algorithm\": \"Linear Learner\", \"Host\": \"algo-1\", \"Operation\": \"training\", \"epoch\": 0, \"model\": 10}, \"Metrics\": {\"train_binary_classification_cross_entropy_objective\": {\"sum\": 0.481899283367133, \"count\": 1, \"min\": 0.481899283367133, \"max\": 0.481899283367133}}}\u001b[0m\n",
      "\u001b[34m#metrics {\"StartTime\": 1730637635.4617152, \"EndTime\": 1730637635.4617238, \"Dimensions\": {\"Algorithm\": \"Linear Learner\", \"Host\": \"algo-1\", \"Operation\": \"training\", \"epoch\": 0, \"model\": 11}, \"Metrics\": {\"train_binary_classification_cross_entropy_objective\": {\"sum\": 0.48363746134573393, \"count\": 1, \"min\": 0.48363746134573393, \"max\": 0.48363746134573393}}}\u001b[0m\n",
      "\u001b[34m#metrics {\"StartTime\": 1730637635.4617462, \"EndTime\": 1730637635.4617534, \"Dimensions\": {\"Algorithm\": \"Linear Learner\", \"Host\": \"algo-1\", \"Operation\": \"training\", \"epoch\": 0, \"model\": 12}, \"Metrics\": {\"train_binary_classification_cross_entropy_objective\": {\"sum\": 0.49172955267750906, \"count\": 1, \"min\": 0.49172955267750906, \"max\": 0.49172955267750906}}}\u001b[0m\n",
      "\u001b[34m#metrics {\"StartTime\": 1730637635.4617822, \"EndTime\": 1730637635.4617903, \"Dimensions\": {\"Algorithm\": \"Linear Learner\", \"Host\": \"algo-1\", \"Operation\": \"training\", \"epoch\": 0, \"model\": 13}, \"Metrics\": {\"train_binary_classification_cross_entropy_objective\": {\"sum\": 0.527329697305718, \"count\": 1, \"min\": 0.527329697305718, \"max\": 0.527329697305718}}}\u001b[0m\n",
      "\u001b[34m#metrics {\"StartTime\": 1730637635.4618142, \"EndTime\": 1730637635.4618218, \"Dimensions\": {\"Algorithm\": \"Linear Learner\", \"Host\": \"algo-1\", \"Operation\": \"training\", \"epoch\": 0, \"model\": 14}, \"Metrics\": {\"train_binary_classification_cross_entropy_objective\": {\"sum\": 0.4917223007274124, \"count\": 1, \"min\": 0.4917223007274124, \"max\": 0.4917223007274124}}}\u001b[0m\n",
      "\u001b[34m#metrics {\"StartTime\": 1730637635.4618475, \"EndTime\": 1730637635.461856, \"Dimensions\": {\"Algorithm\": \"Linear Learner\", \"Host\": \"algo-1\", \"Operation\": \"training\", \"epoch\": 0, \"model\": 15}, \"Metrics\": {\"train_binary_classification_cross_entropy_objective\": {\"sum\": 0.5273406368098336, \"count\": 1, \"min\": 0.5273406368098336, \"max\": 0.5273406368098336}}}\u001b[0m\n",
      "\u001b[34m#metrics {\"StartTime\": 1730637635.4618835, \"EndTime\": 1730637635.4618914, \"Dimensions\": {\"Algorithm\": \"Linear Learner\", \"Host\": \"algo-1\", \"Operation\": \"training\", \"epoch\": 0, \"model\": 16}, \"Metrics\": {\"train_binary_classification_cross_entropy_objective\": {\"sum\": 0.5046513298055993, \"count\": 1, \"min\": 0.5046513298055993, \"max\": 0.5046513298055993}}}\u001b[0m\n",
      "\u001b[34m#metrics {\"StartTime\": 1730637635.4619176, \"EndTime\": 1730637635.461925, \"Dimensions\": {\"Algorithm\": \"Linear Learner\", \"Host\": \"algo-1\", \"Operation\": \"training\", \"epoch\": 0, \"model\": 17}, \"Metrics\": {\"train_binary_classification_cross_entropy_objective\": {\"sum\": 0.5051395503230065, \"count\": 1, \"min\": 0.5051395503230065, \"max\": 0.5051395503230065}}}\u001b[0m\n",
      "\u001b[34m#metrics {\"StartTime\": 1730637635.461955, \"EndTime\": 1730637635.4619634, \"Dimensions\": {\"Algorithm\": \"Linear Learner\", \"Host\": \"algo-1\", \"Operation\": \"training\", \"epoch\": 0, \"model\": 18}, \"Metrics\": {\"train_binary_classification_cross_entropy_objective\": {\"sum\": 0.5046463075273941, \"count\": 1, \"min\": 0.5046463075273941, \"max\": 0.5046463075273941}}}\u001b[0m\n",
      "\u001b[34m#metrics {\"StartTime\": 1730637635.46199, \"EndTime\": 1730637635.4619966, \"Dimensions\": {\"Algorithm\": \"Linear Learner\", \"Host\": \"algo-1\", \"Operation\": \"training\", \"epoch\": 0, \"model\": 19}, \"Metrics\": {\"train_binary_classification_cross_entropy_objective\": {\"sum\": 0.5051359594759618, \"count\": 1, \"min\": 0.5051359594759618, \"max\": 0.5051359594759618}}}\u001b[0m\n",
      "\u001b[34m#metrics {\"StartTime\": 1730637635.462019, \"EndTime\": 1730637635.4620256, \"Dimensions\": {\"Algorithm\": \"Linear Learner\", \"Host\": \"algo-1\", \"Operation\": \"training\", \"epoch\": 0, \"model\": 20}, \"Metrics\": {\"train_binary_classification_cross_entropy_objective\": {\"sum\": 0.5066224637554709, \"count\": 1, \"min\": 0.5066224637554709, \"max\": 0.5066224637554709}}}\u001b[0m\n",
      "\u001b[34m#metrics {\"StartTime\": 1730637635.4620512, \"EndTime\": 1730637635.4620588, \"Dimensions\": {\"Algorithm\": \"Linear Learner\", \"Host\": \"algo-1\", \"Operation\": \"training\", \"epoch\": 0, \"model\": 21}, \"Metrics\": {\"train_binary_classification_cross_entropy_objective\": {\"sum\": 0.5136609838726969, \"count\": 1, \"min\": 0.5136609838726969, \"max\": 0.5136609838726969}}}\u001b[0m\n",
      "\u001b[34m#metrics {\"StartTime\": 1730637635.4620848, \"EndTime\": 1730637635.4620924, \"Dimensions\": {\"Algorithm\": \"Linear Learner\", \"Host\": \"algo-1\", \"Operation\": \"training\", \"epoch\": 0, \"model\": 22}, \"Metrics\": {\"train_binary_classification_cross_entropy_objective\": {\"sum\": 0.5065953088089938, \"count\": 1, \"min\": 0.5065953088089938, \"max\": 0.5065953088089938}}}\u001b[0m\n",
      "\u001b[34m#metrics {\"StartTime\": 1730637635.4621181, \"EndTime\": 1730637635.4621267, \"Dimensions\": {\"Algorithm\": \"Linear Learner\", \"Host\": \"algo-1\", \"Operation\": \"training\", \"epoch\": 0, \"model\": 23}, \"Metrics\": {\"train_binary_classification_cross_entropy_objective\": {\"sum\": 0.5136422111436589, \"count\": 1, \"min\": 0.5136422111436589, \"max\": 0.5136422111436589}}}\u001b[0m\n",
      "\u001b[34m#metrics {\"StartTime\": 1730637635.46215, \"EndTime\": 1730637635.4621575, \"Dimensions\": {\"Algorithm\": \"Linear Learner\", \"Host\": \"algo-1\", \"Operation\": \"training\", \"epoch\": 0, \"model\": 24}, \"Metrics\": {\"train_binary_classification_cross_entropy_objective\": {\"sum\": 0.5140869840852537, \"count\": 1, \"min\": 0.5140869840852537, \"max\": 0.5140869840852537}}}\u001b[0m\n",
      "\u001b[34m#metrics {\"StartTime\": 1730637635.4621816, \"EndTime\": 1730637635.4621902, \"Dimensions\": {\"Algorithm\": \"Linear Learner\", \"Host\": \"algo-1\", \"Operation\": \"training\", \"epoch\": 0, \"model\": 25}, \"Metrics\": {\"train_binary_classification_cross_entropy_objective\": {\"sum\": 0.5142843340161295, \"count\": 1, \"min\": 0.5142843340161295, \"max\": 0.5142843340161295}}}\u001b[0m\n",
      "\u001b[34m#metrics {\"StartTime\": 1730637635.4622126, \"EndTime\": 1730637635.4622211, \"Dimensions\": {\"Algorithm\": \"Linear Learner\", \"Host\": \"algo-1\", \"Operation\": \"training\", \"epoch\": 0, \"model\": 26}, \"Metrics\": {\"train_binary_classification_cross_entropy_objective\": {\"sum\": 0.5140986483285346, \"count\": 1, \"min\": 0.5140986483285346, \"max\": 0.5140986483285346}}}\u001b[0m\n",
      "\u001b[34m#metrics {\"StartTime\": 1730637635.462243, \"EndTime\": 1730637635.4622514, \"Dimensions\": {\"Algorithm\": \"Linear Learner\", \"Host\": \"algo-1\", \"Operation\": \"training\", \"epoch\": 0, \"model\": 27}, \"Metrics\": {\"train_binary_classification_cross_entropy_objective\": {\"sum\": 0.5142953317203695, \"count\": 1, \"min\": 0.5142953317203695, \"max\": 0.5142953317203695}}}\u001b[0m\n",
      "\u001b[34m#metrics {\"StartTime\": 1730637635.4622738, \"EndTime\": 1730637635.462282, \"Dimensions\": {\"Algorithm\": \"Linear Learner\", \"Host\": \"algo-1\", \"Operation\": \"training\", \"epoch\": 0, \"model\": 28}, \"Metrics\": {\"train_binary_classification_cross_entropy_objective\": {\"sum\": 0.514802907294614, \"count\": 1, \"min\": 0.514802907294614, \"max\": 0.514802907294614}}}\u001b[0m\n",
      "\u001b[34m#metrics {\"StartTime\": 1730637635.462304, \"EndTime\": 1730637635.4623122, \"Dimensions\": {\"Algorithm\": \"Linear Learner\", \"Host\": \"algo-1\", \"Operation\": \"training\", \"epoch\": 0, \"model\": 29}, \"Metrics\": {\"train_binary_classification_cross_entropy_objective\": {\"sum\": 0.517594077745407, \"count\": 1, \"min\": 0.517594077745407, \"max\": 0.517594077745407}}}\u001b[0m\n",
      "\u001b[34m#metrics {\"StartTime\": 1730637635.462349, \"EndTime\": 1730637635.462357, \"Dimensions\": {\"Algorithm\": \"Linear Learner\", \"Host\": \"algo-1\", \"Operation\": \"training\", \"epoch\": 0, \"model\": 30}, \"Metrics\": {\"train_binary_classification_cross_entropy_objective\": {\"sum\": 0.5148081503640848, \"count\": 1, \"min\": 0.5148081503640848, \"max\": 0.5148081503640848}}}\u001b[0m\n",
      "\u001b[34m#metrics {\"StartTime\": 1730637635.4623823, \"EndTime\": 1730637635.4623911, \"Dimensions\": {\"Algorithm\": \"Linear Learner\", \"Host\": \"algo-1\", \"Operation\": \"training\", \"epoch\": 0, \"model\": 31}, \"Metrics\": {\"train_binary_classification_cross_entropy_objective\": {\"sum\": 0.517581118351092, \"count\": 1, \"min\": 0.517581118351092, \"max\": 0.517581118351092}}}\u001b[0m\n",
      "\u001b[34m[11/03/2024 12:40:35 INFO 139752866015040] #quality_metric: host=algo-1, epoch=0, train binary_classification_cross_entropy_objective <loss>=0.4816762813298874\u001b[0m\n",
      "\u001b[34m[2024-11-03 12:40:35.478] [tensorio] [info] epoch_stats={\"data_pipeline\": \"/opt/ml/input/data/validation\", \"epoch\": 0, \"duration\": 99681, \"num_examples\": 1, \"num_bytes\": 77600}\u001b[0m\n",
      "\u001b[34m[2024-11-03 12:40:50.697] [tensorio] [info] epoch_stats={\"data_pipeline\": \"/opt/ml/input/data/validation\", \"epoch\": 2, \"duration\": 15218, \"num_examples\": 1227, \"num_bytes\": 95191144}\u001b[0m\n",
      "\u001b[34m#metrics {\"StartTime\": 1730637652.7711856, \"EndTime\": 1730637652.77124, \"Dimensions\": {\"Algorithm\": \"Linear Learner\", \"Host\": \"algo-1\", \"Operation\": \"training\", \"epoch\": 0, \"model\": 0}, \"Metrics\": {\"validation_binary_classification_cross_entropy_objective\": {\"sum\": 0.48031403752926766, \"count\": 1, \"min\": 0.48031403752926766, \"max\": 0.48031403752926766}}}\u001b[0m\n",
      "\u001b[34m#metrics {\"StartTime\": 1730637652.7713137, \"EndTime\": 1730637652.7713227, \"Dimensions\": {\"Algorithm\": \"Linear Learner\", \"Host\": \"algo-1\", \"Operation\": \"training\", \"epoch\": 0, \"model\": 1}, \"Metrics\": {\"validation_binary_classification_cross_entropy_objective\": {\"sum\": 0.4823060517055747, \"count\": 1, \"min\": 0.4823060517055747, \"max\": 0.4823060517055747}}}\u001b[0m\n",
      "\u001b[34m#metrics {\"StartTime\": 1730637652.771345, \"EndTime\": 1730637652.7713518, \"Dimensions\": {\"Algorithm\": \"Linear Learner\", \"Host\": \"algo-1\", \"Operation\": \"training\", \"epoch\": 0, \"model\": 2}, \"Metrics\": {\"validation_binary_classification_cross_entropy_objective\": {\"sum\": 0.48033307733702063, \"count\": 1, \"min\": 0.48033307733702063, \"max\": 0.48033307733702063}}}\u001b[0m\n",
      "\u001b[34m#metrics {\"StartTime\": 1730637652.7713807, \"EndTime\": 1730637652.771388, \"Dimensions\": {\"Algorithm\": \"Linear Learner\", \"Host\": \"algo-1\", \"Operation\": \"training\", \"epoch\": 0, \"model\": 3}, \"Metrics\": {\"validation_binary_classification_cross_entropy_objective\": {\"sum\": 0.4823060537891061, \"count\": 1, \"min\": 0.4823060537891061, \"max\": 0.4823060537891061}}}\u001b[0m\n",
      "\u001b[34m#metrics {\"StartTime\": 1730637652.7714212, \"EndTime\": 1730637652.7714283, \"Dimensions\": {\"Algorithm\": \"Linear Learner\", \"Host\": \"algo-1\", \"Operation\": \"training\", \"epoch\": 0, \"model\": 4}, \"Metrics\": {\"validation_binary_classification_cross_entropy_objective\": {\"sum\": 0.4805254576925706, \"count\": 1, \"min\": 0.4805254576925706, \"max\": 0.4805254576925706}}}\u001b[0m\n",
      "\u001b[34m#metrics {\"StartTime\": 1730637652.7714546, \"EndTime\": 1730637652.771461, \"Dimensions\": {\"Algorithm\": \"Linear Learner\", \"Host\": \"algo-1\", \"Operation\": \"training\", \"epoch\": 0, \"model\": 5}, \"Metrics\": {\"validation_binary_classification_cross_entropy_objective\": {\"sum\": 0.5115003571277356, \"count\": 1, \"min\": 0.5115003571277356, \"max\": 0.5115003571277356}}}\u001b[0m\n",
      "\u001b[34m#metrics {\"StartTime\": 1730637652.7714984, \"EndTime\": 1730637652.771506, \"Dimensions\": {\"Algorithm\": \"Linear Learner\", \"Host\": \"algo-1\", \"Operation\": \"training\", \"epoch\": 0, \"model\": 6}, \"Metrics\": {\"validation_binary_classification_cross_entropy_objective\": {\"sum\": 0.48052545893647, \"count\": 1, \"min\": 0.48052545893647, \"max\": 0.48052545893647}}}\u001b[0m\n",
      "\u001b[34m#metrics {\"StartTime\": 1730637652.7715409, \"EndTime\": 1730637652.7715495, \"Dimensions\": {\"Algorithm\": \"Linear Learner\", \"Host\": \"algo-1\", \"Operation\": \"training\", \"epoch\": 0, \"model\": 7}, \"Metrics\": {\"validation_binary_classification_cross_entropy_objective\": {\"sum\": 0.5115003002504374, \"count\": 1, \"min\": 0.5115003002504374, \"max\": 0.5115003002504374}}}\u001b[0m\n",
      "\u001b[34m#metrics {\"StartTime\": 1730637652.771577, \"EndTime\": 1730637652.7715845, \"Dimensions\": {\"Algorithm\": \"Linear Learner\", \"Host\": \"algo-1\", \"Operation\": \"training\", \"epoch\": 0, \"model\": 8}, \"Metrics\": {\"validation_binary_classification_cross_entropy_objective\": {\"sum\": 0.4805710401669453, \"count\": 1, \"min\": 0.4805710401669453, \"max\": 0.4805710401669453}}}\u001b[0m\n",
      "\u001b[34m#metrics {\"StartTime\": 1730637652.771611, \"EndTime\": 1730637652.7716186, \"Dimensions\": {\"Algorithm\": \"Linear Learner\", \"Host\": \"algo-1\", \"Operation\": \"training\", \"epoch\": 0, \"model\": 9}, \"Metrics\": {\"validation_binary_classification_cross_entropy_objective\": {\"sum\": 0.48238610350195205, \"count\": 1, \"min\": 0.48238610350195205, \"max\": 0.48238610350195205}}}\u001b[0m\n",
      "\u001b[34m#metrics {\"StartTime\": 1730637652.7716491, \"EndTime\": 1730637652.771655, \"Dimensions\": {\"Algorithm\": \"Linear Learner\", \"Host\": \"algo-1\", \"Operation\": \"training\", \"epoch\": 0, \"model\": 10}, \"Metrics\": {\"validation_binary_classification_cross_entropy_objective\": {\"sum\": 0.48057328291749185, \"count\": 1, \"min\": 0.48057328291749185, \"max\": 0.48057328291749185}}}\u001b[0m\n",
      "\u001b[34m#metrics {\"StartTime\": 1730637652.7716815, \"EndTime\": 1730637652.77169, \"Dimensions\": {\"Algorithm\": \"Linear Learner\", \"Host\": \"algo-1\", \"Operation\": \"training\", \"epoch\": 0, \"model\": 11}, \"Metrics\": {\"validation_binary_classification_cross_entropy_objective\": {\"sum\": 0.4823861007031785, \"count\": 1, \"min\": 0.4823861007031785, \"max\": 0.4823861007031785}}}\u001b[0m\n",
      "\u001b[34m#metrics {\"StartTime\": 1730637652.7717211, \"EndTime\": 1730637652.7717295, \"Dimensions\": {\"Algorithm\": \"Linear Learner\", \"Host\": \"algo-1\", \"Operation\": \"training\", \"epoch\": 0, \"model\": 12}, \"Metrics\": {\"validation_binary_classification_cross_entropy_objective\": {\"sum\": 0.4807535763340556, \"count\": 1, \"min\": 0.4807535763340556, \"max\": 0.4807535763340556}}}\u001b[0m\n",
      "\u001b[34m#metrics {\"StartTime\": 1730637652.7717595, \"EndTime\": 1730637652.771769, \"Dimensions\": {\"Algorithm\": \"Linear Learner\", \"Host\": \"algo-1\", \"Operation\": \"training\", \"epoch\": 0, \"model\": 13}, \"Metrics\": {\"validation_binary_classification_cross_entropy_objective\": {\"sum\": 0.5099934147855917, \"count\": 1, \"min\": 0.5099934147855917, \"max\": 0.5099934147855917}}}\u001b[0m\n",
      "\u001b[34m#metrics {\"StartTime\": 1730637652.7718003, \"EndTime\": 1730637652.7718096, \"Dimensions\": {\"Algorithm\": \"Linear Learner\", \"Host\": \"algo-1\", \"Operation\": \"training\", \"epoch\": 0, \"model\": 14}, \"Metrics\": {\"validation_binary_classification_cross_entropy_objective\": {\"sum\": 0.48075357872856184, \"count\": 1, \"min\": 0.48075357872856184, \"max\": 0.48075357872856184}}}\u001b[0m\n",
      "\u001b[34m#metrics {\"StartTime\": 1730637652.7718382, \"EndTime\": 1730637652.771847, \"Dimensions\": {\"Algorithm\": \"Linear Learner\", \"Host\": \"algo-1\", \"Operation\": \"training\", \"epoch\": 0, \"model\": 15}, \"Metrics\": {\"validation_binary_classification_cross_entropy_objective\": {\"sum\": 0.5099933125681617, \"count\": 1, \"min\": 0.5099933125681617, \"max\": 0.5099933125681617}}}\u001b[0m\n",
      "\u001b[34m#metrics {\"StartTime\": 1730637652.771874, \"EndTime\": 1730637652.771882, \"Dimensions\": {\"Algorithm\": \"Linear Learner\", \"Host\": \"algo-1\", \"Operation\": \"training\", \"epoch\": 0, \"model\": 16}, \"Metrics\": {\"validation_binary_classification_cross_entropy_objective\": {\"sum\": 0.5040418726582251, \"count\": 1, \"min\": 0.5040418726582251, \"max\": 0.5040418726582251}}}\u001b[0m\n",
      "\u001b[34m#metrics {\"StartTime\": 1730637652.7719054, \"EndTime\": 1730637652.7719123, \"Dimensions\": {\"Algorithm\": \"Linear Learner\", \"Host\": \"algo-1\", \"Operation\": \"training\", \"epoch\": 0, \"model\": 17}, \"Metrics\": {\"validation_binary_classification_cross_entropy_objective\": {\"sum\": 0.5038741761171904, \"count\": 1, \"min\": 0.5038741761171904, \"max\": 0.5038741761171904}}}\u001b[0m\n",
      "\u001b[34m#metrics {\"StartTime\": 1730637652.7719424, \"EndTime\": 1730637652.7719505, \"Dimensions\": {\"Algorithm\": \"Linear Learner\", \"Host\": \"algo-1\", \"Operation\": \"training\", \"epoch\": 0, \"model\": 18}, \"Metrics\": {\"validation_binary_classification_cross_entropy_objective\": {\"sum\": 0.5040139651852252, \"count\": 1, \"min\": 0.5040139651852252, \"max\": 0.5040139651852252}}}\u001b[0m\n",
      "\u001b[34m#metrics {\"StartTime\": 1730637652.7719839, \"EndTime\": 1730637652.7719922, \"Dimensions\": {\"Algorithm\": \"Linear Learner\", \"Host\": \"algo-1\", \"Operation\": \"training\", \"epoch\": 0, \"model\": 19}, \"Metrics\": {\"validation_binary_classification_cross_entropy_objective\": {\"sum\": 0.5038742054110203, \"count\": 1, \"min\": 0.5038742054110203, \"max\": 0.5038742054110203}}}\u001b[0m\n",
      "\u001b[34m#metrics {\"StartTime\": 1730637652.772021, \"EndTime\": 1730637652.7720292, \"Dimensions\": {\"Algorithm\": \"Linear Learner\", \"Host\": \"algo-1\", \"Operation\": \"training\", \"epoch\": 0, \"model\": 20}, \"Metrics\": {\"validation_binary_classification_cross_entropy_objective\": {\"sum\": 0.5039708488968196, \"count\": 1, \"min\": 0.5039708488968196, \"max\": 0.5039708488968196}}}\u001b[0m\n",
      "\u001b[34m#metrics {\"StartTime\": 1730637652.7720566, \"EndTime\": 1730637652.7720642, \"Dimensions\": {\"Algorithm\": \"Linear Learner\", \"Host\": \"algo-1\", \"Operation\": \"training\", \"epoch\": 0, \"model\": 21}, \"Metrics\": {\"validation_binary_classification_cross_entropy_objective\": {\"sum\": 0.5083577668918826, \"count\": 1, \"min\": 0.5083577668918826, \"max\": 0.5083577668918826}}}\u001b[0m\n",
      "\u001b[34m#metrics {\"StartTime\": 1730637652.7720842, \"EndTime\": 1730637652.772089, \"Dimensions\": {\"Algorithm\": \"Linear Learner\", \"Host\": \"algo-1\", \"Operation\": \"training\", \"epoch\": 0, \"model\": 22}, \"Metrics\": {\"validation_binary_classification_cross_entropy_objective\": {\"sum\": 0.5039708474041404, \"count\": 1, \"min\": 0.5039708474041404, \"max\": 0.5039708474041404}}}\u001b[0m\n",
      "\u001b[34m#metrics {\"StartTime\": 1730637652.7721128, \"EndTime\": 1730637652.772118, \"Dimensions\": {\"Algorithm\": \"Linear Learner\", \"Host\": \"algo-1\", \"Operation\": \"training\", \"epoch\": 0, \"model\": 23}, \"Metrics\": {\"validation_binary_classification_cross_entropy_objective\": {\"sum\": 0.5083577735467442, \"count\": 1, \"min\": 0.5083577735467442, \"max\": 0.5083577735467442}}}\u001b[0m\n",
      "\u001b[34m#metrics {\"StartTime\": 1730637652.7721355, \"EndTime\": 1730637652.7721422, \"Dimensions\": {\"Algorithm\": \"Linear Learner\", \"Host\": \"algo-1\", \"Operation\": \"training\", \"epoch\": 0, \"model\": 24}, \"Metrics\": {\"validation_binary_classification_cross_entropy_objective\": {\"sum\": 0.5137108431017214, \"count\": 1, \"min\": 0.5137108431017214, \"max\": 0.5137108431017214}}}\u001b[0m\n",
      "\u001b[34m#metrics {\"StartTime\": 1730637652.7721746, \"EndTime\": 1730637652.7721825, \"Dimensions\": {\"Algorithm\": \"Linear Learner\", \"Host\": \"algo-1\", \"Operation\": \"training\", \"epoch\": 0, \"model\": 25}, \"Metrics\": {\"validation_binary_classification_cross_entropy_objective\": {\"sum\": 0.5137830284163495, \"count\": 1, \"min\": 0.5137830284163495, \"max\": 0.5137830284163495}}}\u001b[0m\n",
      "\u001b[34m#metrics {\"StartTime\": 1730637652.772215, \"EndTime\": 1730637652.772223, \"Dimensions\": {\"Algorithm\": \"Linear Learner\", \"Host\": \"algo-1\", \"Operation\": \"training\", \"epoch\": 0, \"model\": 26}, \"Metrics\": {\"validation_binary_classification_cross_entropy_objective\": {\"sum\": 0.513705599879333, \"count\": 1, \"min\": 0.513705599879333, \"max\": 0.513705599879333}}}\u001b[0m\n",
      "\u001b[34m#metrics {\"StartTime\": 1730637652.7722533, \"EndTime\": 1730637652.7722616, \"Dimensions\": {\"Algorithm\": \"Linear Learner\", \"Host\": \"algo-1\", \"Operation\": \"training\", \"epoch\": 0, \"model\": 27}, \"Metrics\": {\"validation_binary_classification_cross_entropy_objective\": {\"sum\": 0.5137827478548488, \"count\": 1, \"min\": 0.5137827478548488, \"max\": 0.5137827478548488}}}\u001b[0m\n",
      "\u001b[34m#metrics {\"StartTime\": 1730637652.7722964, \"EndTime\": 1730637652.772305, \"Dimensions\": {\"Algorithm\": \"Linear Learner\", \"Host\": \"algo-1\", \"Operation\": \"training\", \"epoch\": 0, \"model\": 28}, \"Metrics\": {\"validation_binary_classification_cross_entropy_objective\": {\"sum\": 0.5136772544604659, \"count\": 1, \"min\": 0.5136772544604659, \"max\": 0.5136772544604659}}}\u001b[0m\n",
      "\u001b[34m#metrics {\"StartTime\": 1730637652.7723362, \"EndTime\": 1730637652.772345, \"Dimensions\": {\"Algorithm\": \"Linear Learner\", \"Host\": \"algo-1\", \"Operation\": \"training\", \"epoch\": 0, \"model\": 29}, \"Metrics\": {\"validation_binary_classification_cross_entropy_objective\": {\"sum\": 0.5159508316941493, \"count\": 1, \"min\": 0.5159508316941493, \"max\": 0.5159508316941493}}}\u001b[0m\n",
      "\u001b[34m#metrics {\"StartTime\": 1730637652.7723765, \"EndTime\": 1730637652.7723851, \"Dimensions\": {\"Algorithm\": \"Linear Learner\", \"Host\": \"algo-1\", \"Operation\": \"training\", \"epoch\": 0, \"model\": 30}, \"Metrics\": {\"validation_binary_classification_cross_entropy_objective\": {\"sum\": 0.5136781631911436, \"count\": 1, \"min\": 0.5136781631911436, \"max\": 0.5136781631911436}}}\u001b[0m\n",
      "\u001b[34m#metrics {\"StartTime\": 1730637652.772414, \"EndTime\": 1730637652.7724218, \"Dimensions\": {\"Algorithm\": \"Linear Learner\", \"Host\": \"algo-1\", \"Operation\": \"training\", \"epoch\": 0, \"model\": 31}, \"Metrics\": {\"validation_binary_classification_cross_entropy_objective\": {\"sum\": 0.515950778672939, \"count\": 1, \"min\": 0.515950778672939, \"max\": 0.515950778672939}}}\u001b[0m\n",
      "\u001b[34m[11/03/2024 12:40:52 INFO 139752866015040] #quality_metric: host=algo-1, epoch=0, validation binary_classification_cross_entropy_objective <loss>=0.48031403752926766\u001b[0m\n",
      "\u001b[34m[11/03/2024 12:40:52 INFO 139752866015040] #early_stopping_criteria_metric: host=algo-1, epoch=0, criteria=sampled_accuracy, value=0.7935664267255786\u001b[0m\n",
      "\u001b[34m[11/03/2024 12:40:52 INFO 139752866015040] Epoch 0: Loss improved. Updating best model\u001b[0m\n",
      "\u001b[34m[11/03/2024 12:40:52 INFO 139752866015040] Saving model for epoch: 0\u001b[0m\n",
      "\u001b[34m[11/03/2024 12:40:52 INFO 139752866015040] Saved checkpoint to \"/tmp/tmpw_ehgujj/mx-mod-0000.params\"\u001b[0m\n",
      "\u001b[34m[11/03/2024 12:40:52 INFO 139752866015040] #progress_metric: host=algo-1, completed 20.0 % of epochs\u001b[0m\n",
      "\u001b[34m#metrics {\"StartTime\": 1730637536.0444086, \"EndTime\": 1730637652.7776887, \"Dimensions\": {\"Algorithm\": \"Linear Learner\", \"Host\": \"algo-1\", \"Operation\": \"training\", \"epoch\": 0, \"Meta\": \"training_data_iter\"}, \"Metrics\": {\"Total Records Seen\": {\"sum\": 1155313.0, \"count\": 1, \"min\": 1155313, \"max\": 1155313}, \"Total Batches Seen\": {\"sum\": 5777.0, \"count\": 1, \"min\": 5777, \"max\": 5777}, \"Max Records Seen Between Resets\": {\"sum\": 1144913.0, \"count\": 1, \"min\": 1144913, \"max\": 1144913}, \"Max Batches Seen Between Resets\": {\"sum\": 5725.0, \"count\": 1, \"min\": 5725, \"max\": 5725}, \"Reset Count\": {\"sum\": 3.0, \"count\": 1, \"min\": 3, \"max\": 3}, \"Number of Records Since Last Reset\": {\"sum\": 1144913.0, \"count\": 1, \"min\": 1144913, \"max\": 1144913}, \"Number of Batches Since Last Reset\": {\"sum\": 5725.0, \"count\": 1, \"min\": 5725, \"max\": 5725}}}\u001b[0m\n",
      "\u001b[34m[11/03/2024 12:40:52 INFO 139752866015040] #throughput_metric: host=algo-1, train throughput=9807.932018621994 records/second\u001b[0m\n",
      "\u001b[34m[2024-11-03 12:42:32.713] [tensorio] [info] epoch_stats={\"data_pipeline\": \"/opt/ml/input/data/train\", \"epoch\": 5, \"duration\": 99933, \"num_examples\": 5725, \"num_bytes\": 444226244}\u001b[0m\n",
      "\u001b[34m#metrics {\"StartTime\": 1730637752.713386, \"EndTime\": 1730637752.7134407, \"Dimensions\": {\"Algorithm\": \"Linear Learner\", \"Host\": \"algo-1\", \"Operation\": \"training\", \"epoch\": 1, \"model\": 0}, \"Metrics\": {\"train_binary_classification_cross_entropy_objective\": {\"sum\": 0.48056656178355134, \"count\": 1, \"min\": 0.48056656178355134, \"max\": 0.48056656178355134}}}\u001b[0m\n",
      "\u001b[34m#metrics {\"StartTime\": 1730637752.713499, \"EndTime\": 1730637752.7135096, \"Dimensions\": {\"Algorithm\": \"Linear Learner\", \"Host\": \"algo-1\", \"Operation\": \"training\", \"epoch\": 1, \"model\": 1}, \"Metrics\": {\"train_binary_classification_cross_entropy_objective\": {\"sum\": 0.48199129467823554, \"count\": 1, \"min\": 0.48199129467823554, \"max\": 0.48199129467823554}}}\u001b[0m\n",
      "\u001b[34m#metrics {\"StartTime\": 1730637752.7135434, \"EndTime\": 1730637752.7135525, \"Dimensions\": {\"Algorithm\": \"Linear Learner\", \"Host\": \"algo-1\", \"Operation\": \"training\", \"epoch\": 1, \"model\": 2}, \"Metrics\": {\"train_binary_classification_cross_entropy_objective\": {\"sum\": 0.4806295826416762, \"count\": 1, \"min\": 0.4806295826416762, \"max\": 0.4806295826416762}}}\u001b[0m\n",
      "\u001b[34m#metrics {\"StartTime\": 1730637752.7135808, \"EndTime\": 1730637752.7135866, \"Dimensions\": {\"Algorithm\": \"Linear Learner\", \"Host\": \"algo-1\", \"Operation\": \"training\", \"epoch\": 1, \"model\": 3}, \"Metrics\": {\"train_binary_classification_cross_entropy_objective\": {\"sum\": 0.4819912960044493, \"count\": 1, \"min\": 0.4819912960044493, \"max\": 0.4819912960044493}}}\u001b[0m\n",
      "\u001b[34m#metrics {\"StartTime\": 1730637752.7136104, \"EndTime\": 1730637752.7136173, \"Dimensions\": {\"Algorithm\": \"Linear Learner\", \"Host\": \"algo-1\", \"Operation\": \"training\", \"epoch\": 1, \"model\": 4}, \"Metrics\": {\"train_binary_classification_cross_entropy_objective\": {\"sum\": 0.4806367357388649, \"count\": 1, \"min\": 0.4806367357388649, \"max\": 0.4806367357388649}}}\u001b[0m\n",
      "\u001b[34m#metrics {\"StartTime\": 1730637752.7136428, \"EndTime\": 1730637752.7136507, \"Dimensions\": {\"Algorithm\": \"Linear Learner\", \"Host\": \"algo-1\", \"Operation\": \"training\", \"epoch\": 1, \"model\": 5}, \"Metrics\": {\"train_binary_classification_cross_entropy_objective\": {\"sum\": 0.5087663754410547, \"count\": 1, \"min\": 0.5087663754410547, \"max\": 0.5087663754410547}}}\u001b[0m\n",
      "\u001b[34m#metrics {\"StartTime\": 1730637752.7136774, \"EndTime\": 1730637752.7136855, \"Dimensions\": {\"Algorithm\": \"Linear Learner\", \"Host\": \"algo-1\", \"Operation\": \"training\", \"epoch\": 1, \"model\": 6}, \"Metrics\": {\"train_binary_classification_cross_entropy_objective\": {\"sum\": 0.48064805525986987, \"count\": 1, \"min\": 0.48064805525986987, \"max\": 0.48064805525986987}}}\u001b[0m\n",
      "\u001b[34m#metrics {\"StartTime\": 1730637752.7137215, \"EndTime\": 1730637752.7137294, \"Dimensions\": {\"Algorithm\": \"Linear Learner\", \"Host\": \"algo-1\", \"Operation\": \"training\", \"epoch\": 1, \"model\": 7}, \"Metrics\": {\"train_binary_classification_cross_entropy_objective\": {\"sum\": 0.5087663788865447, \"count\": 1, \"min\": 0.5087663788865447, \"max\": 0.5087663788865447}}}\u001b[0m\n",
      "\u001b[34m#metrics {\"StartTime\": 1730637752.7137592, \"EndTime\": 1730637752.7137678, \"Dimensions\": {\"Algorithm\": \"Linear Learner\", \"Host\": \"algo-1\", \"Operation\": \"training\", \"epoch\": 1, \"model\": 8}, \"Metrics\": {\"train_binary_classification_cross_entropy_objective\": {\"sum\": 0.4808049194167995, \"count\": 1, \"min\": 0.4808049194167995, \"max\": 0.4808049194167995}}}\u001b[0m\n",
      "\u001b[34m#metrics {\"StartTime\": 1730637752.7137961, \"EndTime\": 1730637752.7138045, \"Dimensions\": {\"Algorithm\": \"Linear Learner\", \"Host\": \"algo-1\", \"Operation\": \"training\", \"epoch\": 1, \"model\": 9}, \"Metrics\": {\"train_binary_classification_cross_entropy_objective\": {\"sum\": 0.4821688570199856, \"count\": 1, \"min\": 0.4821688570199856, \"max\": 0.4821688570199856}}}\u001b[0m\n",
      "\u001b[34m#metrics {\"StartTime\": 1730637752.7138336, \"EndTime\": 1730637752.7138414, \"Dimensions\": {\"Algorithm\": \"Linear Learner\", \"Host\": \"algo-1\", \"Operation\": \"training\", \"epoch\": 1, \"model\": 10}, \"Metrics\": {\"train_binary_classification_cross_entropy_objective\": {\"sum\": 0.4808742554382708, \"count\": 1, \"min\": 0.4808742554382708, \"max\": 0.4808742554382708}}}\u001b[0m\n",
      "\u001b[34m#metrics {\"StartTime\": 1730637752.713866, \"EndTime\": 1730637752.7138727, \"Dimensions\": {\"Algorithm\": \"Linear Learner\", \"Host\": \"algo-1\", \"Operation\": \"training\", \"epoch\": 1, \"model\": 11}, \"Metrics\": {\"train_binary_classification_cross_entropy_objective\": {\"sum\": 0.4821688574864929, \"count\": 1, \"min\": 0.4821688574864929, \"max\": 0.4821688574864929}}}\u001b[0m\n",
      "\u001b[34m#metrics {\"StartTime\": 1730637752.7138944, \"EndTime\": 1730637752.7139013, \"Dimensions\": {\"Algorithm\": \"Linear Learner\", \"Host\": \"algo-1\", \"Operation\": \"training\", \"epoch\": 1, \"model\": 12}, \"Metrics\": {\"train_binary_classification_cross_entropy_objective\": {\"sum\": 0.4809080730960721, \"count\": 1, \"min\": 0.4809080730960721, \"max\": 0.4809080730960721}}}\u001b[0m\n",
      "\u001b[34m#metrics {\"StartTime\": 1730637752.7139263, \"EndTime\": 1730637752.7139342, \"Dimensions\": {\"Algorithm\": \"Linear Learner\", \"Host\": \"algo-1\", \"Operation\": \"training\", \"epoch\": 1, \"model\": 13}, \"Metrics\": {\"train_binary_classification_cross_entropy_objective\": {\"sum\": 0.5070568670583387, \"count\": 1, \"min\": 0.5070568670583387, \"max\": 0.5070568670583387}}}\u001b[0m\n",
      "\u001b[34m#metrics {\"StartTime\": 1730637752.7139597, \"EndTime\": 1730637752.7139676, \"Dimensions\": {\"Algorithm\": \"Linear Learner\", \"Host\": \"algo-1\", \"Operation\": \"training\", \"epoch\": 1, \"model\": 14}, \"Metrics\": {\"train_binary_classification_cross_entropy_objective\": {\"sum\": 0.48091081729225144, \"count\": 1, \"min\": 0.48091081729225144, \"max\": 0.48091081729225144}}}\u001b[0m\n",
      "\u001b[34m#metrics {\"StartTime\": 1730637752.713996, \"EndTime\": 1730637752.7140026, \"Dimensions\": {\"Algorithm\": \"Linear Learner\", \"Host\": \"algo-1\", \"Operation\": \"training\", \"epoch\": 1, \"model\": 15}, \"Metrics\": {\"train_binary_classification_cross_entropy_objective\": {\"sum\": 0.5070568633396088, \"count\": 1, \"min\": 0.5070568633396088, \"max\": 0.5070568633396088}}}\u001b[0m\n",
      "\u001b[34m#metrics {\"StartTime\": 1730637752.7140298, \"EndTime\": 1730637752.7140365, \"Dimensions\": {\"Algorithm\": \"Linear Learner\", \"Host\": \"algo-1\", \"Operation\": \"training\", \"epoch\": 1, \"model\": 16}, \"Metrics\": {\"train_binary_classification_cross_entropy_objective\": {\"sum\": 0.5041578600808176, \"count\": 1, \"min\": 0.5041578600808176, \"max\": 0.5041578600808176}}}\u001b[0m\n",
      "\u001b[34m#metrics {\"StartTime\": 1730637752.7140634, \"EndTime\": 1730637752.7140715, \"Dimensions\": {\"Algorithm\": \"Linear Learner\", \"Host\": \"algo-1\", \"Operation\": \"training\", \"epoch\": 1, \"model\": 17}, \"Metrics\": {\"train_binary_classification_cross_entropy_objective\": {\"sum\": 0.5045546236977887, \"count\": 1, \"min\": 0.5045546236977887, \"max\": 0.5045546236977887}}}\u001b[0m\n",
      "\u001b[34m#metrics {\"StartTime\": 1730637752.7140968, \"EndTime\": 1730637752.7141044, \"Dimensions\": {\"Algorithm\": \"Linear Learner\", \"Host\": \"algo-1\", \"Operation\": \"training\", \"epoch\": 1, \"model\": 18}, \"Metrics\": {\"train_binary_classification_cross_entropy_objective\": {\"sum\": 0.5041819093478968, \"count\": 1, \"min\": 0.5041819093478968, \"max\": 0.5041819093478968}}}\u001b[0m\n",
      "\u001b[34m#metrics {\"StartTime\": 1730637752.7141292, \"EndTime\": 1730637752.714137, \"Dimensions\": {\"Algorithm\": \"Linear Learner\", \"Host\": \"algo-1\", \"Operation\": \"training\", \"epoch\": 1, \"model\": 19}, \"Metrics\": {\"train_binary_classification_cross_entropy_objective\": {\"sum\": 0.5045546228114247, \"count\": 1, \"min\": 0.5045546228114247, \"max\": 0.5045546228114247}}}\u001b[0m\n",
      "\u001b[34m#metrics {\"StartTime\": 1730637752.7141695, \"EndTime\": 1730637752.7141778, \"Dimensions\": {\"Algorithm\": \"Linear Learner\", \"Host\": \"algo-1\", \"Operation\": \"training\", \"epoch\": 1, \"model\": 20}, \"Metrics\": {\"train_binary_classification_cross_entropy_objective\": {\"sum\": 0.5042086252776332, \"count\": 1, \"min\": 0.5042086252776332, \"max\": 0.5042086252776332}}}\u001b[0m\n",
      "\u001b[34m#metrics {\"StartTime\": 1730637752.7142098, \"EndTime\": 1730637752.7142174, \"Dimensions\": {\"Algorithm\": \"Linear Learner\", \"Host\": \"algo-1\", \"Operation\": \"training\", \"epoch\": 1, \"model\": 21}, \"Metrics\": {\"train_binary_classification_cross_entropy_objective\": {\"sum\": 0.5098719528552788, \"count\": 1, \"min\": 0.5098719528552788, \"max\": 0.5098719528552788}}}\u001b[0m\n",
      "\u001b[34m#metrics {\"StartTime\": 1730637752.7142441, \"EndTime\": 1730637752.7142525, \"Dimensions\": {\"Algorithm\": \"Linear Learner\", \"Host\": \"algo-1\", \"Operation\": \"training\", \"epoch\": 1, \"model\": 22}, \"Metrics\": {\"train_binary_classification_cross_entropy_objective\": {\"sum\": 0.5041904635199461, \"count\": 1, \"min\": 0.5041904635199461, \"max\": 0.5041904635199461}}}\u001b[0m\n",
      "\u001b[34m#metrics {\"StartTime\": 1730637752.7142792, \"EndTime\": 1730637752.7142873, \"Dimensions\": {\"Algorithm\": \"Linear Learner\", \"Host\": \"algo-1\", \"Operation\": \"training\", \"epoch\": 1, \"model\": 23}, \"Metrics\": {\"train_binary_classification_cross_entropy_objective\": {\"sum\": 0.5098719536016906, \"count\": 1, \"min\": 0.5098719536016906, \"max\": 0.5098719536016906}}}\u001b[0m\n",
      "\u001b[34m#metrics {\"StartTime\": 1730637752.7143104, \"EndTime\": 1730637752.7143347, \"Dimensions\": {\"Algorithm\": \"Linear Learner\", \"Host\": \"algo-1\", \"Operation\": \"training\", \"epoch\": 1, \"model\": 24}, \"Metrics\": {\"train_binary_classification_cross_entropy_objective\": {\"sum\": 0.5137151317409833, \"count\": 1, \"min\": 0.5137151317409833, \"max\": 0.5137151317409833}}}\u001b[0m\n",
      "\u001b[34m#metrics {\"StartTime\": 1730637752.7143686, \"EndTime\": 1730637752.7143779, \"Dimensions\": {\"Algorithm\": \"Linear Learner\", \"Host\": \"algo-1\", \"Operation\": \"training\", \"epoch\": 1, \"model\": 25}, \"Metrics\": {\"train_binary_classification_cross_entropy_objective\": {\"sum\": 0.5138902413603478, \"count\": 1, \"min\": 0.5138902413603478, \"max\": 0.5138902413603478}}}\u001b[0m\n",
      "\u001b[34m#metrics {\"StartTime\": 1730637752.7144086, \"EndTime\": 1730637752.7144175, \"Dimensions\": {\"Algorithm\": \"Linear Learner\", \"Host\": \"algo-1\", \"Operation\": \"training\", \"epoch\": 1, \"model\": 26}, \"Metrics\": {\"train_binary_classification_cross_entropy_objective\": {\"sum\": 0.5137246944352849, \"count\": 1, \"min\": 0.5137246944352849, \"max\": 0.5137246944352849}}}\u001b[0m\n",
      "\u001b[34m#metrics {\"StartTime\": 1730637752.7144473, \"EndTime\": 1730637752.7144551, \"Dimensions\": {\"Algorithm\": \"Linear Learner\", \"Host\": \"algo-1\", \"Operation\": \"training\", \"epoch\": 1, \"model\": 27}, \"Metrics\": {\"train_binary_classification_cross_entropy_objective\": {\"sum\": 0.5138902436595626, \"count\": 1, \"min\": 0.5138902436595626, \"max\": 0.5138902436595626}}}\u001b[0m\n",
      "\u001b[34m#metrics {\"StartTime\": 1730637752.714491, \"EndTime\": 1730637752.7144985, \"Dimensions\": {\"Algorithm\": \"Linear Learner\", \"Host\": \"algo-1\", \"Operation\": \"training\", \"epoch\": 1, \"model\": 28}, \"Metrics\": {\"train_binary_classification_cross_entropy_objective\": {\"sum\": 0.5137201031565582, \"count\": 1, \"min\": 0.5137201031565582, \"max\": 0.5137201031565582}}}\u001b[0m\n",
      "\u001b[34m#metrics {\"StartTime\": 1730637752.7145295, \"EndTime\": 1730637752.7145371, \"Dimensions\": {\"Algorithm\": \"Linear Learner\", \"Host\": \"algo-1\", \"Operation\": \"training\", \"epoch\": 1, \"model\": 29}, \"Metrics\": {\"train_binary_classification_cross_entropy_objective\": {\"sum\": 0.5160533657313893, \"count\": 1, \"min\": 0.5160533657313893, \"max\": 0.5160533657313893}}}\u001b[0m\n",
      "\u001b[34m#metrics {\"StartTime\": 1730637752.7145672, \"EndTime\": 1730637752.7145722, \"Dimensions\": {\"Algorithm\": \"Linear Learner\", \"Host\": \"algo-1\", \"Operation\": \"training\", \"epoch\": 1, \"model\": 30}, \"Metrics\": {\"train_binary_classification_cross_entropy_objective\": {\"sum\": 0.5137266068421903, \"count\": 1, \"min\": 0.5137266068421903, \"max\": 0.5137266068421903}}}\u001b[0m\n",
      "\u001b[34m#metrics {\"StartTime\": 1730637752.7145877, \"EndTime\": 1730637752.714592, \"Dimensions\": {\"Algorithm\": \"Linear Learner\", \"Host\": \"algo-1\", \"Operation\": \"training\", \"epoch\": 1, \"model\": 31}, \"Metrics\": {\"train_binary_classification_cross_entropy_objective\": {\"sum\": 0.5160533655981014, \"count\": 1, \"min\": 0.5160533655981014, \"max\": 0.5160533655981014}}}\u001b[0m\n",
      "\u001b[34m[11/03/2024 12:42:32 INFO 139752866015040] #quality_metric: host=algo-1, epoch=1, train binary_classification_cross_entropy_objective <loss>=0.48056656178355134\u001b[0m\n",
      "\u001b[34m[2024-11-03 12:42:47.550] [tensorio] [info] epoch_stats={\"data_pipeline\": \"/opt/ml/input/data/validation\", \"epoch\": 5, \"duration\": 14824, \"num_examples\": 1227, \"num_bytes\": 95191144}\u001b[0m\n",
      "\u001b[34m#metrics {\"StartTime\": 1730637769.654896, \"EndTime\": 1730637769.6549497, \"Dimensions\": {\"Algorithm\": \"Linear Learner\", \"Host\": \"algo-1\", \"Operation\": \"training\", \"epoch\": 1, \"model\": 0}, \"Metrics\": {\"validation_binary_classification_cross_entropy_objective\": {\"sum\": 0.48030202858277127, \"count\": 1, \"min\": 0.48030202858277127, \"max\": 0.48030202858277127}}}\u001b[0m\n",
      "\u001b[34m#metrics {\"StartTime\": 1730637769.6550202, \"EndTime\": 1730637769.6550324, \"Dimensions\": {\"Algorithm\": \"Linear Learner\", \"Host\": \"algo-1\", \"Operation\": \"training\", \"epoch\": 1, \"model\": 1}, \"Metrics\": {\"validation_binary_classification_cross_entropy_objective\": {\"sum\": 0.4813897823447588, \"count\": 1, \"min\": 0.4813897823447588, \"max\": 0.4813897823447588}}}\u001b[0m\n",
      "\u001b[34m#metrics {\"StartTime\": 1730637769.6550632, \"EndTime\": 1730637769.6550722, \"Dimensions\": {\"Algorithm\": \"Linear Learner\", \"Host\": \"algo-1\", \"Operation\": \"training\", \"epoch\": 1, \"model\": 2}, \"Metrics\": {\"validation_binary_classification_cross_entropy_objective\": {\"sum\": 0.4803260581995155, \"count\": 1, \"min\": 0.4803260581995155, \"max\": 0.4803260581995155}}}\u001b[0m\n",
      "\u001b[34m#metrics {\"StartTime\": 1730637769.6551025, \"EndTime\": 1730637769.6551113, \"Dimensions\": {\"Algorithm\": \"Linear Learner\", \"Host\": \"algo-1\", \"Operation\": \"training\", \"epoch\": 1, \"model\": 3}, \"Metrics\": {\"validation_binary_classification_cross_entropy_objective\": {\"sum\": 0.48138977957708273, \"count\": 1, \"min\": 0.48138977957708273, \"max\": 0.48138977957708273}}}\u001b[0m\n",
      "\u001b[34m#metrics {\"StartTime\": 1730637769.6551375, \"EndTime\": 1730637769.6551454, \"Dimensions\": {\"Algorithm\": \"Linear Learner\", \"Host\": \"algo-1\", \"Operation\": \"training\", \"epoch\": 1, \"model\": 4}, \"Metrics\": {\"validation_binary_classification_cross_entropy_objective\": {\"sum\": 0.48030064458924554, \"count\": 1, \"min\": 0.48030064458924554, \"max\": 0.48030064458924554}}}\u001b[0m\n",
      "\u001b[34m#metrics {\"StartTime\": 1730637769.6551712, \"EndTime\": 1730637769.6551783, \"Dimensions\": {\"Algorithm\": \"Linear Learner\", \"Host\": \"algo-1\", \"Operation\": \"training\", \"epoch\": 1, \"model\": 5}, \"Metrics\": {\"validation_binary_classification_cross_entropy_objective\": {\"sum\": 0.49842608903946256, \"count\": 1, \"min\": 0.49842608903946256, \"max\": 0.49842608903946256}}}\u001b[0m\n",
      "\u001b[34m#metrics {\"StartTime\": 1730637769.6552033, \"EndTime\": 1730637769.6552095, \"Dimensions\": {\"Algorithm\": \"Linear Learner\", \"Host\": \"algo-1\", \"Operation\": \"training\", \"epoch\": 1, \"model\": 6}, \"Metrics\": {\"validation_binary_classification_cross_entropy_objective\": {\"sum\": 0.48031408694316974, \"count\": 1, \"min\": 0.48031408694316974, \"max\": 0.48031408694316974}}}\u001b[0m\n",
      "\u001b[34m#metrics {\"StartTime\": 1730637769.6552317, \"EndTime\": 1730637769.655239, \"Dimensions\": {\"Algorithm\": \"Linear Learner\", \"Host\": \"algo-1\", \"Operation\": \"training\", \"epoch\": 1, \"model\": 7}, \"Metrics\": {\"validation_binary_classification_cross_entropy_objective\": {\"sum\": 0.49842608518337456, \"count\": 1, \"min\": 0.49842608518337456, \"max\": 0.49842608518337456}}}\u001b[0m\n",
      "\u001b[34m#metrics {\"StartTime\": 1730637769.655265, \"EndTime\": 1730637769.6552727, \"Dimensions\": {\"Algorithm\": \"Linear Learner\", \"Host\": \"algo-1\", \"Operation\": \"training\", \"epoch\": 1, \"model\": 8}, \"Metrics\": {\"validation_binary_classification_cross_entropy_objective\": {\"sum\": 0.4805637655325116, \"count\": 1, \"min\": 0.4805637655325116, \"max\": 0.4805637655325116}}}\u001b[0m\n",
      "\u001b[34m#metrics {\"StartTime\": 1730637769.6553035, \"EndTime\": 1730637769.655312, \"Dimensions\": {\"Algorithm\": \"Linear Learner\", \"Host\": \"algo-1\", \"Operation\": \"training\", \"epoch\": 1, \"model\": 9}, \"Metrics\": {\"validation_binary_classification_cross_entropy_objective\": {\"sum\": 0.48156797049275274, \"count\": 1, \"min\": 0.48156797049275274, \"max\": 0.48156797049275274}}}\u001b[0m\n",
      "\u001b[34m#metrics {\"StartTime\": 1730637769.655344, \"EndTime\": 1730637769.6553526, \"Dimensions\": {\"Algorithm\": \"Linear Learner\", \"Host\": \"algo-1\", \"Operation\": \"training\", \"epoch\": 1, \"model\": 10}, \"Metrics\": {\"validation_binary_classification_cross_entropy_objective\": {\"sum\": 0.48057253632909586, \"count\": 1, \"min\": 0.48057253632909586, \"max\": 0.48057253632909586}}}\u001b[0m\n",
      "\u001b[34m#metrics {\"StartTime\": 1730637769.655379, \"EndTime\": 1730637769.6553862, \"Dimensions\": {\"Algorithm\": \"Linear Learner\", \"Host\": \"algo-1\", \"Operation\": \"training\", \"epoch\": 1, \"model\": 11}, \"Metrics\": {\"validation_binary_classification_cross_entropy_objective\": {\"sum\": 0.4815679698397056, \"count\": 1, \"min\": 0.4815679698397056, \"max\": 0.4815679698397056}}}\u001b[0m\n",
      "\u001b[34m#metrics {\"StartTime\": 1730637769.6554096, \"EndTime\": 1730637769.6554177, \"Dimensions\": {\"Algorithm\": \"Linear Learner\", \"Host\": \"algo-1\", \"Operation\": \"training\", \"epoch\": 1, \"model\": 12}, \"Metrics\": {\"validation_binary_classification_cross_entropy_objective\": {\"sum\": 0.4805992601696594, \"count\": 1, \"min\": 0.4805992601696594, \"max\": 0.4805992601696594}}}\u001b[0m\n",
      "\u001b[34m#metrics {\"StartTime\": 1730637769.655442, \"EndTime\": 1730637769.6554494, \"Dimensions\": {\"Algorithm\": \"Linear Learner\", \"Host\": \"algo-1\", \"Operation\": \"training\", \"epoch\": 1, \"model\": 13}, \"Metrics\": {\"validation_binary_classification_cross_entropy_objective\": {\"sum\": 0.4968834194820879, \"count\": 1, \"min\": 0.4968834194820879, \"max\": 0.4968834194820879}}}\u001b[0m\n",
      "\u001b[34m#metrics {\"StartTime\": 1730637769.655479, \"EndTime\": 1730637769.655487, \"Dimensions\": {\"Algorithm\": \"Linear Learner\", \"Host\": \"algo-1\", \"Operation\": \"training\", \"epoch\": 1, \"model\": 14}, \"Metrics\": {\"validation_binary_classification_cross_entropy_objective\": {\"sum\": 0.48057948997529965, \"count\": 1, \"min\": 0.48057948997529965, \"max\": 0.48057948997529965}}}\u001b[0m\n",
      "\u001b[34m#metrics {\"StartTime\": 1730637769.6555169, \"EndTime\": 1730637769.655525, \"Dimensions\": {\"Algorithm\": \"Linear Learner\", \"Host\": \"algo-1\", \"Operation\": \"training\", \"epoch\": 1, \"model\": 15}, \"Metrics\": {\"validation_binary_classification_cross_entropy_objective\": {\"sum\": 0.49688341690099674, \"count\": 1, \"min\": 0.49688341690099674, \"max\": 0.49688341690099674}}}\u001b[0m\n",
      "\u001b[34m#metrics {\"StartTime\": 1730637769.6555545, \"EndTime\": 1730637769.6555634, \"Dimensions\": {\"Algorithm\": \"Linear Learner\", \"Host\": \"algo-1\", \"Operation\": \"training\", \"epoch\": 1, \"model\": 16}, \"Metrics\": {\"validation_binary_classification_cross_entropy_objective\": {\"sum\": 0.5040765445492386, \"count\": 1, \"min\": 0.5040765445492386, \"max\": 0.5040765445492386}}}\u001b[0m\n",
      "\u001b[34m#metrics {\"StartTime\": 1730637769.6555867, \"EndTime\": 1730637769.6555939, \"Dimensions\": {\"Algorithm\": \"Linear Learner\", \"Host\": \"algo-1\", \"Operation\": \"training\", \"epoch\": 1, \"model\": 17}, \"Metrics\": {\"validation_binary_classification_cross_entropy_objective\": {\"sum\": 0.5040090917430191, \"count\": 1, \"min\": 0.5040090917430191, \"max\": 0.5040090917430191}}}\u001b[0m\n",
      "\u001b[34m#metrics {\"StartTime\": 1730637769.6556215, \"EndTime\": 1730637769.6556294, \"Dimensions\": {\"Algorithm\": \"Linear Learner\", \"Host\": \"algo-1\", \"Operation\": \"training\", \"epoch\": 1, \"model\": 18}, \"Metrics\": {\"validation_binary_classification_cross_entropy_objective\": {\"sum\": 0.5040139524974517, \"count\": 1, \"min\": 0.5040139524974517, \"max\": 0.5040139524974517}}}\u001b[0m\n",
      "\u001b[34m#metrics {\"StartTime\": 1730637769.6556582, \"EndTime\": 1730637769.6556659, \"Dimensions\": {\"Algorithm\": \"Linear Learner\", \"Host\": \"algo-1\", \"Operation\": \"training\", \"epoch\": 1, \"model\": 19}, \"Metrics\": {\"validation_binary_classification_cross_entropy_objective\": {\"sum\": 0.5040090922405789, \"count\": 1, \"min\": 0.5040090922405789, \"max\": 0.5040090922405789}}}\u001b[0m\n",
      "\u001b[34m#metrics {\"StartTime\": 1730637769.6556892, \"EndTime\": 1730637769.6556957, \"Dimensions\": {\"Algorithm\": \"Linear Learner\", \"Host\": \"algo-1\", \"Operation\": \"training\", \"epoch\": 1, \"model\": 20}, \"Metrics\": {\"validation_binary_classification_cross_entropy_objective\": {\"sum\": 0.5040775196108496, \"count\": 1, \"min\": 0.5040775196108496, \"max\": 0.5040775196108496}}}\u001b[0m\n",
      "\u001b[34m#metrics {\"StartTime\": 1730637769.655718, \"EndTime\": 1730637769.6557262, \"Dimensions\": {\"Algorithm\": \"Linear Learner\", \"Host\": \"algo-1\", \"Operation\": \"training\", \"epoch\": 1, \"model\": 21}, \"Metrics\": {\"validation_binary_classification_cross_entropy_objective\": {\"sum\": 0.5054946421570123, \"count\": 1, \"min\": 0.5054946421570123, \"max\": 0.5054946421570123}}}\u001b[0m\n",
      "\u001b[34m#metrics {\"StartTime\": 1730637769.6557524, \"EndTime\": 1730637769.6557598, \"Dimensions\": {\"Algorithm\": \"Linear Learner\", \"Host\": \"algo-1\", \"Operation\": \"training\", \"epoch\": 1, \"model\": 22}, \"Metrics\": {\"validation_binary_classification_cross_entropy_objective\": {\"sum\": 0.5040139539590335, \"count\": 1, \"min\": 0.5040139539590335, \"max\": 0.5040139539590335}}}\u001b[0m\n",
      "\u001b[34m#metrics {\"StartTime\": 1730637769.6557875, \"EndTime\": 1730637769.655795, \"Dimensions\": {\"Algorithm\": \"Linear Learner\", \"Host\": \"algo-1\", \"Operation\": \"training\", \"epoch\": 1, \"model\": 23}, \"Metrics\": {\"validation_binary_classification_cross_entropy_objective\": {\"sum\": 0.5054946392027514, \"count\": 1, \"min\": 0.5054946392027514, \"max\": 0.5054946392027514}}}\u001b[0m\n",
      "\u001b[34m#metrics {\"StartTime\": 1730637769.655826, \"EndTime\": 1730637769.6558342, \"Dimensions\": {\"Algorithm\": \"Linear Learner\", \"Host\": \"algo-1\", \"Operation\": \"training\", \"epoch\": 1, \"model\": 24}, \"Metrics\": {\"validation_binary_classification_cross_entropy_objective\": {\"sum\": 0.5137113209456607, \"count\": 1, \"min\": 0.5137113209456607, \"max\": 0.5137113209456607}}}\u001b[0m\n",
      "\u001b[34m#metrics {\"StartTime\": 1730637769.655864, \"EndTime\": 1730637769.6558726, \"Dimensions\": {\"Algorithm\": \"Linear Learner\", \"Host\": \"algo-1\", \"Operation\": \"training\", \"epoch\": 1, \"model\": 25}, \"Metrics\": {\"validation_binary_classification_cross_entropy_objective\": {\"sum\": 0.5138543083899256, \"count\": 1, \"min\": 0.5138543083899256, \"max\": 0.5138543083899256}}}\u001b[0m\n",
      "\u001b[34m#metrics {\"StartTime\": 1730637769.6559036, \"EndTime\": 1730637769.6559112, \"Dimensions\": {\"Algorithm\": \"Linear Learner\", \"Host\": \"algo-1\", \"Operation\": \"training\", \"epoch\": 1, \"model\": 26}, \"Metrics\": {\"validation_binary_classification_cross_entropy_objective\": {\"sum\": 0.5137051162512617, \"count\": 1, \"min\": 0.5137051162512617, \"max\": 0.5137051162512617}}}\u001b[0m\n",
      "\u001b[34m#metrics {\"StartTime\": 1730637769.6559403, \"EndTime\": 1730637769.6559494, \"Dimensions\": {\"Algorithm\": \"Linear Learner\", \"Host\": \"algo-1\", \"Operation\": \"training\", \"epoch\": 1, \"model\": 27}, \"Metrics\": {\"validation_binary_classification_cross_entropy_objective\": {\"sum\": 0.513854306866149, \"count\": 1, \"min\": 0.513854306866149, \"max\": 0.513854306866149}}}\u001b[0m\n",
      "\u001b[34m#metrics {\"StartTime\": 1730637769.655977, \"EndTime\": 1730637769.6559844, \"Dimensions\": {\"Algorithm\": \"Linear Learner\", \"Host\": \"algo-1\", \"Operation\": \"training\", \"epoch\": 1, \"model\": 28}, \"Metrics\": {\"validation_binary_classification_cross_entropy_objective\": {\"sum\": 0.5137113849131852, \"count\": 1, \"min\": 0.5137113849131852, \"max\": 0.5137113849131852}}}\u001b[0m\n",
      "\u001b[34m#metrics {\"StartTime\": 1730637769.65601, \"EndTime\": 1730637769.6560173, \"Dimensions\": {\"Algorithm\": \"Linear Learner\", \"Host\": \"algo-1\", \"Operation\": \"training\", \"epoch\": 1, \"model\": 29}, \"Metrics\": {\"validation_binary_classification_cross_entropy_objective\": {\"sum\": 0.5152971226511578, \"count\": 1, \"min\": 0.5152971226511578, \"max\": 0.5152971226511578}}}\u001b[0m\n",
      "\u001b[34m#metrics {\"StartTime\": 1730637769.656044, \"EndTime\": 1730637769.6560512, \"Dimensions\": {\"Algorithm\": \"Linear Learner\", \"Host\": \"algo-1\", \"Operation\": \"training\", \"epoch\": 1, \"model\": 30}, \"Metrics\": {\"validation_binary_classification_cross_entropy_objective\": {\"sum\": 0.5137051150073624, \"count\": 1, \"min\": 0.5137051150073624, \"max\": 0.5137051150073624}}}\u001b[0m\n",
      "\u001b[34m#metrics {\"StartTime\": 1730637769.6560771, \"EndTime\": 1730637769.6560857, \"Dimensions\": {\"Algorithm\": \"Linear Learner\", \"Host\": \"algo-1\", \"Operation\": \"training\", \"epoch\": 1, \"model\": 31}, \"Metrics\": {\"validation_binary_classification_cross_entropy_objective\": {\"sum\": 0.515297123179815, \"count\": 1, \"min\": 0.515297123179815, \"max\": 0.515297123179815}}}\u001b[0m\n",
      "\u001b[34m[11/03/2024 12:42:49 INFO 139752866015040] #quality_metric: host=algo-1, epoch=1, validation binary_classification_cross_entropy_objective <loss>=0.48030202858277127\u001b[0m\n",
      "\u001b[34m[11/03/2024 12:42:49 INFO 139752866015040] #early_stopping_criteria_metric: host=algo-1, epoch=1, criteria=sampled_accuracy, value=0.7935134386030701\u001b[0m\n",
      "\u001b[34m[11/03/2024 12:42:49 INFO 139752866015040] Epoch 1: Loss improved. Updating best model\u001b[0m\n",
      "\u001b[34m[11/03/2024 12:42:49 INFO 139752866015040] Saving model for epoch: 1\u001b[0m\n",
      "\u001b[34m[11/03/2024 12:42:49 INFO 139752866015040] Saved checkpoint to \"/tmp/tmpbn9u2mk9/mx-mod-0000.params\"\u001b[0m\n",
      "\u001b[34m[11/03/2024 12:42:49 INFO 139752866015040] #progress_metric: host=algo-1, completed 40.0 % of epochs\u001b[0m\n",
      "\u001b[34m#metrics {\"StartTime\": 1730637652.7793362, \"EndTime\": 1730637769.6610243, \"Dimensions\": {\"Algorithm\": \"Linear Learner\", \"Host\": \"algo-1\", \"Operation\": \"training\", \"epoch\": 1, \"Meta\": \"training_data_iter\"}, \"Metrics\": {\"Total Records Seen\": {\"sum\": 2300226.0, \"count\": 1, \"min\": 2300226, \"max\": 2300226}, \"Total Batches Seen\": {\"sum\": 11502.0, \"count\": 1, \"min\": 11502, \"max\": 11502}, \"Max Records Seen Between Resets\": {\"sum\": 1144913.0, \"count\": 1, \"min\": 1144913, \"max\": 1144913}, \"Max Batches Seen Between Resets\": {\"sum\": 5725.0, \"count\": 1, \"min\": 5725, \"max\": 5725}, \"Reset Count\": {\"sum\": 4.0, \"count\": 1, \"min\": 4, \"max\": 4}, \"Number of Records Since Last Reset\": {\"sum\": 1144913.0, \"count\": 1, \"min\": 1144913, \"max\": 1144913}, \"Number of Batches Since Last Reset\": {\"sum\": 5725.0, \"count\": 1, \"min\": 5725, \"max\": 5725}}}\u001b[0m\n",
      "\u001b[34m[11/03/2024 12:42:49 INFO 139752866015040] #throughput_metric: host=algo-1, train throughput=9795.477465189673 records/second\u001b[0m\n",
      "\u001b[34m[2024-11-03 12:44:29.715] [tensorio] [info] epoch_stats={\"data_pipeline\": \"/opt/ml/input/data/train\", \"epoch\": 7, \"duration\": 100052, \"num_examples\": 5725, \"num_bytes\": 444226244}\u001b[0m\n",
      "\u001b[34m#metrics {\"StartTime\": 1730637869.7152472, \"EndTime\": 1730637869.7153037, \"Dimensions\": {\"Algorithm\": \"Linear Learner\", \"Host\": \"algo-1\", \"Operation\": \"training\", \"epoch\": 2, \"model\": 0}, \"Metrics\": {\"train_binary_classification_cross_entropy_objective\": {\"sum\": 0.4805567919599852, \"count\": 1, \"min\": 0.4805567919599852, \"max\": 0.4805567919599852}}}\u001b[0m\n",
      "\u001b[34m#metrics {\"StartTime\": 1730637869.7153766, \"EndTime\": 1730637869.7153897, \"Dimensions\": {\"Algorithm\": \"Linear Learner\", \"Host\": \"algo-1\", \"Operation\": \"training\", \"epoch\": 2, \"model\": 1}, \"Metrics\": {\"train_binary_classification_cross_entropy_objective\": {\"sum\": 0.4813630201498334, \"count\": 1, \"min\": 0.4813630201498334, \"max\": 0.4813630201498334}}}\u001b[0m\n",
      "\u001b[34m#metrics {\"StartTime\": 1730637869.7154226, \"EndTime\": 1730637869.7154307, \"Dimensions\": {\"Algorithm\": \"Linear Learner\", \"Host\": \"algo-1\", \"Operation\": \"training\", \"epoch\": 2, \"model\": 2}, \"Metrics\": {\"train_binary_classification_cross_entropy_objective\": {\"sum\": 0.4806237333725583, \"count\": 1, \"min\": 0.4806237333725583, \"max\": 0.4806237333725583}}}\u001b[0m\n",
      "\u001b[34m#metrics {\"StartTime\": 1730637869.7154589, \"EndTime\": 1730637869.7154658, \"Dimensions\": {\"Algorithm\": \"Linear Learner\", \"Host\": \"algo-1\", \"Operation\": \"training\", \"epoch\": 2, \"model\": 3}, \"Metrics\": {\"train_binary_classification_cross_entropy_objective\": {\"sum\": 0.481363020143169, \"count\": 1, \"min\": 0.481363020143169, \"max\": 0.481363020143169}}}\u001b[0m\n",
      "\u001b[34m#metrics {\"StartTime\": 1730637869.7154899, \"EndTime\": 1730637869.7154968, \"Dimensions\": {\"Algorithm\": \"Linear Learner\", \"Host\": \"algo-1\", \"Operation\": \"training\", \"epoch\": 2, \"model\": 4}, \"Metrics\": {\"train_binary_classification_cross_entropy_objective\": {\"sum\": 0.4805405721324545, \"count\": 1, \"min\": 0.4805405721324545, \"max\": 0.4805405721324545}}}\u001b[0m\n",
      "\u001b[34m#metrics {\"StartTime\": 1730637869.7155197, \"EndTime\": 1730637869.7155275, \"Dimensions\": {\"Algorithm\": \"Linear Learner\", \"Host\": \"algo-1\", \"Operation\": \"training\", \"epoch\": 2, \"model\": 5}, \"Metrics\": {\"train_binary_classification_cross_entropy_objective\": {\"sum\": 0.496519981027066, \"count\": 1, \"min\": 0.496519981027066, \"max\": 0.496519981027066}}}\u001b[0m\n",
      "\u001b[34m#metrics {\"StartTime\": 1730637869.715558, \"EndTime\": 1730637869.715566, \"Dimensions\": {\"Algorithm\": \"Linear Learner\", \"Host\": \"algo-1\", \"Operation\": \"training\", \"epoch\": 2, \"model\": 6}, \"Metrics\": {\"train_binary_classification_cross_entropy_objective\": {\"sum\": 0.4806112763266893, \"count\": 1, \"min\": 0.4806112763266893, \"max\": 0.4806112763266893}}}\u001b[0m\n",
      "\u001b[34m#metrics {\"StartTime\": 1730637869.715594, \"EndTime\": 1730637869.7155993, \"Dimensions\": {\"Algorithm\": \"Linear Learner\", \"Host\": \"algo-1\", \"Operation\": \"training\", \"epoch\": 2, \"model\": 7}, \"Metrics\": {\"train_binary_classification_cross_entropy_objective\": {\"sum\": 0.4965199808871138, \"count\": 1, \"min\": 0.4965199808871138, \"max\": 0.4965199808871138}}}\u001b[0m\n",
      "\u001b[34m#metrics {\"StartTime\": 1730637869.7156267, \"EndTime\": 1730637869.7156343, \"Dimensions\": {\"Algorithm\": \"Linear Learner\", \"Host\": \"algo-1\", \"Operation\": \"training\", \"epoch\": 2, \"model\": 8}, \"Metrics\": {\"train_binary_classification_cross_entropy_objective\": {\"sum\": 0.4807989937004553, \"count\": 1, \"min\": 0.4807989937004553, \"max\": 0.4807989937004553}}}\u001b[0m\n",
      "\u001b[34m#metrics {\"StartTime\": 1730637869.7156622, \"EndTime\": 1730637869.7156708, \"Dimensions\": {\"Algorithm\": \"Linear Learner\", \"Host\": \"algo-1\", \"Operation\": \"training\", \"epoch\": 2, \"model\": 9}, \"Metrics\": {\"train_binary_classification_cross_entropy_objective\": {\"sum\": 0.48157823457324694, \"count\": 1, \"min\": 0.48157823457324694, \"max\": 0.48157823457324694}}}\u001b[0m\n",
      "\u001b[34m#metrics {\"StartTime\": 1730637869.7157018, \"EndTime\": 1730637869.7157087, \"Dimensions\": {\"Algorithm\": \"Linear Learner\", \"Host\": \"algo-1\", \"Operation\": \"training\", \"epoch\": 2, \"model\": 10}, \"Metrics\": {\"train_binary_classification_cross_entropy_objective\": {\"sum\": 0.4808729600806406, \"count\": 1, \"min\": 0.4808729600806406, \"max\": 0.4808729600806406}}}\u001b[0m\n",
      "\u001b[34m#metrics {\"StartTime\": 1730637869.715726, \"EndTime\": 1730637869.7157307, \"Dimensions\": {\"Algorithm\": \"Linear Learner\", \"Host\": \"algo-1\", \"Operation\": \"training\", \"epoch\": 2, \"model\": 11}, \"Metrics\": {\"train_binary_classification_cross_entropy_objective\": {\"sum\": 0.48157823416005474, \"count\": 1, \"min\": 0.48157823416005474, \"max\": 0.48157823416005474}}}\u001b[0m\n",
      "\u001b[34m#metrics {\"StartTime\": 1730637869.7157538, \"EndTime\": 1730637869.7157588, \"Dimensions\": {\"Algorithm\": \"Linear Learner\", \"Host\": \"algo-1\", \"Operation\": \"training\", \"epoch\": 2, \"model\": 12}, \"Metrics\": {\"train_binary_classification_cross_entropy_objective\": {\"sum\": 0.48081711005364824, \"count\": 1, \"min\": 0.48081711005364824, \"max\": 0.48081711005364824}}}\u001b[0m\n",
      "\u001b[34m#metrics {\"StartTime\": 1730637869.7157795, \"EndTime\": 1730637869.7157857, \"Dimensions\": {\"Algorithm\": \"Linear Learner\", \"Host\": \"algo-1\", \"Operation\": \"training\", \"epoch\": 2, \"model\": 13}, \"Metrics\": {\"train_binary_classification_cross_entropy_objective\": {\"sum\": 0.4957660672849579, \"count\": 1, \"min\": 0.4957660672849579, \"max\": 0.4957660672849579}}}\u001b[0m\n",
      "\u001b[34m#metrics {\"StartTime\": 1730637869.7158113, \"EndTime\": 1730637869.7158182, \"Dimensions\": {\"Algorithm\": \"Linear Learner\", \"Host\": \"algo-1\", \"Operation\": \"training\", \"epoch\": 2, \"model\": 14}, \"Metrics\": {\"train_binary_classification_cross_entropy_objective\": {\"sum\": 0.48087424742100876, \"count\": 1, \"min\": 0.48087424742100876, \"max\": 0.48087424742100876}}}\u001b[0m\n",
      "\u001b[34m#metrics {\"StartTime\": 1730637869.7158465, \"EndTime\": 1730637869.7158551, \"Dimensions\": {\"Algorithm\": \"Linear Learner\", \"Host\": \"algo-1\", \"Operation\": \"training\", \"epoch\": 2, \"model\": 15}, \"Metrics\": {\"train_binary_classification_cross_entropy_objective\": {\"sum\": 0.49576606689175884, \"count\": 1, \"min\": 0.49576606689175884, \"max\": 0.49576606689175884}}}\u001b[0m\n",
      "\u001b[34m#metrics {\"StartTime\": 1730637869.7158844, \"EndTime\": 1730637869.7158935, \"Dimensions\": {\"Algorithm\": \"Linear Learner\", \"Host\": \"algo-1\", \"Operation\": \"training\", \"epoch\": 2, \"model\": 16}, \"Metrics\": {\"train_binary_classification_cross_entropy_objective\": {\"sum\": 0.5041643133769912, \"count\": 1, \"min\": 0.5041643133769912, \"max\": 0.5041643133769912}}}\u001b[0m\n",
      "\u001b[34m#metrics {\"StartTime\": 1730637869.7159228, \"EndTime\": 1730637869.7159314, \"Dimensions\": {\"Algorithm\": \"Linear Learner\", \"Host\": \"algo-1\", \"Operation\": \"training\", \"epoch\": 2, \"model\": 17}, \"Metrics\": {\"train_binary_classification_cross_entropy_objective\": {\"sum\": 0.5043883270287663, \"count\": 1, \"min\": 0.5043883270287663, \"max\": 0.5043883270287663}}}\u001b[0m\n",
      "\u001b[34m#metrics {\"StartTime\": 1730637869.7159667, \"EndTime\": 1730637869.7159765, \"Dimensions\": {\"Algorithm\": \"Linear Learner\", \"Host\": \"algo-1\", \"Operation\": \"training\", \"epoch\": 2, \"model\": 18}, \"Metrics\": {\"train_binary_classification_cross_entropy_objective\": {\"sum\": 0.504181915952308, \"count\": 1, \"min\": 0.504181915952308, \"max\": 0.504181915952308}}}\u001b[0m\n",
      "\u001b[34m#metrics {\"StartTime\": 1730637869.7160053, \"EndTime\": 1730637869.7160149, \"Dimensions\": {\"Algorithm\": \"Linear Learner\", \"Host\": \"algo-1\", \"Operation\": \"training\", \"epoch\": 2, \"model\": 19}, \"Metrics\": {\"train_binary_classification_cross_entropy_objective\": {\"sum\": 0.504388327175383, \"count\": 1, \"min\": 0.504388327175383, \"max\": 0.504388327175383}}}\u001b[0m\n",
      "\u001b[34m#metrics {\"StartTime\": 1730637869.7160485, \"EndTime\": 1730637869.7160578, \"Dimensions\": {\"Algorithm\": \"Linear Learner\", \"Host\": \"algo-1\", \"Operation\": \"training\", \"epoch\": 2, \"model\": 20}, \"Metrics\": {\"train_binary_classification_cross_entropy_objective\": {\"sum\": 0.5041655388718131, \"count\": 1, \"min\": 0.5041655388718131, \"max\": 0.5041655388718131}}}\u001b[0m\n",
      "\u001b[34m#metrics {\"StartTime\": 1730637869.7160852, \"EndTime\": 1730637869.716091, \"Dimensions\": {\"Algorithm\": \"Linear Learner\", \"Host\": \"algo-1\", \"Operation\": \"training\", \"epoch\": 2, \"model\": 21}, \"Metrics\": {\"train_binary_classification_cross_entropy_objective\": {\"sum\": 0.5077890709677749, \"count\": 1, \"min\": 0.5077890709677749, \"max\": 0.5077890709677749}}}\u001b[0m\n",
      "\u001b[34m#metrics {\"StartTime\": 1730637869.7161102, \"EndTime\": 1730637869.716115, \"Dimensions\": {\"Algorithm\": \"Linear Learner\", \"Host\": \"algo-1\", \"Operation\": \"training\", \"epoch\": 2, \"model\": 22}, \"Metrics\": {\"train_binary_classification_cross_entropy_objective\": {\"sum\": 0.5041819154658075, \"count\": 1, \"min\": 0.5041819154658075, \"max\": 0.5041819154658075}}}\u001b[0m\n",
      "\u001b[34m#metrics {\"StartTime\": 1730637869.7161365, \"EndTime\": 1730637869.7161412, \"Dimensions\": {\"Algorithm\": \"Linear Learner\", \"Host\": \"algo-1\", \"Operation\": \"training\", \"epoch\": 2, \"model\": 23}, \"Metrics\": {\"train_binary_classification_cross_entropy_objective\": {\"sum\": 0.5077890708811378, \"count\": 1, \"min\": 0.5077890708811378, \"max\": 0.5077890708811378}}}\u001b[0m\n",
      "\u001b[34m#metrics {\"StartTime\": 1730637869.7161603, \"EndTime\": 1730637869.7161663, \"Dimensions\": {\"Algorithm\": \"Linear Learner\", \"Host\": \"algo-1\", \"Operation\": \"training\", \"epoch\": 2, \"model\": 24}, \"Metrics\": {\"train_binary_classification_cross_entropy_objective\": {\"sum\": 0.5137151011980805, \"count\": 1, \"min\": 0.5137151011980805, \"max\": 0.5137151011980805}}}\u001b[0m\n",
      "\u001b[34m#metrics {\"StartTime\": 1730637869.716192, \"EndTime\": 1730637869.7161994, \"Dimensions\": {\"Algorithm\": \"Linear Learner\", \"Host\": \"algo-1\", \"Operation\": \"training\", \"epoch\": 2, \"model\": 25}, \"Metrics\": {\"train_binary_classification_cross_entropy_objective\": {\"sum\": 0.513820013163558, \"count\": 1, \"min\": 0.513820013163558, \"max\": 0.513820013163558}}}\u001b[0m\n",
      "\u001b[34m#metrics {\"StartTime\": 1730637869.716227, \"EndTime\": 1730637869.7162325, \"Dimensions\": {\"Algorithm\": \"Linear Learner\", \"Host\": \"algo-1\", \"Operation\": \"training\", \"epoch\": 2, \"model\": 26}, \"Metrics\": {\"train_binary_classification_cross_entropy_objective\": {\"sum\": 0.5137246808865785, \"count\": 1, \"min\": 0.5137246808865785, \"max\": 0.5137246808865785}}}\u001b[0m\n",
      "\u001b[34m#metrics {\"StartTime\": 1730637869.716257, \"EndTime\": 1730637869.7162623, \"Dimensions\": {\"Algorithm\": \"Linear Learner\", \"Host\": \"algo-1\", \"Operation\": \"training\", \"epoch\": 2, \"model\": 27}, \"Metrics\": {\"train_binary_classification_cross_entropy_objective\": {\"sum\": 0.513820013130236, \"count\": 1, \"min\": 0.513820013130236, \"max\": 0.513820013130236}}}\u001b[0m\n",
      "\u001b[34m#metrics {\"StartTime\": 1730637869.7162898, \"EndTime\": 1730637869.7162976, \"Dimensions\": {\"Algorithm\": \"Linear Learner\", \"Host\": \"algo-1\", \"Operation\": \"training\", \"epoch\": 2, \"model\": 28}, \"Metrics\": {\"train_binary_classification_cross_entropy_objective\": {\"sum\": 0.5137151223975074, \"count\": 1, \"min\": 0.5137151223975074, \"max\": 0.5137151223975074}}}\u001b[0m\n",
      "\u001b[34m#metrics {\"StartTime\": 1730637869.716325, \"EndTime\": 1730637869.7163336, \"Dimensions\": {\"Algorithm\": \"Linear Learner\", \"Host\": \"algo-1\", \"Operation\": \"training\", \"epoch\": 2, \"model\": 29}, \"Metrics\": {\"train_binary_classification_cross_entropy_objective\": {\"sum\": 0.5152293469371035, \"count\": 1, \"min\": 0.5152293469371035, \"max\": 0.5152293469371035}}}\u001b[0m\n",
      "\u001b[34m#metrics {\"StartTime\": 1730637869.7163632, \"EndTime\": 1730637869.7163715, \"Dimensions\": {\"Algorithm\": \"Linear Learner\", \"Host\": \"algo-1\", \"Operation\": \"training\", \"epoch\": 2, \"model\": 30}, \"Metrics\": {\"train_binary_classification_cross_entropy_objective\": {\"sum\": 0.5137246806933112, \"count\": 1, \"min\": 0.5137246806933112, \"max\": 0.5137246806933112}}}\u001b[0m\n",
      "\u001b[34m#metrics {\"StartTime\": 1730637869.7163954, \"EndTime\": 1730637869.7164028, \"Dimensions\": {\"Algorithm\": \"Linear Learner\", \"Host\": \"algo-1\", \"Operation\": \"training\", \"epoch\": 2, \"model\": 31}, \"Metrics\": {\"train_binary_classification_cross_entropy_objective\": {\"sum\": 0.5152293469237748, \"count\": 1, \"min\": 0.5152293469237748, \"max\": 0.5152293469237748}}}\u001b[0m\n",
      "\u001b[34m[11/03/2024 12:44:29 INFO 139752866015040] #quality_metric: host=algo-1, epoch=2, train binary_classification_cross_entropy_objective <loss>=0.4805567919599852\u001b[0m\n",
      "\u001b[34m[2024-11-03 12:44:44.611] [tensorio] [info] epoch_stats={\"data_pipeline\": \"/opt/ml/input/data/validation\", \"epoch\": 8, \"duration\": 14883, \"num_examples\": 1227, \"num_bytes\": 95191144}\u001b[0m\n",
      "\u001b[34m#metrics {\"StartTime\": 1730637886.793421, \"EndTime\": 1730637886.7934763, \"Dimensions\": {\"Algorithm\": \"Linear Learner\", \"Host\": \"algo-1\", \"Operation\": \"training\", \"epoch\": 2, \"model\": 0}, \"Metrics\": {\"validation_binary_classification_cross_entropy_objective\": {\"sum\": 0.4802961490747626, \"count\": 1, \"min\": 0.4802961490747626, \"max\": 0.4802961490747626}}}\u001b[0m\n",
      "\u001b[34m#metrics {\"StartTime\": 1730637886.7935448, \"EndTime\": 1730637886.7935538, \"Dimensions\": {\"Algorithm\": \"Linear Learner\", \"Host\": \"algo-1\", \"Operation\": \"training\", \"epoch\": 2, \"model\": 1}, \"Metrics\": {\"validation_binary_classification_cross_entropy_objective\": {\"sum\": 0.4808254539079819, \"count\": 1, \"min\": 0.4808254539079819, \"max\": 0.4808254539079819}}}\u001b[0m\n",
      "\u001b[34m#metrics {\"StartTime\": 1730637886.7935755, \"EndTime\": 1730637886.7935808, \"Dimensions\": {\"Algorithm\": \"Linear Learner\", \"Host\": \"algo-1\", \"Operation\": \"training\", \"epoch\": 2, \"model\": 2}, \"Metrics\": {\"validation_binary_classification_cross_entropy_objective\": {\"sum\": 0.4803221727554738, \"count\": 1, \"min\": 0.4803221727554738, \"max\": 0.4803221727554738}}}\u001b[0m\n",
      "\u001b[34m#metrics {\"StartTime\": 1730637886.7936022, \"EndTime\": 1730637886.793608, \"Dimensions\": {\"Algorithm\": \"Linear Learner\", \"Host\": \"algo-1\", \"Operation\": \"training\", \"epoch\": 2, \"model\": 3}, \"Metrics\": {\"validation_binary_classification_cross_entropy_objective\": {\"sum\": 0.48082545536956367, \"count\": 1, \"min\": 0.48082545536956367, \"max\": 0.48082545536956367}}}\u001b[0m\n",
      "\u001b[34m#metrics {\"StartTime\": 1730637886.7936347, \"EndTime\": 1730637886.7936418, \"Dimensions\": {\"Algorithm\": \"Linear Learner\", \"Host\": \"algo-1\", \"Operation\": \"training\", \"epoch\": 2, \"model\": 4}, \"Metrics\": {\"validation_binary_classification_cross_entropy_objective\": {\"sum\": 0.48028950609242405, \"count\": 1, \"min\": 0.48028950609242405, \"max\": 0.48028950609242405}}}\u001b[0m\n",
      "\u001b[34m#metrics {\"StartTime\": 1730637886.7936697, \"EndTime\": 1730637886.7936773, \"Dimensions\": {\"Algorithm\": \"Linear Learner\", \"Host\": \"algo-1\", \"Operation\": \"training\", \"epoch\": 2, \"model\": 5}, \"Metrics\": {\"validation_binary_classification_cross_entropy_objective\": {\"sum\": 0.4976851593903981, \"count\": 1, \"min\": 0.4976851593903981, \"max\": 0.4976851593903981}}}\u001b[0m\n",
      "\u001b[34m#metrics {\"StartTime\": 1730637886.793706, \"EndTime\": 1730637886.7937117, \"Dimensions\": {\"Algorithm\": \"Linear Learner\", \"Host\": \"algo-1\", \"Operation\": \"training\", \"epoch\": 2, \"model\": 6}, \"Metrics\": {\"validation_binary_classification_cross_entropy_objective\": {\"sum\": 0.48031122861792724, \"count\": 1, \"min\": 0.48031122861792724, \"max\": 0.48031122861792724}}}\u001b[0m\n",
      "\u001b[34m#metrics {\"StartTime\": 1730637886.7937374, \"EndTime\": 1730637886.7937455, \"Dimensions\": {\"Algorithm\": \"Linear Learner\", \"Host\": \"algo-1\", \"Operation\": \"training\", \"epoch\": 2, \"model\": 7}, \"Metrics\": {\"validation_binary_classification_cross_entropy_objective\": {\"sum\": 0.49768515282882897, \"count\": 1, \"min\": 0.49768515282882897, \"max\": 0.49768515282882897}}}\u001b[0m\n",
      "\u001b[34m#metrics {\"StartTime\": 1730637886.7937691, \"EndTime\": 1730637886.7937741, \"Dimensions\": {\"Algorithm\": \"Linear Learner\", \"Host\": \"algo-1\", \"Operation\": \"training\", \"epoch\": 2, \"model\": 8}, \"Metrics\": {\"validation_binary_classification_cross_entropy_objective\": {\"sum\": 0.48056088808231645, \"count\": 1, \"min\": 0.48056088808231645, \"max\": 0.48056088808231645}}}\u001b[0m\n",
      "\u001b[34m#metrics {\"StartTime\": 1730637886.7937999, \"EndTime\": 1730637886.7938066, \"Dimensions\": {\"Algorithm\": \"Linear Learner\", \"Host\": \"algo-1\", \"Operation\": \"training\", \"epoch\": 2, \"model\": 9}, \"Metrics\": {\"validation_binary_classification_cross_entropy_objective\": {\"sum\": 0.48102960329293915, \"count\": 1, \"min\": 0.48102960329293915, \"max\": 0.48102960329293915}}}\u001b[0m\n",
      "\u001b[34m#metrics {\"StartTime\": 1730637886.7938313, \"EndTime\": 1730637886.7938397, \"Dimensions\": {\"Algorithm\": \"Linear Learner\", \"Host\": \"algo-1\", \"Operation\": \"training\", \"epoch\": 2, \"model\": 10}, \"Metrics\": {\"validation_binary_classification_cross_entropy_objective\": {\"sum\": 0.4805720597912509, \"count\": 1, \"min\": 0.4805720597912509, \"max\": 0.4805720597912509}}}\u001b[0m\n",
      "\u001b[34m#metrics {\"StartTime\": 1730637886.793866, \"EndTime\": 1730637886.7938735, \"Dimensions\": {\"Algorithm\": \"Linear Learner\", \"Host\": \"algo-1\", \"Operation\": \"training\", \"epoch\": 2, \"model\": 11}, \"Metrics\": {\"validation_binary_classification_cross_entropy_objective\": {\"sum\": 0.4810296024222096, \"count\": 1, \"min\": 0.4810296024222096, \"max\": 0.4810296024222096}}}\u001b[0m\n",
      "\u001b[34m#metrics {\"StartTime\": 1730637886.7939017, \"EndTime\": 1730637886.793909, \"Dimensions\": {\"Algorithm\": \"Linear Learner\", \"Host\": \"algo-1\", \"Operation\": \"training\", \"epoch\": 2, \"model\": 12}, \"Metrics\": {\"validation_binary_classification_cross_entropy_objective\": {\"sum\": 0.4805862151482884, \"count\": 1, \"min\": 0.4805862151482884, \"max\": 0.4805862151482884}}}\u001b[0m\n",
      "\u001b[34m#metrics {\"StartTime\": 1730637886.79393, \"EndTime\": 1730637886.793935, \"Dimensions\": {\"Algorithm\": \"Linear Learner\", \"Host\": \"algo-1\", \"Operation\": \"training\", \"epoch\": 2, \"model\": 13}, \"Metrics\": {\"validation_binary_classification_cross_entropy_objective\": {\"sum\": 0.49690088003521304, \"count\": 1, \"min\": 0.49690088003521304, \"max\": 0.49690088003521304}}}\u001b[0m\n",
      "\u001b[34m#metrics {\"StartTime\": 1730637886.7939653, \"EndTime\": 1730637886.793973, \"Dimensions\": {\"Algorithm\": \"Linear Learner\", \"Host\": \"algo-1\", \"Operation\": \"training\", \"epoch\": 2, \"model\": 14}, \"Metrics\": {\"validation_binary_classification_cross_entropy_objective\": {\"sum\": 0.4805746075770181, \"count\": 1, \"min\": 0.4805746075770181, \"max\": 0.4805746075770181}}}\u001b[0m\n",
      "\u001b[34m#metrics {\"StartTime\": 1730637886.7940004, \"EndTime\": 1730637886.794008, \"Dimensions\": {\"Algorithm\": \"Linear Learner\", \"Host\": \"algo-1\", \"Operation\": \"training\", \"epoch\": 2, \"model\": 15}, \"Metrics\": {\"validation_binary_classification_cross_entropy_objective\": {\"sum\": 0.49690085966636105, \"count\": 1, \"min\": 0.49690085966636105, \"max\": 0.49690085966636105}}}\u001b[0m\n",
      "\u001b[34m#metrics {\"StartTime\": 1730637886.794037, \"EndTime\": 1730637886.7940452, \"Dimensions\": {\"Algorithm\": \"Linear Learner\", \"Host\": \"algo-1\", \"Operation\": \"training\", \"epoch\": 2, \"model\": 16}, \"Metrics\": {\"validation_binary_classification_cross_entropy_objective\": {\"sum\": 0.5040787714089708, \"count\": 1, \"min\": 0.5040787714089708, \"max\": 0.5040787714089708}}}\u001b[0m\n",
      "\u001b[34m#metrics {\"StartTime\": 1730637886.794072, \"EndTime\": 1730637886.7940784, \"Dimensions\": {\"Algorithm\": \"Linear Learner\", \"Host\": \"algo-1\", \"Operation\": \"training\", \"epoch\": 2, \"model\": 17}, \"Metrics\": {\"validation_binary_classification_cross_entropy_objective\": {\"sum\": 0.5039269255665092, \"count\": 1, \"min\": 0.5039269255665092, \"max\": 0.5039269255665092}}}\u001b[0m\n",
      "\u001b[34m#metrics {\"StartTime\": 1730637886.7941055, \"EndTime\": 1730637886.794113, \"Dimensions\": {\"Algorithm\": \"Linear Learner\", \"Host\": \"algo-1\", \"Operation\": \"training\", \"epoch\": 2, \"model\": 18}, \"Metrics\": {\"validation_binary_classification_cross_entropy_objective\": {\"sum\": 0.5040139525596468, \"count\": 1, \"min\": 0.5040139525596468, \"max\": 0.5040139525596468}}}\u001b[0m\n",
      "\u001b[34m#metrics {\"StartTime\": 1730637886.7941394, \"EndTime\": 1730637886.7941475, \"Dimensions\": {\"Algorithm\": \"Linear Learner\", \"Host\": \"algo-1\", \"Operation\": \"training\", \"epoch\": 2, \"model\": 19}, \"Metrics\": {\"validation_binary_classification_cross_entropy_objective\": {\"sum\": 0.5039269254110218, \"count\": 1, \"min\": 0.5039269254110218, \"max\": 0.5039269254110218}}}\u001b[0m\n",
      "\u001b[34m#metrics {\"StartTime\": 1730637886.7941751, \"EndTime\": 1730637886.7941837, \"Dimensions\": {\"Algorithm\": \"Linear Learner\", \"Host\": \"algo-1\", \"Operation\": \"training\", \"epoch\": 2, \"model\": 20}, \"Metrics\": {\"validation_binary_classification_cross_entropy_objective\": {\"sum\": 0.5040789614767931, \"count\": 1, \"min\": 0.5040789614767931, \"max\": 0.5040789614767931}}}\u001b[0m\n",
      "\u001b[34m#metrics {\"StartTime\": 1730637886.7942088, \"EndTime\": 1730637886.7942164, \"Dimensions\": {\"Algorithm\": \"Linear Learner\", \"Host\": \"algo-1\", \"Operation\": \"training\", \"epoch\": 2, \"model\": 21}, \"Metrics\": {\"validation_binary_classification_cross_entropy_objective\": {\"sum\": 0.5110088313217418, \"count\": 1, \"min\": 0.5110088313217418, \"max\": 0.5110088313217418}}}\u001b[0m\n",
      "\u001b[34m#metrics {\"StartTime\": 1730637886.7942498, \"EndTime\": 1730637886.7942576, \"Dimensions\": {\"Algorithm\": \"Linear Learner\", \"Host\": \"algo-1\", \"Operation\": \"training\", \"epoch\": 2, \"model\": 22}, \"Metrics\": {\"validation_binary_classification_cross_entropy_objective\": {\"sum\": 0.5040139527151342, \"count\": 1, \"min\": 0.5040139527151342, \"max\": 0.5040139527151342}}}\u001b[0m\n",
      "\u001b[34m#metrics {\"StartTime\": 1730637886.7942882, \"EndTime\": 1730637886.7942955, \"Dimensions\": {\"Algorithm\": \"Linear Learner\", \"Host\": \"algo-1\", \"Operation\": \"training\", \"epoch\": 2, \"model\": 23}, \"Metrics\": {\"validation_binary_classification_cross_entropy_objective\": {\"sum\": 0.5110088268126066, \"count\": 1, \"min\": 0.5110088268126066, \"max\": 0.5110088268126066}}}\u001b[0m\n",
      "\u001b[34m#metrics {\"StartTime\": 1730637886.7943351, \"EndTime\": 1730637886.7943444, \"Dimensions\": {\"Algorithm\": \"Linear Learner\", \"Host\": \"algo-1\", \"Operation\": \"training\", \"epoch\": 2, \"model\": 24}, \"Metrics\": {\"validation_binary_classification_cross_entropy_objective\": {\"sum\": 0.5137113219096827, \"count\": 1, \"min\": 0.5137113219096827, \"max\": 0.5137113219096827}}}\u001b[0m\n",
      "\u001b[34m#metrics {\"StartTime\": 1730637886.7943754, \"EndTime\": 1730637886.7943838, \"Dimensions\": {\"Algorithm\": \"Linear Learner\", \"Host\": \"algo-1\", \"Operation\": \"training\", \"epoch\": 2, \"model\": 25}, \"Metrics\": {\"validation_binary_classification_cross_entropy_objective\": {\"sum\": 0.5137245517123037, \"count\": 1, \"min\": 0.5137245517123037, \"max\": 0.5137245517123037}}}\u001b[0m\n",
      "\u001b[34m#metrics {\"StartTime\": 1730637886.794417, \"EndTime\": 1730637886.794426, \"Dimensions\": {\"Algorithm\": \"Linear Learner\", \"Host\": \"algo-1\", \"Operation\": \"training\", \"epoch\": 2, \"model\": 26}, \"Metrics\": {\"validation_binary_classification_cross_entropy_objective\": {\"sum\": 0.5137051181482083, \"count\": 1, \"min\": 0.5137051181482083, \"max\": 0.5137051181482083}}}\u001b[0m\n",
      "\u001b[34m#metrics {\"StartTime\": 1730637886.7944582, \"EndTime\": 1730637886.7944667, \"Dimensions\": {\"Algorithm\": \"Linear Learner\", \"Host\": \"algo-1\", \"Operation\": \"training\", \"epoch\": 2, \"model\": 27}, \"Metrics\": {\"validation_binary_classification_cross_entropy_objective\": {\"sum\": 0.5137245517744987, \"count\": 1, \"min\": 0.5137245517744987, \"max\": 0.5137245517744987}}}\u001b[0m\n",
      "\u001b[34m#metrics {\"StartTime\": 1730637886.7944963, \"EndTime\": 1730637886.7945046, \"Dimensions\": {\"Algorithm\": \"Linear Learner\", \"Host\": \"algo-1\", \"Operation\": \"training\", \"epoch\": 2, \"model\": 28}, \"Metrics\": {\"validation_binary_classification_cross_entropy_objective\": {\"sum\": 0.5137113229358997, \"count\": 1, \"min\": 0.5137113229358997, \"max\": 0.5137113229358997}}}\u001b[0m\n",
      "\u001b[34m#metrics {\"StartTime\": 1730637886.794536, \"EndTime\": 1730637886.794545, \"Dimensions\": {\"Algorithm\": \"Linear Learner\", \"Host\": \"algo-1\", \"Operation\": \"training\", \"epoch\": 2, \"model\": 29}, \"Metrics\": {\"validation_binary_classification_cross_entropy_objective\": {\"sum\": 0.5215623363613074, \"count\": 1, \"min\": 0.5215623363613074, \"max\": 0.5215623363613074}}}\u001b[0m\n",
      "\u001b[34m#metrics {\"StartTime\": 1730637886.7945766, \"EndTime\": 1730637886.7945857, \"Dimensions\": {\"Algorithm\": \"Linear Learner\", \"Host\": \"algo-1\", \"Operation\": \"training\", \"epoch\": 2, \"model\": 30}, \"Metrics\": {\"validation_binary_classification_cross_entropy_objective\": {\"sum\": 0.5137051172774787, \"count\": 1, \"min\": 0.5137051172774787, \"max\": 0.5137051172774787}}}\u001b[0m\n",
      "\u001b[34m#metrics {\"StartTime\": 1730637886.7946143, \"EndTime\": 1730637886.7946227, \"Dimensions\": {\"Algorithm\": \"Linear Learner\", \"Host\": \"algo-1\", \"Operation\": \"training\", \"epoch\": 2, \"model\": 31}, \"Metrics\": {\"validation_binary_classification_cross_entropy_objective\": {\"sum\": 0.5215623366722822, \"count\": 1, \"min\": 0.5215623366722822, \"max\": 0.5215623366722822}}}\u001b[0m\n",
      "\u001b[34m[11/03/2024 12:44:46 INFO 139752866015040] #quality_metric: host=algo-1, epoch=2, validation binary_classification_cross_entropy_objective <loss>=0.4802961490747626\u001b[0m\n",
      "\u001b[34m[11/03/2024 12:44:46 INFO 139752866015040] #early_stopping_criteria_metric: host=algo-1, epoch=2, criteria=sampled_accuracy, value=0.7934808305276803\u001b[0m\n",
      "\u001b[34m[11/03/2024 12:44:46 INFO 139752866015040] Epoch 2: Loss improved. Updating best model\u001b[0m\n",
      "\u001b[34m[11/03/2024 12:44:46 INFO 139752866015040] Saving model for epoch: 2\u001b[0m\n",
      "\u001b[34m[11/03/2024 12:44:46 INFO 139752866015040] Saved checkpoint to \"/tmp/tmpf1qfkr12/mx-mod-0000.params\"\u001b[0m\n",
      "\u001b[34m[11/03/2024 12:44:46 INFO 139752866015040] #progress_metric: host=algo-1, completed 60.0 % of epochs\u001b[0m\n",
      "\u001b[34m#metrics {\"StartTime\": 1730637769.662292, \"EndTime\": 1730637886.7993808, \"Dimensions\": {\"Algorithm\": \"Linear Learner\", \"Host\": \"algo-1\", \"Operation\": \"training\", \"epoch\": 2, \"Meta\": \"training_data_iter\"}, \"Metrics\": {\"Total Records Seen\": {\"sum\": 3445139.0, \"count\": 1, \"min\": 3445139, \"max\": 3445139}, \"Total Batches Seen\": {\"sum\": 17227.0, \"count\": 1, \"min\": 17227, \"max\": 17227}, \"Max Records Seen Between Resets\": {\"sum\": 1144913.0, \"count\": 1, \"min\": 1144913, \"max\": 1144913}, \"Max Batches Seen Between Resets\": {\"sum\": 5725.0, \"count\": 1, \"min\": 5725, \"max\": 5725}, \"Reset Count\": {\"sum\": 5.0, \"count\": 1, \"min\": 5, \"max\": 5}, \"Number of Records Since Last Reset\": {\"sum\": 1144913.0, \"count\": 1, \"min\": 1144913, \"max\": 1144913}, \"Number of Batches Since Last Reset\": {\"sum\": 5725.0, \"count\": 1, \"min\": 5725, \"max\": 5725}}}\u001b[0m\n",
      "\u001b[34m[11/03/2024 12:44:46 INFO 139752866015040] #throughput_metric: host=algo-1, train throughput=9774.120942350088 records/second\u001b[0m\n",
      "\u001b[34m[2024-11-03 12:46:26.947] [tensorio] [info] epoch_stats={\"data_pipeline\": \"/opt/ml/input/data/train\", \"epoch\": 9, \"duration\": 100140, \"num_examples\": 5725, \"num_bytes\": 444226244}\u001b[0m\n",
      "\u001b[34m#metrics {\"StartTime\": 1730637986.947996, \"EndTime\": 1730637986.9480543, \"Dimensions\": {\"Algorithm\": \"Linear Learner\", \"Host\": \"algo-1\", \"Operation\": \"training\", \"epoch\": 3, \"model\": 0}, \"Metrics\": {\"train_binary_classification_cross_entropy_objective\": {\"sum\": 0.4805517331409254, \"count\": 1, \"min\": 0.4805517331409254, \"max\": 0.4805517331409254}}}\u001b[0m\n",
      "\u001b[34m#metrics {\"StartTime\": 1730637986.9481149, \"EndTime\": 1730637986.9481275, \"Dimensions\": {\"Algorithm\": \"Linear Learner\", \"Host\": \"algo-1\", \"Operation\": \"training\", \"epoch\": 3, \"model\": 1}, \"Metrics\": {\"train_binary_classification_cross_entropy_objective\": {\"sum\": 0.48100383843849126, \"count\": 1, \"min\": 0.48100383843849126, \"max\": 0.48100383843849126}}}\u001b[0m\n",
      "\u001b[34m#metrics {\"StartTime\": 1730637986.948165, \"EndTime\": 1730637986.9481733, \"Dimensions\": {\"Algorithm\": \"Linear Learner\", \"Host\": \"algo-1\", \"Operation\": \"training\", \"epoch\": 3, \"model\": 2}, \"Metrics\": {\"train_binary_classification_cross_entropy_objective\": {\"sum\": 0.480620446781609, \"count\": 1, \"min\": 0.480620446781609, \"max\": 0.480620446781609}}}\u001b[0m\n",
      "\u001b[34m#metrics {\"StartTime\": 1730637986.9482017, \"EndTime\": 1730637986.9482098, \"Dimensions\": {\"Algorithm\": \"Linear Learner\", \"Host\": \"algo-1\", \"Operation\": \"training\", \"epoch\": 3, \"model\": 3}, \"Metrics\": {\"train_binary_classification_cross_entropy_objective\": {\"sum\": 0.4810038384651488, \"count\": 1, \"min\": 0.4810038384651488, \"max\": 0.4810038384651488}}}\u001b[0m\n",
      "\u001b[34m#metrics {\"StartTime\": 1730637986.9482331, \"EndTime\": 1730637986.94824, \"Dimensions\": {\"Algorithm\": \"Linear Learner\", \"Host\": \"algo-1\", \"Operation\": \"training\", \"epoch\": 3, \"model\": 4}, \"Metrics\": {\"train_binary_classification_cross_entropy_objective\": {\"sum\": 0.4805350876587575, \"count\": 1, \"min\": 0.4805350876587575, \"max\": 0.4805350876587575}}}\u001b[0m\n",
      "\u001b[34m#metrics {\"StartTime\": 1730637986.9482677, \"EndTime\": 1730637986.948276, \"Dimensions\": {\"Algorithm\": \"Linear Learner\", \"Host\": \"algo-1\", \"Operation\": \"training\", \"epoch\": 3, \"model\": 5}, \"Metrics\": {\"train_binary_classification_cross_entropy_objective\": {\"sum\": 0.48950841195928224, \"count\": 1, \"min\": 0.48950841195928224, \"max\": 0.48950841195928224}}}\u001b[0m\n",
      "\u001b[34m#metrics {\"StartTime\": 1730637986.948309, \"EndTime\": 1730637986.9483175, \"Dimensions\": {\"Algorithm\": \"Linear Learner\", \"Host\": \"algo-1\", \"Operation\": \"training\", \"epoch\": 3, \"model\": 6}, \"Metrics\": {\"train_binary_classification_cross_entropy_objective\": {\"sum\": 0.4806110585343996, \"count\": 1, \"min\": 0.4806110585343996, \"max\": 0.4806110585343996}}}\u001b[0m\n",
      "\u001b[34m#metrics {\"StartTime\": 1730637986.9483473, \"EndTime\": 1730637986.9483547, \"Dimensions\": {\"Algorithm\": \"Linear Learner\", \"Host\": \"algo-1\", \"Operation\": \"training\", \"epoch\": 3, \"model\": 7}, \"Metrics\": {\"train_binary_classification_cross_entropy_objective\": {\"sum\": 0.48950841176601495, \"count\": 1, \"min\": 0.48950841176601495, \"max\": 0.48950841176601495}}}\u001b[0m\n",
      "\u001b[34m#metrics {\"StartTime\": 1730637986.9483807, \"EndTime\": 1730637986.9483883, \"Dimensions\": {\"Algorithm\": \"Linear Learner\", \"Host\": \"algo-1\", \"Operation\": \"training\", \"epoch\": 3, \"model\": 8}, \"Metrics\": {\"train_binary_classification_cross_entropy_objective\": {\"sum\": 0.4807968740776483, \"count\": 1, \"min\": 0.4807968740776483, \"max\": 0.4807968740776483}}}\u001b[0m\n",
      "\u001b[34m#metrics {\"StartTime\": 1730637986.948408, \"EndTime\": 1730637986.948415, \"Dimensions\": {\"Algorithm\": \"Linear Learner\", \"Host\": \"algo-1\", \"Operation\": \"training\", \"epoch\": 3, \"model\": 9}, \"Metrics\": {\"train_binary_classification_cross_entropy_objective\": {\"sum\": 0.4812407194760027, \"count\": 1, \"min\": 0.4812407194760027, \"max\": 0.4812407194760027}}}\u001b[0m\n",
      "\u001b[34m#metrics {\"StartTime\": 1730637986.948444, \"EndTime\": 1730637986.9484494, \"Dimensions\": {\"Algorithm\": \"Linear Learner\", \"Host\": \"algo-1\", \"Operation\": \"training\", \"epoch\": 3, \"model\": 10}, \"Metrics\": {\"train_binary_classification_cross_entropy_objective\": {\"sum\": 0.4808723182664894, \"count\": 1, \"min\": 0.4808723182664894, \"max\": 0.4808723182664894}}}\u001b[0m\n",
      "\u001b[34m#metrics {\"StartTime\": 1730637986.9484754, \"EndTime\": 1730637986.9484835, \"Dimensions\": {\"Algorithm\": \"Linear Learner\", \"Host\": \"algo-1\", \"Operation\": \"training\", \"epoch\": 3, \"model\": 11}, \"Metrics\": {\"train_binary_classification_cross_entropy_objective\": {\"sum\": 0.48124071954264663, \"count\": 1, \"min\": 0.48124071954264663, \"max\": 0.48124071954264663}}}\u001b[0m\n",
      "\u001b[34m#metrics {\"StartTime\": 1730637986.9485161, \"EndTime\": 1730637986.9485238, \"Dimensions\": {\"Algorithm\": \"Linear Learner\", \"Host\": \"algo-1\", \"Operation\": \"training\", \"epoch\": 3, \"model\": 12}, \"Metrics\": {\"train_binary_classification_cross_entropy_objective\": {\"sum\": 0.48080955854585167, \"count\": 1, \"min\": 0.48080955854585167, \"max\": 0.48080955854585167}}}\u001b[0m\n",
      "\u001b[34m#metrics {\"StartTime\": 1730637986.9485557, \"EndTime\": 1730637986.9485638, \"Dimensions\": {\"Algorithm\": \"Linear Learner\", \"Host\": \"algo-1\", \"Operation\": \"training\", \"epoch\": 3, \"model\": 13}, \"Metrics\": {\"train_binary_classification_cross_entropy_objective\": {\"sum\": 0.4892265395131834, \"count\": 1, \"min\": 0.4892265395131834, \"max\": 0.4892265395131834}}}\u001b[0m\n",
      "\u001b[34m#metrics {\"StartTime\": 1730637986.9485953, \"EndTime\": 1730637986.9486032, \"Dimensions\": {\"Algorithm\": \"Linear Learner\", \"Host\": \"algo-1\", \"Operation\": \"training\", \"epoch\": 3, \"model\": 14}, \"Metrics\": {\"train_binary_classification_cross_entropy_objective\": {\"sum\": 0.4808727010024502, \"count\": 1, \"min\": 0.4808727010024502, \"max\": 0.4808727010024502}}}\u001b[0m\n",
      "\u001b[34m#metrics {\"StartTime\": 1730637986.948632, \"EndTime\": 1730637986.9486403, \"Dimensions\": {\"Algorithm\": \"Linear Learner\", \"Host\": \"algo-1\", \"Operation\": \"training\", \"epoch\": 3, \"model\": 15}, \"Metrics\": {\"train_binary_classification_cross_entropy_objective\": {\"sum\": 0.48922653935323807, \"count\": 1, \"min\": 0.48922653935323807, \"max\": 0.48922653935323807}}}\u001b[0m\n",
      "\u001b[34m#metrics {\"StartTime\": 1730637986.9486725, \"EndTime\": 1730637986.9486814, \"Dimensions\": {\"Algorithm\": \"Linear Learner\", \"Host\": \"algo-1\", \"Operation\": \"training\", \"epoch\": 3, \"model\": 16}, \"Metrics\": {\"train_binary_classification_cross_entropy_objective\": {\"sum\": 0.5041652134096264, \"count\": 1, \"min\": 0.5041652134096264, \"max\": 0.5041652134096264}}}\u001b[0m\n",
      "\u001b[34m#metrics {\"StartTime\": 1730637986.948713, \"EndTime\": 1730637986.9487207, \"Dimensions\": {\"Algorithm\": \"Linear Learner\", \"Host\": \"algo-1\", \"Operation\": \"training\", \"epoch\": 3, \"model\": 17}, \"Metrics\": {\"train_binary_classification_cross_entropy_objective\": {\"sum\": 0.5042933038062436, \"count\": 1, \"min\": 0.5042933038062436, \"max\": 0.5042933038062436}}}\u001b[0m\n",
      "\u001b[34m#metrics {\"StartTime\": 1730637986.9487605, \"EndTime\": 1730637986.9487693, \"Dimensions\": {\"Algorithm\": \"Linear Learner\", \"Host\": \"algo-1\", \"Operation\": \"training\", \"epoch\": 3, \"model\": 18}, \"Metrics\": {\"train_binary_classification_cross_entropy_objective\": {\"sum\": 0.5041819162122192, \"count\": 1, \"min\": 0.5041819162122192, \"max\": 0.5041819162122192}}}\u001b[0m\n",
      "\u001b[34m#metrics {\"StartTime\": 1730637986.9488, \"EndTime\": 1730637986.9488087, \"Dimensions\": {\"Algorithm\": \"Linear Learner\", \"Host\": \"algo-1\", \"Operation\": \"training\", \"epoch\": 3, \"model\": 19}, \"Metrics\": {\"train_binary_classification_cross_entropy_objective\": {\"sum\": 0.504293303779586, \"count\": 1, \"min\": 0.504293303779586, \"max\": 0.504293303779586}}}\u001b[0m\n",
      "\u001b[34m#metrics {\"StartTime\": 1730637986.948844, \"EndTime\": 1730637986.948853, \"Dimensions\": {\"Algorithm\": \"Linear Learner\", \"Host\": \"algo-1\", \"Operation\": \"training\", \"epoch\": 3, \"model\": 20}, \"Metrics\": {\"train_binary_classification_cross_entropy_objective\": {\"sum\": 0.5041653806058616, \"count\": 1, \"min\": 0.5041653806058616, \"max\": 0.5041653806058616}}}\u001b[0m\n",
      "\u001b[34m#metrics {\"StartTime\": 1730637986.9488873, \"EndTime\": 1730637986.9488962, \"Dimensions\": {\"Algorithm\": \"Linear Learner\", \"Host\": \"algo-1\", \"Operation\": \"training\", \"epoch\": 3, \"model\": 21}, \"Metrics\": {\"train_binary_classification_cross_entropy_objective\": {\"sum\": 0.5063100671068428, \"count\": 1, \"min\": 0.5063100671068428, \"max\": 0.5063100671068428}}}\u001b[0m\n",
      "\u001b[34m#metrics {\"StartTime\": 1730637986.9489255, \"EndTime\": 1730637986.9489331, \"Dimensions\": {\"Algorithm\": \"Linear Learner\", \"Host\": \"algo-1\", \"Operation\": \"training\", \"epoch\": 3, \"model\": 22}, \"Metrics\": {\"train_binary_classification_cross_entropy_objective\": {\"sum\": 0.5041819161922261, \"count\": 1, \"min\": 0.5041819161922261, \"max\": 0.5041819161922261}}}\u001b[0m\n",
      "\u001b[34m#metrics {\"StartTime\": 1730637986.9489632, \"EndTime\": 1730637986.9489722, \"Dimensions\": {\"Algorithm\": \"Linear Learner\", \"Host\": \"algo-1\", \"Operation\": \"training\", \"epoch\": 3, \"model\": 23}, \"Metrics\": {\"train_binary_classification_cross_entropy_objective\": {\"sum\": 0.5063100673067744, \"count\": 1, \"min\": 0.5063100673067744, \"max\": 0.5063100673067744}}}\u001b[0m\n",
      "\u001b[34m#metrics {\"StartTime\": 1730637986.9489982, \"EndTime\": 1730637986.9490063, \"Dimensions\": {\"Algorithm\": \"Linear Learner\", \"Host\": \"algo-1\", \"Operation\": \"training\", \"epoch\": 3, \"model\": 24}, \"Metrics\": {\"train_binary_classification_cross_entropy_objective\": {\"sum\": 0.5137151028775069, \"count\": 1, \"min\": 0.5137151028775069, \"max\": 0.5137151028775069}}}\u001b[0m\n",
      "\u001b[34m#metrics {\"StartTime\": 1730637986.9490373, \"EndTime\": 1730637986.9490464, \"Dimensions\": {\"Algorithm\": \"Linear Learner\", \"Host\": \"algo-1\", \"Operation\": \"training\", \"epoch\": 3, \"model\": 25}, \"Metrics\": {\"train_binary_classification_cross_entropy_objective\": {\"sum\": 0.5137757590498481, \"count\": 1, \"min\": 0.5137757590498481, \"max\": 0.5137757590498481}}}\u001b[0m\n",
      "\u001b[34m#metrics {\"StartTime\": 1730637986.9490752, \"EndTime\": 1730637986.9490848, \"Dimensions\": {\"Algorithm\": \"Linear Learner\", \"Host\": \"algo-1\", \"Operation\": \"training\", \"epoch\": 3, \"model\": 26}, \"Metrics\": {\"train_binary_classification_cross_entropy_objective\": {\"sum\": 0.5137246806466604, \"count\": 1, \"min\": 0.5137246806466604, \"max\": 0.5137246806466604}}}\u001b[0m\n",
      "\u001b[34m#metrics {\"StartTime\": 1730637986.9491105, \"EndTime\": 1730637986.949117, \"Dimensions\": {\"Algorithm\": \"Linear Learner\", \"Host\": \"algo-1\", \"Operation\": \"training\", \"epoch\": 3, \"model\": 27}, \"Metrics\": {\"train_binary_classification_cross_entropy_objective\": {\"sum\": 0.5137757590631769, \"count\": 1, \"min\": 0.5137757590631769, \"max\": 0.5137757590631769}}}\u001b[0m\n",
      "\u001b[34m#metrics {\"StartTime\": 1730637986.9491491, \"EndTime\": 1730637986.9491572, \"Dimensions\": {\"Algorithm\": \"Linear Learner\", \"Host\": \"algo-1\", \"Operation\": \"training\", \"epoch\": 3, \"model\": 28}, \"Metrics\": {\"train_binary_classification_cross_entropy_objective\": {\"sum\": 0.513715103270706, \"count\": 1, \"min\": 0.513715103270706, \"max\": 0.513715103270706}}}\u001b[0m\n",
      "\u001b[34m#metrics {\"StartTime\": 1730637986.9491897, \"EndTime\": 1730637986.949198, \"Dimensions\": {\"Algorithm\": \"Linear Learner\", \"Host\": \"algo-1\", \"Operation\": \"training\", \"epoch\": 3, \"model\": 29}, \"Metrics\": {\"train_binary_classification_cross_entropy_objective\": {\"sum\": 0.5145942454934537, \"count\": 1, \"min\": 0.5145942454934537, \"max\": 0.5145942454934537}}}\u001b[0m\n",
      "\u001b[34m#metrics {\"StartTime\": 1730637986.9492304, \"EndTime\": 1730637986.9492385, \"Dimensions\": {\"Algorithm\": \"Linear Learner\", \"Host\": \"algo-1\", \"Operation\": \"training\", \"epoch\": 3, \"model\": 30}, \"Metrics\": {\"train_binary_classification_cross_entropy_objective\": {\"sum\": 0.51372468070664, \"count\": 1, \"min\": 0.51372468070664, \"max\": 0.51372468070664}}}\u001b[0m\n",
      "\u001b[34m#metrics {\"StartTime\": 1730637986.9492693, \"EndTime\": 1730637986.949279, \"Dimensions\": {\"Algorithm\": \"Linear Learner\", \"Host\": \"algo-1\", \"Operation\": \"training\", \"epoch\": 3, \"model\": 31}, \"Metrics\": {\"train_binary_classification_cross_entropy_objective\": {\"sum\": 0.5145942454934537, \"count\": 1, \"min\": 0.5145942454934537, \"max\": 0.5145942454934537}}}\u001b[0m\n",
      "\u001b[34m[11/03/2024 12:46:26 INFO 139752866015040] #quality_metric: host=algo-1, epoch=3, train binary_classification_cross_entropy_objective <loss>=0.4805517331409254\u001b[0m\n",
      "\u001b[34m[2024-11-03 12:46:41.824] [tensorio] [info] epoch_stats={\"data_pipeline\": \"/opt/ml/input/data/validation\", \"epoch\": 11, \"duration\": 14863, \"num_examples\": 1227, \"num_bytes\": 95191144}\u001b[0m\n",
      "\u001b[34m#metrics {\"StartTime\": 1730638003.9444716, \"EndTime\": 1730638003.9445271, \"Dimensions\": {\"Algorithm\": \"Linear Learner\", \"Host\": \"algo-1\", \"Operation\": \"training\", \"epoch\": 3, \"model\": 0}, \"Metrics\": {\"validation_binary_classification_cross_entropy_objective\": {\"sum\": 0.48029287183531305, \"count\": 1, \"min\": 0.48029287183531305, \"max\": 0.48029287183531305}}}\u001b[0m\n",
      "\u001b[34m#metrics {\"StartTime\": 1730638003.9445987, \"EndTime\": 1730638003.944608, \"Dimensions\": {\"Algorithm\": \"Linear Learner\", \"Host\": \"algo-1\", \"Operation\": \"training\", \"epoch\": 3, \"model\": 1}, \"Metrics\": {\"validation_binary_classification_cross_entropy_objective\": {\"sum\": 0.48057646303949886, \"count\": 1, \"min\": 0.48057646303949886, \"max\": 0.48057646303949886}}}\u001b[0m\n",
      "\u001b[34m#metrics {\"StartTime\": 1730638003.9446304, \"EndTime\": 1730638003.9446359, \"Dimensions\": {\"Algorithm\": \"Linear Learner\", \"Host\": \"algo-1\", \"Operation\": \"training\", \"epoch\": 3, \"model\": 2}, \"Metrics\": {\"validation_binary_classification_cross_entropy_objective\": {\"sum\": 0.4803194608060885, \"count\": 1, \"min\": 0.4803194608060885, \"max\": 0.4803194608060885}}}\u001b[0m\n",
      "\u001b[34m#metrics {\"StartTime\": 1730638003.9446592, \"EndTime\": 1730638003.9446642, \"Dimensions\": {\"Algorithm\": \"Linear Learner\", \"Host\": \"algo-1\", \"Operation\": \"training\", \"epoch\": 3, \"model\": 3}, \"Metrics\": {\"validation_binary_classification_cross_entropy_objective\": {\"sum\": 0.48057646546510263, \"count\": 1, \"min\": 0.48057646546510263, \"max\": 0.48057646546510263}}}\u001b[0m\n",
      "\u001b[34m#metrics {\"StartTime\": 1730638003.9446929, \"EndTime\": 1730638003.9447002, \"Dimensions\": {\"Algorithm\": \"Linear Learner\", \"Host\": \"algo-1\", \"Operation\": \"training\", \"epoch\": 3, \"model\": 4}, \"Metrics\": {\"validation_binary_classification_cross_entropy_objective\": {\"sum\": 0.4802834912170674, \"count\": 1, \"min\": 0.4802834912170674, \"max\": 0.4802834912170674}}}\u001b[0m\n",
      "\u001b[34m#metrics {\"StartTime\": 1730638003.9447336, \"EndTime\": 1730638003.944741, \"Dimensions\": {\"Algorithm\": \"Linear Learner\", \"Host\": \"algo-1\", \"Operation\": \"training\", \"epoch\": 3, \"model\": 5}, \"Metrics\": {\"validation_binary_classification_cross_entropy_objective\": {\"sum\": 0.4881179275999682, \"count\": 1, \"min\": 0.4881179275999682, \"max\": 0.4881179275999682}}}\u001b[0m\n",
      "\u001b[34m#metrics {\"StartTime\": 1730638003.9447694, \"EndTime\": 1730638003.9447768, \"Dimensions\": {\"Algorithm\": \"Linear Learner\", \"Host\": \"algo-1\", \"Operation\": \"training\", \"epoch\": 3, \"model\": 6}, \"Metrics\": {\"validation_binary_classification_cross_entropy_objective\": {\"sum\": 0.4803107630263967, \"count\": 1, \"min\": 0.4803107630263967, \"max\": 0.4803107630263967}}}\u001b[0m\n",
      "\u001b[34m#metrics {\"StartTime\": 1730638003.9448051, \"EndTime\": 1730638003.9448123, \"Dimensions\": {\"Algorithm\": \"Linear Learner\", \"Host\": \"algo-1\", \"Operation\": \"training\", \"epoch\": 3, \"model\": 7}, \"Metrics\": {\"validation_binary_classification_cross_entropy_objective\": {\"sum\": 0.48811792461460973, \"count\": 1, \"min\": 0.48811792461460973, \"max\": 0.48811792461460973}}}\u001b[0m\n",
      "\u001b[34m#metrics {\"StartTime\": 1730638003.9448364, \"EndTime\": 1730638003.9448445, \"Dimensions\": {\"Algorithm\": \"Linear Learner\", \"Host\": \"algo-1\", \"Operation\": \"training\", \"epoch\": 3, \"model\": 8}, \"Metrics\": {\"validation_binary_classification_cross_entropy_objective\": {\"sum\": 0.48055990739206084, \"count\": 1, \"min\": 0.48055990739206084, \"max\": 0.48055990739206084}}}\u001b[0m\n",
      "\u001b[34m#metrics {\"StartTime\": 1730638003.9448705, \"EndTime\": 1730638003.9448774, \"Dimensions\": {\"Algorithm\": \"Linear Learner\", \"Host\": \"algo-1\", \"Operation\": \"training\", \"epoch\": 3, \"model\": 9}, \"Metrics\": {\"validation_binary_classification_cross_entropy_objective\": {\"sum\": 0.4807964022341555, \"count\": 1, \"min\": 0.4807964022341555, \"max\": 0.4807964022341555}}}\u001b[0m\n",
      "\u001b[34m#metrics {\"StartTime\": 1730638003.9449024, \"EndTime\": 1730638003.9449098, \"Dimensions\": {\"Algorithm\": \"Linear Learner\", \"Host\": \"algo-1\", \"Operation\": \"training\", \"epoch\": 3, \"model\": 10}, \"Metrics\": {\"validation_binary_classification_cross_entropy_objective\": {\"sum\": 0.4805716880830246, \"count\": 1, \"min\": 0.4805716880830246, \"max\": 0.4805716880830246}}}\u001b[0m\n",
      "\u001b[34m#metrics {\"StartTime\": 1730638003.9449346, \"EndTime\": 1730638003.9449432, \"Dimensions\": {\"Algorithm\": \"Linear Learner\", \"Host\": \"algo-1\", \"Operation\": \"training\", \"epoch\": 3, \"model\": 11}, \"Metrics\": {\"validation_binary_classification_cross_entropy_objective\": {\"sum\": 0.4807964014567184, \"count\": 1, \"min\": 0.4807964014567184, \"max\": 0.4807964014567184}}}\u001b[0m\n",
      "\u001b[34m#metrics {\"StartTime\": 1730638003.9449706, \"EndTime\": 1730638003.944979, \"Dimensions\": {\"Algorithm\": \"Linear Learner\", \"Host\": \"algo-1\", \"Operation\": \"training\", \"epoch\": 3, \"model\": 12}, \"Metrics\": {\"validation_binary_classification_cross_entropy_objective\": {\"sum\": 0.48057870003701086, \"count\": 1, \"min\": 0.48057870003701086, \"max\": 0.48057870003701086}}}\u001b[0m\n",
      "\u001b[34m#metrics {\"StartTime\": 1730638003.945011, \"EndTime\": 1730638003.9450195, \"Dimensions\": {\"Algorithm\": \"Linear Learner\", \"Host\": \"algo-1\", \"Operation\": \"training\", \"epoch\": 3, \"model\": 13}, \"Metrics\": {\"validation_binary_classification_cross_entropy_objective\": {\"sum\": 0.4876704468087398, \"count\": 1, \"min\": 0.4876704468087398, \"max\": 0.4876704468087398}}}\u001b[0m\n",
      "\u001b[34m#metrics {\"StartTime\": 1730638003.945045, \"EndTime\": 1730638003.9450517, \"Dimensions\": {\"Algorithm\": \"Linear Learner\", \"Host\": \"algo-1\", \"Operation\": \"training\", \"epoch\": 3, \"model\": 14}, \"Metrics\": {\"validation_binary_classification_cross_entropy_objective\": {\"sum\": 0.48057301529254454, \"count\": 1, \"min\": 0.48057301529254454, \"max\": 0.48057301529254454}}}\u001b[0m\n",
      "\u001b[34m#metrics {\"StartTime\": 1730638003.9450812, \"EndTime\": 1730638003.9450893, \"Dimensions\": {\"Algorithm\": \"Linear Learner\", \"Host\": \"algo-1\", \"Operation\": \"training\", \"epoch\": 3, \"model\": 15}, \"Metrics\": {\"validation_binary_classification_cross_entropy_objective\": {\"sum\": 0.4876704469020322, \"count\": 1, \"min\": 0.4876704469020322, \"max\": 0.4876704469020322}}}\u001b[0m\n",
      "\u001b[34m#metrics {\"StartTime\": 1730638003.9451175, \"EndTime\": 1730638003.9451249, \"Dimensions\": {\"Algorithm\": \"Linear Learner\", \"Host\": \"algo-1\", \"Operation\": \"training\", \"epoch\": 3, \"model\": 16}, \"Metrics\": {\"validation_binary_classification_cross_entropy_objective\": {\"sum\": 0.5040790479899936, \"count\": 1, \"min\": 0.5040790479899936, \"max\": 0.5040790479899936}}}\u001b[0m\n",
      "\u001b[34m#metrics {\"StartTime\": 1730638003.9451568, \"EndTime\": 1730638003.9451644, \"Dimensions\": {\"Algorithm\": \"Linear Learner\", \"Host\": \"algo-1\", \"Operation\": \"training\", \"epoch\": 3, \"model\": 17}, \"Metrics\": {\"validation_binary_classification_cross_entropy_objective\": {\"sum\": 0.5039452789284001, \"count\": 1, \"min\": 0.5039452789284001, \"max\": 0.5039452789284001}}}\u001b[0m\n",
      "\u001b[34m#metrics {\"StartTime\": 1730638003.9451976, \"EndTime\": 1730638003.945207, \"Dimensions\": {\"Algorithm\": \"Linear Learner\", \"Host\": \"algo-1\", \"Operation\": \"training\", \"epoch\": 3, \"model\": 18}, \"Metrics\": {\"validation_binary_classification_cross_entropy_objective\": {\"sum\": 0.5040139526218417, \"count\": 1, \"min\": 0.5040139526218417, \"max\": 0.5040139526218417}}}\u001b[0m\n",
      "\u001b[34m#metrics {\"StartTime\": 1730638003.9452333, \"EndTime\": 1730638003.945241, \"Dimensions\": {\"Algorithm\": \"Linear Learner\", \"Host\": \"algo-1\", \"Operation\": \"training\", \"epoch\": 3, \"model\": 19}, \"Metrics\": {\"validation_binary_classification_cross_entropy_objective\": {\"sum\": 0.5039452792082775, \"count\": 1, \"min\": 0.5039452792082775, \"max\": 0.5039452792082775}}}\u001b[0m\n",
      "\u001b[34m#metrics {\"StartTime\": 1730638003.9452705, \"EndTime\": 1730638003.945279, \"Dimensions\": {\"Algorithm\": \"Linear Learner\", \"Host\": \"algo-1\", \"Operation\": \"training\", \"epoch\": 3, \"model\": 20}, \"Metrics\": {\"validation_binary_classification_cross_entropy_objective\": {\"sum\": 0.504079081233204, \"count\": 1, \"min\": 0.504079081233204, \"max\": 0.504079081233204}}}\u001b[0m\n",
      "\u001b[34m#metrics {\"StartTime\": 1730638003.9453146, \"EndTime\": 1730638003.9453242, \"Dimensions\": {\"Algorithm\": \"Linear Learner\", \"Host\": \"algo-1\", \"Operation\": \"training\", \"epoch\": 3, \"model\": 21}, \"Metrics\": {\"validation_binary_classification_cross_entropy_objective\": {\"sum\": 0.5053537480087859, \"count\": 1, \"min\": 0.5053537480087859, \"max\": 0.5053537480087859}}}\u001b[0m\n",
      "\u001b[34m#metrics {\"StartTime\": 1730638003.945359, \"EndTime\": 1730638003.9453673, \"Dimensions\": {\"Algorithm\": \"Linear Learner\", \"Host\": \"algo-1\", \"Operation\": \"training\", \"epoch\": 3, \"model\": 22}, \"Metrics\": {\"validation_binary_classification_cross_entropy_objective\": {\"sum\": 0.5040139527151342, \"count\": 1, \"min\": 0.5040139527151342, \"max\": 0.5040139527151342}}}\u001b[0m\n",
      "\u001b[34m#metrics {\"StartTime\": 1730638003.9453933, \"EndTime\": 1730638003.9454017, \"Dimensions\": {\"Algorithm\": \"Linear Learner\", \"Host\": \"algo-1\", \"Operation\": \"training\", \"epoch\": 3, \"model\": 23}, \"Metrics\": {\"validation_binary_classification_cross_entropy_objective\": {\"sum\": 0.505353747760006, \"count\": 1, \"min\": 0.505353747760006, \"max\": 0.505353747760006}}}\u001b[0m\n",
      "\u001b[34m#metrics {\"StartTime\": 1730638003.945434, \"EndTime\": 1730638003.9454427, \"Dimensions\": {\"Algorithm\": \"Linear Learner\", \"Host\": \"algo-1\", \"Operation\": \"training\", \"epoch\": 3, \"model\": 24}, \"Metrics\": {\"validation_binary_classification_cross_entropy_objective\": {\"sum\": 0.5137113221584626, \"count\": 1, \"min\": 0.5137113221584626, \"max\": 0.5137113221584626}}}\u001b[0m\n",
      "\u001b[34m#metrics {\"StartTime\": 1730638003.945475, \"EndTime\": 1730638003.9454844, \"Dimensions\": {\"Algorithm\": \"Linear Learner\", \"Host\": \"algo-1\", \"Operation\": \"training\", \"epoch\": 3, \"model\": 25}, \"Metrics\": {\"validation_binary_classification_cross_entropy_objective\": {\"sum\": 0.5136543523451993, \"count\": 1, \"min\": 0.5136543523451993, \"max\": 0.5136543523451993}}}\u001b[0m\n",
      "\u001b[34m#metrics {\"StartTime\": 1730638003.9455152, \"EndTime\": 1730638003.9455242, \"Dimensions\": {\"Algorithm\": \"Linear Learner\", \"Host\": \"algo-1\", \"Operation\": \"training\", \"epoch\": 3, \"model\": 26}, \"Metrics\": {\"validation_binary_classification_cross_entropy_objective\": {\"sum\": 0.5137051183036957, \"count\": 1, \"min\": 0.5137051183036957, \"max\": 0.5137051183036957}}}\u001b[0m\n",
      "\u001b[34m#metrics {\"StartTime\": 1730638003.9455516, \"EndTime\": 1730638003.9455593, \"Dimensions\": {\"Algorithm\": \"Linear Learner\", \"Host\": \"algo-1\", \"Operation\": \"training\", \"epoch\": 3, \"model\": 27}, \"Metrics\": {\"validation_binary_classification_cross_entropy_objective\": {\"sum\": 0.5136543523451993, \"count\": 1, \"min\": 0.5136543523451993, \"max\": 0.5136543523451993}}}\u001b[0m\n",
      "\u001b[34m#metrics {\"StartTime\": 1730638003.94559, \"EndTime\": 1730638003.9455976, \"Dimensions\": {\"Algorithm\": \"Linear Learner\", \"Host\": \"algo-1\", \"Operation\": \"training\", \"epoch\": 3, \"model\": 28}, \"Metrics\": {\"validation_binary_classification_cross_entropy_objective\": {\"sum\": 0.5137113210078557, \"count\": 1, \"min\": 0.5137113210078557, \"max\": 0.5137113210078557}}}\u001b[0m\n",
      "\u001b[34m#metrics {\"StartTime\": 1730638003.945626, \"EndTime\": 1730638003.9456341, \"Dimensions\": {\"Algorithm\": \"Linear Learner\", \"Host\": \"algo-1\", \"Operation\": \"training\", \"epoch\": 3, \"model\": 29}, \"Metrics\": {\"validation_binary_classification_cross_entropy_objective\": {\"sum\": 0.5150823422492204, \"count\": 1, \"min\": 0.5150823422492204, \"max\": 0.5150823422492204}}}\u001b[0m\n",
      "\u001b[34m#metrics {\"StartTime\": 1730638003.9456668, \"EndTime\": 1730638003.945674, \"Dimensions\": {\"Algorithm\": \"Linear Learner\", \"Host\": \"algo-1\", \"Operation\": \"training\", \"epoch\": 3, \"model\": 30}, \"Metrics\": {\"validation_binary_classification_cross_entropy_objective\": {\"sum\": 0.5137051182725982, \"count\": 1, \"min\": 0.5137051182725982, \"max\": 0.5137051182725982}}}\u001b[0m\n",
      "\u001b[34m#metrics {\"StartTime\": 1730638003.9457035, \"EndTime\": 1730638003.945711, \"Dimensions\": {\"Algorithm\": \"Linear Learner\", \"Host\": \"algo-1\", \"Operation\": \"training\", \"epoch\": 3, \"model\": 31}, \"Metrics\": {\"validation_binary_classification_cross_entropy_objective\": {\"sum\": 0.5150823421870255, \"count\": 1, \"min\": 0.5150823421870255, \"max\": 0.5150823421870255}}}\u001b[0m\n",
      "\u001b[34m[11/03/2024 12:46:43 INFO 139752866015040] #quality_metric: host=algo-1, epoch=3, validation binary_classification_cross_entropy_objective <loss>=0.48029287183531305\u001b[0m\n",
      "\u001b[34m[11/03/2024 12:46:43 INFO 139752866015040] #early_stopping_criteria_metric: host=algo-1, epoch=3, criteria=sampled_accuracy, value=0.7934889825465277\u001b[0m\n",
      "\u001b[34m[11/03/2024 12:46:43 INFO 139752866015040] Epoch 3: Loss improved. Updating best model\u001b[0m\n",
      "\u001b[34m[11/03/2024 12:46:43 INFO 139752866015040] Saving model for epoch: 3\u001b[0m\n",
      "\u001b[34m[11/03/2024 12:46:43 INFO 139752866015040] Saved checkpoint to \"/tmp/tmp8ilohb73/mx-mod-0000.params\"\u001b[0m\n",
      "\u001b[34m[11/03/2024 12:46:43 INFO 139752866015040] #progress_metric: host=algo-1, completed 80.0 % of epochs\u001b[0m\n",
      "\u001b[34m#metrics {\"StartTime\": 1730637886.8073342, \"EndTime\": 1730638003.9512224, \"Dimensions\": {\"Algorithm\": \"Linear Learner\", \"Host\": \"algo-1\", \"Operation\": \"training\", \"epoch\": 3, \"Meta\": \"training_data_iter\"}, \"Metrics\": {\"Total Records Seen\": {\"sum\": 4590052.0, \"count\": 1, \"min\": 4590052, \"max\": 4590052}, \"Total Batches Seen\": {\"sum\": 22952.0, \"count\": 1, \"min\": 22952, \"max\": 22952}, \"Max Records Seen Between Resets\": {\"sum\": 1144913.0, \"count\": 1, \"min\": 1144913, \"max\": 1144913}, \"Max Batches Seen Between Resets\": {\"sum\": 5725.0, \"count\": 1, \"min\": 5725, \"max\": 5725}, \"Reset Count\": {\"sum\": 6.0, \"count\": 1, \"min\": 6, \"max\": 6}, \"Number of Records Since Last Reset\": {\"sum\": 1144913.0, \"count\": 1, \"min\": 1144913, \"max\": 1144913}, \"Number of Batches Since Last Reset\": {\"sum\": 5725.0, \"count\": 1, \"min\": 5725, \"max\": 5725}}}\u001b[0m\n",
      "\u001b[34m[11/03/2024 12:46:43 INFO 139752866015040] #throughput_metric: host=algo-1, train throughput=9773.553159593965 records/second\u001b[0m\n",
      "\u001b[34m[2024-11-03 12:48:24.237] [tensorio] [info] epoch_stats={\"data_pipeline\": \"/opt/ml/input/data/train\", \"epoch\": 11, \"duration\": 100284, \"num_examples\": 5725, \"num_bytes\": 444226244}\u001b[0m\n",
      "\u001b[34m#metrics {\"StartTime\": 1730638104.237443, \"EndTime\": 1730638104.2375062, \"Dimensions\": {\"Algorithm\": \"Linear Learner\", \"Host\": \"algo-1\", \"Operation\": \"training\", \"epoch\": 4, \"model\": 0}, \"Metrics\": {\"train_binary_classification_cross_entropy_objective\": {\"sum\": 0.4805487651411759, \"count\": 1, \"min\": 0.4805487651411759, \"max\": 0.4805487651411759}}}\u001b[0m\n",
      "\u001b[34m#metrics {\"StartTime\": 1730638104.237568, \"EndTime\": 1730638104.2375817, \"Dimensions\": {\"Algorithm\": \"Linear Learner\", \"Host\": \"algo-1\", \"Operation\": \"training\", \"epoch\": 4, \"model\": 1}, \"Metrics\": {\"train_binary_classification_cross_entropy_objective\": {\"sum\": 0.48080255850972536, \"count\": 1, \"min\": 0.48080255850972536, \"max\": 0.48080255850972536}}}\u001b[0m\n",
      "\u001b[34m#metrics {\"StartTime\": 1730638104.2376184, \"EndTime\": 1730638104.237628, \"Dimensions\": {\"Algorithm\": \"Linear Learner\", \"Host\": \"algo-1\", \"Operation\": \"training\", \"epoch\": 4, \"model\": 2}, \"Metrics\": {\"train_binary_classification_cross_entropy_objective\": {\"sum\": 0.4806180684871394, \"count\": 1, \"min\": 0.4806180684871394, \"max\": 0.4806180684871394}}}\u001b[0m\n",
      "\u001b[34m#metrics {\"StartTime\": 1730638104.2376587, \"EndTime\": 1730638104.237667, \"Dimensions\": {\"Algorithm\": \"Linear Learner\", \"Host\": \"algo-1\", \"Operation\": \"training\", \"epoch\": 4, \"model\": 3}, \"Metrics\": {\"train_binary_classification_cross_entropy_objective\": {\"sum\": 0.4808025586363488, \"count\": 1, \"min\": 0.4808025586363488, \"max\": 0.4808025586363488}}}\u001b[0m\n",
      "\u001b[34m#metrics {\"StartTime\": 1730638104.237698, \"EndTime\": 1730638104.2377074, \"Dimensions\": {\"Algorithm\": \"Linear Learner\", \"Host\": \"algo-1\", \"Operation\": \"training\", \"epoch\": 4, \"model\": 4}, \"Metrics\": {\"train_binary_classification_cross_entropy_objective\": {\"sum\": 0.48053246300841945, \"count\": 1, \"min\": 0.48053246300841945, \"max\": 0.48053246300841945}}}\u001b[0m\n",
      "\u001b[34m#metrics {\"StartTime\": 1730638104.237731, \"EndTime\": 1730638104.237739, \"Dimensions\": {\"Algorithm\": \"Linear Learner\", \"Host\": \"algo-1\", \"Operation\": \"training\", \"epoch\": 4, \"model\": 5}, \"Metrics\": {\"train_binary_classification_cross_entropy_objective\": {\"sum\": 0.48557258106127726, \"count\": 1, \"min\": 0.48557258106127726, \"max\": 0.48557258106127726}}}\u001b[0m\n",
      "\u001b[34m#metrics {\"StartTime\": 1730638104.2377646, \"EndTime\": 1730638104.2377737, \"Dimensions\": {\"Algorithm\": \"Linear Learner\", \"Host\": \"algo-1\", \"Operation\": \"training\", \"epoch\": 4, \"model\": 6}, \"Metrics\": {\"train_binary_classification_cross_entropy_objective\": {\"sum\": 0.4806109142836618, \"count\": 1, \"min\": 0.4806109142836618, \"max\": 0.4806109142836618}}}\u001b[0m\n",
      "\u001b[34m#metrics {\"StartTime\": 1730638104.237799, \"EndTime\": 1730638104.2378063, \"Dimensions\": {\"Algorithm\": \"Linear Learner\", \"Host\": \"algo-1\", \"Operation\": \"training\", \"epoch\": 4, \"model\": 7}, \"Metrics\": {\"train_binary_classification_cross_entropy_objective\": {\"sum\": 0.4855725806614138, \"count\": 1, \"min\": 0.4855725806614138, \"max\": 0.4855725806614138}}}\u001b[0m\n",
      "\u001b[34m#metrics {\"StartTime\": 1730638104.237836, \"EndTime\": 1730638104.2378445, \"Dimensions\": {\"Algorithm\": \"Linear Learner\", \"Host\": \"algo-1\", \"Operation\": \"training\", \"epoch\": 4, \"model\": 8}, \"Metrics\": {\"train_binary_classification_cross_entropy_objective\": {\"sum\": 0.4807961353899131, \"count\": 1, \"min\": 0.4807961353899131, \"max\": 0.4807961353899131}}}\u001b[0m\n",
      "\u001b[34m#metrics {\"StartTime\": 1730638104.237868, \"EndTime\": 1730638104.2378757, \"Dimensions\": {\"Algorithm\": \"Linear Learner\", \"Host\": \"algo-1\", \"Operation\": \"training\", \"epoch\": 4, \"model\": 9}, \"Metrics\": {\"train_binary_classification_cross_entropy_objective\": {\"sum\": 0.4810518506687892, \"count\": 1, \"min\": 0.4810518506687892, \"max\": 0.4810518506687892}}}\u001b[0m\n",
      "\u001b[34m#metrics {\"StartTime\": 1730638104.2379, \"EndTime\": 1730638104.2379138, \"Dimensions\": {\"Algorithm\": \"Linear Learner\", \"Host\": \"algo-1\", \"Operation\": \"training\", \"epoch\": 4, \"model\": 10}, \"Metrics\": {\"train_binary_classification_cross_entropy_objective\": {\"sum\": 0.48087181925690314, \"count\": 1, \"min\": 0.48087181925690314, \"max\": 0.48087181925690314}}}\u001b[0m\n",
      "\u001b[34m#metrics {\"StartTime\": 1730638104.2379391, \"EndTime\": 1730638104.237946, \"Dimensions\": {\"Algorithm\": \"Linear Learner\", \"Host\": \"algo-1\", \"Operation\": \"training\", \"epoch\": 4, \"model\": 11}, \"Metrics\": {\"train_binary_classification_cross_entropy_objective\": {\"sum\": 0.48105185043553556, \"count\": 1, \"min\": 0.48105185043553556, \"max\": 0.48105185043553556}}}\u001b[0m\n",
      "\u001b[34m#metrics {\"StartTime\": 1730638104.2379787, \"EndTime\": 1730638104.2379866, \"Dimensions\": {\"Algorithm\": \"Linear Learner\", \"Host\": \"algo-1\", \"Operation\": \"training\", \"epoch\": 4, \"model\": 12}, \"Metrics\": {\"train_binary_classification_cross_entropy_objective\": {\"sum\": 0.4808053052450376, \"count\": 1, \"min\": 0.4808053052450376, \"max\": 0.4808053052450376}}}\u001b[0m\n",
      "\u001b[34m#metrics {\"StartTime\": 1730638104.2380114, \"EndTime\": 1730638104.23802, \"Dimensions\": {\"Algorithm\": \"Linear Learner\", \"Host\": \"algo-1\", \"Operation\": \"training\", \"epoch\": 4, \"model\": 13}, \"Metrics\": {\"train_binary_classification_cross_entropy_objective\": {\"sum\": 0.48553139541967194, \"count\": 1, \"min\": 0.48553139541967194, \"max\": 0.48553139541967194}}}\u001b[0m\n",
      "\u001b[34m#metrics {\"StartTime\": 1730638104.238043, \"EndTime\": 1730638104.2380517, \"Dimensions\": {\"Algorithm\": \"Linear Learner\", \"Host\": \"algo-1\", \"Operation\": \"training\", \"epoch\": 4, \"model\": 14}, \"Metrics\": {\"train_binary_classification_cross_entropy_objective\": {\"sum\": 0.4808719312919761, \"count\": 1, \"min\": 0.4808719312919761, \"max\": 0.4808719312919761}}}\u001b[0m\n",
      "\u001b[34m#metrics {\"StartTime\": 1730638104.2380755, \"EndTime\": 1730638104.2380836, \"Dimensions\": {\"Algorithm\": \"Linear Learner\", \"Host\": \"algo-1\", \"Operation\": \"training\", \"epoch\": 4, \"model\": 15}, \"Metrics\": {\"train_binary_classification_cross_entropy_objective\": {\"sum\": 0.4855313955129734, \"count\": 1, \"min\": 0.4855313955129734, \"max\": 0.4855313955129734}}}\u001b[0m\n",
      "\u001b[34m#metrics {\"StartTime\": 1730638104.238114, \"EndTime\": 1730638104.2381213, \"Dimensions\": {\"Algorithm\": \"Linear Learner\", \"Host\": \"algo-1\", \"Operation\": \"training\", \"epoch\": 4, \"model\": 16}, \"Metrics\": {\"train_binary_classification_cross_entropy_objective\": {\"sum\": 0.504165331376007, \"count\": 1, \"min\": 0.504165331376007, \"max\": 0.504165331376007}}}\u001b[0m\n",
      "\u001b[34m#metrics {\"StartTime\": 1730638104.2381449, \"EndTime\": 1730638104.238152, \"Dimensions\": {\"Algorithm\": \"Linear Learner\", \"Host\": \"algo-1\", \"Operation\": \"training\", \"epoch\": 4, \"model\": 17}, \"Metrics\": {\"train_binary_classification_cross_entropy_objective\": {\"sum\": 0.5042382167187044, \"count\": 1, \"min\": 0.5042382167187044, \"max\": 0.5042382167187044}}}\u001b[0m\n",
      "\u001b[34m#metrics {\"StartTime\": 1730638104.2381833, \"EndTime\": 1730638104.2381918, \"Dimensions\": {\"Algorithm\": \"Linear Learner\", \"Host\": \"algo-1\", \"Operation\": \"training\", \"epoch\": 4, \"model\": 18}, \"Metrics\": {\"train_binary_classification_cross_entropy_objective\": {\"sum\": 0.5041819163055207, \"count\": 1, \"min\": 0.5041819163055207, \"max\": 0.5041819163055207}}}\u001b[0m\n",
      "\u001b[34m#metrics {\"StartTime\": 1730638104.2382197, \"EndTime\": 1730638104.2382283, \"Dimensions\": {\"Algorithm\": \"Linear Learner\", \"Host\": \"algo-1\", \"Operation\": \"training\", \"epoch\": 4, \"model\": 19}, \"Metrics\": {\"train_binary_classification_cross_entropy_objective\": {\"sum\": 0.5042382167320332, \"count\": 1, \"min\": 0.5042382167320332, \"max\": 0.5042382167320332}}}\u001b[0m\n",
      "\u001b[34m#metrics {\"StartTime\": 1730638104.2382538, \"EndTime\": 1730638104.238262, \"Dimensions\": {\"Algorithm\": \"Linear Learner\", \"Host\": \"algo-1\", \"Operation\": \"training\", \"epoch\": 4, \"model\": 20}, \"Metrics\": {\"train_binary_classification_cross_entropy_objective\": {\"sum\": 0.5041653556143962, \"count\": 1, \"min\": 0.5041653556143962, \"max\": 0.5041653556143962}}}\u001b[0m\n",
      "\u001b[34m#metrics {\"StartTime\": 1730638104.238285, \"EndTime\": 1730638104.2382925, \"Dimensions\": {\"Algorithm\": \"Linear Learner\", \"Host\": \"algo-1\", \"Operation\": \"training\", \"epoch\": 4, \"model\": 21}, \"Metrics\": {\"train_binary_classification_cross_entropy_objective\": {\"sum\": 0.5054188486814999, \"count\": 1, \"min\": 0.5054188486814999, \"max\": 0.5054188486814999}}}\u001b[0m\n",
      "\u001b[34m#metrics {\"StartTime\": 1730638104.2383318, \"EndTime\": 1730638104.238341, \"Dimensions\": {\"Algorithm\": \"Linear Learner\", \"Host\": \"algo-1\", \"Operation\": \"training\", \"epoch\": 4, \"model\": 22}, \"Metrics\": {\"train_binary_classification_cross_entropy_objective\": {\"sum\": 0.504181916138911, \"count\": 1, \"min\": 0.504181916138911, \"max\": 0.504181916138911}}}\u001b[0m\n",
      "\u001b[34m#metrics {\"StartTime\": 1730638104.2383735, \"EndTime\": 1730638104.2383828, \"Dimensions\": {\"Algorithm\": \"Linear Learner\", \"Host\": \"algo-1\", \"Operation\": \"training\", \"epoch\": 4, \"model\": 23}, \"Metrics\": {\"train_binary_classification_cross_entropy_objective\": {\"sum\": 0.5054188489480755, \"count\": 1, \"min\": 0.5054188489480755, \"max\": 0.5054188489480755}}}\u001b[0m\n",
      "\u001b[34m#metrics {\"StartTime\": 1730638104.238406, \"EndTime\": 1730638104.2384138, \"Dimensions\": {\"Algorithm\": \"Linear Learner\", \"Host\": \"algo-1\", \"Operation\": \"training\", \"epoch\": 4, \"model\": 24}, \"Metrics\": {\"train_binary_classification_cross_entropy_objective\": {\"sum\": 0.513715103117425, \"count\": 1, \"min\": 0.513715103117425, \"max\": 0.513715103117425}}}\u001b[0m\n",
      "\u001b[34m#metrics {\"StartTime\": 1730638104.2384374, \"EndTime\": 1730638104.2384458, \"Dimensions\": {\"Algorithm\": \"Linear Learner\", \"Host\": \"algo-1\", \"Operation\": \"training\", \"epoch\": 4, \"model\": 25}, \"Metrics\": {\"train_binary_classification_cross_entropy_objective\": {\"sum\": 0.5137502841496284, \"count\": 1, \"min\": 0.5137502841496284, \"max\": 0.5137502841496284}}}\u001b[0m\n",
      "\u001b[34m#metrics {\"StartTime\": 1730638104.2384691, \"EndTime\": 1730638104.2384765, \"Dimensions\": {\"Algorithm\": \"Linear Learner\", \"Host\": \"algo-1\", \"Operation\": \"training\", \"epoch\": 4, \"model\": 26}, \"Metrics\": {\"train_binary_classification_cross_entropy_objective\": {\"sum\": 0.5137246806999756, \"count\": 1, \"min\": 0.5137246806999756, \"max\": 0.5137246806999756}}}\u001b[0m\n",
      "\u001b[34m#metrics {\"StartTime\": 1730638104.238507, \"EndTime\": 1730638104.2385156, \"Dimensions\": {\"Algorithm\": \"Linear Learner\", \"Host\": \"algo-1\", \"Operation\": \"training\", \"epoch\": 4, \"model\": 27}, \"Metrics\": {\"train_binary_classification_cross_entropy_objective\": {\"sum\": 0.5137502841696217, \"count\": 1, \"min\": 0.5137502841696217, \"max\": 0.5137502841696217}}}\u001b[0m\n",
      "\u001b[34m#metrics {\"StartTime\": 1730638104.2385361, \"EndTime\": 1730638104.2385442, \"Dimensions\": {\"Algorithm\": \"Linear Learner\", \"Host\": \"algo-1\", \"Operation\": \"training\", \"epoch\": 4, \"model\": 28}, \"Metrics\": {\"train_binary_classification_cross_entropy_objective\": {\"sum\": 0.5137151028775069, \"count\": 1, \"min\": 0.5137151028775069, \"max\": 0.5137151028775069}}}\u001b[0m\n",
      "\u001b[34m#metrics {\"StartTime\": 1730638104.2385697, \"EndTime\": 1730638104.238576, \"Dimensions\": {\"Algorithm\": \"Linear Learner\", \"Host\": \"algo-1\", \"Operation\": \"training\", \"epoch\": 4, \"model\": 29}, \"Metrics\": {\"train_binary_classification_cross_entropy_objective\": {\"sum\": 0.5142181119112432, \"count\": 1, \"min\": 0.5142181119112432, \"max\": 0.5142181119112432}}}\u001b[0m\n",
      "\u001b[34m#metrics {\"StartTime\": 1730638104.2385972, \"EndTime\": 1730638104.238604, \"Dimensions\": {\"Algorithm\": \"Linear Learner\", \"Host\": \"algo-1\", \"Operation\": \"training\", \"epoch\": 4, \"model\": 30}, \"Metrics\": {\"train_binary_classification_cross_entropy_objective\": {\"sum\": 0.5137246806933112, \"count\": 1, \"min\": 0.5137246806933112, \"max\": 0.5137246806933112}}}\u001b[0m\n",
      "\u001b[34m#metrics {\"StartTime\": 1730638104.238627, \"EndTime\": 1730638104.2386334, \"Dimensions\": {\"Algorithm\": \"Linear Learner\", \"Host\": \"algo-1\", \"Operation\": \"training\", \"epoch\": 4, \"model\": 31}, \"Metrics\": {\"train_binary_classification_cross_entropy_objective\": {\"sum\": 0.5142181118179417, \"count\": 1, \"min\": 0.5142181118179417, \"max\": 0.5142181118179417}}}\u001b[0m\n",
      "\u001b[34m[11/03/2024 12:48:24 INFO 139752866015040] #quality_metric: host=algo-1, epoch=4, train binary_classification_cross_entropy_objective <loss>=0.4805487651411759\u001b[0m\n",
      "\u001b[34m[2024-11-03 12:48:39.210] [tensorio] [info] epoch_stats={\"data_pipeline\": \"/opt/ml/input/data/validation\", \"epoch\": 14, \"duration\": 14960, \"num_examples\": 1227, \"num_bytes\": 95191144}\u001b[0m\n",
      "\u001b[34m#metrics {\"StartTime\": 1730638121.369274, \"EndTime\": 1730638121.3693295, \"Dimensions\": {\"Algorithm\": \"Linear Learner\", \"Host\": \"algo-1\", \"Operation\": \"training\", \"epoch\": 4, \"model\": 0}, \"Metrics\": {\"validation_binary_classification_cross_entropy_objective\": {\"sum\": 0.4802909102060219, \"count\": 1, \"min\": 0.4802909102060219, \"max\": 0.4802909102060219}}}\u001b[0m\n",
      "\u001b[34m#metrics {\"StartTime\": 1730638121.3694007, \"EndTime\": 1730638121.369411, \"Dimensions\": {\"Algorithm\": \"Linear Learner\", \"Host\": \"algo-1\", \"Operation\": \"training\", \"epoch\": 4, \"model\": 1}, \"Metrics\": {\"validation_binary_classification_cross_entropy_objective\": {\"sum\": 0.48043145764839923, \"count\": 1, \"min\": 0.48043145764839923, \"max\": 0.48043145764839923}}}\u001b[0m\n",
      "\u001b[34m#metrics {\"StartTime\": 1730638121.3694396, \"EndTime\": 1730638121.369447, \"Dimensions\": {\"Algorithm\": \"Linear Learner\", \"Host\": \"algo-1\", \"Operation\": \"training\", \"epoch\": 4, \"model\": 2}, \"Metrics\": {\"validation_binary_classification_cross_entropy_objective\": {\"sum\": 0.48031746011835746, \"count\": 1, \"min\": 0.48031746011835746, \"max\": 0.48031746011835746}}}\u001b[0m\n",
      "\u001b[34m#metrics {\"StartTime\": 1730638121.3694718, \"EndTime\": 1730638121.369479, \"Dimensions\": {\"Algorithm\": \"Linear Learner\", \"Host\": \"algo-1\", \"Operation\": \"training\", \"epoch\": 4, \"model\": 3}, \"Metrics\": {\"validation_binary_classification_cross_entropy_objective\": {\"sum\": 0.4804314577105942, \"count\": 1, \"min\": 0.4804314577105942, \"max\": 0.4804314577105942}}}\u001b[0m\n",
      "\u001b[34m#metrics {\"StartTime\": 1730638121.3695083, \"EndTime\": 1730638121.3695166, \"Dimensions\": {\"Algorithm\": \"Linear Learner\", \"Host\": \"algo-1\", \"Operation\": \"training\", \"epoch\": 4, \"model\": 4}, \"Metrics\": {\"validation_binary_classification_cross_entropy_objective\": {\"sum\": 0.48028003401647795, \"count\": 1, \"min\": 0.48028003401647795, \"max\": 0.48028003401647795}}}\u001b[0m\n",
      "\u001b[34m#metrics {\"StartTime\": 1730638121.370063, \"EndTime\": 1730638121.3700736, \"Dimensions\": {\"Algorithm\": \"Linear Learner\", \"Host\": \"algo-1\", \"Operation\": \"training\", \"epoch\": 4, \"model\": 5}, \"Metrics\": {\"validation_binary_classification_cross_entropy_objective\": {\"sum\": 0.48448189691712856, \"count\": 1, \"min\": 0.48448189691712856, \"max\": 0.48448189691712856}}}\u001b[0m\n",
      "\u001b[34m#metrics {\"StartTime\": 1730638121.3701036, \"EndTime\": 1730638121.3701127, \"Dimensions\": {\"Algorithm\": \"Linear Learner\", \"Host\": \"algo-1\", \"Operation\": \"training\", \"epoch\": 4, \"model\": 6}, \"Metrics\": {\"validation_binary_classification_cross_entropy_objective\": {\"sum\": 0.48031052513064404, \"count\": 1, \"min\": 0.48031052513064404, \"max\": 0.48031052513064404}}}\u001b[0m\n",
      "\u001b[34m#metrics {\"StartTime\": 1730638121.3701398, \"EndTime\": 1730638121.3701468, \"Dimensions\": {\"Algorithm\": \"Linear Learner\", \"Host\": \"algo-1\", \"Operation\": \"training\", \"epoch\": 4, \"model\": 7}, \"Metrics\": {\"validation_binary_classification_cross_entropy_objective\": {\"sum\": 0.484481899964682, \"count\": 1, \"min\": 0.484481899964682, \"max\": 0.484481899964682}}}\u001b[0m\n",
      "\u001b[34m#metrics {\"StartTime\": 1730638121.370169, \"EndTime\": 1730638121.3701756, \"Dimensions\": {\"Algorithm\": \"Linear Learner\", \"Host\": \"algo-1\", \"Operation\": \"training\", \"epoch\": 4, \"model\": 8}, \"Metrics\": {\"validation_binary_classification_cross_entropy_objective\": {\"sum\": 0.48055971014071974, \"count\": 1, \"min\": 0.48055971014071974, \"max\": 0.48055971014071974}}}\u001b[0m\n",
      "\u001b[34m#metrics {\"StartTime\": 1730638121.3702016, \"EndTime\": 1730638121.3702095, \"Dimensions\": {\"Algorithm\": \"Linear Learner\", \"Host\": \"algo-1\", \"Operation\": \"training\", \"epoch\": 4, \"model\": 9}, \"Metrics\": {\"validation_binary_classification_cross_entropy_objective\": {\"sum\": 0.4806668352200885, \"count\": 1, \"min\": 0.4806668352200885, \"max\": 0.4806668352200885}}}\u001b[0m\n",
      "\u001b[34m#metrics {\"StartTime\": 1730638121.3702383, \"EndTime\": 1730638121.3702452, \"Dimensions\": {\"Algorithm\": \"Linear Learner\", \"Host\": \"algo-1\", \"Operation\": \"training\", \"epoch\": 4, \"model\": 10}, \"Metrics\": {\"validation_binary_classification_cross_entropy_objective\": {\"sum\": 0.4805714211422219, \"count\": 1, \"min\": 0.4805714211422219, \"max\": 0.4805714211422219}}}\u001b[0m\n",
      "\u001b[34m#metrics {\"StartTime\": 1730638121.3702703, \"EndTime\": 1730638121.3702788, \"Dimensions\": {\"Algorithm\": \"Linear Learner\", \"Host\": \"algo-1\", \"Operation\": \"training\", \"epoch\": 4, \"model\": 11}, \"Metrics\": {\"validation_binary_classification_cross_entropy_objective\": {\"sum\": 0.48066683497130863, \"count\": 1, \"min\": 0.48066683497130863, \"max\": 0.48066683497130863}}}\u001b[0m\n",
      "\u001b[34m#metrics {\"StartTime\": 1730638121.3703117, \"EndTime\": 1730638121.3703349, \"Dimensions\": {\"Algorithm\": \"Linear Learner\", \"Host\": \"algo-1\", \"Operation\": \"training\", \"epoch\": 4, \"model\": 12}, \"Metrics\": {\"validation_binary_classification_cross_entropy_objective\": {\"sum\": 0.48057401905713326, \"count\": 1, \"min\": 0.48057401905713326, \"max\": 0.48057401905713326}}}\u001b[0m\n",
      "\u001b[34m#metrics {\"StartTime\": 1730638121.3703678, \"EndTime\": 1730638121.3703737, \"Dimensions\": {\"Algorithm\": \"Linear Learner\", \"Host\": \"algo-1\", \"Operation\": \"training\", \"epoch\": 4, \"model\": 13}, \"Metrics\": {\"validation_binary_classification_cross_entropy_objective\": {\"sum\": 0.48431867144795443, \"count\": 1, \"min\": 0.48431867144795443, \"max\": 0.48431867144795443}}}\u001b[0m\n",
      "\u001b[34m#metrics {\"StartTime\": 1730638121.3703947, \"EndTime\": 1730638121.3704002, \"Dimensions\": {\"Algorithm\": \"Linear Learner\", \"Host\": \"algo-1\", \"Operation\": \"training\", \"epoch\": 4, \"model\": 14}, \"Metrics\": {\"validation_binary_classification_cross_entropy_objective\": {\"sum\": 0.4805722068512528, \"count\": 1, \"min\": 0.4805722068512528, \"max\": 0.4805722068512528}}}\u001b[0m\n",
      "\u001b[34m#metrics {\"StartTime\": 1730638121.3704274, \"EndTime\": 1730638121.3704345, \"Dimensions\": {\"Algorithm\": \"Linear Learner\", \"Host\": \"algo-1\", \"Operation\": \"training\", \"epoch\": 4, \"model\": 15}, \"Metrics\": {\"validation_binary_classification_cross_entropy_objective\": {\"sum\": 0.4843186694888129, \"count\": 1, \"min\": 0.4843186694888129, \"max\": 0.4843186694888129}}}\u001b[0m\n",
      "\u001b[34m#metrics {\"StartTime\": 1730638121.3704658, \"EndTime\": 1730638121.3704736, \"Dimensions\": {\"Algorithm\": \"Linear Learner\", \"Host\": \"algo-1\", \"Operation\": \"training\", \"epoch\": 4, \"model\": 16}, \"Metrics\": {\"validation_binary_classification_cross_entropy_objective\": {\"sum\": 0.5040790818551537, \"count\": 1, \"min\": 0.5040790818551537, \"max\": 0.5040790818551537}}}\u001b[0m\n",
      "\u001b[34m#metrics {\"StartTime\": 1730638121.370503, \"EndTime\": 1730638121.3705108, \"Dimensions\": {\"Algorithm\": \"Linear Learner\", \"Host\": \"algo-1\", \"Operation\": \"training\", \"epoch\": 4, \"model\": 17}, \"Metrics\": {\"validation_binary_classification_cross_entropy_objective\": {\"sum\": 0.5039739430964784, \"count\": 1, \"min\": 0.5039739430964784, \"max\": 0.5039739430964784}}}\u001b[0m\n",
      "\u001b[34m#metrics {\"StartTime\": 1730638121.3705328, \"EndTime\": 1730638121.3705401, \"Dimensions\": {\"Algorithm\": \"Linear Learner\", \"Host\": \"algo-1\", \"Operation\": \"training\", \"epoch\": 4, \"model\": 18}, \"Metrics\": {\"validation_binary_classification_cross_entropy_objective\": {\"sum\": 0.504013952901719, \"count\": 1, \"min\": 0.504013952901719, \"max\": 0.504013952901719}}}\u001b[0m\n",
      "\u001b[34m#metrics {\"StartTime\": 1730638121.3705754, \"EndTime\": 1730638121.3705838, \"Dimensions\": {\"Algorithm\": \"Linear Learner\", \"Host\": \"algo-1\", \"Operation\": \"training\", \"epoch\": 4, \"model\": 19}, \"Metrics\": {\"validation_binary_classification_cross_entropy_objective\": {\"sum\": 0.5039739428787959, \"count\": 1, \"min\": 0.5039739428787959, \"max\": 0.5039739428787959}}}\u001b[0m\n",
      "\u001b[34m#metrics {\"StartTime\": 1730638121.3706176, \"EndTime\": 1730638121.3706253, \"Dimensions\": {\"Algorithm\": \"Linear Learner\", \"Host\": \"algo-1\", \"Operation\": \"training\", \"epoch\": 4, \"model\": 20}, \"Metrics\": {\"validation_binary_classification_cross_entropy_objective\": {\"sum\": 0.5040790880746504, \"count\": 1, \"min\": 0.5040790880746504, \"max\": 0.5040790880746504}}}\u001b[0m\n",
      "\u001b[34m#metrics {\"StartTime\": 1730638121.3706548, \"EndTime\": 1730638121.370663, \"Dimensions\": {\"Algorithm\": \"Linear Learner\", \"Host\": \"algo-1\", \"Operation\": \"training\", \"epoch\": 4, \"model\": 21}, \"Metrics\": {\"validation_binary_classification_cross_entropy_objective\": {\"sum\": 0.5040523263884489, \"count\": 1, \"min\": 0.5040523263884489, \"max\": 0.5040523263884489}}}\u001b[0m\n",
      "\u001b[34m#metrics {\"StartTime\": 1730638121.3706949, \"EndTime\": 1730638121.3707035, \"Dimensions\": {\"Algorithm\": \"Linear Learner\", \"Host\": \"algo-1\", \"Operation\": \"training\", \"epoch\": 4, \"model\": 22}, \"Metrics\": {\"validation_binary_classification_cross_entropy_objective\": {\"sum\": 0.5040139524663543, \"count\": 1, \"min\": 0.5040139524663543, \"max\": 0.5040139524663543}}}\u001b[0m\n",
      "\u001b[34m#metrics {\"StartTime\": 1730638121.3707345, \"EndTime\": 1730638121.3707433, \"Dimensions\": {\"Algorithm\": \"Linear Learner\", \"Host\": \"algo-1\", \"Operation\": \"training\", \"epoch\": 4, \"model\": 23}, \"Metrics\": {\"validation_binary_classification_cross_entropy_objective\": {\"sum\": 0.504052325953084, \"count\": 1, \"min\": 0.504052325953084, \"max\": 0.504052325953084}}}\u001b[0m\n",
      "\u001b[34m#metrics {\"StartTime\": 1730638121.370771, \"EndTime\": 1730638121.3707793, \"Dimensions\": {\"Algorithm\": \"Linear Learner\", \"Host\": \"algo-1\", \"Operation\": \"training\", \"epoch\": 4, \"model\": 24}, \"Metrics\": {\"validation_binary_classification_cross_entropy_objective\": {\"sum\": 0.5137113221584626, \"count\": 1, \"min\": 0.5137113221584626, \"max\": 0.5137113221584626}}}\u001b[0m\n",
      "\u001b[34m#metrics {\"StartTime\": 1730638121.3708096, \"EndTime\": 1730638121.3708174, \"Dimensions\": {\"Algorithm\": \"Linear Learner\", \"Host\": \"algo-1\", \"Operation\": \"training\", \"epoch\": 4, \"model\": 25}, \"Metrics\": {\"validation_binary_classification_cross_entropy_objective\": {\"sum\": 0.5136641350539131, \"count\": 1, \"min\": 0.5136641350539131, \"max\": 0.5136641350539131}}}\u001b[0m\n",
      "\u001b[34m#metrics {\"StartTime\": 1730638121.3708372, \"EndTime\": 1730638121.3708448, \"Dimensions\": {\"Algorithm\": \"Linear Learner\", \"Host\": \"algo-1\", \"Operation\": \"training\", \"epoch\": 4, \"model\": 26}, \"Metrics\": {\"validation_binary_classification_cross_entropy_objective\": {\"sum\": 0.5137051183036957, \"count\": 1, \"min\": 0.5137051183036957, \"max\": 0.5137051183036957}}}\u001b[0m\n",
      "\u001b[34m#metrics {\"StartTime\": 1730638121.370877, \"EndTime\": 1730638121.370886, \"Dimensions\": {\"Algorithm\": \"Linear Learner\", \"Host\": \"algo-1\", \"Operation\": \"training\", \"epoch\": 4, \"model\": 27}, \"Metrics\": {\"validation_binary_classification_cross_entropy_objective\": {\"sum\": 0.5136641350539131, \"count\": 1, \"min\": 0.5136641350539131, \"max\": 0.5136641350539131}}}\u001b[0m\n",
      "\u001b[34m#metrics {\"StartTime\": 1730638121.3709157, \"EndTime\": 1730638121.3709238, \"Dimensions\": {\"Algorithm\": \"Linear Learner\", \"Host\": \"algo-1\", \"Operation\": \"training\", \"epoch\": 4, \"model\": 28}, \"Metrics\": {\"validation_binary_classification_cross_entropy_objective\": {\"sum\": 0.5137113221584626, \"count\": 1, \"min\": 0.5137113221584626, \"max\": 0.5137113221584626}}}\u001b[0m\n",
      "\u001b[34m#metrics {\"StartTime\": 1730638121.3709586, \"EndTime\": 1730638121.3709662, \"Dimensions\": {\"Algorithm\": \"Linear Learner\", \"Host\": \"algo-1\", \"Operation\": \"training\", \"epoch\": 4, \"model\": 29}, \"Metrics\": {\"validation_binary_classification_cross_entropy_objective\": {\"sum\": 0.5139137916262363, \"count\": 1, \"min\": 0.5139137916262363, \"max\": 0.5139137916262363}}}\u001b[0m\n",
      "\u001b[34m#metrics {\"StartTime\": 1730638121.370998, \"EndTime\": 1730638121.371006, \"Dimensions\": {\"Algorithm\": \"Linear Learner\", \"Host\": \"algo-1\", \"Operation\": \"training\", \"epoch\": 4, \"model\": 30}, \"Metrics\": {\"validation_binary_classification_cross_entropy_objective\": {\"sum\": 0.5137051183036957, \"count\": 1, \"min\": 0.5137051183036957, \"max\": 0.5137051183036957}}}\u001b[0m\n",
      "\u001b[34m#metrics {\"StartTime\": 1730638121.3710358, \"EndTime\": 1730638121.3710442, \"Dimensions\": {\"Algorithm\": \"Linear Learner\", \"Host\": \"algo-1\", \"Operation\": \"training\", \"epoch\": 4, \"model\": 31}, \"Metrics\": {\"validation_binary_classification_cross_entropy_objective\": {\"sum\": 0.5139137917817237, \"count\": 1, \"min\": 0.5139137917817237, \"max\": 0.5139137917817237}}}\u001b[0m\n",
      "\u001b[34m[11/03/2024 12:48:41 INFO 139752866015040] #quality_metric: host=algo-1, epoch=4, validation binary_classification_cross_entropy_objective <loss>=0.4802909102060219\u001b[0m\n",
      "\u001b[34m[11/03/2024 12:48:41 INFO 139752866015040] #early_stopping_criteria_metric: host=algo-1, epoch=4, criteria=sampled_accuracy, value=0.7934686024994091\u001b[0m\n",
      "\u001b[34m[11/03/2024 12:48:41 INFO 139752866015040] Epoch 4: Loss improved. Updating best model\u001b[0m\n",
      "\u001b[34m[11/03/2024 12:48:41 INFO 139752866015040] Saving model for epoch: 4\u001b[0m\n",
      "\u001b[34m[11/03/2024 12:48:41 INFO 139752866015040] Saved checkpoint to \"/tmp/tmpikskw9ni/mx-mod-0000.params\"\u001b[0m\n",
      "\u001b[34m[11/03/2024 12:48:41 INFO 139752866015040] #progress_metric: host=algo-1, completed 100.0 % of epochs\u001b[0m\n",
      "\u001b[34m#metrics {\"StartTime\": 1730638003.9526267, \"EndTime\": 1730638121.3758013, \"Dimensions\": {\"Algorithm\": \"Linear Learner\", \"Host\": \"algo-1\", \"Operation\": \"training\", \"epoch\": 4, \"Meta\": \"training_data_iter\"}, \"Metrics\": {\"Total Records Seen\": {\"sum\": 5734965.0, \"count\": 1, \"min\": 5734965, \"max\": 5734965}, \"Total Batches Seen\": {\"sum\": 28677.0, \"count\": 1, \"min\": 28677, \"max\": 28677}, \"Max Records Seen Between Resets\": {\"sum\": 1144913.0, \"count\": 1, \"min\": 1144913, \"max\": 1144913}, \"Max Batches Seen Between Resets\": {\"sum\": 5725.0, \"count\": 1, \"min\": 5725, \"max\": 5725}, \"Reset Count\": {\"sum\": 7.0, \"count\": 1, \"min\": 7, \"max\": 7}, \"Number of Records Since Last Reset\": {\"sum\": 1144913.0, \"count\": 1, \"min\": 1144913, \"max\": 1144913}, \"Number of Batches Since Last Reset\": {\"sum\": 5725.0, \"count\": 1, \"min\": 5725, \"max\": 5725}}}\u001b[0m\n",
      "\u001b[34m[11/03/2024 12:48:41 INFO 139752866015040] #throughput_metric: host=algo-1, train throughput=9750.307525516484 records/second\u001b[0m\n",
      "\u001b[34m[11/03/2024 12:48:41 WARNING 139752866015040] wait_for_all_workers will not sync workers since the kv store is not running distributed\u001b[0m\n",
      "\u001b[34m[11/03/2024 12:48:41 WARNING 139752866015040] wait_for_all_workers will not sync workers since the kv store is not running distributed\u001b[0m\n",
      "\u001b[34m[2024-11-03 12:48:56.242] [tensorio] [info] epoch_stats={\"data_pipeline\": \"/opt/ml/input/data/validation\", \"epoch\": 17, \"duration\": 14856, \"num_examples\": 1227, \"num_bytes\": 95191144}\u001b[0m\n",
      "\u001b[34m[11/03/2024 12:48:58 INFO 139752866015040] #early_stopping_criteria_metric: host=algo-1, epoch=4, criteria=sampled_accuracy, value=0.7934686024994091\u001b[0m\n",
      "\u001b[34m[11/03/2024 12:48:58 INFO 139752866015040] Epoch 4: Loss improved. Updating best model\u001b[0m\n",
      "\u001b[34m[2024-11-03 12:49:01.226] [tensorio] [info] epoch_stats={\"data_pipeline\": \"/opt/ml/input/data/validation\", \"epoch\": 19, \"duration\": 2832, \"num_examples\": 1227, \"num_bytes\": 95191144}\u001b[0m\n",
      "\u001b[34m[11/03/2024 12:49:01 INFO 139752866015040] #validation_score (algo-1) : ('binary_classification_cross_entropy_objective', 0.4802909102060219)\u001b[0m\n",
      "\u001b[34m[11/03/2024 12:49:01 INFO 139752866015040] #validation_score (algo-1) : ('binary_classification_accuracy', 0.7934726785088327)\u001b[0m\n",
      "\u001b[34m[11/03/2024 12:49:01 INFO 139752866015040] #validation_score (algo-1) : ('binary_f_1.000', 0.133255786106502)\u001b[0m\n",
      "\u001b[34m[11/03/2024 12:49:01 INFO 139752866015040] #validation_score (algo-1) : ('precision', 0.5597068544331082)\u001b[0m\n",
      "\u001b[34m[11/03/2024 12:49:01 INFO 139752866015040] #validation_score (algo-1) : ('recall', 0.07563106796116505)\u001b[0m\n",
      "\u001b[34m[11/03/2024 12:49:01 INFO 139752866015040] #validation_score (algo-1) : ('roc_auc_score', 0.6786351316588359)\u001b[0m\n",
      "\u001b[34m[11/03/2024 12:49:01 INFO 139752866015040] #validation_score (algo-1) : ('binary_balanced_accuracy', 0.5)\u001b[0m\n",
      "\u001b[34m[11/03/2024 12:49:01 INFO 139752866015040] #validation_score (algo-1) : ('binary_log_loss', 0.7493532044250137)\u001b[0m\n",
      "\u001b[34m[11/03/2024 12:49:01 INFO 139752866015040] #quality_metric: host=algo-1, validation binary_classification_cross_entropy_objective <loss>=0.4802909102060219\u001b[0m\n",
      "\u001b[34m[11/03/2024 12:49:01 INFO 139752866015040] #quality_metric: host=algo-1, validation binary_classification_accuracy <score>=0.7934726785088327\u001b[0m\n",
      "\u001b[34m[11/03/2024 12:49:01 INFO 139752866015040] #quality_metric: host=algo-1, validation binary_f_1.000 <score>=0.133255786106502\u001b[0m\n",
      "\u001b[34m[11/03/2024 12:49:01 INFO 139752866015040] #quality_metric: host=algo-1, validation precision <score>=0.5597068544331082\u001b[0m\n",
      "\u001b[34m[11/03/2024 12:49:01 INFO 139752866015040] #quality_metric: host=algo-1, validation recall <score>=0.07563106796116505\u001b[0m\n",
      "\u001b[34m[11/03/2024 12:49:01 INFO 139752866015040] #quality_metric: host=algo-1, validation roc_auc_score <score>=0.6786351316588359\u001b[0m\n",
      "\u001b[34m[11/03/2024 12:49:01 INFO 139752866015040] #quality_metric: host=algo-1, validation binary_balanced_accuracy <score>=0.5\u001b[0m\n",
      "\u001b[34m[11/03/2024 12:49:01 INFO 139752866015040] #quality_metric: host=algo-1, validation binary_log_loss <score>=0.7493532044250137\u001b[0m\n",
      "\u001b[34m[11/03/2024 12:49:01 INFO 139752866015040] Best model found for hyperparameters: {\"optimizer\": \"adam\", \"learning_rate\": 0.005, \"l1\": 0.0, \"wd\": 0.0001, \"lr_scheduler_step\": 10, \"lr_scheduler_factor\": 0.99, \"lr_scheduler_minimum_lr\": 1e-05}\u001b[0m\n",
      "\u001b[34m[11/03/2024 12:49:01 INFO 139752866015040] Saved checkpoint to \"/tmp/tmps6rk_tqe/mx-mod-0000.params\"\u001b[0m\n",
      "\u001b[34m[11/03/2024 12:49:01 INFO 139752866015040] Test data is not provided.\u001b[0m\n",
      "\u001b[34m#metrics {\"StartTime\": 1730637535.7792976, \"EndTime\": 1730638141.5325406, \"Dimensions\": {\"Algorithm\": \"Linear Learner\", \"Host\": \"algo-1\", \"Operation\": \"training\"}, \"Metrics\": {\"initialize.time\": {\"sum\": 235.75782775878906, \"count\": 1, \"min\": 235.75782775878906, \"max\": 235.75782775878906}, \"epochs\": {\"sum\": 5.0, \"count\": 1, \"min\": 5, \"max\": 5}, \"check_early_stopping.time\": {\"sum\": 4.303932189941406, \"count\": 6, \"min\": 0.5929470062255859, \"max\": 0.8518695831298828}, \"update.time\": {\"sum\": 585308.5689544678, \"count\": 5, \"min\": 116731.10580444336, \"max\": 117421.22459411621}, \"finalize.time\": {\"sum\": 20151.895999908447, \"count\": 1, \"min\": 20151.895999908447, \"max\": 20151.895999908447}, \"setuptime\": {\"sum\": 1.744985580444336, \"count\": 1, \"min\": 1.744985580444336, \"max\": 1.744985580444336}, \"totaltime\": {\"sum\": 605843.9464569092, \"count\": 1, \"min\": 605843.9464569092, \"max\": 605843.9464569092}}}\u001b[0m\n",
      "\n",
      "2024-11-03 12:49:18 Uploading - Uploading generated training model\n",
      "2024-11-03 12:49:18 Completed - Training job completed\n"
     ]
    }
   ],
   "source": [
    "# Initialize the estimator\n",
    "linear2 = sagemaker.estimator.Estimator(\n",
    "    container,\n",
    "    role,\n",
    "    instance_count=1,\n",
    "    instance_type=\"ml.c4.xlarge\",\n",
    "    output_path=f\"s3://{bucket_name}/{prefix}/output2\",\n",
    "    sagemaker_session=sess,\n",
    ")\n",
    "linear2.set_hyperparameters(feature_dim=train_features2.shape[1], predictor_type=\"binary_classifier\", mini_batch_size=200, epochs=5)\n",
    "\n",
    "# Fit the model\n",
    "linear2.fit(data_channels2)"
   ]
  },
  {
   "cell_type": "code",
   "execution_count": null,
   "id": "f42cf247",
   "metadata": {
    "tags": []
   },
   "outputs": [],
   "source": [
    "linear_predictor2 = linear2.deploy(\n",
    "    initial_instance_count=1,\n",
    "    instance_type=\"ml.m4.xlarge\"\n",
    ")"
   ]
  },
  {
   "cell_type": "code",
   "execution_count": null,
   "id": "24a5146d",
   "metadata": {
    "tags": []
   },
   "outputs": [],
   "source": [
    "linear_predictor2.serializer = CSVSerializer()\n",
    "linear_predictor2.deserializer = JSONDeserializer()"
   ]
  },
  {
   "cell_type": "code",
   "execution_count": null,
   "id": "3d9223f1",
   "metadata": {
    "tags": []
   },
   "outputs": [],
   "source": [
    "# Prepare test data for batch transform\n",
    "batch_X2 = test_df2.drop(columns=['target'])\n",
    "batch_X_file2 = 'batch-in2.csv'\n",
    "batch_X2.to_csv(batch_X_file2, index=False, header=False)"
   ]
  },
  {
   "cell_type": "code",
   "execution_count": null,
   "id": "df3c3c76",
   "metadata": {
    "tags": []
   },
   "outputs": [],
   "source": [
    "# Define S3 paths for input and output for df2\n",
    "batch_input2 = f\"s3://{bucket_name}/{prefix}/batch-in/{batch_X_file2}\"\n",
    "batch_output2 = f\"s3://{bucket_name}/{prefix}/batch-out2/\"\n",
    "\n",
    "# Upload the test file to S3 for batch transform\n",
    "s3_resource.Bucket(bucket_name).Object(f\"{prefix}/batch-in/{batch_X_file2}\").upload_file(batch_X_file2)"
   ]
  },
  {
   "cell_type": "code",
   "execution_count": null,
   "id": "5de6dab2",
   "metadata": {
    "tags": []
   },
   "outputs": [],
   "source": [
    "transformer2 = Transformer(\n",
    "    model_name=linear_predictor2.endpoint_name,  # The deployed model's endpoint name for df2\n",
    "    instance_count=1,\n",
    "    instance_type=\"ml.m4.xlarge\",\n",
    "    strategy=\"MultiRecord\",  # Use MultiRecord for batch processing\n",
    "    assemble_with=\"Line\",\n",
    "    output_path=batch_output2\n",
    ")\n",
    "\n",
    "# Run batch transform\n",
    "transformer2.transform(\n",
    "    data=batch_input2,\n",
    "    data_type=\"S3Prefix\",\n",
    "    content_type=\"text/csv\",\n",
    "    split_type=\"Line\"\n",
    ")"
   ]
  },
  {
   "cell_type": "code",
   "execution_count": null,
   "id": "5603cb67",
   "metadata": {
    "tags": []
   },
   "outputs": [],
   "source": [
    "# Retrieve predictions from S3\n",
    "obj2 = s3.get_object(Bucket=bucket_name, Key=f\"{prefix}/batch-out2/{batch_X_file2}.out\")\n",
    "target_predicted2 = pd.read_csv(io.BytesIO(obj2['Body'].read()), names=['predicted_label'])"
   ]
  },
  {
   "cell_type": "code",
   "execution_count": null,
   "id": "80814d31",
   "metadata": {
    "tags": []
   },
   "outputs": [],
   "source": [
    "# Extract scores from predictions\n",
    "target_predicted2['score'] = target_predicted2['predicted_label'].apply(extract_score)"
   ]
  },
  {
   "cell_type": "code",
   "execution_count": null,
   "id": "544df0d1",
   "metadata": {
    "tags": []
   },
   "outputs": [],
   "source": [
    "# Define the binary conversion function and apply it to scores\n",
    "target_predicted_binary2 = target_predicted2['score'].apply(binary_convert)\n",
    "print(\"Binary predictions for df2:\\n\", target_predicted_binary2.head())"
   ]
  },
  {
   "cell_type": "code",
   "execution_count": null,
   "id": "fdb1f71a",
   "metadata": {
    "tags": []
   },
   "outputs": [],
   "source": [
    "\n",
    "\n",
    "# Calculate confusion matrix\n",
    "matrix2 = confusion_matrix(test_labels2, target_predicted_binary2)\n",
    "\n",
    "# Create a DataFrame for better readability\n",
    "df_confusion2 = pd.DataFrame(matrix2, index=['No Delay', 'Delay'], columns=['No Delay', 'Delay'])\n",
    "\n",
    "# Plot the confusion matrix\n",
    "colormap = sns.color_palette(\"BrBG\", 10)\n",
    "sns.heatmap(df_confusion2, annot=True, cbar=None, cmap=colormap)\n",
    "plt.title(\"Confusion Matrix for df2\")\n",
    "plt.tight_layout()\n",
    "plt.ylabel(\"True Class\")\n",
    "plt.xlabel(\"Predicted Class\")\n",
    "plt.show()"
   ]
  },
  {
   "cell_type": "code",
   "execution_count": null,
   "id": "38d470c1",
   "metadata": {
    "tags": []
   },
   "outputs": [],
   "source": [
    "from sklearn.metrics import roc_auc_score, roc_curve, auc\n",
    "\n",
    "# Extract TN, FP, FN, TP\n",
    "TN2, FP2, FN2, TP2 = confusion_matrix(test_labels2, target_predicted_binary2).ravel()\n",
    "\n",
    "print(f\"True Negative (TN) : {TN2}\")\n",
    "print(f\"False Positive (FP): {FP2}\")\n",
    "print(f\"False Negative (FN): {FN2}\")\n",
    "print(f\"True Positive (TP) : {TP2}\")"
   ]
  },
  {
   "cell_type": "code",
   "execution_count": null,
   "id": "27e67e43",
   "metadata": {
    "tags": []
   },
   "outputs": [],
   "source": [
    "# Sensitivity (Recall / True Positive Rate)\n",
    "sensitivity2 = TP2 / (TP2 + FN2)\n",
    "print(f\"Sensitivity (Recall): There is a {sensitivity2:.2%} chance of detecting a delay when it actually occurs.\")"
   ]
  },
  {
   "cell_type": "code",
   "execution_count": null,
   "id": "c04688a1",
   "metadata": {
    "tags": []
   },
   "outputs": [],
   "source": [
    "# Specificity (True Negative Rate)\n",
    "specificity2 = TN2 / (TN2 + FP2)\n",
    "print(f\"Specificity (TNR): There is a {specificity2:.2%} chance of correctly identifying a non-delay.\")"
   ]
  },
  {
   "cell_type": "code",
   "execution_count": null,
   "id": "d7bd58ff",
   "metadata": {
    "tags": []
   },
   "outputs": [],
   "source": [
    "# Precision\n",
    "precision2 = precision_score(test_labels2, target_predicted_binary2) * 100\n",
    "print(f\"Precision: Of all predicted delays, {precision2:.2f}% were actual delays.\")"
   ]
  },
  {
   "cell_type": "code",
   "execution_count": null,
   "id": "aec4ff21",
   "metadata": {
    "tags": []
   },
   "outputs": [],
   "source": [
    "# Negative Predictive Value (NPV)\n",
    "npv2 = TN2 / (TN2 + FN2) * 100\n",
    "print(f\"Negative Predictive Value (NPV): Of all predicted non-delays, {npv2:.2f}% were actually non-delays.\")"
   ]
  },
  {
   "cell_type": "code",
   "execution_count": null,
   "id": "1fbf5490",
   "metadata": {
    "tags": []
   },
   "outputs": [],
   "source": [
    "# F1 Score\n",
    "f1_score2 = f1_score(test_labels2, target_predicted_binary2) * 100\n",
    "print(f\"F1 Score: The harmonic mean of Precision and Recall is {f1_score2:.2f}%.\")"
   ]
  },
  {
   "cell_type": "code",
   "execution_count": null,
   "id": "95ca765c",
   "metadata": {
    "tags": []
   },
   "outputs": [],
   "source": [
    "# False Positive Rate (FPR)\n",
    "fpr2 = FP2 / (FP2 + TN2) * 100\n",
    "print(f\"False Positive Rate (FPR): There is a {fpr2:.2f}% chance of predicting a delay when there isn’t one.\")"
   ]
  },
  {
   "cell_type": "code",
   "execution_count": null,
   "id": "3bdf1d0e",
   "metadata": {
    "tags": []
   },
   "outputs": [],
   "source": [
    "# False Negative Rate (FNR)\n",
    "fnr2 = FN2 / (FN2 + TP2) * 100\n",
    "print(f\"False Negative Rate (FNR): There is a {fnr2:.2f}% chance of predicting no delay when there actually is one.\")"
   ]
  },
  {
   "cell_type": "code",
   "execution_count": null,
   "id": "18f06110",
   "metadata": {
    "tags": []
   },
   "outputs": [],
   "source": [
    "# False Discovery Rate (FDR)\n",
    "fdr2 = FP2 / (FP2 + TP2) * 100\n",
    "print(f\"False Discovery Rate (FDR): Of all predicted delays, {fdr2:.2f}% were actually non-delays.\")"
   ]
  },
  {
   "cell_type": "code",
   "execution_count": null,
   "id": "87ca8901",
   "metadata": {
    "tags": []
   },
   "outputs": [],
   "source": [
    "# Accuracy\n",
    "accuracy2 = accuracy_score(test_labels2, target_predicted_binary2) * 100\n",
    "print(f\"Accuracy: The overall correctness of the model is {accuracy2:.2f}%.\")"
   ]
  },
  {
   "cell_type": "code",
   "execution_count": null,
   "id": "0cbd43a0-2244-4cf6-9579-db0acd6e2d93",
   "metadata": {},
   "outputs": [],
   "source": []
  },
  {
   "cell_type": "code",
   "execution_count": null,
   "id": "bbf9b1c0-2c7e-4ab5-b783-aa34215d3fcc",
   "metadata": {},
   "outputs": [],
   "source": []
  },
  {
   "cell_type": "code",
   "execution_count": null,
   "id": "31777669-fe11-4d70-ba3a-15bc71cb8c9c",
   "metadata": {},
   "outputs": [],
   "source": []
  },
  {
   "cell_type": "markdown",
   "id": "f072e952-1d1d-48a1-beb2-9bee129070a6",
   "metadata": {},
   "source": []
  },
  {
   "cell_type": "markdown",
   "id": "fb0d478e-9b28-4f26-8264-43134c5aa561",
   "metadata": {},
   "source": [
    "# Step 3: Build and evaluate ensembe models\n",
    "\n",
    "Write code to perform the follwoing steps:\n",
    "1. Split data into training, validation and testing sets (70% - 15% - 15%).\n",
    "2. Use xgboost estimator to build a classifcation model.\n",
    "3. Host the model on another instance\n",
    "4. Perform batch transform to evaluate the model on testing data\n",
    "5. Report the performance metrics that you see better test the model performance \n",
    "6. write down your observation on the difference between the performance of using the simple and ensemble models.\n",
    "Note: You are required to perform the above steps on the two combined datasets separatey."
   ]
  },
  {
   "cell_type": "markdown",
   "id": "1cd6fa1b-beb7-4eab-9d08-5b3f44db00d2",
   "metadata": {},
   "source": [
    "## Dataset 1- XG BOOST"
   ]
  },
  {
   "cell_type": "code",
   "execution_count": null,
   "id": "f4bc0259-081d-4904-9714-5d3247b8e231",
   "metadata": {
    "tags": []
   },
   "outputs": [],
   "source": [
    "# Define filenames for CSV uploads\n",
    "train_file = 'flight_train.csv'\n",
    "validate_file = 'flight_validate.csv'"
   ]
  },
  {
   "cell_type": "code",
   "execution_count": null,
   "id": "d7e67e7d-c3fd-46ad-8f20-03a02051809a",
   "metadata": {
    "tags": []
   },
   "outputs": [],
   "source": [
    "# Initialize s3_resource\n",
    "s3_resource = boto3.resource('s3') "
   ]
  },
  {
   "cell_type": "code",
   "execution_count": null,
   "id": "2de25bf1-159c-41b1-8933-5c3c0bb683f6",
   "metadata": {
    "tags": []
   },
   "outputs": [],
   "source": [
    "# Helper function to upload dataframes to S3 as CSV\n",
    "def upload_s3_csv(dataframe, filename, folder):\n",
    "    csv_buffer = io.StringIO()\n",
    "    # Write to CSV with explicit comma delimiter and no header\n",
    "    dataframe.to_csv(csv_buffer, header=False, index=False, sep=',')\n",
    "    s3_resource.Bucket(bucket_name).Object(f\"{prefix}/{folder}/{filename}\").put(Body=csv_buffer.getvalue())\n",
    "    return f\"s3://{bucket_name}/{prefix}/{folder}/{filename}\"\n",
    "\n"
   ]
  },
  {
   "cell_type": "code",
   "execution_count": null,
   "id": "4cb7bb07-4a44-49fd-99f4-0b719db32187",
   "metadata": {
    "tags": []
   },
   "outputs": [],
   "source": [
    "# Upload the datasets as CSV files without headers and enforced comma delimiter\n",
    "train_s3_uri = upload_s3_csv(train_df, train_file, 'train')\n",
    "val_s3_uri = upload_s3_csv(val_df, validate_file, 'validate')\n"
   ]
  },
  {
   "cell_type": "code",
   "execution_count": null,
   "id": "cbdd9f4e-ab68-4cda-9719-eadec1f71410",
   "metadata": {
    "tags": []
   },
   "outputs": [],
   "source": [
    "# Set up TrainingInput for each channel, specifying content type as text/csv\n",
    "train_channel = sagemaker.inputs.TrainingInput(\n",
    "    train_s3_uri,\n",
    "    content_type=\"text/csv\"\n",
    ")\n",
    "\n",
    "validate_channel = sagemaker.inputs.TrainingInput(\n",
    "    val_s3_uri,\n",
    "    content_type=\"text/csv\"\n",
    ")\n",
    "\n",
    "data_channels = {'train': train_channel, 'validation': validate_channel}\n",
    "\n"
   ]
  },
  {
   "cell_type": "code",
   "execution_count": null,
   "id": "b66fd3db-6d19-45c8-90ad-c0418e878c56",
   "metadata": {
    "tags": []
   },
   "outputs": [],
   "source": [
    "# Define XGBoost model\n",
    "container = image_uris.retrieve('xgboost', region, '1.0-1')\n",
    "xgb_model = sagemaker.estimator.Estimator(\n",
    "    container,\n",
    "    role=role,\n",
    "    instance_count=1,\n",
    "    instance_type='ml.m4.xlarge',\n",
    "    output_path=f\"s3://{bucket_name}/{prefix}/output\",\n",
    "    sagemaker_session=sess\n",
    ")"
   ]
  },
  {
   "cell_type": "code",
   "execution_count": null,
   "id": "6d51c56e-afd2-4311-a8a2-11bd85464bef",
   "metadata": {
    "tags": []
   },
   "outputs": [],
   "source": [
    "# Set hyperparameters for XGBoost\n",
    "xgb_model.set_hyperparameters(\n",
    "    num_round=42,\n",
    "    eval_metric=\"auc\",\n",
    "    objective=\"binary:logistic\"\n",
    ")"
   ]
  },
  {
   "cell_type": "code",
   "execution_count": null,
   "id": "0c87bffe-8a3d-4650-a377-166409c95ae1",
   "metadata": {
    "tags": []
   },
   "outputs": [],
   "source": [
    "# Train the model\n",
    "xgb_model.fit(inputs=data_channels)"
   ]
  },
  {
   "cell_type": "code",
   "execution_count": null,
   "id": "6b655994-ba3f-46d8-9c9e-146517066c16",
   "metadata": {
    "tags": []
   },
   "outputs": [],
   "source": [
    "# Deploy the model\n",
    "xgb_predictor = xgb_model.deploy(\n",
    "    initial_instance_count=1,\n",
    "    instance_type=\"ml.m4.xlarge\"\n",
    ")"
   ]
  },
  {
   "cell_type": "code",
   "execution_count": null,
   "id": "77becb39-7138-4e09-b944-02de0e3160c4",
   "metadata": {
    "tags": []
   },
   "outputs": [],
   "source": [
    "from sagemaker.serializers import CSVSerializer\n",
    "from sagemaker.deserializers import JSONDeserializer\n",
    "\n",
    "xgb_predictor.serializer = CSVSerializer()  \n",
    "xgb_predictor.deserializer = JSONDeserializer() "
   ]
  },
  {
   "cell_type": "code",
   "execution_count": null,
   "id": "502b5f26-1624-4050-9cc9-c54705b4cb04",
   "metadata": {
    "tags": []
   },
   "outputs": [],
   "source": [
    "# Define the S3 input and output paths for the batch transform job\n",
    "batch_input = f\"s3://{bucket_name}/{prefix}/batch-in/test.csv\"\n",
    "batch_output = f\"s3://{bucket_name}/{prefix}/batch-out/\"\n"
   ]
  },
  {
   "cell_type": "code",
   "execution_count": null,
   "id": "da1ed9a0-78a8-4c86-9fc8-a6cd005c3938",
   "metadata": {
    "tags": []
   },
   "outputs": [],
   "source": [
    "# Prepare the test features by excluding the target column\n",
    "batch_X = test_df.drop(columns=['target'])\n",
    "\n",
    "# Specify the file name for the test data upload\n",
    "batch_X_file = 'batch-in.csv'\n",
    "\n",
    "# Upload the test data to S3 under the 'batch-in' folder\n",
    "upload_s3_csv(batch_X, batch_X_file, 'batch-in')"
   ]
  },
  {
   "cell_type": "code",
   "execution_count": null,
   "id": "65d03ef7-70a8-4b15-8842-3dfdec25ed1b",
   "metadata": {
    "tags": []
   },
   "outputs": [],
   "source": [
    "# Create a transformer for the batch transform job\n",
    "xgb_transformer = xgb_model.transformer(\n",
    "    instance_count=1,\n",
    "    instance_type=\"ml.m4.xlarge\",\n",
    "    strategy=\"MultiRecord\",\n",
    "    assemble_with=\"Line\",\n",
    "    output_path=batch_output\n",
    ")"
   ]
  },
  {
   "cell_type": "code",
   "execution_count": null,
   "id": "d4063229-c2ba-4f23-99a7-3fd8b83b8294",
   "metadata": {
    "tags": []
   },
   "outputs": [],
   "source": [
    "s3_resource = boto3.resource('s3')\n",
    "bucket = s3_resource.Bucket(bucket_name)\n",
    "for obj in bucket.objects.filter(Prefix=\"linear/batch-in/\"):\n",
    "    print(obj.key)"
   ]
  },
  {
   "cell_type": "code",
   "execution_count": null,
   "id": "95f71306-e81d-460a-9f77-7c921aae6967",
   "metadata": {
    "tags": []
   },
   "outputs": [],
   "source": [
    "# Define the S3 input and output paths for the batch transform job\n",
    "batch_input = f\"s3://{bucket_name}/{prefix}/batch-in/test.csv\"\n",
    "batch_output = f\"s3://{bucket_name}/{prefix}/batch-out/\"\n",
    "\n",
    "# Upload the test dataset to the batch-in location in S3\n",
    "batch_X_file = 'test.csv'\n",
    "upload_s3_csv(test_df, batch_X_file, 'batch-in')\n",
    "\n",
    "# Create a transformer for the batch transform job\n",
    "xgb_transformer = xgb_model.transformer(\n",
    "    instance_count=1,\n",
    "    instance_type=\"ml.m4.xlarge\",\n",
    "    strategy=\"MultiRecord\",\n",
    "    assemble_with=\"Line\",\n",
    "    output_path=batch_output\n",
    ")\n",
    "\n",
    "# Perform the batch transform\n",
    "xgb_transformer.transform(\n",
    "    data=batch_input,\n",
    "    content_type=\"text/csv\",\n",
    "    split_type=\"Line\",\n",
    "    input_filter=\"$[1:]\"\n",
    ")\n",
    "xgb_transformer.wait()\n",
    "\n",
    "# Download the batch output predictions from S3\n",
    "import boto3\n",
    "s3 = boto3.client('s3')\n",
    "obj = s3.get_object(Bucket=bucket_name, Key=f\"{prefix}/batch-out/{batch_X_file}.out\")\n",
    "target_predicted = pd.read_csv(io.BytesIO(obj['Body'].read()), names=['predicted_label'])\n",
    "\n",
    "# Display the predictions\n",
    "print(\"Batch transform predictions:\\n\", target_predicted.head())"
   ]
  },
  {
   "cell_type": "code",
   "execution_count": null,
   "id": "0187c044-21eb-44ab-83b7-7ecf8ea9747f",
   "metadata": {
    "tags": []
   },
   "outputs": [],
   "source": [
    "# Define the binary conversion function\n",
    "def binary_convert(x):\n",
    "    threshold = 0.3\n",
    "    if x > threshold:\n",
    "        return 1\n",
    "    else:\n",
    "        return 0"
   ]
  },
  {
   "cell_type": "code",
   "execution_count": null,
   "id": "a3e39fc6-fda6-421a-b477-e352e88527ff",
   "metadata": {
    "tags": []
   },
   "outputs": [],
   "source": [
    "\n",
    "\n",
    "# Apply the function to the 'predicted_label' column to get binary predictions\n",
    "target_predicted_binary = target_predicted['predicted_label'].apply(binary_convert)\n",
    "\n",
    "# Display the first 5 binary predictions\n",
    "print(\"Binary Predictions:\\n\", target_predicted_binary.head(5))\n"
   ]
  },
  {
   "cell_type": "code",
   "execution_count": null,
   "id": "211d8572-4ab8-4f34-9fbd-66671b3b8d04",
   "metadata": {
    "tags": []
   },
   "outputs": [],
   "source": [
    "# Extract the true labels from the test set\n",
    "test_labels = test_df['target']  \n",
    "\n"
   ]
  },
  {
   "cell_type": "code",
   "execution_count": null,
   "id": "c5eadd9c-ffae-4761-921c-eebc4fe25500",
   "metadata": {
    "tags": []
   },
   "outputs": [],
   "source": [
    "# Generate the confusion matrix\n",
    "matrix = confusion_matrix(test_labels, target_predicted_binary)\n",
    "\n",
    "# Create a DataFrame for better readability\n",
    "df_confusion = pd.DataFrame(matrix, index=['No Delay', 'Delay'], columns=['No Delay', 'Delay'])\n",
    "\n",
    "df_confusion"
   ]
  },
  {
   "cell_type": "code",
   "execution_count": null,
   "id": "79a547e3-9814-4321-9bda-2582e077f8c9",
   "metadata": {
    "tags": []
   },
   "outputs": [],
   "source": [
    "colormap = sns.color_palette(\"BrBG\", 10)\n",
    "sns.heatmap(df_confusion, annot=True, cbar=None, cmap=colormap)\n",
    "plt.title(\"Confusion Matrix\")\n",
    "plt.tight_layout()\n",
    "plt.ylabel(\"True Class\")\n",
    "plt.xlabel(\"Predicted Class\")\n",
    "plt.show()"
   ]
  },
  {
   "cell_type": "code",
   "execution_count": null,
   "id": "531b7188-2d32-4269-8896-01d728ba86bb",
   "metadata": {
    "tags": []
   },
   "outputs": [],
   "source": [
    "# Extract confusion matrix components\n",
    "TN, FP, FN, TP = confusion_matrix(test_labels, target_predicted_binary).ravel()\n",
    "\n",
    "# Print confusion matrix components\n",
    "print(f\"True Negative (TN): {TN}\")\n",
    "print(f\"False Positive (FP): {FP}\")\n",
    "print(f\"False Negative (FN): {FN}\")\n",
    "print(f\"True Positive (TP): {TP}\")"
   ]
  },
  {
   "cell_type": "code",
   "execution_count": null,
   "id": "2cbc0c01-ec48-46cd-a5b1-c3c98cea004a",
   "metadata": {
    "tags": []
   },
   "outputs": [],
   "source": [
    "# Sensitivity (Recall or True Positive Rate)\n",
    "sensitivity = TP / (TP + FN)\n",
    "print(f\"Sensitivity (Recall): There is a {sensitivity:.2%} chance of detecting a delay when it actually occurs.\")\n",
    "\n"
   ]
  },
  {
   "cell_type": "code",
   "execution_count": null,
   "id": "f068c6a4-8b2b-48a8-b3bb-c035b925a053",
   "metadata": {
    "tags": []
   },
   "outputs": [],
   "source": [
    "# Specificity (True Negative Rate)\n",
    "specificity = TN / (TN + FP)\n",
    "print(f\"Specificity (TNR): There is a {specificity:.2%} chance of correctly identifying a non-delay.\")\n",
    "\n"
   ]
  },
  {
   "cell_type": "code",
   "execution_count": null,
   "id": "64bd5571-9e5d-455f-82d6-0ff47b7e2207",
   "metadata": {
    "tags": []
   },
   "outputs": [],
   "source": [
    "# Precision\n",
    "precision = TP / (TP + FP)\n",
    "print(f\"Precision: There is a {precision:.2%} chance that a predicted delay is actually a delay.\")\n",
    "\n"
   ]
  },
  {
   "cell_type": "code",
   "execution_count": null,
   "id": "37364401-9af6-4934-bcc7-0d36669d5b77",
   "metadata": {
    "tags": []
   },
   "outputs": [],
   "source": [
    "# F1 Score\n",
    "f1 = 2 * (precision * sensitivity) / (precision + sensitivity)\n",
    "print(f\"F1 Score: The balance between precision and sensitivity is {f1:.2%}.\")\n",
    "\n"
   ]
  },
  {
   "cell_type": "code",
   "execution_count": null,
   "id": "2e5283db-a141-4524-94df-8d3360052c56",
   "metadata": {
    "tags": []
   },
   "outputs": [],
   "source": [
    "# False Positive Rate\n",
    "fpr = FP / (FP + TN)\n",
    "print(f\"False Positive Rate (FPR): There is a {fpr:.2%} chance of predicting a delay when there isn't one.\")\n",
    "\n"
   ]
  },
  {
   "cell_type": "code",
   "execution_count": null,
   "id": "b02c4423-41c1-4e9e-9ad0-95f104c37544",
   "metadata": {
    "tags": []
   },
   "outputs": [],
   "source": [
    "# False Negative Rate\n",
    "fnr = FN / (FN + TP)\n",
    "print(f\"False Negative Rate (FNR): There is a {fnr:.2%} chance of failing to predict a delay when there is one.\")\n"
   ]
  },
  {
   "cell_type": "code",
   "execution_count": null,
   "id": "6f2467b3-cce2-484d-a612-241aec90ef60",
   "metadata": {
    "tags": []
   },
   "outputs": [],
   "source": [
    "\n",
    "# Negative Predictive Value\n",
    "npv = TN / (TN + FN)\n",
    "print(f\"Negative Predictive Value (NPV): There is a {npv:.2%} chance that a non-delay prediction is correct.\")\n"
   ]
  },
  {
   "cell_type": "code",
   "execution_count": null,
   "id": "84aa1e27-0063-48c3-a962-4de36656e00b",
   "metadata": {
    "tags": []
   },
   "outputs": [],
   "source": [
    "\n",
    "# False Discovery Rate\n",
    "fdr = FP / (FP + TP)\n",
    "print(f\"False Discovery Rate (FDR): There is a {fdr:.2%} chance of predicting a delay incorrectly.\")\n"
   ]
  },
  {
   "cell_type": "code",
   "execution_count": null,
   "id": "04f5b329-4b10-44b8-b37f-420dddc1e549",
   "metadata": {
    "tags": []
   },
   "outputs": [],
   "source": [
    "\n",
    "# Overall Accuracy\n",
    "accuracy = accuracy_score(test_labels, target_predicted_binary)\n",
    "print(f\"Overall Accuracy: The model correctly predicts delays and non-delays with an accuracy of {accuracy:.2%}.\")\n"
   ]
  },
  {
   "cell_type": "code",
   "execution_count": null,
   "id": "07b47ff9-4ab7-4051-af1d-8c1ed2852f59",
   "metadata": {
    "tags": []
   },
   "outputs": [],
   "source": [
    "\n",
    "# Summary print statements with improved formatting\n",
    "print(f\"\\nSummary Metrics:\")\n",
    "print(f\"Sensitivity or Recall: {sensitivity * 100:.2f}%\")\n",
    "print(f\"Specificity or TNR: {specificity * 100:.2f}%\")\n",
    "print(f\"Precision: {precision * 100:.2f}%\")\n",
    "print(f\"Negative Predictive Value: {npv * 100:.2f}%\")\n",
    "print(f\"F-1 score: {f1 * 100:.2f}%\")\n",
    "print(f\"False Positive Rate: {fpr * 100:.2f}%\")\n",
    "print(f\"False Negative Rate: {fnr * 100:.2f}%\")\n",
    "print(f\"False Discovery Rate: {fdr * 100:.2f}%\")\n",
    "print(f\"Accuracy: {accuracy * 100:.2f}%\")"
   ]
  },
  {
   "cell_type": "code",
   "execution_count": null,
   "id": "69632119-b9d9-42ff-9c9c-9770517f5a36",
   "metadata": {},
   "outputs": [],
   "source": []
  },
  {
   "cell_type": "markdown",
   "id": "ce946ab0-33f0-49ef-b89d-1e3d21980a5f",
   "metadata": {},
   "source": [
    "### Dataset 2- XG Boost "
   ]
  },
  {
   "cell_type": "code",
   "execution_count": null,
   "id": "65f81782-8714-42df-aa62-5e541227d0b6",
   "metadata": {
    "tags": []
   },
   "outputs": [],
   "source": [
    "# Define filenames for CSV uploads\n",
    "train_file2 = 'flight_train2.csv'\n",
    "validate_file2 = 'flight_validate2.csv'"
   ]
  },
  {
   "cell_type": "code",
   "execution_count": null,
   "id": "7b178a6a-a999-42ea-bb07-36cc8ed02570",
   "metadata": {
    "tags": []
   },
   "outputs": [],
   "source": [
    "s3_resource = boto3.resource('s3')\n",
    "train_s3_uri2 = upload_s3_csv(train_df2, train_file2, 'train2')\n",
    "val_s3_uri2 = upload_s3_csv(val_df2, validate_file2, 'validate2')"
   ]
  },
  {
   "cell_type": "code",
   "execution_count": null,
   "id": "898f2a92-9a5f-48d7-9111-8912c866952c",
   "metadata": {
    "tags": []
   },
   "outputs": [],
   "source": [
    "train_channel2 = sagemaker.inputs.TrainingInput(\n",
    "    train_s3_uri2,\n",
    "    content_type=\"text/csv\"\n",
    ")\n",
    "\n",
    "validate_channel2 = sagemaker.inputs.TrainingInput(\n",
    "    val_s3_uri2,\n",
    "    content_type=\"text/csv\"\n",
    ")"
   ]
  },
  {
   "cell_type": "code",
   "execution_count": null,
   "id": "164851f1-ad32-441c-b4a0-beeb80722e52",
   "metadata": {
    "tags": []
   },
   "outputs": [],
   "source": [
    "data_channels2 = {'train': train_channel2, 'validation': validate_channel2}\n"
   ]
  },
  {
   "cell_type": "code",
   "execution_count": null,
   "id": "d8306787-849f-481a-b269-e1776631aa01",
   "metadata": {
    "tags": []
   },
   "outputs": [],
   "source": [
    "xgb_model2 = sagemaker.estimator.Estimator(\n",
    "    container,\n",
    "    role=role,\n",
    "    instance_count=1,\n",
    "    instance_type='ml.m4.xlarge',\n",
    "    output_path=f\"s3://{bucket_name}/{prefix}/output2\",\n",
    "    sagemaker_session=sess\n",
    ")"
   ]
  },
  {
   "cell_type": "code",
   "execution_count": null,
   "id": "4340b75b-3302-4603-be3c-fd764c4f1d68",
   "metadata": {
    "tags": []
   },
   "outputs": [],
   "source": [
    "xgb_model2.set_hyperparameters(\n",
    "    num_round=42,\n",
    "    eval_metric=\"auc\",\n",
    "    objective=\"binary:logistic\"\n",
    ")\n"
   ]
  },
  {
   "cell_type": "code",
   "execution_count": null,
   "id": "f08251b2-76ec-4e4f-a98b-7fd5d822644e",
   "metadata": {
    "tags": []
   },
   "outputs": [],
   "source": [
    "xgb_model2.fit(inputs=data_channels2)"
   ]
  },
  {
   "cell_type": "code",
   "execution_count": null,
   "id": "13f7f03f-f816-4066-964a-7cf3bcd3029f",
   "metadata": {
    "tags": []
   },
   "outputs": [],
   "source": [
    "xgb_predictor2 = xgb_model2.deploy(\n",
    "    initial_instance_count=1,\n",
    "    instance_type=\"ml.m4.xlarge\"\n",
    ")"
   ]
  },
  {
   "cell_type": "code",
   "execution_count": null,
   "id": "c1d303b2-b0d7-4974-ab48-dd70a827375a",
   "metadata": {
    "tags": []
   },
   "outputs": [],
   "source": [
    "# Define the S3 input and output paths for the batch transform job for df2\n",
    "batch_input2 = f\"s3://{bucket_name}/{prefix}/batch-in2/test2.csv\"\n",
    "batch_output2 = f\"s3://{bucket_name}/{prefix}/batch-out2/\"\n",
    "\n",
    "# Prepare the test features for df2 by excluding the target column\n",
    "batch_X2 = test_df2.drop(columns=['target'])\n",
    "\n",
    "# Specify the file name for the test data upload for df2\n",
    "batch_X_file2 = 'test2.csv'\n",
    "\n",
    "# Upload the test data for df2 to S3 under the 'batch-in2' folder\n",
    "upload_s3_csv(batch_X2, batch_X_file2, 'batch-in2')\n",
    "\n",
    "# List objects in the S3 'batch-in2' folder to confirm the upload for df2\n",
    "print(\"Uploaded files in batch-in2 folder:\")\n",
    "s3_resource = boto3.resource('s3')\n",
    "bucket = s3_resource.Bucket(bucket_name)\n",
    "for obj in bucket.objects.filter(Prefix=f\"{prefix}/batch-in2/\"):\n",
    "    print(obj.key)\n",
    "\n",
    "# Create a transformer for the batch transform job for df2\n",
    "xgb_transformer2 = xgb_model2.transformer(\n",
    "    instance_count=1,\n",
    "    instance_type=\"ml.m4.xlarge\",\n",
    "    strategy=\"MultiRecord\",\n",
    "    assemble_with=\"Line\",\n",
    "    output_path=batch_output2\n",
    ")\n",
    "\n",
    "# Perform the batch transform for df2\n",
    "xgb_transformer2.transform(\n",
    "    data=batch_input2,\n",
    "    content_type=\"text/csv\",\n",
    "    split_type=\"Line\",\n",
    "    input_filter=\"$[1:]\"\n",
    ")\n",
    "xgb_transformer2.wait()\n",
    "\n",
    "# Retrieve the batch output predictions from S3 for df2\n",
    "batch_output_file2 = f\"{batch_X_file2}.out\"  # Ensure this is the correct file suffix\n",
    "output_key2 = f\"{prefix}/batch-out2/{batch_output_file2}\"\n",
    "obj = s3.get_object(Bucket=bucket_name, Key=output_key2)\n",
    "target_predicted2 = pd.read_csv(io.BytesIO(obj['Body'].read()), names=['predicted_label'])\n",
    "\n",
    "# Display the predictions for df2\n",
    "print(\"Batch transform predictions for df2:\\n\", target_predicted2.head())"
   ]
  },
  {
   "cell_type": "code",
   "execution_count": null,
   "id": "6a2eb750-c6ca-4907-9512-30cfa16edbb8",
   "metadata": {
    "tags": []
   },
   "outputs": [],
   "source": [
    "# Apply the function to the 'predicted_label' column to get binary predictions\n",
    "target_predicted_binary2 = target_predicted2['predicted_label'].apply(binary_convert)\n",
    "\n",
    "# Display the first 5 binary predictions\n",
    "print(\"Binary Predictions:\\n\", target_predicted_binary2.head(5))"
   ]
  },
  {
   "cell_type": "code",
   "execution_count": null,
   "id": "110570fc-4cc8-45b5-a821-076a290e3e3e",
   "metadata": {
    "tags": []
   },
   "outputs": [],
   "source": [
    "# Extract the true labels from the test set\n",
    "test_labels2 = test_df2['target']  \n"
   ]
  },
  {
   "cell_type": "code",
   "execution_count": null,
   "id": "97884443-e744-4987-85cf-e30ac1fba853",
   "metadata": {
    "tags": []
   },
   "outputs": [],
   "source": [
    "# Generate the confusion matrix\n",
    "matrix = confusion_matrix(test_labels2, target_predicted_binary2)\n",
    "\n",
    "# Create a DataFrame for better readability\n",
    "df_confusion2 = pd.DataFrame(matrix, index=['No Delay', 'Delay'], columns=['No Delay', 'Delay'])\n",
    "\n",
    "df_confusion2\n",
    "\n"
   ]
  },
  {
   "cell_type": "code",
   "execution_count": null,
   "id": "70db2698-90b9-4deb-8031-a0bbfb6cd3dd",
   "metadata": {
    "tags": []
   },
   "outputs": [],
   "source": [
    "colormap = sns.color_palette(\"BrBG\", 10)\n",
    "sns.heatmap(df_confusion2, annot=True, cbar=None, cmap=colormap)\n",
    "plt.title(\"Confusion Matrix\")\n",
    "plt.tight_layout()\n",
    "plt.ylabel(\"True Class\")\n",
    "plt.xlabel(\"Predicted Class\")\n",
    "plt.show()"
   ]
  },
  {
   "cell_type": "code",
   "execution_count": null,
   "id": "8ecf55a1-a5b1-40ed-b82c-950b16e0ee3d",
   "metadata": {
    "tags": []
   },
   "outputs": [],
   "source": [
    "from sklearn.metrics import accuracy_score\n",
    "\n",
    "# Extract confusion matrix components\n",
    "TN, FP, FN, TP = confusion_matrix(test_labels2, target_predicted_binary2).ravel()\n",
    "\n",
    "# Print confusion matrix components\n",
    "print(f\"True Negative (TN): {TN}\")\n",
    "print(f\"False Positive (FP): {FP}\")\n",
    "print(f\"False Negative (FN): {FN}\")\n",
    "print(f\"True Positive (TP): {TP}\")\n",
    "\n"
   ]
  },
  {
   "cell_type": "code",
   "execution_count": null,
   "id": "89631a3a-b930-423c-a079-2266b8a3fa88",
   "metadata": {
    "tags": []
   },
   "outputs": [],
   "source": [
    "# Sensitivity (Recall or True Positive Rate)\n",
    "sensitivity = TP / (TP + FN)\n",
    "print(f\"Sensitivity (Recall): There is a {sensitivity:.2%} chance of detecting a delay when it actually occurs.\")\n",
    "\n",
    "# Specificity (True Negative Rate)\n",
    "specificity = TN / (TN + FP)\n",
    "print(f\"Specificity (TNR): There is a {specificity:.2%} chance of correctly identifying a non-delay.\")\n",
    "\n",
    "# Precision\n",
    "precision = TP / (TP + FP)\n",
    "print(f\"Precision: There is a {precision:.2%} chance that a predicted delay is actually a delay.\")\n",
    "\n",
    "# F1 Score\n",
    "f1 = 2 * (precision * sensitivity) / (precision + sensitivity)\n",
    "print(f\"F1 Score: The balance between precision and sensitivity is {f1:.2%}.\")\n",
    "\n",
    "# False Positive Rate\n",
    "fpr = FP / (FP + TN)\n",
    "print(f\"False Positive Rate (FPR): There is a {fpr:.2%} chance of predicting a delay when there isn't one.\")\n",
    "\n",
    "# False Negative Rate\n",
    "fnr = FN / (FN + TP)\n",
    "print(f\"False Negative Rate (FNR): There is a {fnr:.2%} chance of failing to predict a delay when there is one.\")\n",
    "\n",
    "# Negative Predictive Value\n",
    "npv = TN / (TN + FN)\n",
    "print(f\"Negative Predictive Value (NPV): There is a {npv:.2%} chance that a non-delay prediction is correct.\")\n",
    "\n",
    "# False Discovery Rate\n",
    "fdr = FP / (FP + TP)\n",
    "print(f\"False Discovery Rate (FDR): There is a {fdr:.2%} chance of predicting a delay incorrectly.\")\n",
    "\n"
   ]
  },
  {
   "cell_type": "code",
   "execution_count": null,
   "id": "092ff2a5-3630-42d7-bfe3-b1a4ddd7f981",
   "metadata": {
    "tags": []
   },
   "outputs": [],
   "source": [
    "\n",
    "# Summary print statements with improved formatting\n",
    "print(f\"\\nSummary Metrics:\")\n",
    "print(f\"Sensitivity or Recall: {sensitivity * 100:.2f}%\")\n",
    "print(f\"Specificity or TNR: {specificity * 100:.2f}%\")\n",
    "print(f\"Precision: {precision * 100:.2f}%\")\n",
    "print(f\"Negative Predictive Value: {npv * 100:.2f}%\")\n",
    "print(f\"F-1 score: {f1 * 100:.2f}%\")\n",
    "print(f\"False Positive Rate: {fpr * 100:.2f}%\")\n",
    "print(f\"False Negative Rate: {fnr * 100:.2f}%\")\n",
    "print(f\"False Discovery Rate: {fdr * 100:.2f}%\")\n"
   ]
  },
  {
   "cell_type": "code",
   "execution_count": null,
   "id": "2f9fd063-22aa-48af-9724-eed30f0ba387",
   "metadata": {},
   "outputs": [],
   "source": []
  },
  {
   "cell_type": "markdown",
   "id": "80fe53f7-318f-4fa3-8c22-76eb58a6fced",
   "metadata": {},
   "source": [
    "After going thorogh all four dataset, we did Linear lerner and XG boost on both the datasets. We say that the results were better for XGB. Also when we compare the modles we saw that when we add more data and more features, the models performed well. \n",
    "\n"
   ]
  },
  {
   "cell_type": "code",
   "execution_count": null,
   "id": "c37b4ae9-7d9f-4cec-9f57-1e67d3230f67",
   "metadata": {},
   "outputs": [],
   "source": []
  },
  {
   "cell_type": "code",
   "execution_count": null,
   "id": "ae8c14bc-3540-4527-a664-c85d60269ee0",
   "metadata": {},
   "outputs": [],
   "source": []
  },
  {
   "cell_type": "code",
   "execution_count": null,
   "id": "001a3d2a-eb6e-4e1c-b877-2de8d25e3cf8",
   "metadata": {},
   "outputs": [],
   "source": []
  },
  {
   "cell_type": "code",
   "execution_count": null,
   "id": "a65a0cdf-53e3-47f2-be1a-08005fa081c4",
   "metadata": {},
   "outputs": [],
   "source": []
  }
 ],
 "metadata": {
  "kernelspec": {
   "display_name": "Python 3 (ipykernel)",
   "language": "python",
   "name": "python3"
  },
  "language_info": {
   "codemirror_mode": {
    "name": "ipython",
    "version": 3
   },
   "file_extension": ".py",
   "mimetype": "text/x-python",
   "name": "python",
   "nbconvert_exporter": "python",
   "pygments_lexer": "ipython3",
   "version": "3.11.8"
  }
 },
 "nbformat": 4,
 "nbformat_minor": 5
}
